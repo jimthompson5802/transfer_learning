{
 "cells": [
  {
   "cell_type": "markdown",
   "metadata": {},
   "source": [
    "# Transfer Learning - MNIST Data Set"
   ]
  },
  {
   "cell_type": "markdown",
   "metadata": {},
   "source": [
    "## Overview\n",
    "\n",
    "This notebook illustrates transfer learning using TensorFlow with the Keras API for specifing the CNN architecture.\n",
    "\n",
    "Structure of the notebook:\n",
    "* Obtain the MNIST data set\n",
    "* Split the MNIST data set into even digit data set and odd digit data set\n",
    "* Prepare image data for modeling, one-hot encode the digit label\n",
    "* Define feature detection and classification layers for the CNN model\n",
    "* Train even digit CNN model to recognize even digits and save model structure to disk\n",
    "* Evaluate model performance against even and odd digit test data sets\n",
    "* Create odd digit CNN model structure from the even digit model CNN\n",
    "* Freeze feature detection layers of the odd digit CNN model\n",
    "* Train CNN model with frozen feature detection layer to recognize odd digits\n",
    "* Evaluate model performance against odd and even test data sets"
   ]
  },
  {
   "cell_type": "markdown",
   "metadata": {},
   "source": [
    "## Setup"
   ]
  },
  {
   "cell_type": "code",
   "execution_count": 1,
   "metadata": {
    "collapsed": true
   },
   "outputs": [],
   "source": [
    "# configuration and profiling\n",
    "import time\n",
    "import os\n",
    "\n",
    "# set up backend theano or tensorflow\n",
    "os.environ['KERAS_BACKEND'] = 'tensorflow'\n"
   ]
  },
  {
   "cell_type": "code",
   "execution_count": 2,
   "metadata": {
    "collapsed": false
   },
   "outputs": [
    {
     "name": "stderr",
     "output_type": "stream",
     "text": [
      "Using TensorFlow backend.\n"
     ]
    }
   ],
   "source": [
    "import tensorflow as tf\n",
    "from tensorflow.python.framework import ops\n",
    "\n",
    "# TF specific Keras \n",
    "from keras import backend as K\n",
    "from keras.utils import np_utils\n",
    "from keras import backend as K\n",
    "K.set_image_dim_ordering('tf')\n",
    "\n",
    "import numpy as np"
   ]
  },
  {
   "cell_type": "markdown",
   "metadata": {},
   "source": [
    "## Obtain MNIST Data Set"
   ]
  },
  {
   "cell_type": "code",
   "execution_count": 3,
   "metadata": {
    "collapsed": false
   },
   "outputs": [
    {
     "name": "stdout",
     "output_type": "stream",
     "text": [
      "(60000, 28, 28)\n",
      "(60000,)\n",
      "(10000, 28, 28)\n",
      "(10000,)\n"
     ]
    }
   ],
   "source": [
    "from keras.datasets import mnist\n",
    "\n",
    "# load data\n",
    "(X_train, y_train), (X_test, y_test) = mnist.load_data()\n",
    "print(X_train.shape)\n",
    "print(y_train.shape)\n",
    "print(X_test.shape)\n",
    "print(y_test.shape)\n"
   ]
  },
  {
   "cell_type": "markdown",
   "metadata": {},
   "source": [
    "## Create even/odd data sets"
   ]
  },
  {
   "cell_type": "code",
   "execution_count": 4,
   "metadata": {
    "collapsed": true
   },
   "outputs": [],
   "source": [
    "# split into odd and evens\n",
    "odds = [i for i,j in enumerate(y_train) if j % 2 == 1 ]\n",
    "evens = list(set(range(len(y_train))) - set(odds))\n",
    "\n",
    "X_train_odd = X_train[odds]\n",
    "y_train_odd = y_train[odds]\n",
    "\n",
    "X_train_even = X_train[evens]\n",
    "y_train_even = y_train[evens]\n",
    "\n",
    "# split into odd and evens\n",
    "odds = [i for i,j in enumerate(y_test) if j % 2 == 1 ]\n",
    "evens = list(set(range(len(y_test))) - set(odds))\n",
    "\n",
    "X_test_odd = X_test[odds]\n",
    "y_test_odd = y_test[odds]\n",
    "\n",
    "X_test_even = X_test[evens]\n",
    "y_test_even = y_test[evens]"
   ]
  },
  {
   "cell_type": "markdown",
   "metadata": {},
   "source": [
    "## Prepare data for modeling"
   ]
  },
  {
   "cell_type": "code",
   "execution_count": 5,
   "metadata": {
    "collapsed": true
   },
   "outputs": [],
   "source": [
    "###\n",
    "# function to prepare data for modeling\n",
    "###\n",
    "def prepareFeatureSet(X_in,y_in):\n",
    "    # reshape to be [samples][channels][width][height]\n",
    "    X_out = X_in.reshape(X_in.shape[0], 28, 28, 1).astype('float32')\n",
    "\n",
    "    # normalize inputs from 0-255 to 0-1\n",
    "    X_out = X_out / 255\n",
    "    \n",
    "    #one-hot encode target variable\n",
    "    min_y = min(y_in)\n",
    "    num_classes = len(np.unique(y_in))\n",
    "    y_out = np_utils.to_categorical((y_in-min_y)/2,num_classes)\n",
    "    \n",
    "    return((X_out,y_out))\n",
    "    "
   ]
  },
  {
   "cell_type": "code",
   "execution_count": 6,
   "metadata": {
    "collapsed": false
   },
   "outputs": [],
   "source": [
    "###\n",
    "# Prepare data for modeling\n",
    "###\n",
    "X_train_even_mdl, y_train_even_mdl = prepareFeatureSet(X_train_even,y_train_even)\n",
    "X_test_even_mdl, y_test_even_mdl = prepareFeatureSet(X_test_even, y_test_even)\n",
    "\n",
    "X_train_odd_mdl, y_train_odd_mdl = prepareFeatureSet(X_train_odd,y_train_odd)\n",
    "X_test_odd_mdl, y_test_odd_mdl = prepareFeatureSet(X_test_odd, y_test_odd)"
   ]
  },
  {
   "cell_type": "markdown",
   "metadata": {},
   "source": [
    "## Plot sample images"
   ]
  },
  {
   "cell_type": "code",
   "execution_count": 80,
   "metadata": {
    "collapsed": false
   },
   "outputs": [],
   "source": [
    "%matplotlib inline\n",
    "import matplotlib.pyplot as plt\n",
    "\n",
    "def plotDigitGrid(X,y,idxs,y_hat=None):\n",
    "    plt.figure(figsize=(12,10))\n",
    "\n",
    "    for i in range(len(idxs)):\n",
    "        plt.subplot(5,6,i+1)\n",
    "        \n",
    "        if y_hat is None:\n",
    "            plt.title('Label: {label}'.format(label=y[idxs[i]]))\n",
    "        else:\n",
    "            plt.title(\"Label: {label}  Pred: {pred}\".format(label=y[idxs[i]], pred=y_hat[idxs[i]]))\n",
    "            \n",
    "        plt.imshow(X[idxs[i]], cmap='Greys')\n",
    "        plt.tick_params(\n",
    "            axis='both',          # changes apply to the x-axis and y-axis\n",
    "            which='both',      # both major and minor ticks are affected\n",
    "            bottom='off',      # tick marks on bottom side are off\n",
    "            left='off',        # tick marks on left side are off\n",
    "            labelleft='off',   # label on left side are off\n",
    "            labelbottom='off') # labels along the bottom edge are off\n",
    "\n",
    "    plt.show()\n"
   ]
  },
  {
   "cell_type": "markdown",
   "metadata": {},
   "source": [
    "## Plot Sample Even Digits"
   ]
  },
  {
   "cell_type": "code",
   "execution_count": 81,
   "metadata": {
    "collapsed": false
   },
   "outputs": [
    {
     "data": {
      "image/png": "[encoded data removed]",
      "text/plain": [
       "<matplotlib.figure.Figure at 0x151ad0160>"
      ]
     },
     "metadata": {},
     "output_type": "display_data"
    }
   ],
   "source": [
    "np.random.seed(127)\n",
    "idxs_even = np.random.choice(y_test_even.shape[0],30)\n",
    "\n",
    "plotDigitGrid(X_test_even,y_test_even,idxs_even)"
   ]
  },
  {
   "cell_type": "markdown",
   "metadata": {},
   "source": [
    "## Plot Sample Odd Digits"
   ]
  },
  {
   "cell_type": "code",
   "execution_count": 82,
   "metadata": {
    "collapsed": false
   },
   "outputs": [
    {
     "data": {
      "image/png": "[encoded data removed]",
      "text/plain": [
       "<matplotlib.figure.Figure at 0x132fc7160>"
      ]
     },
     "metadata": {},
     "output_type": "display_data"
    }
   ],
   "source": [
    "np.random.seed(127)\n",
    "idxs_odd = np.random.choice(y_test_odd.shape[0],30)\n",
    "\n",
    "plotDigitGrid(X_test_odd,y_test_odd,idxs_odd)"
   ]
  },
  {
   "cell_type": "markdown",
   "metadata": {},
   "source": [
    "## Set up for model training"
   ]
  },
  {
   "cell_type": "code",
   "execution_count": 83,
   "metadata": {
    "collapsed": true
   },
   "outputs": [],
   "source": [
    "###\n",
    "# function to train model\n",
    "###\n",
    "def train_model(model, x_train, y_train, x_test, y_test):\n",
    "    model.compile(loss='categorical_crossentropy',\n",
    "                  optimizer='adadelta',\n",
    "                  metrics=['accuracy'])\n",
    "\n",
    "    t = time.time()\n",
    "    model.fit(x_train, y_train,\n",
    "              batch_size=BATCH_SIZE,\n",
    "              epochs=EPOCHS,\n",
    "              verbose=1,\n",
    "              validation_data=(x_test, y_test))\n",
    "    print('Training time: %.3f (sec)' % (time.time() - t))\n"
   ]
  },
  {
   "cell_type": "code",
   "execution_count": 84,
   "metadata": {
    "collapsed": false
   },
   "outputs": [],
   "source": [
    "# reset computational TF compuationatl graph\n",
    "ops.reset_default_graph()\n",
    "\n",
    "# setup session for the even digit model\n",
    "sess_even = tf.Session()\n",
    "\n",
    "# connect Keras to TF\n",
    "K.set_session(sess_even)\n",
    "\n"
   ]
  },
  {
   "cell_type": "markdown",
   "metadata": {},
   "source": [
    "## Define CNN Model architecture"
   ]
  },
  {
   "cell_type": "code",
   "execution_count": 85,
   "metadata": {
    "collapsed": false
   },
   "outputs": [],
   "source": [
    "###\n",
    "# Initialize placeholders\n",
    "###\n",
    "\n",
    "# training image data\n",
    "x_data = tf.placeholder(shape=[None, X_train_even_mdl.shape[1],X_train_even_mdl.shape[2],1], \n",
    "                        dtype=tf.float32,\n",
    "                        name='x_data')\n",
    "\n",
    "# training image category \n",
    "y_target = tf.placeholder(shape=[None, y_train_even_mdl.shape[1]], \n",
    "                          dtype=tf.float32,\n",
    "                         name='y_target')"
   ]
  },
  {
   "cell_type": "code",
   "execution_count": 86,
   "metadata": {
    "collapsed": false
   },
   "outputs": [
    {
     "name": "stdout",
     "output_type": "stream",
     "text": [
      "<class 'tensorflow.python.framework.ops.Tensor'>(?, 5)\n"
     ]
    }
   ],
   "source": [
    "from keras.layers import Dense\n",
    "from keras.layers import Dropout\n",
    "from keras.layers import Flatten\n",
    "from keras.layers.convolutional import Convolution2D\n",
    "from keras.layers.convolutional import MaxPooling2D\n",
    "\n",
    "###\n",
    "# Declare model operations\n",
    "###\n",
    "\n",
    "x = Convolution2D(30,5,padding='valid',activation='relu',name='ConvLayer1')(x_data)\n",
    "x = Convolution2D(15,5,activation='relu', name='ConvLayer2')(x)\n",
    "x = MaxPooling2D(pool_size=(2,2), name='MaxPoolLayer1')(x)\n",
    "x = Dropout(0.25)(x)\n",
    "x = Flatten()(x)\n",
    "x = Dense(128,activation='relu',name='DenseLayer1')(x)\n",
    "x = Dropout(0.5)(x)\n",
    "y_prob = Dense(5,activation='softmax',name='DenseLayer2')(x)\n",
    "print(str(type(y_prob)) + str(y_prob.get_shape()))\n"
   ]
  },
  {
   "cell_type": "code",
   "execution_count": 87,
   "metadata": {
    "collapsed": false
   },
   "outputs": [],
   "source": [
    "###\n",
    "# Declare Loss Function (softmax cross entropy)\n",
    "###\n",
    "from keras.objectives import categorical_crossentropy\n",
    "\n",
    "loss = tf.reduce_mean(categorical_crossentropy(y_target,y_prob))\n",
    "\n",
    "# optimize the loss - initial training\n",
    "train_step = tf.train.AdamOptimizer(name='train_step').minimize(loss)\n",
    "\n",
    "# optimizae the loss - transfer learning - classification layers only\n",
    "trainable_layers = tf.get_collection(tf.GraphKeys.TRAINABLE_VARIABLES,scope='DenseLayer')\n",
    "train_step_transfer = tf.train.AdamOptimizer(name='train_step_transfer').minimize(loss,var_list=trainable_layers)\n",
    "    "
   ]
  },
  {
   "cell_type": "markdown",
   "metadata": {},
   "source": [
    "## Global parameters for training"
   ]
  },
  {
   "cell_type": "code",
   "execution_count": 88,
   "metadata": {
    "collapsed": true
   },
   "outputs": [],
   "source": [
    "BATCH_SIZE = 128\n",
    "\n",
    "EPOCHS = 5\n",
    "\n",
    "# ensure TF reproducibiliy\n",
    "seed = 13\n",
    "np.random.seed(13)\n",
    "tf.set_random_seed(seed)"
   ]
  },
  {
   "cell_type": "markdown",
   "metadata": {},
   "source": [
    "## Train Even Digit Model"
   ]
  },
  {
   "cell_type": "code",
   "execution_count": 89,
   "metadata": {
    "collapsed": true
   },
   "outputs": [],
   "source": [
    "###\n",
    "# function to generate indices for mini-batches for training\n",
    "###\n",
    "\n",
    "def generate_mini_batch_indices(X,batch_size=5):\n",
    "    \n",
    "    # randomly shuffle the indicies\n",
    "    idx = np.asarray(range(X.shape[0]))\n",
    "    np.random.shuffle(idx)\n",
    "\n",
    "    # determine number of batches to generate\n",
    "    if len(idx) % batch_size == 0:\n",
    "        number_batches = len(idx) // batch_size \n",
    "    else:\n",
    "        # account for the last bit of data\n",
    "        number_batches = len(idx) // batch_size  + 1\n",
    "        \n",
    "    # extract indicies for each mini-batch\n",
    "    index_list = np.array_split(idx,number_batches)\n",
    "        \n",
    "    return(index_list)"
   ]
  },
  {
   "cell_type": "code",
   "execution_count": 90,
   "metadata": {
    "collapsed": false
   },
   "outputs": [
    {
     "name": "stdout",
     "output_type": "stream",
     "text": [
      "Epoch: 1, Epoch time: 12.2, Loss: 0.03258\n",
      "Epoch: 2, Epoch time: 11.8, Loss: 0.02085\n",
      "Epoch: 3, Epoch time: 11.8, Loss: 0.01844\n",
      "Epoch: 4, Epoch time: 11.8, Loss: 0.01506\n",
      "Epoch: 5, Epoch time: 11.8, Loss: 0.01718\n",
      "\n",
      "\n",
      "Training time: 59.684 (sec)\n"
     ]
    }
   ],
   "source": [
    "start_time = time.time()\n",
    "# Initialize variables\n",
    "init = tf.global_variables_initializer()\n",
    "sess_even.run(init)\n",
    "\n",
    "# Training loop\n",
    "test_loss = []\n",
    "for epoch in range(EPOCHS):\n",
    "    epoch_start_time = time.time()\n",
    "    \n",
    "    # generate indices for mini_batches\n",
    "    batch_idx = generate_mini_batch_indices(X_train_even_mdl,BATCH_SIZE)\n",
    "    \n",
    "    # process each mini-batch\n",
    "    for i in range(len(batch_idx)):\n",
    "        rand_index = batch_idx[i]\n",
    "        rand_x = X_train_even_mdl[rand_index]\n",
    "        rand_y = y_train_even_mdl[rand_index]\n",
    "        for j in range(1):\n",
    "            sess_even.run(train_step, feed_dict={x_data: rand_x, \n",
    "                                            y_target: rand_y,\n",
    "                                            K.learning_phase(): 1})\n",
    "\n",
    "    test_loss = loss.eval(session=sess_even,feed_dict={x_data: X_test_even_mdl, \n",
    "                                  y_target: y_test_even_mdl,\n",
    "                                  K.learning_phase():0})\n",
    "    print('Epoch: %d, Epoch time: %.1f, Loss: %.5f' % (epoch+1, time.time() - epoch_start_time, test_loss))\n",
    "    \n",
    "print('\\n\\nTraining time: %.3f (sec)' % (time.time()-start_time))"
   ]
  },
  {
   "cell_type": "code",
   "execution_count": 91,
   "metadata": {
    "collapsed": false
   },
   "outputs": [
    {
     "data": {
      "text/plain": [
       "[array([-0.00863913, -0.02308304, -0.02948991, -0.01797053,  0.08231048], dtype=float32)]"
      ]
     },
     "execution_count": 91,
     "metadata": {},
     "output_type": "execute_result"
    }
   ],
   "source": [
    "weight_var = tf.get_collection(tf.GraphKeys.GLOBAL_VARIABLES, \"DenseLayer2/bias:0\")\n",
    "\n",
    "weight_var_value = sess_even.run(weight_var)\n",
    "\n",
    "weight_var_value"
   ]
  },
  {
   "cell_type": "markdown",
   "metadata": {},
   "source": [
    "## Save Even Digit Model"
   ]
  },
  {
   "cell_type": "code",
   "execution_count": 18,
   "metadata": {
    "collapsed": false
   },
   "outputs": [
    {
     "data": {
      "text/plain": [
       "'./even_digit_model_tf_keras'"
      ]
     },
     "execution_count": 18,
     "metadata": {},
     "output_type": "execute_result"
    }
   ],
   "source": [
    "###\n",
    "# save model to disk\n",
    "###\n",
    "#Create a saver object which will save all the variables\n",
    "saver = tf.train.Saver()\n",
    "\n",
    "saver.save(sess_even, './even_digit_model_tf_keras')"
   ]
  },
  {
   "cell_type": "markdown",
   "metadata": {},
   "source": [
    "## Even Digit Model - Evaluate Model on Even Digit Test Data Set"
   ]
  },
  {
   "cell_type": "code",
   "execution_count": 19,
   "metadata": {
    "collapsed": false
   },
   "outputs": [],
   "source": [
    "# function to return model performance\n",
    "def getPerformanceMetrics(sess,X,y):\n",
    "    yhat = y_prob.eval(session=sess,feed_dict={x_data:X, K.learning_phase():0})\n",
    "    correct_prediction = tf.equal(tf.argmax(y,1), tf.argmax(yhat,1))\n",
    "    accuracy = tf.reduce_mean(tf.cast(correct_prediction, tf.float32))\n",
    "    \n",
    "    accuracy_value = accuracy.eval(session=sess,feed_dict={x_data: X,\n",
    "                                                          K.learning_phase():0})\n",
    "    \n",
    "    loss_value = loss.eval(session=sess,feed_dict={x_data: X, \n",
    "                                  y_target: y,\n",
    "                                  K.learning_phase():0})\n",
    "    \n",
    "    return({'accuracy': accuracy_value, 'loss': loss_value})\n",
    "    "
   ]
  },
  {
   "cell_type": "code",
   "execution_count": 20,
   "metadata": {
    "collapsed": false
   },
   "outputs": [
    {
     "name": "stdout",
     "output_type": "stream",
     "text": [
      "\n",
      "Test Loss: 0.0136176\n",
      "Test accuracy: 0.995331\n"
     ]
    }
   ],
   "source": [
    "score = getPerformanceMetrics(sess_even,X_test_even_mdl,y_test_even_mdl)\n",
    "print('\\nTest Loss:', score['loss'])\n",
    "print('Test accuracy:', score['accuracy'])"
   ]
  },
  {
   "cell_type": "code",
   "execution_count": 21,
   "metadata": {
    "collapsed": false
   },
   "outputs": [
    {
     "data": {
      "image/png": "[encoded data removed]",
      "text/plain": [
       "<matplotlib.figure.Figure at 0x15187c898>"
      ]
     },
     "metadata": {},
     "output_type": "display_data"
    }
   ],
   "source": [
    "y_hat = np.argmax(y_prob.eval(session=sess_even,feed_dict={x_data:X_test_even_mdl, K.learning_phase():0}),1)\n",
    "\n",
    "plotDigitGrid(X_test_even,y_test_even,idxs_even,y_hat=2*y_hat)"
   ]
  },
  {
   "cell_type": "markdown",
   "metadata": {},
   "source": [
    "## Even Digit Model - Evaluate Model on Odd Digit Test Data Set"
   ]
  },
  {
   "cell_type": "code",
   "execution_count": 22,
   "metadata": {
    "collapsed": false
   },
   "outputs": [
    {
     "name": "stdout",
     "output_type": "stream",
     "text": [
      "\n",
      "Test Loss: 7.77499\n",
      "Test accuracy: 0.107607\n"
     ]
    }
   ],
   "source": [
    "score = getPerformanceMetrics(sess_even,X_test_odd_mdl,y_test_odd_mdl)\n",
    "print('\\nTest Loss:', score['loss'])\n",
    "print('Test accuracy:', score['accuracy'])"
   ]
  },
  {
   "cell_type": "code",
   "execution_count": 23,
   "metadata": {
    "collapsed": false
   },
   "outputs": [
    {
     "data": {
      "image/png": "[encoded data removed]",
      "text/plain": [
       "<matplotlib.figure.Figure at 0x14ff7ac88>"
      ]
     },
     "metadata": {},
     "output_type": "display_data"
    }
   ],
   "source": [
    "y_hat = np.argmax(y_prob.eval(session=sess_even,feed_dict={x_data:X_test_odd_mdl, K.learning_phase():0}),1)\n",
    "\n",
    "plotDigitGrid(X_test_odd,y_test_odd,idxs_even,y_hat=2*y_hat+1)"
   ]
  },
  {
   "cell_type": "markdown",
   "metadata": {},
   "source": [
    "## Transfer Learning\n",
    "## Initialize Odd Digit Model from Even Digit Model"
   ]
  },
  {
   "cell_type": "code",
   "execution_count": 7,
   "metadata": {
    "collapsed": true
   },
   "outputs": [],
   "source": [
    "###\n",
    "# recerate model structure\n",
    "###\n",
    "\n",
    "# reset computational TF compuationatl graph\n",
    "ops.reset_default_graph()"
   ]
  },
  {
   "cell_type": "code",
   "execution_count": 8,
   "metadata": {
    "collapsed": true
   },
   "outputs": [],
   "source": [
    "# set up session for odd digit model\n",
    "sess_odd=tf.Session()    \n",
    "\n",
    "# connect Keras to TF\n",
    "K.set_session(sess_odd)"
   ]
  },
  {
   "cell_type": "code",
   "execution_count": 9,
   "metadata": {
    "collapsed": false
   },
   "outputs": [
    {
     "data": {
      "text/plain": [
       "'./even_digit_model_tf_keras'"
      ]
     },
     "execution_count": 9,
     "metadata": {},
     "output_type": "execute_result"
    }
   ],
   "source": [
    "tf.train.latest_checkpoint('./')"
   ]
  },
  {
   "cell_type": "code",
   "execution_count": 10,
   "metadata": {
    "collapsed": false
   },
   "outputs": [],
   "source": [
    "#First let's load meta graph and restore weights\n",
    "saver = tf.train.import_meta_graph('even_digit_model_tf_keras.meta')\n",
    "saver.restore(sess_odd,tf.train.latest_checkpoint('./'))\n",
    "sess_odd.run(tf.global_variables_initializer())"
   ]
  },
  {
   "cell_type": "markdown",
   "metadata": {},
   "source": [
    "## Report Structure on Odd Digit Model Structure"
   ]
  },
  {
   "cell_type": "code",
   "execution_count": 11,
   "metadata": {
    "collapsed": false
   },
   "outputs": [
    {
     "name": "stdout",
     "output_type": "stream",
     "text": [
      "ConvLayer1/kernel:0\n",
      "ConvLayer1/bias:0\n",
      "ConvLayer2/kernel:0\n",
      "ConvLayer2/bias:0\n",
      "DenseLayer1/kernel:0\n",
      "DenseLayer1/bias:0\n",
      "DenseLayer2/kernel:0\n",
      "DenseLayer2/bias:0\n"
     ]
    }
   ],
   "source": [
    "for v in tf.get_collection(tf.GraphKeys.TRAINABLE_VARIABLES):\n",
    "    print(v.name)"
   ]
  },
  {
   "cell_type": "code",
   "execution_count": 14,
   "metadata": {
    "collapsed": false
   },
   "outputs": [
    {
     "data": {
      "text/plain": [
       "[array([[[[  8.16272944e-03,  -3.59423272e-02,  -7.27948770e-02, ...,\n",
       "             1.28710270e-03,   4.80744168e-02,   3.20024714e-02],\n",
       "          [  5.89948148e-03,   5.89299947e-03,  -3.14893015e-02, ...,\n",
       "            -3.73854376e-02,  -5.25043905e-03,   4.07149568e-02],\n",
       "          [ -4.11960408e-02,  -3.95824015e-03,   6.35114685e-02, ...,\n",
       "            -1.05933845e-03,  -7.24986345e-02,   6.61946833e-03],\n",
       "          ..., \n",
       "          [  5.57005778e-02,  -4.96209897e-02,   5.81425801e-02, ...,\n",
       "             2.07359269e-02,   2.71529704e-02,   4.99033183e-03],\n",
       "          [  3.58849540e-02,  -5.59549406e-02,   1.88726410e-02, ...,\n",
       "            -3.74302529e-02,   6.24195710e-02,   6.33867159e-02],\n",
       "          [ -1.59354396e-02,   3.73437703e-02,  -1.19635649e-02, ...,\n",
       "             6.22603223e-02,  -6.35819659e-02,   6.79738298e-02]],\n",
       " \n",
       "         [[  3.19801867e-02,  -2.00628638e-02,   5.89809045e-02, ...,\n",
       "            -6.45618737e-02,  -6.36156201e-02,  -6.21538311e-02],\n",
       "          [ -6.20820746e-02,  -3.02189998e-02,   1.97355449e-02, ...,\n",
       "             7.80093670e-03,  -3.75744216e-02,  -8.74496996e-04],\n",
       "          [ -5.11701927e-02,   5.55825979e-03,  -2.53966562e-02, ...,\n",
       "             4.51660156e-02,   1.38195753e-02,  -4.00121883e-02],\n",
       "          ..., \n",
       "          [ -4.04230170e-02,  -2.29442120e-02,   7.20678195e-02, ...,\n",
       "            -3.54632623e-02,  -5.72403371e-02,  -2.59137489e-02],\n",
       "          [ -6.91695362e-02,  -6.57369867e-02,   3.44685316e-02, ...,\n",
       "            -6.79515377e-02,  -3.39546129e-02,   4.69439030e-02],\n",
       "          [  7.14220181e-02,  -5.42791411e-02,   4.90033105e-02, ...,\n",
       "            -2.88320929e-02,  -4.72196303e-02,   6.57236353e-02]],\n",
       " \n",
       "         [[ -6.51283115e-02,  -5.83412051e-02,   4.84238192e-02, ...,\n",
       "             1.86055154e-03,  -6.79921210e-02,   5.96348569e-02],\n",
       "          [  3.89856026e-02,  -6.20333068e-02,  -5.39051890e-02, ...,\n",
       "            -9.46005434e-03,   6.76698163e-02,  -7.75094330e-03],\n",
       "          [ -4.06835228e-03,  -4.55235094e-02,  -3.68882976e-02, ...,\n",
       "            -5.15025407e-02,  -5.01360074e-02,  -1.74622312e-02],\n",
       "          ..., \n",
       "          [  1.15731657e-02,  -3.25448997e-02,   1.56983808e-02, ...,\n",
       "            -1.54232047e-02,  -5.05511910e-02,  -5.45246601e-02],\n",
       "          [ -3.05930562e-02,   5.24160340e-02,  -2.08643749e-02, ...,\n",
       "             7.28799477e-02,   6.25455007e-02,   5.91098592e-02],\n",
       "          [ -7.13537037e-02,  -3.15460786e-02,   3.51545364e-02, ...,\n",
       "            -6.59932196e-02,  -2.06371173e-02,  -3.61889265e-02]],\n",
       " \n",
       "         [[  7.27306232e-02,  -1.27388537e-02,  -4.97931391e-02, ...,\n",
       "             2.70998105e-02,   4.03315723e-02,   1.37295425e-02],\n",
       "          [  2.96947882e-02,   2.10510418e-02,   1.96472853e-02, ...,\n",
       "             6.91034421e-02,   6.41683862e-02,   6.20381013e-02],\n",
       "          [  1.39863789e-03,  -2.96433531e-02,   5.64261749e-02, ...,\n",
       "            -1.77292898e-02,   3.42456475e-02,  -6.08568378e-02],\n",
       "          ..., \n",
       "          [ -4.29099053e-02,   1.87636986e-02,  -1.89770423e-02, ...,\n",
       "             6.85342476e-02,   2.57976130e-02,   5.71085289e-02],\n",
       "          [  2.90142000e-02,   5.26328012e-02,  -1.34388357e-02, ...,\n",
       "             4.34746146e-02,   6.11425862e-02,  -3.86895835e-02],\n",
       "          [  3.57239693e-03,  -1.84230506e-03,   5.70869818e-02, ...,\n",
       "             4.19818312e-02,   5.24184480e-02,  -5.82200550e-02]],\n",
       " \n",
       "         [[  4.64531034e-02,  -1.46203190e-02,  -1.10217705e-02, ...,\n",
       "            -3.86325791e-02,   7.17460588e-02,  -4.16233391e-03],\n",
       "          [ -5.23200035e-02,   5.08481115e-02,  -5.72878197e-02, ...,\n",
       "             6.20537177e-02,  -3.40989046e-02,   5.33891991e-02],\n",
       "          [  3.44893932e-02,  -7.26289451e-02,   2.26001740e-02, ...,\n",
       "            -1.28935203e-02,  -1.96132809e-02,  -1.02855191e-02],\n",
       "          ..., \n",
       "          [  4.51454669e-02,  -9.24989581e-03,  -5.38840704e-02, ...,\n",
       "             6.45418391e-02,  -5.33881336e-02,   6.07897341e-03],\n",
       "          [ -3.25995199e-02,  -2.29086913e-02,  -3.26758698e-02, ...,\n",
       "             2.78488547e-03,   1.25924721e-02,   1.32411420e-02],\n",
       "          [  2.45478377e-02,   1.15669668e-02,   1.67470127e-02, ...,\n",
       "            -9.92365181e-03,  -3.72454524e-05,  -3.79286446e-02]]],\n",
       " \n",
       " \n",
       "        [[[  6.54967204e-02,  -2.43028253e-02,   4.73330989e-02, ...,\n",
       "             5.80338314e-02,  -5.34748659e-02,   1.45649165e-02],\n",
       "          [ -1.46788396e-02,  -1.44125298e-02,  -6.61652237e-02, ...,\n",
       "             3.80454585e-02,   2.52306759e-02,  -6.76135048e-02],\n",
       "          [ -2.92967930e-02,   3.65827233e-02,   1.02894902e-02, ...,\n",
       "            -6.23639710e-02,  -6.13457747e-02,   1.72997266e-02],\n",
       "          ..., \n",
       "          [  4.43227664e-02,   2.62129679e-02,  -4.56134230e-03, ...,\n",
       "             6.18591383e-02,  -4.04842012e-02,  -3.39589827e-02],\n",
       "          [ -4.92888279e-02,  -8.61060619e-03,  -1.40450411e-02, ...,\n",
       "            -6.95727319e-02,   6.20909408e-02,  -1.49972662e-02],\n",
       "          [  2.23067030e-02,   5.33675030e-02,   3.09126973e-02, ...,\n",
       "            -6.37322292e-02,  -7.07598776e-02,  -3.32875401e-02]],\n",
       " \n",
       "         [[  1.58276632e-02,   3.10711786e-02,   6.82403818e-02, ...,\n",
       "            -5.35378084e-02,   4.78485003e-02,  -4.35307473e-02],\n",
       "          [ -5.37545457e-02,  -5.89955673e-02,   1.61360055e-02, ...,\n",
       "             4.78238165e-02,   1.98272690e-02,   1.26598254e-02],\n",
       "          [ -6.67617470e-02,   3.48076820e-02,  -5.79174757e-02, ...,\n",
       "             2.10992247e-03,   2.05664411e-02,  -1.25864521e-02],\n",
       "          ..., \n",
       "          [  1.49678066e-02,   3.46622020e-02,   4.41222191e-02, ...,\n",
       "            -1.08094029e-02,  -5.41354418e-02,  -5.53182513e-02],\n",
       "          [ -3.78262810e-02,   6.89152628e-03,  -5.69394119e-02, ...,\n",
       "             6.07004091e-02,  -2.89574265e-04,  -2.40767859e-02],\n",
       "          [ -4.25727442e-02,  -3.80446576e-02,   6.84678480e-02, ...,\n",
       "             4.83978912e-02,  -2.71920860e-03,   4.53606248e-02]],\n",
       " \n",
       "         [[ -7.13013411e-02,   8.70343298e-03,  -5.16914949e-02, ...,\n",
       "            -5.82016148e-02,   5.74042723e-02,  -2.55613178e-02],\n",
       "          [ -1.75665095e-02,   4.27850112e-02,  -4.13950756e-02, ...,\n",
       "             6.66930303e-02,  -5.51610738e-02,   6.22904524e-02],\n",
       "          [ -3.65569927e-02,  -2.35906020e-02,  -5.60961664e-02, ...,\n",
       "            -1.41056515e-02,   2.25747228e-02,  -5.61157614e-03],\n",
       "          ..., \n",
       "          [ -3.28514837e-02,  -4.56513315e-02,   1.98185295e-02, ...,\n",
       "             1.65848434e-02,   4.35779542e-02,   5.76441512e-02],\n",
       "          [ -1.21175386e-02,   5.63109145e-02,   9.12480801e-03, ...,\n",
       "            -2.06232928e-02,  -5.46584725e-02,   4.90973145e-03],\n",
       "          [  3.61183360e-02,  -1.62861496e-03,  -5.03418297e-02, ...,\n",
       "            -5.38405254e-02,  -6.34738058e-02,  -5.75276837e-02]],\n",
       " \n",
       "         [[ -1.94946378e-02,   6.72365502e-02,   1.01933256e-02, ...,\n",
       "             1.69215649e-02,  -4.90742996e-02,   3.77976224e-02],\n",
       "          [  6.50027171e-02,   2.36907005e-02,   5.59606329e-02, ...,\n",
       "             1.12015083e-02,   6.43458962e-03,  -2.87931450e-02],\n",
       "          [  1.09288841e-02,  -7.22129270e-02,  -4.03681695e-02, ...,\n",
       "            -3.75168771e-02,   3.74908447e-02,  -4.21193987e-03],\n",
       "          ..., \n",
       "          [ -7.20471889e-02,   6.33272901e-02,  -5.85857332e-02, ...,\n",
       "             5.16217425e-02,  -2.20496021e-02,   7.09035620e-02],\n",
       "          [  1.06330067e-02,   5.05267605e-02,   1.12090856e-02, ...,\n",
       "             7.30150715e-02,   7.29072466e-02,  -6.07721470e-02],\n",
       "          [  7.05830753e-03,  -2.56335735e-03,  -3.22033502e-02, ...,\n",
       "             3.11692059e-02,   8.07556510e-03,   5.23877665e-02]],\n",
       " \n",
       "         [[  3.49254534e-02,  -3.91380489e-03,  -5.07669710e-02, ...,\n",
       "            -7.72782415e-03,  -4.43824902e-02,  -5.78355528e-02],\n",
       "          [  1.87820643e-02,   5.65149710e-02,  -1.00955069e-02, ...,\n",
       "             8.72984529e-05,   6.95704147e-02,  -6.92009926e-04],\n",
       "          [ -3.12773660e-02,   1.52114779e-03,  -7.14523047e-02, ...,\n",
       "             3.75031903e-02,  -4.64126691e-02,   1.63584203e-03],\n",
       "          ..., \n",
       "          [ -3.46753001e-02,   3.55882272e-02,  -1.50856823e-02, ...,\n",
       "            -8.73281807e-03,   1.21206716e-02,  -1.51295923e-02],\n",
       "          [  6.81127831e-02,   6.66778758e-02,   1.40040889e-02, ...,\n",
       "             6.33696839e-02,  -3.69801968e-02,   6.51166514e-02],\n",
       "          [ -1.59106776e-02,  -2.65050456e-02,  -1.95246898e-02, ...,\n",
       "             2.77838930e-02,  -7.23666400e-02,  -1.41490735e-02]]],\n",
       " \n",
       " \n",
       "        [[[ -3.92328091e-02,  -5.58910742e-02,   4.01812047e-03, ...,\n",
       "            -6.37412816e-02,   4.62144613e-03,  -3.85937840e-03],\n",
       "          [ -9.82029736e-03,  -6.37717396e-02,  -2.33972818e-02, ...,\n",
       "             3.30416709e-02,   2.95191929e-02,   2.21933872e-02],\n",
       "          [  4.75831181e-02,   6.04138896e-02,  -3.17639001e-02, ...,\n",
       "             5.61227649e-03,   1.19337589e-02,  -2.24348344e-02],\n",
       "          ..., \n",
       "          [  5.05089015e-03,  -2.67346725e-02,   2.96561718e-02, ...,\n",
       "             7.08585307e-02,   2.98995823e-02,   3.72856483e-02],\n",
       "          [ -1.07523091e-02,  -2.17450373e-02,   3.19429934e-02, ...,\n",
       "             6.26254901e-02,  -5.74683957e-02,  -2.08116509e-02],\n",
       "          [  6.86332360e-02,   3.29164788e-02,   6.20860234e-02, ...,\n",
       "            -6.58265501e-03,   1.72420740e-02,   3.43311206e-02]],\n",
       " \n",
       "         [[  3.79358903e-02,  -6.06457740e-02,   1.48792863e-02, ...,\n",
       "            -2.48259753e-02,  -1.28023215e-02,   2.27635503e-02],\n",
       "          [ -3.50692011e-02,  -3.36816162e-02,  -6.88303411e-02, ...,\n",
       "            -4.21882086e-02,  -2.17954777e-02,  -4.01544794e-02],\n",
       "          [ -5.76632470e-02,  -2.77852044e-02,   4.11320031e-02, ...,\n",
       "             5.20246997e-02,   1.16788149e-02,  -6.31483272e-02],\n",
       "          ..., \n",
       "          [  4.77303565e-03,   5.31640425e-02,  -8.03165138e-04, ...,\n",
       "             1.16902217e-02,   1.53547600e-02,  -2.64448561e-02],\n",
       "          [  8.80900025e-03,  -2.48743072e-02,  -7.19752237e-02, ...,\n",
       "             3.10340226e-02,  -1.17717087e-02,  -4.31850776e-02],\n",
       "          [ -5.29766642e-02,   3.35499644e-03,   7.12075159e-02, ...,\n",
       "             9.87239182e-03,  -7.12511986e-02,   4.19268459e-02]],\n",
       " \n",
       "         [[ -1.49440393e-02,   5.95175102e-02,   6.04394600e-02, ...,\n",
       "            -4.34329808e-02,  -7.07254335e-02,  -5.30738011e-02],\n",
       "          [  3.44584882e-02,   3.09312046e-02,   2.81580538e-02, ...,\n",
       "             7.45131075e-03,  -1.06787272e-02,  -1.93320662e-02],\n",
       "          [  1.34936348e-02,  -3.06545012e-02,  -6.23497292e-02, ...,\n",
       "            -1.70528293e-02,  -5.07949144e-02,  -7.25995377e-02],\n",
       "          ..., \n",
       "          [ -3.32512185e-02,  -6.52021393e-02,  -4.66295853e-02, ...,\n",
       "            -4.80237342e-02,   6.41382858e-02,  -6.78355768e-02],\n",
       "          [  3.30581591e-02,  -4.49214354e-02,  -1.20946579e-02, ...,\n",
       "             6.99137226e-02,  -2.26296186e-02,  -6.98645338e-02],\n",
       "          [ -6.46871850e-02,   5.80609813e-02,   4.27002311e-02, ...,\n",
       "            -8.69120657e-03,   5.23854792e-03,   7.10216537e-02]],\n",
       " \n",
       "         [[  6.35384843e-02,   6.87032714e-02,  -2.05198154e-02, ...,\n",
       "            -7.28244781e-02,   6.87512383e-02,   6.89966306e-02],\n",
       "          [  3.67596000e-03,  -5.96404448e-02,  -6.94304705e-03, ...,\n",
       "            -5.54306433e-02,   6.38714358e-02,   1.29878372e-02],\n",
       "          [ -5.67113534e-02,  -4.19680551e-02,   6.92022219e-02, ...,\n",
       "             7.17969164e-02,   4.94747162e-02,   7.29482397e-02],\n",
       "          ..., \n",
       "          [ -4.64681275e-02,   5.34140840e-02,  -9.63615626e-03, ...,\n",
       "             4.07905877e-03,  -4.03983258e-02,  -7.19117075e-02],\n",
       "          [ -6.63782731e-02,  -3.78628112e-02,  -3.67012471e-02, ...,\n",
       "            -3.56173366e-02,  -2.61775851e-02,  -1.34313665e-02],\n",
       "          [ -1.70354173e-02,   5.67935780e-02,  -6.26978204e-02, ...,\n",
       "             4.13519815e-02,  -5.32826744e-02,   4.05047685e-02]],\n",
       " \n",
       "         [[  2.41898224e-02,  -6.37683570e-02,   2.75721177e-02, ...,\n",
       "             1.32148713e-02,  -3.93694565e-02,  -2.50079483e-03],\n",
       "          [ -6.23340048e-02,  -1.51313879e-02,   7.12531731e-02, ...,\n",
       "             4.13842052e-02,  -5.74149750e-02,  -6.16917424e-02],\n",
       "          [  6.28001168e-02,   3.42988223e-03,  -4.53439280e-02, ...,\n",
       "            -4.77901213e-02,   7.22726062e-02,  -6.71738610e-02],\n",
       "          ..., \n",
       "          [ -3.59359346e-02,  -2.08329298e-02,  -7.00969622e-02, ...,\n",
       "             4.65238616e-02,  -3.27041633e-02,   5.82675710e-02],\n",
       "          [  5.90749905e-02,   4.10583168e-02,  -2.41330266e-02, ...,\n",
       "             2.43165791e-02,  -9.91618633e-03,   5.49693331e-02],\n",
       "          [  2.66262516e-02,   2.87529603e-02,   4.83079255e-02, ...,\n",
       "             1.81061476e-02,   6.42227456e-02,   6.32251054e-03]]],\n",
       " \n",
       " \n",
       "        [[[ -6.92299902e-02,   6.78611919e-02,   1.46930143e-02, ...,\n",
       "            -6.48894906e-03,  -2.68365443e-03,   1.79998502e-02],\n",
       "          [ -1.45641342e-02,   3.10753211e-02,  -2.71428376e-03, ...,\n",
       "             8.86283815e-04,   4.57845628e-02,  -5.38698435e-02],\n",
       "          [  2.46240720e-02,   3.57482061e-02,   6.55207559e-02, ...,\n",
       "             1.87291726e-02,   5.62810376e-02,   2.37490311e-02],\n",
       "          ..., \n",
       "          [  1.78645775e-02,  -1.05531886e-02,   1.37225911e-02, ...,\n",
       "            -5.94448745e-02,   5.45032993e-02,   5.45827821e-02],\n",
       "          [ -3.16671617e-02,  -2.06837803e-03,   2.84549594e-03, ...,\n",
       "            -1.91074908e-02,   6.77927807e-02,   3.68998945e-02],\n",
       "          [ -6.01287335e-02,  -5.63231632e-02,   1.84240118e-02, ...,\n",
       "            -4.46137525e-02,   3.39774191e-02,  -2.86438055e-02]],\n",
       " \n",
       "         [[  4.34835479e-02,  -3.48814353e-02,  -6.27836585e-02, ...,\n",
       "             5.68206832e-02,   2.56721601e-02,   3.39469016e-02],\n",
       "          [  7.29914233e-02,   1.05775818e-02,   4.70920876e-02, ...,\n",
       "             2.26908699e-02,   8.15628469e-03,   3.83785293e-02],\n",
       "          [  5.43870702e-02,   4.61742356e-02,  -7.21641108e-02, ...,\n",
       "             7.10968301e-02,   6.05894700e-02,  -1.48123167e-02],\n",
       "          ..., \n",
       "          [  2.18314156e-02,   6.71884045e-02,  -2.92381346e-02, ...,\n",
       "            -2.85768062e-02,  -2.01081894e-02,  -5.08268178e-03],\n",
       "          [  4.55840155e-02,  -1.72538832e-02,  -3.88826989e-02, ...,\n",
       "            -1.00353137e-02,  -7.02840164e-02,   5.75660169e-03],\n",
       "          [  4.18508574e-02,  -3.21839191e-02,   1.79130137e-02, ...,\n",
       "             6.08047470e-02,   2.25652829e-02,   6.09014407e-02]],\n",
       " \n",
       "         [[ -2.78052799e-02,  -1.74147636e-03,  -3.74551862e-03, ...,\n",
       "             4.86891046e-02,   1.32841170e-02,   4.96078804e-02],\n",
       "          [ -3.55934314e-02,  -2.93802470e-02,   5.46511933e-02, ...,\n",
       "             2.65903994e-02,  -6.31701648e-02,   2.96909586e-02],\n",
       "          [ -8.21653008e-03,  -3.77095900e-02,  -4.29179296e-02, ...,\n",
       "            -1.65766403e-02,   1.90317854e-02,  -1.03855655e-02],\n",
       "          ..., \n",
       "          [ -3.35343331e-02,  -4.37510759e-03,  -1.23865493e-02, ...,\n",
       "             4.82100546e-02,   4.50466052e-02,  -1.83809698e-02],\n",
       "          [  3.59482616e-02,  -1.42115653e-02,  -2.63823979e-02, ...,\n",
       "             4.28119078e-02,   4.66299057e-03,  -5.82119823e-03],\n",
       "          [ -6.65820092e-02,   5.71778640e-02,   6.89033046e-02, ...,\n",
       "             5.44459894e-02,  -3.40947956e-02,  -3.29793990e-03]],\n",
       " \n",
       "         [[ -6.47848994e-02,  -3.95054370e-03,  -5.38110137e-02, ...,\n",
       "             2.19657272e-02,  -2.95365863e-02,  -3.37651744e-02],\n",
       "          [ -5.05068749e-02,  -5.93568943e-02,  -4.18673828e-02, ...,\n",
       "            -4.44057584e-03,  -5.47079742e-02,  -5.55048659e-02],\n",
       "          [  1.86444595e-02,  -1.22687221e-02,  -3.95469144e-02, ...,\n",
       "             5.20481244e-02,  -5.07016107e-02,  -5.45271188e-02],\n",
       "          ..., \n",
       "          [ -4.16281074e-03,   4.47286516e-02,   6.04303852e-02, ...,\n",
       "            -5.26536256e-02,  -2.56034024e-02,  -5.50888479e-03],\n",
       "          [  6.79864064e-02,   1.19546205e-02,   3.17971408e-02, ...,\n",
       "            -1.25877745e-02,   5.75182214e-02,  -1.27793029e-02],\n",
       "          [  4.85505909e-02,  -1.24608949e-02,   9.45134461e-03, ...,\n",
       "             2.39982754e-02,  -4.64138538e-02,  -2.37558559e-02]],\n",
       " \n",
       "         [[ -8.82839411e-03,   7.79274851e-03,   3.50756794e-02, ...,\n",
       "            -2.00202316e-03,  -3.97965461e-02,  -6.87224865e-02],\n",
       "          [ -1.29725523e-02,   5.07378578e-03,  -4.02042940e-02, ...,\n",
       "             1.43172368e-02,   1.25405192e-03,   6.86639473e-02],\n",
       "          [  1.41272023e-02,   1.89346969e-02,   6.77045211e-02, ...,\n",
       "            -5.55160977e-02,   2.21432224e-02,   5.25193587e-02],\n",
       "          ..., \n",
       "          [ -4.73239608e-02,  -3.17094177e-02,  -2.16807202e-02, ...,\n",
       "             2.40450650e-02,   4.71472666e-02,   1.21828318e-02],\n",
       "          [ -2.99711972e-02,   5.79395071e-02,   1.94619223e-02, ...,\n",
       "             5.93052059e-03,   1.34884268e-02,  -1.59424916e-02],\n",
       "          [ -4.35132310e-02,  -3.64805870e-02,   2.66180113e-02, ...,\n",
       "             4.74694371e-02,  -5.74814901e-02,  -1.37183629e-02]]],\n",
       " \n",
       " \n",
       "        [[[ -4.31596898e-02,   4.65787053e-02,  -4.24043536e-02, ...,\n",
       "             6.30007908e-02,   2.09797099e-02,  -1.03003234e-02],\n",
       "          [  4.54961956e-02,   2.45265663e-02,  -3.46352682e-02, ...,\n",
       "             3.65203246e-02,  -5.64652383e-02,   9.25104320e-03],\n",
       "          [ -6.01974428e-02,   3.38226855e-02,   1.80776790e-02, ...,\n",
       "            -1.60172209e-02,  -4.54136804e-02,  -4.20093015e-02],\n",
       "          ..., \n",
       "          [ -4.08451781e-02,  -7.07925409e-02,   2.54196599e-02, ...,\n",
       "             6.76285699e-02,  -3.94006595e-02,   3.77319604e-02],\n",
       "          [ -3.06996480e-02,   3.19833383e-02,   7.15973005e-02, ...,\n",
       "             2.39919201e-02,   7.01448843e-02,  -6.07822277e-02],\n",
       "          [ -4.30752449e-02,  -2.58586220e-02,  -7.26461336e-02, ...,\n",
       "             1.19811147e-02,  -2.17699036e-02,   4.64025363e-02]],\n",
       " \n",
       "         [[ -4.26130183e-02,   6.92437366e-02,   5.79408556e-03, ...,\n",
       "             6.31188974e-02,   5.71498349e-02,  -2.38843001e-02],\n",
       "          [  2.09847614e-02,  -6.46246970e-02,   6.22097179e-02, ...,\n",
       "            -6.41395897e-02,  -1.91430077e-02,  -6.21036850e-02],\n",
       "          [  6.43699095e-02,   4.50476184e-02,  -7.81346858e-03, ...,\n",
       "             8.77045095e-03,   2.34543011e-02,  -5.62964678e-02],\n",
       "          ..., \n",
       "          [  5.86970076e-02,  -4.43723053e-03,   5.89193627e-02, ...,\n",
       "            -3.84099707e-02,  -6.44864812e-02,  -3.04266810e-03],\n",
       "          [  5.93599752e-02,  -6.86048418e-02,  -5.15248850e-02, ...,\n",
       "             1.69832557e-02,   4.57427949e-02,  -3.99415866e-02],\n",
       "          [ -5.02933040e-02,  -3.35886739e-02,  -6.17644191e-03, ...,\n",
       "             5.11804596e-02,   1.23212039e-02,   5.36141917e-02]],\n",
       " \n",
       "         [[  2.11910009e-02,   4.05842289e-02,   4.53211740e-02, ...,\n",
       "             2.89768875e-02,   1.55395269e-03,   6.41494989e-04],\n",
       "          [  5.99473193e-02,  -3.78203616e-02,   3.90311852e-02, ...,\n",
       "             4.07713577e-02,  -4.17780429e-02,  -3.82658206e-02],\n",
       "          [  3.85165215e-04,  -2.42182724e-02,  -6.06441535e-02, ...,\n",
       "            -2.49524415e-03,   5.00075594e-02,  -6.78320751e-02],\n",
       "          ..., \n",
       "          [ -5.69326915e-02,  -4.85102087e-03,  -9.82134044e-03, ...,\n",
       "            -2.75325961e-02,   6.46790490e-02,   6.17657378e-02],\n",
       "          [  3.48359570e-02,  -2.25654393e-02,  -4.23097424e-02, ...,\n",
       "            -6.14372641e-03,  -3.88431549e-02,  -2.30925530e-03],\n",
       "          [ -1.81509629e-02,   2.34898031e-02,   4.85557839e-02, ...,\n",
       "            -5.28400354e-02,   3.27000692e-02,   2.62068063e-02]],\n",
       " \n",
       "         [[  2.77332664e-02,  -6.90888166e-02,  -5.38340993e-02, ...,\n",
       "            -2.12573558e-02,   1.86344683e-02,  -7.89260864e-03],\n",
       "          [  1.55158043e-02,   1.31445453e-02,   6.85227662e-03, ...,\n",
       "            -5.91048077e-02,  -3.68740410e-03,   6.42769039e-04],\n",
       "          [ -8.07568431e-04,  -3.95738333e-02,   5.39273545e-02, ...,\n",
       "             2.75634676e-02,  -4.96075489e-02,  -3.89926173e-02],\n",
       "          ..., \n",
       "          [ -1.81056224e-02,  -6.57824501e-02,   5.08990884e-02, ...,\n",
       "            -4.96969596e-02,  -4.86235656e-02,   3.40932310e-02],\n",
       "          [ -3.25525403e-02,  -6.40839785e-02,   5.01677990e-02, ...,\n",
       "            -4.86821383e-02,  -3.89876738e-02,   6.30390719e-02],\n",
       "          [  6.59969375e-02,   5.84903732e-02,   9.44560021e-03, ...,\n",
       "            -6.87357932e-02,   1.16746575e-02,  -2.58238353e-02]],\n",
       " \n",
       "         [[ -1.89583600e-02,  -2.38318034e-02,   7.16219470e-02, ...,\n",
       "            -3.83716822e-02,  -6.16653115e-02,  -2.03896649e-02],\n",
       "          [ -6.41842037e-02,  -6.29081205e-02,   2.33476907e-02, ...,\n",
       "             1.03254989e-02,  -4.17511053e-02,   2.47484073e-02],\n",
       "          [  6.25865981e-02,  -3.07845809e-02,   3.02457288e-02, ...,\n",
       "             3.49087045e-02,  -6.55432492e-02,   2.39377543e-02],\n",
       "          ..., \n",
       "          [ -2.57977359e-02,   2.79308856e-02,   2.89198309e-02, ...,\n",
       "            -6.12777472e-02,   3.46808210e-02,   6.10321835e-02],\n",
       "          [  5.94426468e-02,  -2.79528424e-02,  -4.95028496e-02, ...,\n",
       "             3.31228450e-02,  -5.30108958e-02,  -2.98154503e-02],\n",
       "          [  2.40089819e-02,  -5.17724417e-02,  -3.45788039e-02, ...,\n",
       "             4.54619974e-02,   2.91799083e-02,  -1.12204552e-02]]]], dtype=float32)]"
      ]
     },
     "execution_count": 14,
     "metadata": {},
     "output_type": "execute_result"
    }
   ],
   "source": [
    "weight_var = tf.get_collection(tf.GraphKeys.GLOBAL_VARIABLES, \"ConvLayer2/kernel:0\")\n",
    "\n",
    "weight_var_value = sess_odd.run(weight_var)\n",
    "\n",
    "weight_var_value"
   ]
  },
  {
   "cell_type": "code",
   "execution_count": 100,
   "metadata": {
    "collapsed": false
   },
   "outputs": [],
   "source": [
    "for v in tf.get_collection(tf.GraphKeys.TRAIN_OP):\n",
    "    print(v.name)"
   ]
  },
  {
   "cell_type": "code",
   "execution_count": 55,
   "metadata": {
    "collapsed": false
   },
   "outputs": [
    {
     "name": "stdout",
     "output_type": "stream",
     "text": [
      "DenseLayer1/kernel:0\n",
      "DenseLayer1/bias:0\n",
      "DenseLayer2/kernel:0\n",
      "DenseLayer2/bias:0\n"
     ]
    }
   ],
   "source": [
    "trainable_layers = tf.get_collection(tf.GraphKeys.TRAINABLE_VARIABLES,scope='DenseLayer')\n",
    "for v in trainable_layers:\n",
    "    print(v.name)"
   ]
  },
  {
   "cell_type": "code",
   "execution_count": 51,
   "metadata": {
    "collapsed": false
   },
   "outputs": [
    {
     "name": "stdout",
     "output_type": "stream",
     "text": [
      "train_step\n",
      "train_step_transfer\n"
     ]
    }
   ],
   "source": [
    "for v in tf.get_collection(tf.GraphKeys.TRAIN_OP):\n",
    "    print(v.name)"
   ]
  },
  {
   "cell_type": "code",
   "execution_count": 39,
   "metadata": {
    "collapsed": false
   },
   "outputs": [
    {
     "data": {
      "text/plain": [
       "<tf.Tensor 'x_data:0' shape=(?, 28, 28, 1) dtype=float32>"
      ]
     },
     "execution_count": 39,
     "metadata": {},
     "output_type": "execute_result"
    }
   ],
   "source": [
    "tf.get_default_graph().get_tensor_by_name(\"x_data:0\")"
   ]
  },
  {
   "cell_type": "code",
   "execution_count": 52,
   "metadata": {
    "collapsed": false
   },
   "outputs": [],
   "source": [
    "#x_data = tf.get_default_graph().get_tensor_by_name(\"x_data:0\")\n",
    "#y_target = tf.get_default_graph().get_tensor_by_name(\"y_target:0\")\n",
    "\n",
    "# training image data\n",
    "x_data1 = tf.placeholder(shape=[None, X_train_even_mdl.shape[1],X_train_even_mdl.shape[2],1], \n",
    "                        dtype=tf.float32,\n",
    "                        name='x_data')\n",
    "\n",
    "# training image category \n",
    "y_target1 = tf.placeholder(shape=[None, y_train_even_mdl.shape[1]], \n",
    "                          dtype=tf.float32,\n",
    "                         name='y_target')"
   ]
  },
  {
   "cell_type": "markdown",
   "metadata": {},
   "source": [
    "## Freeze Feature Detection Layers"
   ]
  },
  {
   "cell_type": "markdown",
   "metadata": {},
   "source": [
    "## Train Odd Digit Model"
   ]
  },
  {
   "cell_type": "code",
   "execution_count": 53,
   "metadata": {
    "collapsed": false
   },
   "outputs": [
    {
     "ename": "ValueError",
     "evalue": "Fetch argument <tf.Operation 'train_step_transfer' type=NoOp> cannot be interpreted as a Tensor. (Operation name: \"train_step_transfer\"\nop: \"NoOp\"\ninput: \"^train_step_transfer/update_DenseLayer1/kernel/ApplyAdam\"\ninput: \"^train_step_transfer/update_DenseLayer1/bias/ApplyAdam\"\ninput: \"^train_step_transfer/update_DenseLayer2/kernel/ApplyAdam\"\ninput: \"^train_step_transfer/update_DenseLayer2/bias/ApplyAdam\"\ninput: \"^train_step_transfer/Assign\"\ninput: \"^train_step_transfer/Assign_1\"\n is not an element of this graph.)",
     "output_type": "error",
     "traceback": [
      "\u001b[0;31m---------------------------------------------------------------------------\u001b[0m",
      "\u001b[0;31mValueError\u001b[0m                                Traceback (most recent call last)",
      "\u001b[0;32m/Users/jim/anaconda3/envs/tf-gpu/lib/python3.5/site-packages/tensorflow/python/client/session.py\u001b[0m in \u001b[0;36m__init__\u001b[0;34m(self, fetches, contraction_fn)\u001b[0m\n\u001b[1;32m    266\u001b[0m         self._unique_fetches.append(ops.get_default_graph().as_graph_element(\n\u001b[0;32m--> 267\u001b[0;31m             fetch, allow_tensor=True, allow_operation=True))\n\u001b[0m\u001b[1;32m    268\u001b[0m       \u001b[0;32mexcept\u001b[0m \u001b[0mTypeError\u001b[0m \u001b[0;32mas\u001b[0m \u001b[0me\u001b[0m\u001b[0;34m:\u001b[0m\u001b[0;34m\u001b[0m\u001b[0m\n",
      "\u001b[0;32m/Users/jim/anaconda3/envs/tf-gpu/lib/python3.5/site-packages/tensorflow/python/framework/ops.py\u001b[0m in \u001b[0;36mas_graph_element\u001b[0;34m(self, obj, allow_tensor, allow_operation)\u001b[0m\n\u001b[1;32m   2404\u001b[0m     \u001b[0;32mwith\u001b[0m \u001b[0mself\u001b[0m\u001b[0;34m.\u001b[0m\u001b[0m_lock\u001b[0m\u001b[0;34m:\u001b[0m\u001b[0;34m\u001b[0m\u001b[0m\n\u001b[0;32m-> 2405\u001b[0;31m       \u001b[0;32mreturn\u001b[0m \u001b[0mself\u001b[0m\u001b[0;34m.\u001b[0m\u001b[0m_as_graph_element_locked\u001b[0m\u001b[0;34m(\u001b[0m\u001b[0mobj\u001b[0m\u001b[0;34m,\u001b[0m \u001b[0mallow_tensor\u001b[0m\u001b[0;34m,\u001b[0m \u001b[0mallow_operation\u001b[0m\u001b[0;34m)\u001b[0m\u001b[0;34m\u001b[0m\u001b[0m\n\u001b[0m\u001b[1;32m   2406\u001b[0m \u001b[0;34m\u001b[0m\u001b[0m\n",
      "\u001b[0;32m/Users/jim/anaconda3/envs/tf-gpu/lib/python3.5/site-packages/tensorflow/python/framework/ops.py\u001b[0m in \u001b[0;36m_as_graph_element_locked\u001b[0;34m(self, obj, allow_tensor, allow_operation)\u001b[0m\n\u001b[1;32m   2488\u001b[0m       \u001b[0;32mif\u001b[0m \u001b[0mobj\u001b[0m\u001b[0;34m.\u001b[0m\u001b[0mgraph\u001b[0m \u001b[0;32mis\u001b[0m \u001b[0;32mnot\u001b[0m \u001b[0mself\u001b[0m\u001b[0;34m:\u001b[0m\u001b[0;34m\u001b[0m\u001b[0m\n\u001b[0;32m-> 2489\u001b[0;31m         \u001b[0;32mraise\u001b[0m \u001b[0mValueError\u001b[0m\u001b[0;34m(\u001b[0m\u001b[0;34m\"Operation %s is not an element of this graph.\"\u001b[0m \u001b[0;34m%\u001b[0m \u001b[0mobj\u001b[0m\u001b[0;34m)\u001b[0m\u001b[0;34m\u001b[0m\u001b[0m\n\u001b[0m\u001b[1;32m   2490\u001b[0m       \u001b[0;32mreturn\u001b[0m \u001b[0mobj\u001b[0m\u001b[0;34m\u001b[0m\u001b[0m\n",
      "\u001b[0;31mValueError\u001b[0m: Operation name: \"train_step_transfer\"\nop: \"NoOp\"\ninput: \"^train_step_transfer/update_DenseLayer1/kernel/ApplyAdam\"\ninput: \"^train_step_transfer/update_DenseLayer1/bias/ApplyAdam\"\ninput: \"^train_step_transfer/update_DenseLayer2/kernel/ApplyAdam\"\ninput: \"^train_step_transfer/update_DenseLayer2/bias/ApplyAdam\"\ninput: \"^train_step_transfer/Assign\"\ninput: \"^train_step_transfer/Assign_1\"\n is not an element of this graph.",
      "\nDuring handling of the above exception, another exception occurred:\n",
      "\u001b[0;31mValueError\u001b[0m                                Traceback (most recent call last)",
      "\u001b[0;32m<ipython-input-53-b7bd05769ac8>\u001b[0m in \u001b[0;36m<module>\u001b[0;34m()\u001b[0m\n\u001b[1;32m     18\u001b[0m                           feed_dict={x_data1: rand_x, \n\u001b[1;32m     19\u001b[0m                                      \u001b[0my_target1\u001b[0m\u001b[0;34m:\u001b[0m \u001b[0mrand_y\u001b[0m\u001b[0;34m,\u001b[0m\u001b[0;34m\u001b[0m\u001b[0m\n\u001b[0;32m---> 20\u001b[0;31m                                      K.learning_phase(): 1})\n\u001b[0m\u001b[1;32m     21\u001b[0m \u001b[0;34m\u001b[0m\u001b[0m\n\u001b[1;32m     22\u001b[0m     test_loss = loss.eval(session=sess_odd,feed_dict={x_data1: X_test_odd_mdl, \n",
      "\u001b[0;32m/Users/jim/anaconda3/envs/tf-gpu/lib/python3.5/site-packages/tensorflow/python/client/session.py\u001b[0m in \u001b[0;36mrun\u001b[0;34m(self, fetches, feed_dict, options, run_metadata)\u001b[0m\n\u001b[1;32m    765\u001b[0m     \u001b[0;32mtry\u001b[0m\u001b[0;34m:\u001b[0m\u001b[0;34m\u001b[0m\u001b[0m\n\u001b[1;32m    766\u001b[0m       result = self._run(None, fetches, feed_dict, options_ptr,\n\u001b[0;32m--> 767\u001b[0;31m                          run_metadata_ptr)\n\u001b[0m\u001b[1;32m    768\u001b[0m       \u001b[0;32mif\u001b[0m \u001b[0mrun_metadata\u001b[0m\u001b[0;34m:\u001b[0m\u001b[0;34m\u001b[0m\u001b[0m\n\u001b[1;32m    769\u001b[0m         \u001b[0mproto_data\u001b[0m \u001b[0;34m=\u001b[0m \u001b[0mtf_session\u001b[0m\u001b[0;34m.\u001b[0m\u001b[0mTF_GetBuffer\u001b[0m\u001b[0;34m(\u001b[0m\u001b[0mrun_metadata_ptr\u001b[0m\u001b[0;34m)\u001b[0m\u001b[0;34m\u001b[0m\u001b[0m\n",
      "\u001b[0;32m/Users/jim/anaconda3/envs/tf-gpu/lib/python3.5/site-packages/tensorflow/python/client/session.py\u001b[0m in \u001b[0;36m_run\u001b[0;34m(self, handle, fetches, feed_dict, options, run_metadata)\u001b[0m\n\u001b[1;32m    950\u001b[0m \u001b[0;34m\u001b[0m\u001b[0m\n\u001b[1;32m    951\u001b[0m     \u001b[0;31m# Create a fetch handler to take care of the structure of fetches.\u001b[0m\u001b[0;34m\u001b[0m\u001b[0;34m\u001b[0m\u001b[0m\n\u001b[0;32m--> 952\u001b[0;31m     \u001b[0mfetch_handler\u001b[0m \u001b[0;34m=\u001b[0m \u001b[0m_FetchHandler\u001b[0m\u001b[0;34m(\u001b[0m\u001b[0mself\u001b[0m\u001b[0;34m.\u001b[0m\u001b[0m_graph\u001b[0m\u001b[0;34m,\u001b[0m \u001b[0mfetches\u001b[0m\u001b[0;34m,\u001b[0m \u001b[0mfeed_dict_string\u001b[0m\u001b[0;34m)\u001b[0m\u001b[0;34m\u001b[0m\u001b[0m\n\u001b[0m\u001b[1;32m    953\u001b[0m \u001b[0;34m\u001b[0m\u001b[0m\n\u001b[1;32m    954\u001b[0m     \u001b[0;31m# Run request and get response.\u001b[0m\u001b[0;34m\u001b[0m\u001b[0;34m\u001b[0m\u001b[0m\n",
      "\u001b[0;32m/Users/jim/anaconda3/envs/tf-gpu/lib/python3.5/site-packages/tensorflow/python/client/session.py\u001b[0m in \u001b[0;36m__init__\u001b[0;34m(self, graph, fetches, feeds)\u001b[0m\n\u001b[1;32m    406\u001b[0m     \"\"\"\n\u001b[1;32m    407\u001b[0m     \u001b[0;32mwith\u001b[0m \u001b[0mgraph\u001b[0m\u001b[0;34m.\u001b[0m\u001b[0mas_default\u001b[0m\u001b[0;34m(\u001b[0m\u001b[0;34m)\u001b[0m\u001b[0;34m:\u001b[0m\u001b[0;34m\u001b[0m\u001b[0m\n\u001b[0;32m--> 408\u001b[0;31m       \u001b[0mself\u001b[0m\u001b[0;34m.\u001b[0m\u001b[0m_fetch_mapper\u001b[0m \u001b[0;34m=\u001b[0m \u001b[0m_FetchMapper\u001b[0m\u001b[0;34m.\u001b[0m\u001b[0mfor_fetch\u001b[0m\u001b[0;34m(\u001b[0m\u001b[0mfetches\u001b[0m\u001b[0;34m)\u001b[0m\u001b[0;34m\u001b[0m\u001b[0m\n\u001b[0m\u001b[1;32m    409\u001b[0m     \u001b[0mself\u001b[0m\u001b[0;34m.\u001b[0m\u001b[0m_fetches\u001b[0m \u001b[0;34m=\u001b[0m \u001b[0;34m[\u001b[0m\u001b[0;34m]\u001b[0m\u001b[0;34m\u001b[0m\u001b[0m\n\u001b[1;32m    410\u001b[0m     \u001b[0mself\u001b[0m\u001b[0;34m.\u001b[0m\u001b[0m_targets\u001b[0m \u001b[0;34m=\u001b[0m \u001b[0;34m[\u001b[0m\u001b[0;34m]\u001b[0m\u001b[0;34m\u001b[0m\u001b[0m\n",
      "\u001b[0;32m/Users/jim/anaconda3/envs/tf-gpu/lib/python3.5/site-packages/tensorflow/python/client/session.py\u001b[0m in \u001b[0;36mfor_fetch\u001b[0;34m(fetch)\u001b[0m\n\u001b[1;32m    236\u001b[0m         \u001b[0;32mif\u001b[0m \u001b[0misinstance\u001b[0m\u001b[0;34m(\u001b[0m\u001b[0mfetch\u001b[0m\u001b[0;34m,\u001b[0m \u001b[0mtensor_type\u001b[0m\u001b[0;34m)\u001b[0m\u001b[0;34m:\u001b[0m\u001b[0;34m\u001b[0m\u001b[0m\n\u001b[1;32m    237\u001b[0m           \u001b[0mfetches\u001b[0m\u001b[0;34m,\u001b[0m \u001b[0mcontraction_fn\u001b[0m \u001b[0;34m=\u001b[0m \u001b[0mfetch_fn\u001b[0m\u001b[0;34m(\u001b[0m\u001b[0mfetch\u001b[0m\u001b[0;34m)\u001b[0m\u001b[0;34m\u001b[0m\u001b[0m\n\u001b[0;32m--> 238\u001b[0;31m           \u001b[0;32mreturn\u001b[0m \u001b[0m_ElementFetchMapper\u001b[0m\u001b[0;34m(\u001b[0m\u001b[0mfetches\u001b[0m\u001b[0;34m,\u001b[0m \u001b[0mcontraction_fn\u001b[0m\u001b[0;34m)\u001b[0m\u001b[0;34m\u001b[0m\u001b[0m\n\u001b[0m\u001b[1;32m    239\u001b[0m     \u001b[0;31m# Did not find anything.\u001b[0m\u001b[0;34m\u001b[0m\u001b[0;34m\u001b[0m\u001b[0m\n\u001b[1;32m    240\u001b[0m     raise TypeError('Fetch argument %r has invalid type %r' %\n",
      "\u001b[0;32m/Users/jim/anaconda3/envs/tf-gpu/lib/python3.5/site-packages/tensorflow/python/client/session.py\u001b[0m in \u001b[0;36m__init__\u001b[0;34m(self, fetches, contraction_fn)\u001b[0m\n\u001b[1;32m    272\u001b[0m       \u001b[0;32mexcept\u001b[0m \u001b[0mValueError\u001b[0m \u001b[0;32mas\u001b[0m \u001b[0me\u001b[0m\u001b[0;34m:\u001b[0m\u001b[0;34m\u001b[0m\u001b[0m\n\u001b[1;32m    273\u001b[0m         raise ValueError('Fetch argument %r cannot be interpreted as a '\n\u001b[0;32m--> 274\u001b[0;31m                          'Tensor. (%s)' % (fetch, str(e)))\n\u001b[0m\u001b[1;32m    275\u001b[0m       \u001b[0;32mexcept\u001b[0m \u001b[0mKeyError\u001b[0m \u001b[0;32mas\u001b[0m \u001b[0me\u001b[0m\u001b[0;34m:\u001b[0m\u001b[0;34m\u001b[0m\u001b[0m\n\u001b[1;32m    276\u001b[0m         raise ValueError('Fetch argument %r cannot be interpreted as a '\n",
      "\u001b[0;31mValueError\u001b[0m: Fetch argument <tf.Operation 'train_step_transfer' type=NoOp> cannot be interpreted as a Tensor. (Operation name: \"train_step_transfer\"\nop: \"NoOp\"\ninput: \"^train_step_transfer/update_DenseLayer1/kernel/ApplyAdam\"\ninput: \"^train_step_transfer/update_DenseLayer1/bias/ApplyAdam\"\ninput: \"^train_step_transfer/update_DenseLayer2/kernel/ApplyAdam\"\ninput: \"^train_step_transfer/update_DenseLayer2/bias/ApplyAdam\"\ninput: \"^train_step_transfer/Assign\"\ninput: \"^train_step_transfer/Assign_1\"\n is not an element of this graph.)"
     ]
    }
   ],
   "source": [
    "start_time = time.time()\n",
    "\n",
    "# Training loop\n",
    "test_loss = []\n",
    "for epoch in range(EPOCHS):\n",
    "    epoch_start_time = time.time()\n",
    "    \n",
    "    # generate indices for mini_batches\n",
    "    batch_idx = generate_mini_batch_indices(X_train_even_mdl,BATCH_SIZE)\n",
    "    \n",
    "    # process each mini-batch\n",
    "    for i in range(len(batch_idx)):\n",
    "        rand_index = batch_idx[i]\n",
    "        rand_x = X_train_odd_mdl[rand_index]\n",
    "        rand_y = y_train_odd_mdl[rand_index]\n",
    "        for j in range(1):\n",
    "            sess_odd.run(train_step_transfer, \n",
    "                          feed_dict={x_data1: rand_x, \n",
    "                                     y_target1: rand_y,\n",
    "                                     K.learning_phase(): 1})\n",
    "\n",
    "    test_loss = loss.eval(session=sess_odd,feed_dict={x_data1: X_test_odd_mdl, \n",
    "                                  y_target1: y_test_odd_mdl,\n",
    "                                  K.learning_phase():0})\n",
    "    print('Epoch: %d, Epoch time: %.1f, Loss: %.5f' % (epoch+1, time.time() - epoch_start_time, test_loss))\n",
    "    \n",
    "print('\\n\\nTraining time: %.3f (sec)' % (time.time()-start_time))"
   ]
  },
  {
   "cell_type": "code",
   "execution_count": null,
   "metadata": {
    "collapsed": false
   },
   "outputs": [],
   "source": [
    "sess_even"
   ]
  },
  {
   "cell_type": "markdown",
   "metadata": {},
   "source": [
    "## Odd Digit Model - Evaluate Model on Odd Digit Test Data Set"
   ]
  },
  {
   "cell_type": "code",
   "execution_count": null,
   "metadata": {
    "collapsed": false
   },
   "outputs": [],
   "source": [
    "score = getPerformanceMetrics(sess_even,X_test_odd_mdl,y_test_odd_mdl)\n",
    "print('\\nTest Loss:', score['loss'])\n",
    "print('Test accuracy:', score['accuracy'])"
   ]
  },
  {
   "cell_type": "code",
   "execution_count": null,
   "metadata": {
    "collapsed": false,
    "scrolled": true
   },
   "outputs": [],
   "source": [
    "y_hat = np.argmax(y_prob.eval(session=sess_even,feed_dict={x_data:X_test_odd_mdl, K.learning_phase():0}),1)\n",
    "\n",
    "plotDigitGrid(X_test_odd,y_test_odd,idxs_even,y_hat=2*y_hat+1)"
   ]
  },
  {
   "cell_type": "markdown",
   "metadata": {},
   "source": [
    "## Odd Digit Model - Evaluate Even Digit Test Data Set"
   ]
  },
  {
   "cell_type": "code",
   "execution_count": null,
   "metadata": {
    "collapsed": false
   },
   "outputs": [],
   "source": [
    "# report performance on even digit test data set\n",
    "score = getPerformanceMetrics(sess_even,X_test_even_mdl,y_test_even_mdl)\n",
    "print('\\nTest Loss:', score['loss'])\n",
    "print('Test accuracy:', score['accuracy'])"
   ]
  },
  {
   "cell_type": "code",
   "execution_count": null,
   "metadata": {
    "collapsed": false
   },
   "outputs": [],
   "source": [
    "y_hat = np.argmax(y_prob.eval(session=sess_even,feed_dict={x_data:X_test_even_mdl, K.learning_phase():0}),1)\n",
    "\n",
    "plotDigitGrid(X_test_even,y_test_even,idxs_even,y_hat=2*y_hat)"
   ]
  },
  {
   "cell_type": "code",
   "execution_count": null,
   "metadata": {
    "collapsed": false
   },
   "outputs": [],
   "source": [
    "tf.get_collection(tf.GraphKeys.LOSSES)"
   ]
  },
  {
   "cell_type": "code",
   "execution_count": null,
   "metadata": {
    "collapsed": false
   },
   "outputs": [],
   "source": [
    "for v in trainable_layers:\n",
    "    print(v.name)"
   ]
  },
  {
   "cell_type": "code",
   "execution_count": null,
   "metadata": {
    "collapsed": true
   },
   "outputs": [],
   "source": []
  }
 ],
 "metadata": {
  "anaconda-cloud": {},
  "kernelspec": {
   "display_name": "Python [conda env:tf-gpu]",
   "language": "python",
   "name": "conda-env-tf-gpu-py"
  },
  "language_info": {
   "codemirror_mode": {
    "name": "ipython",
    "version": 3
   },
   "file_extension": ".py",
   "mimetype": "text/x-python",
   "name": "python",
   "nbconvert_exporter": "python",
   "pygments_lexer": "ipython3",
   "version": "3.5.2"
  }
 },
 "nbformat": 4,
 "nbformat_minor": 2
}
