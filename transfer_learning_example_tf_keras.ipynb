{
 "cells": [
  {
   "cell_type": "markdown",
   "metadata": {},
   "source": [
    "# Transfer Learning - MNIST Data Set"
   ]
  },
  {
   "cell_type": "markdown",
   "metadata": {},
   "source": [
    "## Overview\n",
    "\n",
    "This notebook illustrates transfer learning using TensorFlow with the Keras API for specifing the CNN architecture.\n",
    "\n",
    "Structure of the notebook:\n",
    "* Obtain the MNIST data set\n",
    "* Split the MNIST data set into even digit data set and odd digit data set\n",
    "* Prepare image data for modeling, one-hot encode the digit label\n",
    "* Define feature detection and classification layers for the CNN model\n",
    "* Train even digit CNN model to recognize even digits and save model structure to disk\n",
    "* Evaluate model performance against even and odd digit test data sets\n",
    "* Create odd digit CNN model structure from the even digit model CNN\n",
    "* Freeze feature detection layers of the odd digit CNN model\n",
    "* Train CNN model with frozen feature detection layer to recognize odd digits\n",
    "* Evaluate model performance against odd and even test data sets"
   ]
  },
  {
   "cell_type": "markdown",
   "metadata": {},
   "source": [
    "## Setup"
   ]
  },
  {
   "cell_type": "code",
   "execution_count": 1,
   "metadata": {
    "collapsed": true
   },
   "outputs": [],
   "source": [
    "# configuration and profiling\n",
    "import time\n",
    "import os\n",
    "\n",
    "# set up backend theano or tensorflow\n",
    "os.environ['KERAS_BACKEND'] = 'tensorflow'\n"
   ]
  },
  {
   "cell_type": "code",
   "execution_count": 2,
   "metadata": {
    "collapsed": false
   },
   "outputs": [
    {
     "name": "stderr",
     "output_type": "stream",
     "text": [
      "Using TensorFlow backend.\n"
     ]
    }
   ],
   "source": [
    "import tensorflow as tf\n",
    "from tensorflow.python.framework import ops\n",
    "\n",
    "# TF specific Keras \n",
    "from keras import backend as K\n",
    "from keras.utils import np_utils\n",
    "from keras import backend as K\n",
    "K.set_image_dim_ordering('tf')\n",
    "\n",
    "import numpy as np"
   ]
  },
  {
   "cell_type": "markdown",
   "metadata": {},
   "source": [
    "## Obtain MNIST Data Set"
   ]
  },
  {
   "cell_type": "code",
   "execution_count": 3,
   "metadata": {
    "collapsed": false
   },
   "outputs": [
    {
     "name": "stdout",
     "output_type": "stream",
     "text": [
      "(60000, 28, 28)\n",
      "(60000,)\n",
      "(10000, 28, 28)\n",
      "(10000,)\n"
     ]
    }
   ],
   "source": [
    "from keras.datasets import mnist\n",
    "\n",
    "# load data\n",
    "(X_train, y_train), (X_test, y_test) = mnist.load_data()\n",
    "print(X_train.shape)\n",
    "print(y_train.shape)\n",
    "print(X_test.shape)\n",
    "print(y_test.shape)\n"
   ]
  },
  {
   "cell_type": "markdown",
   "metadata": {},
   "source": [
    "## Create even/odd data sets"
   ]
  },
  {
   "cell_type": "code",
   "execution_count": 4,
   "metadata": {
    "collapsed": true
   },
   "outputs": [],
   "source": [
    "# split into odd and evens\n",
    "odds = [i for i,j in enumerate(y_train) if j % 2 == 1 ]\n",
    "evens = list(set(range(len(y_train))) - set(odds))\n",
    "\n",
    "X_train_odd = X_train[odds]\n",
    "y_train_odd = y_train[odds]\n",
    "\n",
    "X_train_even = X_train[evens]\n",
    "y_train_even = y_train[evens]\n",
    "\n",
    "# split into odd and evens\n",
    "odds = [i for i,j in enumerate(y_test) if j % 2 == 1 ]\n",
    "evens = list(set(range(len(y_test))) - set(odds))\n",
    "\n",
    "X_test_odd = X_test[odds]\n",
    "y_test_odd = y_test[odds]\n",
    "\n",
    "X_test_even = X_test[evens]\n",
    "y_test_even = y_test[evens]"
   ]
  },
  {
   "cell_type": "markdown",
   "metadata": {},
   "source": [
    "## Prepare data for modeling"
   ]
  },
  {
   "cell_type": "code",
   "execution_count": 5,
   "metadata": {
    "collapsed": true
   },
   "outputs": [],
   "source": [
    "###\n",
    "# function to prepare data for modeling\n",
    "###\n",
    "def prepareFeatureSet(X_in,y_in):\n",
    "    # reshape to be [samples][channels][width][height]\n",
    "    X_out = X_in.reshape(X_in.shape[0], 28, 28, 1).astype('float32')\n",
    "\n",
    "    # normalize inputs from 0-255 to 0-1\n",
    "    X_out = X_out / 255\n",
    "    \n",
    "    #one-hot encode target variable\n",
    "    min_y = min(y_in)\n",
    "    num_classes = len(np.unique(y_in))\n",
    "    y_out = np_utils.to_categorical((y_in-min_y)/2,num_classes)\n",
    "    \n",
    "    return((X_out,y_out))\n",
    "    "
   ]
  },
  {
   "cell_type": "code",
   "execution_count": 6,
   "metadata": {
    "collapsed": false
   },
   "outputs": [],
   "source": [
    "###\n",
    "# Prepare data for modeling\n",
    "###\n",
    "X_train_even_mdl, y_train_even_mdl = prepareFeatureSet(X_train_even,y_train_even)\n",
    "X_test_even_mdl, y_test_even_mdl = prepareFeatureSet(X_test_even, y_test_even)\n",
    "\n",
    "X_train_odd_mdl, y_train_odd_mdl = prepareFeatureSet(X_train_odd,y_train_odd)\n",
    "X_test_odd_mdl, y_test_odd_mdl = prepareFeatureSet(X_test_odd, y_test_odd)"
   ]
  },
  {
   "cell_type": "markdown",
   "metadata": {},
   "source": [
    "## Plot sample images"
   ]
  },
  {
   "cell_type": "code",
   "execution_count": 7,
   "metadata": {
    "collapsed": false
   },
   "outputs": [],
   "source": [
    "%matplotlib inline\n",
    "import matplotlib.pyplot as plt\n",
    "\n",
    "def plotDigitGrid(X,y,idxs,y_hat=None):\n",
    "    plt.figure(figsize=(12,10))\n",
    "\n",
    "    for i in range(len(idxs)):\n",
    "        plt.subplot(5,6,i+1)\n",
    "        \n",
    "        if y_hat is None:\n",
    "            plt.title('Label: {label}'.format(label=y[idxs[i]]))\n",
    "        else:\n",
    "            plt.title(\"Label: {label}  Pred: {pred}\".format(label=y[idxs[i]], pred=y_hat[idxs[i]]))\n",
    "            \n",
    "        plt.imshow(X[idxs[i]], cmap='Greys')\n",
    "        plt.tick_params(\n",
    "            axis='both',          # changes apply to the x-axis and y-axis\n",
    "            which='both',      # both major and minor ticks are affected\n",
    "            bottom='off',      # tick marks on bottom side are off\n",
    "            left='off',        # tick marks on left side are off\n",
    "            labelleft='off',   # label on left side are off\n",
    "            labelbottom='off') # labels along the bottom edge are off\n",
    "\n",
    "    plt.show()\n"
   ]
  },
  {
   "cell_type": "markdown",
   "metadata": {},
   "source": [
    "## Plot Sample Even Digits"
   ]
  },
  {
   "cell_type": "code",
   "execution_count": 8,
   "metadata": {
    "collapsed": false
   },
   "outputs": [
    {
     "data": {
      "image/png": "[encoded data removed]",
      "text/plain": [
       "<matplotlib.figure.Figure at 0x106a92400>"
      ]
     },
     "metadata": {},
     "output_type": "display_data"
    }
   ],
   "source": [
    "np.random.seed(127)\n",
    "idxs_even = np.random.choice(y_test_even.shape[0],30)\n",
    "\n",
    "plotDigitGrid(X_test_even,y_test_even,idxs_even)"
   ]
  },
  {
   "cell_type": "markdown",
   "metadata": {},
   "source": [
    "## Plot Sample Odd Digits"
   ]
  },
  {
   "cell_type": "code",
   "execution_count": 9,
   "metadata": {
    "collapsed": false
   },
   "outputs": [
    {
     "data": {
      "image/png": "[encoded data removed]",
      "text/plain": [
       "<matplotlib.figure.Figure at 0x14fb60780>"
      ]
     },
     "metadata": {},
     "output_type": "display_data"
    }
   ],
   "source": [
    "np.random.seed(127)\n",
    "idxs_odd = np.random.choice(y_test_odd.shape[0],30)\n",
    "\n",
    "plotDigitGrid(X_test_odd,y_test_odd,idxs_odd)"
   ]
  },
  {
   "cell_type": "markdown",
   "metadata": {},
   "source": [
    "## Set up for model training"
   ]
  },
  {
   "cell_type": "code",
   "execution_count": 10,
   "metadata": {
    "collapsed": true
   },
   "outputs": [],
   "source": [
    "###\n",
    "# function to train model\n",
    "###\n",
    "def train_model(model, x_train, y_train, x_test, y_test):\n",
    "    model.compile(loss='categorical_crossentropy',\n",
    "                  optimizer='adadelta',\n",
    "                  metrics=['accuracy'])\n",
    "\n",
    "    t = time.time()\n",
    "    model.fit(x_train, y_train,\n",
    "              batch_size=BATCH_SIZE,\n",
    "              epochs=EPOCHS,\n",
    "              verbose=1,\n",
    "              validation_data=(x_test, y_test))\n",
    "    print('Training time: %.3f (sec)' % (time.time() - t))\n"
   ]
  },
  {
   "cell_type": "code",
   "execution_count": 11,
   "metadata": {
    "collapsed": false
   },
   "outputs": [],
   "source": [
    "# reset computational TF compuationatl graph\n",
    "ops.reset_default_graph()\n",
    "\n",
    "# setup session for the even digit model\n",
    "sess = tf.Session()\n",
    "graph = sess.graph\n",
    "\n",
    "# connect Keras to TF\n",
    "K.set_session(sess)"
   ]
  },
  {
   "cell_type": "markdown",
   "metadata": {},
   "source": [
    "## Define CNN Model architecture"
   ]
  },
  {
   "cell_type": "code",
   "execution_count": 12,
   "metadata": {
    "collapsed": false
   },
   "outputs": [],
   "source": [
    "###\n",
    "# Initialize placeholders\n",
    "###\n",
    "\n",
    "# training image data\n",
    "x_data = tf.placeholder(shape=[None, X_train_even_mdl.shape[1],X_train_even_mdl.shape[2],1], \n",
    "                        dtype=tf.float32,\n",
    "                        name='x_data')\n",
    "\n",
    "# training image category \n",
    "y_target = tf.placeholder(shape=[None, y_train_even_mdl.shape[1]], \n",
    "                          dtype=tf.float32,\n",
    "                         name='y_target')\n",
    "\n",
    "learning_phase = K.learning_phase()"
   ]
  },
  {
   "cell_type": "code",
   "execution_count": 13,
   "metadata": {
    "collapsed": false
   },
   "outputs": [
    {
     "data": {
      "text/plain": [
       "<tf.Tensor 'x_data:0' shape=(?, 28, 28, 1) dtype=float32>"
      ]
     },
     "execution_count": 13,
     "metadata": {},
     "output_type": "execute_result"
    }
   ],
   "source": [
    "x_data"
   ]
  },
  {
   "cell_type": "code",
   "execution_count": 14,
   "metadata": {
    "collapsed": false
   },
   "outputs": [
    {
     "data": {
      "text/plain": [
       "tensorflow.python.framework.ops.Tensor"
      ]
     },
     "execution_count": 14,
     "metadata": {},
     "output_type": "execute_result"
    }
   ],
   "source": [
    "type(x_data)"
   ]
  },
  {
   "cell_type": "code",
   "execution_count": 15,
   "metadata": {
    "collapsed": false
   },
   "outputs": [
    {
     "data": {
      "text/plain": [
       "<tensorflow.python.framework.ops.Graph at 0x14f993ac8>"
      ]
     },
     "execution_count": 15,
     "metadata": {},
     "output_type": "execute_result"
    }
   ],
   "source": [
    "x_data.graph"
   ]
  },
  {
   "cell_type": "code",
   "execution_count": 16,
   "metadata": {
    "collapsed": false
   },
   "outputs": [
    {
     "data": {
      "text/plain": [
       "<tensorflow.python.framework.ops.Graph at 0x14f993ac8>"
      ]
     },
     "execution_count": 16,
     "metadata": {},
     "output_type": "execute_result"
    }
   ],
   "source": [
    "graph"
   ]
  },
  {
   "cell_type": "code",
   "execution_count": 17,
   "metadata": {
    "collapsed": false
   },
   "outputs": [
    {
     "data": {
      "text/plain": [
       "[<tf.Operation 'x_data' type=Placeholder>,\n",
       " <tf.Operation 'y_target' type=Placeholder>,\n",
       " <tf.Operation 'keras_learning_phase' type=Placeholder>]"
      ]
     },
     "execution_count": 17,
     "metadata": {},
     "output_type": "execute_result"
    }
   ],
   "source": [
    "sess.graph.get_operations()"
   ]
  },
  {
   "cell_type": "code",
   "execution_count": 18,
   "metadata": {
    "collapsed": false
   },
   "outputs": [
    {
     "data": {
      "text/plain": [
       "[<tf.Operation 'x_data' type=Placeholder>,\n",
       " <tf.Operation 'y_target' type=Placeholder>,\n",
       " <tf.Operation 'keras_learning_phase' type=Placeholder>]"
      ]
     },
     "execution_count": 18,
     "metadata": {},
     "output_type": "execute_result"
    }
   ],
   "source": [
    "graph.get_operations()"
   ]
  },
  {
   "cell_type": "code",
   "execution_count": 19,
   "metadata": {
    "collapsed": false
   },
   "outputs": [
    {
     "name": "stdout",
     "output_type": "stream",
     "text": [
      "<class 'tensorflow.python.framework.ops.Tensor'>(?, 5)\n"
     ]
    }
   ],
   "source": [
    "from keras.layers import Dense\n",
    "from keras.layers import Dropout\n",
    "from keras.layers import Flatten\n",
    "from keras.layers.convolutional import Convolution2D\n",
    "from keras.layers.convolutional import MaxPooling2D\n",
    "\n",
    "###\n",
    "# Declare model operations\n",
    "###\n",
    "\n",
    "x = Convolution2D(30,5,padding='valid',activation='relu',name='ConvLayer1')(x_data)\n",
    "x = Convolution2D(15,5,activation='relu', name='ConvLayer2')(x)\n",
    "x = MaxPooling2D(pool_size=(2,2), name='MaxPoolLayer1')(x)\n",
    "x = Dropout(0.25)(x)\n",
    "x = Flatten()(x)\n",
    "x = Dense(128,activation='relu',name='DenseLayer1')(x)\n",
    "x = Dropout(0.5)(x)\n",
    "y_prob = Dense(5,activation='softmax',name='DenseLayer2')(x)\n",
    "print(str(type(y_prob)) + str(y_prob.get_shape()))\n"
   ]
  },
  {
   "cell_type": "code",
   "execution_count": 20,
   "metadata": {
    "collapsed": false
   },
   "outputs": [],
   "source": [
    "###\n",
    "# Declare Loss Function (softmax cross entropy)\n",
    "###\n",
    "from keras.objectives import categorical_crossentropy\n",
    "\n",
    "loss = tf.reduce_mean(categorical_crossentropy(y_target,y_prob),name='loss')\n",
    "\n",
    "# optimize the loss - initial training\n",
    "train_step = tf.train.AdamOptimizer(name='train_step').minimize(loss)"
   ]
  },
  {
   "cell_type": "code",
   "execution_count": 21,
   "metadata": {
    "collapsed": false
   },
   "outputs": [
    {
     "data": {
      "text/plain": [
       "tensorflow.python.framework.ops.Operation"
      ]
     },
     "execution_count": 21,
     "metadata": {},
     "output_type": "execute_result"
    }
   ],
   "source": [
    "type(train_step)"
   ]
  },
  {
   "cell_type": "code",
   "execution_count": 22,
   "metadata": {
    "collapsed": false
   },
   "outputs": [
    {
     "data": {
      "text/plain": [
       "tensorflow.python.framework.ops.Tensor"
      ]
     },
     "execution_count": 22,
     "metadata": {},
     "output_type": "execute_result"
    }
   ],
   "source": [
    "type(loss)"
   ]
  },
  {
   "cell_type": "markdown",
   "metadata": {},
   "source": [
    "## Global parameters for training"
   ]
  },
  {
   "cell_type": "code",
   "execution_count": 23,
   "metadata": {
    "collapsed": true
   },
   "outputs": [],
   "source": [
    "BATCH_SIZE = 128\n",
    "\n",
    "EPOCHS = 5\n",
    "\n",
    "# ensure TF reproducibiliy\n",
    "seed = 13\n",
    "np.random.seed(seed)\n",
    "tf.set_random_seed(seed)"
   ]
  },
  {
   "cell_type": "markdown",
   "metadata": {},
   "source": [
    "## Train Even Digit Model"
   ]
  },
  {
   "cell_type": "code",
   "execution_count": 24,
   "metadata": {
    "collapsed": true
   },
   "outputs": [],
   "source": [
    "###\n",
    "# function to generate indices for mini-batches for training\n",
    "###\n",
    "\n",
    "def generate_mini_batch_indices(X,batch_size=5):\n",
    "    \n",
    "    # randomly shuffle the indicies\n",
    "    idx = np.asarray(range(X.shape[0]))\n",
    "    np.random.shuffle(idx)\n",
    "\n",
    "    # determine number of batches to generate\n",
    "    if len(idx) % batch_size == 0:\n",
    "        number_batches = len(idx) // batch_size \n",
    "    else:\n",
    "        # account for the last bit of data\n",
    "        number_batches = len(idx) // batch_size  + 1\n",
    "        \n",
    "    # extract indicies for each mini-batch\n",
    "    index_list = np.array_split(idx,number_batches)\n",
    "        \n",
    "    return(index_list)"
   ]
  },
  {
   "cell_type": "code",
   "execution_count": 25,
   "metadata": {
    "collapsed": false
   },
   "outputs": [
    {
     "name": "stdout",
     "output_type": "stream",
     "text": [
      "Epoch: 1, Epoch time: 14.0, Loss: 0.03020\n",
      "Epoch: 2, Epoch time: 11.8, Loss: 0.02173\n",
      "Epoch: 3, Epoch time: 11.8, Loss: 0.01822\n",
      "Epoch: 4, Epoch time: 11.8, Loss: 0.01406\n",
      "Epoch: 5, Epoch time: 11.8, Loss: 0.01403\n",
      "\n",
      "\n",
      "Training time: 61.597 (sec)\n"
     ]
    }
   ],
   "source": [
    "start_time = time.time()\n",
    "# Initialize variables\n",
    "init = tf.global_variables_initializer()\n",
    "sess.run(init)\n",
    "\n",
    "# Training loop\n",
    "test_loss = []\n",
    "for epoch in range(EPOCHS):\n",
    "    epoch_start_time = time.time()\n",
    "    \n",
    "    # generate indices for mini_batches\n",
    "    batch_idx = generate_mini_batch_indices(X_train_even_mdl,BATCH_SIZE)\n",
    "    \n",
    "    # process each mini-batch\n",
    "    for i in range(len(batch_idx)):\n",
    "        rand_index = batch_idx[i]\n",
    "        rand_x = X_train_even_mdl[rand_index]\n",
    "        rand_y = y_train_even_mdl[rand_index]\n",
    "        for j in range(1):\n",
    "            sess.run(train_step, feed_dict={x_data: rand_x, \n",
    "                                            y_target: rand_y,\n",
    "                                            learning_phase: 1})\n",
    "\n",
    "    test_loss = loss.eval(session=sess,feed_dict={x_data: X_test_even_mdl, \n",
    "                                  y_target: y_test_even_mdl,\n",
    "                                  learning_phase:0})\n",
    "    print('Epoch: %d, Epoch time: %.1f, Loss: %.5f' % (epoch+1, time.time() - epoch_start_time, test_loss))\n",
    "    \n",
    "print('\\n\\nTraining time: %.3f (sec)' % (time.time()-start_time))"
   ]
  },
  {
   "cell_type": "code",
   "execution_count": 26,
   "metadata": {
    "collapsed": false
   },
   "outputs": [
    {
     "name": "stdout",
     "output_type": "stream",
     "text": [
      "ConvLayer1/kernel:0\n",
      "ConvLayer1/bias:0\n",
      "ConvLayer2/kernel:0\n",
      "ConvLayer2/bias:0\n",
      "DenseLayer1/kernel:0\n",
      "DenseLayer1/bias:0\n",
      "DenseLayer2/kernel:0\n",
      "DenseLayer2/bias:0\n"
     ]
    }
   ],
   "source": [
    "for v in tf.get_collection(tf.GraphKeys.TRAINABLE_VARIABLES):\n",
    "    print(v.name)"
   ]
  },
  {
   "cell_type": "code",
   "execution_count": 27,
   "metadata": {
    "collapsed": false
   },
   "outputs": [
    {
     "name": "stdout",
     "output_type": "stream",
     "text": [
      "ConvLayer1/kernel:0\n",
      "[[[[ -2.89665014e-02  -1.74926162e-01  -6.36842996e-02   6.08943775e-02\n",
      "      2.97485143e-02   8.37859288e-02  -4.43010963e-02   8.24616104e-02\n",
      "      7.09884167e-02   4.33609635e-02   6.77912310e-02  -2.31025219e-02\n",
      "     -1.95533596e-02  -5.64767495e-02   7.66349584e-02  -2.25124527e-02\n",
      "     -2.82286410e-03  -6.49666190e-02   6.33300049e-03  -1.65133998e-02\n",
      "      6.49793744e-02   5.22352289e-03  -1.56404264e-02  -3.85028776e-03\n",
      "     -7.57476166e-02   1.42989546e-01  -1.30839869e-01   1.46619737e-01\n",
      "      6.00264547e-03  -4.72099110e-02]]\n",
      "\n",
      "  [[ -1.30577117e-01  -8.88328105e-02   8.31258744e-02   8.87962729e-02\n",
      "     -5.52085377e-02   5.06848395e-02  -2.72261701e-03   7.71692991e-02\n",
      "      1.43569425e-01  -7.34332576e-02   8.10272396e-02  -1.57490492e-01\n",
      "      2.25701872e-02  -1.15513213e-01   5.78759089e-02   7.10010668e-03\n",
      "     -1.75661966e-01  -7.43297115e-02   8.42643064e-03   9.02410075e-02\n",
      "      7.79160485e-02  -3.18553261e-02  -5.63777313e-02   7.20903054e-02\n",
      "     -8.58732536e-02   3.83268334e-02  -1.69393674e-01  -3.38604231e-03\n",
      "      1.04683474e-01   5.26374541e-02]]\n",
      "\n",
      "  [[ -3.98962200e-02  -3.73038240e-02   1.00977518e-01   1.07264854e-01\n",
      "      2.36485805e-02   7.39680827e-02   1.24506980e-01   7.18448609e-02\n",
      "      7.91243464e-02  -4.97334041e-02   2.86930744e-02  -1.57043204e-01\n",
      "      8.37568790e-02  -6.14849664e-02   4.18807156e-02   4.12267409e-02\n",
      "     -1.58165589e-01   2.76428889e-02   6.07246086e-02   7.78858066e-02\n",
      "      5.15381619e-02   9.79224518e-02  -1.17881991e-01   5.60313687e-02\n",
      "     -6.98430687e-02   6.05488010e-02  -2.39675343e-01   8.35318044e-02\n",
      "     -6.14340566e-02  -2.50972696e-02]]\n",
      "\n",
      "  [[  7.15198591e-02   7.40494877e-02   7.53812566e-02   1.00372180e-01\n",
      "      3.14849429e-02  -6.29830286e-02   1.35989398e-01   7.09815696e-02\n",
      "      3.93387377e-02  -1.63808078e-01  -7.07953349e-02  -6.22076988e-02\n",
      "      9.93025377e-02  -1.68721639e-02   1.02939010e-01  -9.48907901e-03\n",
      "     -5.45700043e-02  -8.18749294e-02   5.07918820e-02   1.09184973e-01\n",
      "      5.67547716e-02   2.89543085e-02  -2.88426597e-02   1.52287677e-01\n",
      "      4.55346480e-02   9.32812989e-02  -1.75645992e-01  -1.05422745e-02\n",
      "      6.30002469e-02  -1.60188619e-02]]\n",
      "\n",
      "  [[  3.31725143e-02   1.10371165e-01  -5.04802838e-02   4.97755185e-02\n",
      "      1.07617028e-01   5.13570756e-02   8.74632522e-02   1.27898619e-01\n",
      "      7.59667158e-03  -1.35975093e-01  -1.32135808e-01   3.62050757e-02\n",
      "      1.90867409e-02   1.71556659e-02   1.02566019e-01  -1.01446971e-01\n",
      "     -3.77657451e-02   4.37761843e-02   1.33346155e-01   6.87005147e-02\n",
      "      1.20990753e-01  -2.12083738e-02  -1.82294045e-02   7.84576088e-02\n",
      "      7.85971284e-02   3.97065952e-02  -1.11487024e-01   1.37540149e-02\n",
      "     -9.81964767e-02   2.20211428e-02]]]\n",
      "\n",
      "\n",
      " [[[ -2.62507461e-02  -1.79715335e-01   1.41336420e-03   6.06616437e-02\n",
      "     -7.07686245e-02   1.19678646e-01  -5.12705185e-02  -4.16657627e-02\n",
      "      1.24027312e-01   5.52374721e-02   1.12221636e-01  -4.11691964e-02\n",
      "      1.42734153e-02  -2.97908187e-02   8.27077180e-02  -3.13564017e-02\n",
      "     -6.82607293e-02  -3.25216278e-02  -7.27350712e-02  -6.47433996e-02\n",
      "     -2.76338048e-02   2.46244259e-02  -8.69271755e-02   1.23614840e-01\n",
      "     -7.24085942e-02  -1.74509343e-02  -8.09157267e-02   2.37685759e-02\n",
      "      1.43501937e-01  -9.56721138e-03]]\n",
      "\n",
      "  [[ -1.64257795e-01  -5.64066656e-02   9.31480601e-02  -6.59069121e-02\n",
      "      6.45266324e-02   1.16870426e-01   1.22331575e-01   2.60228198e-02\n",
      "      4.87834625e-02   8.78392905e-02   3.58751677e-02  -1.12522900e-01\n",
      "     -4.82428335e-02  -7.58286864e-02   4.83617224e-02  -4.92016263e-02\n",
      "     -2.22153723e-01  -5.20596355e-02   5.71445888e-03  -6.37576263e-03\n",
      "     -2.44160052e-02   1.68827508e-04  -4.27812971e-02   7.51957074e-02\n",
      "     -6.90071052e-03   3.97406146e-02  -6.07431941e-02   6.47792742e-02\n",
      "      1.20886408e-01  -3.48024964e-02]]\n",
      "\n",
      "  [[ -7.02854395e-02   4.74682786e-02   3.18484120e-02   1.39593176e-05\n",
      "     -3.31466123e-02  -4.79834862e-02   1.62628703e-02   1.39143262e-02\n",
      "      3.40081379e-02  -6.05912656e-02   5.19943871e-02   3.65677588e-02\n",
      "      8.13293010e-02  -1.45797664e-02  -3.39221433e-02   6.58481033e-04\n",
      "     -1.71750590e-01   9.05227009e-03  -2.93306448e-02   3.00859082e-02\n",
      "      8.44140127e-02   5.52155823e-02  -1.02472641e-01   6.83374181e-02\n",
      "      1.17150799e-03   5.16441129e-02  -1.33851916e-01  -1.59226563e-02\n",
      "     -4.13912386e-02   1.77943856e-02]]\n",
      "\n",
      "  [[ -1.11033041e-02   6.46495149e-02  -5.46404310e-02   9.77368429e-02\n",
      "      1.06901728e-01  -6.67792633e-02   1.85121205e-02   3.37222777e-02\n",
      "      1.17781051e-02  -1.36314392e-01   5.26528060e-02  -9.61923376e-02\n",
      "      8.51650015e-02  -6.50960207e-02  -1.85088832e-02   1.40294777e-02\n",
      "     -7.99930096e-02   5.65776452e-02   1.00259237e-01   5.33378273e-02\n",
      "      9.47866216e-02   8.48962590e-02   2.09722668e-02  -1.38367079e-02\n",
      "     -1.21292571e-04   7.15201125e-02  -1.52664110e-01   9.19507593e-02\n",
      "     -4.87883911e-02   1.13831498e-01]]\n",
      "\n",
      "  [[  1.52959570e-01   5.21198921e-02   6.45780712e-02   5.08148186e-02\n",
      "      9.97058079e-02  -2.05322132e-02   1.43235689e-02   8.43094960e-02\n",
      "      6.72756433e-02  -4.87343036e-02   7.17079043e-02   1.01242783e-02\n",
      "      2.56279148e-02  -7.21295774e-02   1.85719784e-02  -5.34239449e-02\n",
      "      7.73147270e-02   2.21691336e-02  -6.08760677e-02   1.60359100e-01\n",
      "      1.26757130e-01   2.23227981e-02   9.56353694e-02  -7.91083574e-02\n",
      "     -1.51323192e-02  -1.89491722e-03  -1.03717886e-01   4.67107631e-02\n",
      "     -1.48994237e-01   6.43320605e-02]]]\n",
      "\n",
      "\n",
      " [[[ -3.25228758e-02  -1.32556453e-01  -2.30570394e-03   7.56733045e-02\n",
      "     -3.33510153e-02   7.26989806e-02   5.18926121e-02  -3.84210534e-02\n",
      "     -3.79284769e-02   1.17794633e-01   5.00283483e-03   5.28225414e-02\n",
      "     -1.25421183e-02  -3.46225239e-02  -1.88874882e-02  -7.15185925e-02\n",
      "     -1.50673062e-01   5.01775183e-02   3.09411138e-02  -3.04445997e-02\n",
      "     -3.34643386e-02   3.87465116e-03   1.86005048e-02   9.61540416e-02\n",
      "     -2.28443388e-02  -1.16453148e-01   1.46382838e-01  -5.69022745e-02\n",
      "      1.36073753e-01  -1.22129433e-02]]\n",
      "\n",
      "  [[ -5.98505102e-02  -1.90102533e-02   1.05541207e-01   6.71001012e-03\n",
      "      4.93773706e-02   1.01508260e-01   2.12816782e-02   6.21463805e-02\n",
      "     -2.67586149e-02   9.46012214e-02  -3.92065011e-02   3.42738777e-02\n",
      "     -8.82891268e-02   3.23392972e-02   7.38262907e-02  -4.38157544e-02\n",
      "     -1.40625119e-01   8.55698064e-02  -5.69836097e-03  -7.06202984e-02\n",
      "     -2.17932276e-02  -5.50451130e-02   9.23648477e-02  -1.11624032e-01\n",
      "     -2.97303870e-02  -1.19041622e-01   3.03031057e-02   2.94612051e-04\n",
      "      1.31361648e-01  -1.41298637e-01]]\n",
      "\n",
      "  [[ -7.04635084e-02   9.27788671e-03   9.92228165e-02  -3.66138108e-02\n",
      "      6.40674755e-02   2.07000598e-02  -7.93928355e-02   7.64757337e-04\n",
      "      4.44792621e-02  -5.40479869e-02   1.06014445e-01  -2.42777765e-02\n",
      "     -3.46331745e-02   8.33958536e-02   8.18968692e-04  -5.57704046e-02\n",
      "     -3.66049297e-02  -4.75293808e-02   7.68015087e-02  -4.05740030e-02\n",
      "     -8.10182095e-03   3.62413898e-02   5.86325210e-03  -1.52784422e-01\n",
      "     -3.88190895e-02  -1.25990227e-01   5.76548316e-02  -2.74676662e-02\n",
      "     -1.34263067e-02  -5.77653274e-02]]\n",
      "\n",
      "  [[ -5.78412376e-02   7.55196661e-02  -5.42236231e-02  -1.00169168e-03\n",
      "     -3.01021356e-02   5.73056005e-03  -1.35835603e-01   5.88486083e-02\n",
      "      6.09673113e-02  -3.20592523e-02  -5.16742095e-03  -4.64293137e-02\n",
      "     -1.70218982e-02   3.73056508e-03   4.02898202e-03   1.18904442e-01\n",
      "      6.95638508e-02   7.64743192e-03  -8.35204124e-02   2.85150893e-02\n",
      "      3.81408483e-02   1.99015994e-05   4.90356833e-02  -1.62962243e-01\n",
      "     -2.68226173e-02  -2.64620297e-02  -1.62362158e-02   2.97790337e-02\n",
      "     -1.47600129e-01   5.60901985e-02]]\n",
      "\n",
      "  [[  1.79135680e-01  -4.12150882e-02  -5.02290204e-02  -5.26944064e-02\n",
      "      2.76690535e-02  -4.14602533e-02  -5.35969920e-02   7.30940551e-02\n",
      "      5.62044270e-02  -4.60729636e-02   9.52160060e-02   9.18990448e-02\n",
      "      5.45363203e-02  -2.70090736e-02   3.17556709e-02   6.73808530e-02\n",
      "      4.15777266e-02   7.36813173e-02   1.05038006e-02  -9.75489896e-03\n",
      "      1.33723348e-01  -1.83379035e-02   1.08698986e-01  -1.86102718e-01\n",
      "      9.76795703e-02   1.03436776e-01   4.21002470e-02   4.94589619e-02\n",
      "     -6.52840957e-02   7.84528032e-02]]]\n",
      "\n",
      "\n",
      " [[[ -7.31909797e-02  -9.41569954e-02  -2.64039487e-02   4.28890176e-02\n",
      "     -5.05599240e-03   2.66576950e-02   3.32852751e-02  -2.86609456e-02\n",
      "     -7.64487088e-02   1.08673155e-01   2.34388579e-02   1.11834884e-01\n",
      "     -1.27963081e-01  -7.09159821e-02  -9.97447968e-03  -4.59047593e-02\n",
      "     -7.45544806e-02   5.83658591e-02   1.76017527e-02  -1.37320176e-01\n",
      "      6.17170939e-03  -3.03467805e-03   8.04710835e-02  -1.35065168e-01\n",
      "      6.96789026e-02  -1.54728293e-01   2.78244540e-02  -4.40951716e-03\n",
      "      9.22593288e-03  -4.59067784e-02]]\n",
      "\n",
      "  [[ -8.41397941e-02   8.33912939e-02   3.48993205e-02  -9.53467861e-02\n",
      "      7.19623547e-03  -8.11820403e-02  -1.10489503e-01  -6.75020814e-02\n",
      "     -7.27620497e-02   1.39800742e-01  -6.44076988e-02  -7.28975702e-03\n",
      "     -7.78848529e-02   7.22542703e-02  -4.24517579e-02   9.69440266e-02\n",
      "     -2.01392379e-02  -5.41591533e-02  -5.17347977e-02  -1.37307793e-02\n",
      "     -1.00786567e-01   4.77236025e-02  -1.14864726e-02  -2.75315363e-02\n",
      "     -8.08632225e-02  -5.55776358e-02   4.07078080e-02  -3.23040187e-02\n",
      "      6.50946572e-02  -7.90614337e-02]]\n",
      "\n",
      "  [[ -1.52307704e-01  -7.38846650e-03   1.85856223e-02  -9.94284898e-02\n",
      "      6.18474744e-02  -8.87118727e-02  -1.09129906e-01  -1.01468258e-01\n",
      "     -1.31557956e-02  -1.81503757e-03  -4.70312126e-02   5.36941364e-02\n",
      "      2.03656945e-02   1.33554161e-01  -4.01069559e-02   1.10402405e-01\n",
      "      3.64889801e-02   1.07411377e-01  -7.15254322e-02  -8.25329497e-02\n",
      "     -1.28713906e-01   7.69256279e-02  -1.74239650e-02  -1.05552115e-01\n",
      "      2.73475982e-02  -4.76167649e-02   1.46973610e-01  -1.22043625e-01\n",
      "     -6.75276220e-02  -1.63439251e-02]]\n",
      "\n",
      "  [[  4.16794270e-02   2.41071973e-02  -3.58985178e-02   3.52403782e-02\n",
      "      9.64989364e-02   8.10121372e-03  -4.94216606e-02  -9.58241001e-02\n",
      "     -9.05777439e-02   1.01136379e-01  -3.05299610e-02   5.89445531e-02\n",
      "     -3.29718366e-02   1.26846671e-01  -3.38838473e-02   5.05571999e-02\n",
      "      1.17790334e-01   1.17612846e-01  -6.10302389e-02  -6.35158084e-03\n",
      "     -4.41737063e-02  -5.95970452e-02  -9.41963866e-03  -6.44178763e-02\n",
      "     -3.47388536e-02  -6.53098449e-02   1.52375624e-01  -8.01247060e-02\n",
      "     -4.09852602e-02  -3.16627771e-02]]\n",
      "\n",
      "  [[  4.01240513e-02   5.34147676e-03  -1.28294393e-01  -9.36857518e-03\n",
      "      3.57159860e-02  -1.30697209e-02  -3.11674289e-02  -2.40256879e-02\n",
      "     -1.26777843e-01   1.73658747e-02  -5.59117720e-02   1.11215571e-02\n",
      "      1.11631379e-01  -3.75881642e-02  -1.18273810e-01   4.57467027e-02\n",
      "      7.05012009e-02   6.65718317e-02  -1.06378920e-01   8.11624750e-02\n",
      "      5.74024357e-02  -1.19422071e-01   7.53807053e-02   8.58277362e-03\n",
      "      4.65633720e-02  -4.41275090e-02   7.61319771e-02   7.46207833e-02\n",
      "     -2.15778984e-02   3.45712975e-02]]]\n",
      "\n",
      "\n",
      " [[[  1.90329365e-02   1.64277256e-02   1.66571047e-02  -2.84998241e-04\n",
      "     -8.87247324e-02  -5.65346368e-02  -1.66856535e-02   2.11099964e-02\n",
      "      4.17460836e-02   1.99683663e-02  -7.49615654e-02  -1.50143625e-02\n",
      "     -6.69832975e-02  -7.46783288e-03   6.10071234e-03   5.87570108e-02\n",
      "     -8.63416120e-02   3.55797559e-02   1.48606092e-01   2.72403546e-02\n",
      "     -1.39880642e-01  -1.54975764e-02   2.17044968e-02  -6.19565882e-02\n",
      "      2.97221541e-02   3.82685512e-02   3.66650932e-02  -3.57423685e-02\n",
      "      2.95229703e-02   7.26792440e-02]]\n",
      "\n",
      "  [[  2.66302619e-02   1.18090130e-01   4.69132029e-02  -7.70051777e-02\n",
      "      2.36017257e-02   2.20147129e-02   1.68279614e-02  -1.08046368e-01\n",
      "     -1.39670402e-01   1.22959202e-03  -6.04547262e-02   1.07020199e-01\n",
      "      2.66093407e-02   4.74215336e-02  -9.43658799e-02   8.83401483e-02\n",
      "      5.11903577e-02   4.62277643e-02   1.06965907e-01  -1.00618787e-01\n",
      "      2.45361240e-03   4.50226758e-03  -4.94771898e-02   5.98628819e-02\n",
      "     -7.70288482e-02   1.45177273e-02   2.42229085e-02  -1.10522293e-01\n",
      "      7.93167427e-02   3.70049737e-02]]\n",
      "\n",
      "  [[ -1.28861263e-01   3.35555896e-02  -9.04168561e-02  -2.54564639e-02\n",
      "     -4.49779555e-02  -1.79727357e-02  -3.02103837e-03  -8.85019526e-02\n",
      "     -1.56194836e-01   3.64402495e-02  -2.79173627e-02   4.79070880e-02\n",
      "     -7.34263882e-02   6.33985624e-02  -1.65709987e-01   8.50227475e-02\n",
      "      4.16860096e-02  -2.44036168e-02  -1.00886866e-01  -1.90442316e-02\n",
      "     -1.10793486e-01   2.37505399e-02   2.09351890e-02   4.21088189e-02\n",
      "      7.17457011e-02  -1.78028494e-02  -3.39021496e-02   2.41231155e-02\n",
      "     -8.97351932e-03  -7.14762211e-02]]\n",
      "\n",
      "  [[ -2.86642183e-02   8.55272785e-02  -9.40966308e-02  -7.43177831e-02\n",
      "     -2.13289522e-02  -3.67402798e-03   3.62302177e-02  -9.98945460e-02\n",
      "     -9.37025025e-02   8.48958045e-02  -3.85236256e-02  -8.50885827e-03\n",
      "     -1.18408846e-02   1.09368436e-01  -9.97868031e-02   8.02608281e-02\n",
      "      9.29629058e-02   8.49120691e-02  -3.47049022e-03  -3.33295539e-02\n",
      "     -6.20860793e-02  -5.87334707e-02   2.03191899e-02   7.84316137e-02\n",
      "      5.78573681e-02  -4.48956490e-02   1.38147399e-01  -7.35973492e-02\n",
      "     -6.18064366e-02   6.18164428e-02]]\n",
      "\n",
      "  [[  1.45526573e-01  -1.21300230e-02  -1.92371774e-02   4.71183024e-02\n",
      "     -8.70197639e-02   2.36576162e-02   1.05873318e-02   5.14791068e-03\n",
      "     -8.33914503e-02   7.35075995e-02   2.50143129e-02   8.04405585e-02\n",
      "      1.03222877e-01   7.80240819e-02  -9.64841396e-02   5.96769489e-02\n",
      "      9.51925367e-02   2.59755924e-02  -2.71836389e-02   1.75554734e-02\n",
      "     -5.89392669e-02  -1.41626775e-01   8.11464190e-02   1.12417400e-01\n",
      "      8.40451717e-02  -7.95557275e-02  -2.17893953e-03  -5.84128238e-02\n",
      "      7.19782785e-02   7.40962923e-02]]]]\n",
      "ConvLayer1/bias:0\n",
      "[-0.0003165  -0.00594421 -0.02073651 -0.0087138   0.01201634  0.00418506\n",
      "  0.00312518  0.00388793  0.03306156  0.013899    0.00092452  0.02199312\n",
      " -0.02192148  0.0300042   0.0067895   0.01437774  0.03104536  0.00480889\n",
      " -0.00060364  0.00963423  0.02192657 -0.00769062  0.00858226  0.04081189\n",
      " -0.01949769  0.07276616  0.02347448  0.01289275  0.02278144 -0.00435068]\n"
     ]
    }
   ],
   "source": [
    "weight_var = tf.get_collection(tf.GraphKeys.TRAINABLE_VARIABLES,'ConvLayer1')\n",
    "for v in weight_var:\n",
    "    print(v.name)\n",
    "    print(sess.run(v))"
   ]
  },
  {
   "cell_type": "markdown",
   "metadata": {},
   "source": [
    "## Save Even Digit Model"
   ]
  },
  {
   "cell_type": "code",
   "execution_count": 28,
   "metadata": {
    "collapsed": false
   },
   "outputs": [
    {
     "data": {
      "text/plain": [
       "'./even_digit_model_tf_keras-1000'"
      ]
     },
     "execution_count": 28,
     "metadata": {},
     "output_type": "execute_result"
    }
   ],
   "source": [
    "###\n",
    "# save model to disk\n",
    "###\n",
    "#Create a saver object which will save all the variables\n",
    "saver = tf.train.Saver()\n",
    "\n",
    "saver.save(sess, './even_digit_model_tf_keras',global_step=1000)"
   ]
  },
  {
   "cell_type": "markdown",
   "metadata": {},
   "source": [
    "## Even Digit Model - Evaluate Model on Even Digit Test Data Set"
   ]
  },
  {
   "cell_type": "code",
   "execution_count": 29,
   "metadata": {
    "collapsed": true
   },
   "outputs": [],
   "source": [
    "# function to return model performance\n",
    "def getPerformanceMetrics(sess,X,y):\n",
    "    y_prob = sess.graph.get_tensor_by_name('y_prob:0')\n",
    "    loss = sess.graph.get_tensor_by_name('y_prob:0')\n",
    "    learning_phase = sess.graph.get_tensor_by_name('keras_learning_phase:0')\n",
    "    \n",
    "    yhat = y_prob.eval(session=sess,feed_dict={x_data:X, learning_phase:0})\n",
    "    correct_prediction = tf.equal(tf.argmax(y,1), tf.argmax(yhat,1))\n",
    "    accuracy = tf.reduce_mean(tf.cast(correct_prediction, tf.float32))\n",
    "    \n",
    "    accuracy_value = accuracy.eval(session=sess,feed_dict={x_data: X,\n",
    "                                                          learning_phase:0})\n",
    "    \n",
    "    loss_value = loss.eval(session=sess,feed_dict={x_data: X, \n",
    "                                  y_target: y,\n",
    "                                  K.learning_phase():0})\n",
    "    \n",
    "    return({'accuracy': accuracy_value, 'loss': loss_value})\n",
    "    "
   ]
  },
  {
   "cell_type": "markdown",
   "metadata": {
    "collapsed": false
   },
   "source": [
    "# function to return model performance\n",
    "def getPerformanceMetrics(sess,X,y):\n",
    "    yhat = y_prob.eval(session=sess,feed_dict={x_data:X, learning_phase:0})\n",
    "    correct_prediction = tf.equal(tf.argmax(y,1), tf.argmax(yhat,1))\n",
    "    accuracy = tf.reduce_mean(tf.cast(correct_prediction, tf.float32))\n",
    "    \n",
    "    accuracy_value = accuracy.eval(session=sess,feed_dict={x_data: X,\n",
    "                                                          learning_phase:0})\n",
    "    \n",
    "    loss_value = loss.eval(session=sess,feed_dict={x_data: X, \n",
    "                                  y_target: y,\n",
    "                                  K.learning_phase():0})\n",
    "    \n",
    "    return({'accuracy': accuracy_value, 'loss': loss_value})\n",
    "    "
   ]
  },
  {
   "cell_type": "code",
   "execution_count": 30,
   "metadata": {
    "collapsed": false
   },
   "outputs": [
    {
     "ename": "KeyError",
     "evalue": "\"The name 'y_prob:0' refers to a Tensor which does not exist. The operation, 'y_prob', does not exist in the graph.\"",
     "output_type": "error",
     "traceback": [
      "\u001b[0;31m---------------------------------------------------------------------------\u001b[0m",
      "\u001b[0;31mKeyError\u001b[0m                                  Traceback (most recent call last)",
      "\u001b[0;32m<ipython-input-30-bc2f50319cfc>\u001b[0m in \u001b[0;36m<module>\u001b[0;34m()\u001b[0m\n\u001b[0;32m----> 1\u001b[0;31m \u001b[0mscore\u001b[0m \u001b[0;34m=\u001b[0m \u001b[0mgetPerformanceMetrics\u001b[0m\u001b[0;34m(\u001b[0m\u001b[0msess\u001b[0m\u001b[0;34m,\u001b[0m\u001b[0mX_test_even_mdl\u001b[0m\u001b[0;34m,\u001b[0m\u001b[0my_test_even_mdl\u001b[0m\u001b[0;34m)\u001b[0m\u001b[0;34m\u001b[0m\u001b[0m\n\u001b[0m\u001b[1;32m      2\u001b[0m \u001b[0mprint\u001b[0m\u001b[0;34m(\u001b[0m\u001b[0;34m'\\nTest Loss:'\u001b[0m\u001b[0;34m,\u001b[0m \u001b[0mscore\u001b[0m\u001b[0;34m[\u001b[0m\u001b[0;34m'loss'\u001b[0m\u001b[0;34m]\u001b[0m\u001b[0;34m)\u001b[0m\u001b[0;34m\u001b[0m\u001b[0m\n\u001b[1;32m      3\u001b[0m \u001b[0mprint\u001b[0m\u001b[0;34m(\u001b[0m\u001b[0;34m'Test accuracy:'\u001b[0m\u001b[0;34m,\u001b[0m \u001b[0mscore\u001b[0m\u001b[0;34m[\u001b[0m\u001b[0;34m'accuracy'\u001b[0m\u001b[0;34m]\u001b[0m\u001b[0;34m)\u001b[0m\u001b[0;34m\u001b[0m\u001b[0m\n",
      "\u001b[0;32m<ipython-input-29-28decccae587>\u001b[0m in \u001b[0;36mgetPerformanceMetrics\u001b[0;34m(sess, X, y)\u001b[0m\n\u001b[1;32m      1\u001b[0m \u001b[0;31m# function to return model performance\u001b[0m\u001b[0;34m\u001b[0m\u001b[0;34m\u001b[0m\u001b[0m\n\u001b[1;32m      2\u001b[0m \u001b[0;32mdef\u001b[0m \u001b[0mgetPerformanceMetrics\u001b[0m\u001b[0;34m(\u001b[0m\u001b[0msess\u001b[0m\u001b[0;34m,\u001b[0m\u001b[0mX\u001b[0m\u001b[0;34m,\u001b[0m\u001b[0my\u001b[0m\u001b[0;34m)\u001b[0m\u001b[0;34m:\u001b[0m\u001b[0;34m\u001b[0m\u001b[0m\n\u001b[0;32m----> 3\u001b[0;31m     \u001b[0my_prob\u001b[0m \u001b[0;34m=\u001b[0m \u001b[0msess\u001b[0m\u001b[0;34m.\u001b[0m\u001b[0mgraph\u001b[0m\u001b[0;34m.\u001b[0m\u001b[0mget_tensor_by_name\u001b[0m\u001b[0;34m(\u001b[0m\u001b[0;34m'y_prob:0'\u001b[0m\u001b[0;34m)\u001b[0m\u001b[0;34m\u001b[0m\u001b[0m\n\u001b[0m\u001b[1;32m      4\u001b[0m     \u001b[0mloss\u001b[0m \u001b[0;34m=\u001b[0m \u001b[0msess\u001b[0m\u001b[0;34m.\u001b[0m\u001b[0mgraph\u001b[0m\u001b[0;34m.\u001b[0m\u001b[0mget_tensor_by_name\u001b[0m\u001b[0;34m(\u001b[0m\u001b[0;34m'y_prob:0'\u001b[0m\u001b[0;34m)\u001b[0m\u001b[0;34m\u001b[0m\u001b[0m\n\u001b[1;32m      5\u001b[0m     \u001b[0mlearning_phase\u001b[0m \u001b[0;34m=\u001b[0m \u001b[0msess\u001b[0m\u001b[0;34m.\u001b[0m\u001b[0mgraph\u001b[0m\u001b[0;34m.\u001b[0m\u001b[0mget_tensor_by_name\u001b[0m\u001b[0;34m(\u001b[0m\u001b[0;34m'keras_learning_phase:0'\u001b[0m\u001b[0;34m)\u001b[0m\u001b[0;34m\u001b[0m\u001b[0m\n",
      "\u001b[0;32m/Users/jim/anaconda3/envs/tf-gpu/lib/python3.5/site-packages/tensorflow/python/framework/ops.py\u001b[0m in \u001b[0;36mget_tensor_by_name\u001b[0;34m(self, name)\u001b[0m\n\u001b[1;32m   2552\u001b[0m       raise TypeError(\"Tensor names are strings (or similar), not %s.\"\n\u001b[1;32m   2553\u001b[0m                       % type(name).__name__)\n\u001b[0;32m-> 2554\u001b[0;31m     \u001b[0;32mreturn\u001b[0m \u001b[0mself\u001b[0m\u001b[0;34m.\u001b[0m\u001b[0mas_graph_element\u001b[0m\u001b[0;34m(\u001b[0m\u001b[0mname\u001b[0m\u001b[0;34m,\u001b[0m \u001b[0mallow_tensor\u001b[0m\u001b[0;34m=\u001b[0m\u001b[0;32mTrue\u001b[0m\u001b[0;34m,\u001b[0m \u001b[0mallow_operation\u001b[0m\u001b[0;34m=\u001b[0m\u001b[0;32mFalse\u001b[0m\u001b[0;34m)\u001b[0m\u001b[0;34m\u001b[0m\u001b[0m\n\u001b[0m\u001b[1;32m   2555\u001b[0m \u001b[0;34m\u001b[0m\u001b[0m\n\u001b[1;32m   2556\u001b[0m   \u001b[0;32mdef\u001b[0m \u001b[0m_next_id\u001b[0m\u001b[0;34m(\u001b[0m\u001b[0mself\u001b[0m\u001b[0;34m)\u001b[0m\u001b[0;34m:\u001b[0m\u001b[0;34m\u001b[0m\u001b[0m\n",
      "\u001b[0;32m/Users/jim/anaconda3/envs/tf-gpu/lib/python3.5/site-packages/tensorflow/python/framework/ops.py\u001b[0m in \u001b[0;36mas_graph_element\u001b[0;34m(self, obj, allow_tensor, allow_operation)\u001b[0m\n\u001b[1;32m   2403\u001b[0m \u001b[0;34m\u001b[0m\u001b[0m\n\u001b[1;32m   2404\u001b[0m     \u001b[0;32mwith\u001b[0m \u001b[0mself\u001b[0m\u001b[0;34m.\u001b[0m\u001b[0m_lock\u001b[0m\u001b[0;34m:\u001b[0m\u001b[0;34m\u001b[0m\u001b[0m\n\u001b[0;32m-> 2405\u001b[0;31m       \u001b[0;32mreturn\u001b[0m \u001b[0mself\u001b[0m\u001b[0;34m.\u001b[0m\u001b[0m_as_graph_element_locked\u001b[0m\u001b[0;34m(\u001b[0m\u001b[0mobj\u001b[0m\u001b[0;34m,\u001b[0m \u001b[0mallow_tensor\u001b[0m\u001b[0;34m,\u001b[0m \u001b[0mallow_operation\u001b[0m\u001b[0;34m)\u001b[0m\u001b[0;34m\u001b[0m\u001b[0m\n\u001b[0m\u001b[1;32m   2406\u001b[0m \u001b[0;34m\u001b[0m\u001b[0m\n\u001b[1;32m   2407\u001b[0m   \u001b[0;32mdef\u001b[0m \u001b[0m_as_graph_element_locked\u001b[0m\u001b[0;34m(\u001b[0m\u001b[0mself\u001b[0m\u001b[0;34m,\u001b[0m \u001b[0mobj\u001b[0m\u001b[0;34m,\u001b[0m \u001b[0mallow_tensor\u001b[0m\u001b[0;34m,\u001b[0m \u001b[0mallow_operation\u001b[0m\u001b[0;34m)\u001b[0m\u001b[0;34m:\u001b[0m\u001b[0;34m\u001b[0m\u001b[0m\n",
      "\u001b[0;32m/Users/jim/anaconda3/envs/tf-gpu/lib/python3.5/site-packages/tensorflow/python/framework/ops.py\u001b[0m in \u001b[0;36m_as_graph_element_locked\u001b[0;34m(self, obj, allow_tensor, allow_operation)\u001b[0m\n\u001b[1;32m   2445\u001b[0m           raise KeyError(\"The name %s refers to a Tensor which does not \"\n\u001b[1;32m   2446\u001b[0m                          \u001b[0;34m\"exist. The operation, %s, does not exist in the \"\u001b[0m\u001b[0;34m\u001b[0m\u001b[0m\n\u001b[0;32m-> 2447\u001b[0;31m                          \"graph.\" % (repr(name), repr(op_name)))\n\u001b[0m\u001b[1;32m   2448\u001b[0m         \u001b[0;32mtry\u001b[0m\u001b[0;34m:\u001b[0m\u001b[0;34m\u001b[0m\u001b[0m\n\u001b[1;32m   2449\u001b[0m           \u001b[0;32mreturn\u001b[0m \u001b[0mop\u001b[0m\u001b[0;34m.\u001b[0m\u001b[0moutputs\u001b[0m\u001b[0;34m[\u001b[0m\u001b[0mout_n\u001b[0m\u001b[0;34m]\u001b[0m\u001b[0;34m\u001b[0m\u001b[0m\n",
      "\u001b[0;31mKeyError\u001b[0m: \"The name 'y_prob:0' refers to a Tensor which does not exist. The operation, 'y_prob', does not exist in the graph.\""
     ]
    }
   ],
   "source": [
    "score = getPerformanceMetrics(sess,X_test_even_mdl,y_test_even_mdl)\n",
    "print('\\nTest Loss:', score['loss'])\n",
    "print('Test accuracy:', score['accuracy'])"
   ]
  },
  {
   "cell_type": "code",
   "execution_count": null,
   "metadata": {
    "collapsed": false
   },
   "outputs": [],
   "source": [
    "y_hat = np.argmax(y_prob.eval(session=sess,feed_dict={x_data:X_test_even_mdl, K.learning_phase():0}),1)\n",
    "\n",
    "plotDigitGrid(X_test_even,y_test_even,idxs_even,y_hat=2*y_hat)"
   ]
  },
  {
   "cell_type": "markdown",
   "metadata": {},
   "source": [
    "## Even Digit Model - Evaluate Model on Odd Digit Test Data Set"
   ]
  },
  {
   "cell_type": "code",
   "execution_count": null,
   "metadata": {
    "collapsed": false
   },
   "outputs": [],
   "source": [
    "score = getPerformanceMetrics(sess,X_test_odd_mdl,y_test_odd_mdl)\n",
    "print('\\nTest Loss:', score['loss'])\n",
    "print('Test accuracy:', score['accuracy'])"
   ]
  },
  {
   "cell_type": "code",
   "execution_count": null,
   "metadata": {
    "collapsed": false
   },
   "outputs": [],
   "source": [
    "y_hat = np.argmax(y_prob.eval(session=sess,feed_dict={x_data:X_test_odd_mdl, K.learning_phase():0}),1)\n",
    "\n",
    "plotDigitGrid(X_test_odd,y_test_odd,idxs_even,y_hat=2*y_hat+1)"
   ]
  },
  {
   "cell_type": "markdown",
   "metadata": {},
   "source": [
    "## Transfer Learning\n",
    "## Initialize Odd Digit Model from Even Digit Model"
   ]
  },
  {
   "cell_type": "code",
   "execution_count": null,
   "metadata": {
    "collapsed": true
   },
   "outputs": [],
   "source": [
    "###\n",
    "# recerate model structure\n",
    "###\n",
    "\n",
    "# reset computational TF compuationatl graph\n",
    "ops.reset_default_graph()"
   ]
  },
  {
   "cell_type": "code",
   "execution_count": null,
   "metadata": {
    "collapsed": true
   },
   "outputs": [],
   "source": [
    "sess = tf.Session()"
   ]
  },
  {
   "cell_type": "code",
   "execution_count": null,
   "metadata": {
    "collapsed": true
   },
   "outputs": [],
   "source": [
    "K.set_session(sess)"
   ]
  },
  {
   "cell_type": "code",
   "execution_count": null,
   "metadata": {
    "collapsed": false
   },
   "outputs": [],
   "source": [
    "#First let's load meta graph and restore weights\n",
    "saver = tf.train.import_meta_graph('even_digit_model_tf_keras-1000.meta')\n",
    "saver.restore(sess,tf.train.latest_checkpoint('./'))"
   ]
  },
  {
   "cell_type": "code",
   "execution_count": null,
   "metadata": {
    "collapsed": false
   },
   "outputs": [],
   "source": [
    "sess.graph"
   ]
  },
  {
   "cell_type": "code",
   "execution_count": null,
   "metadata": {
    "collapsed": false
   },
   "outputs": [],
   "source": [
    "tf.get_default_graph()"
   ]
  },
  {
   "cell_type": "markdown",
   "metadata": {},
   "source": [
    "## Report Structure on Odd Digit Model Structure"
   ]
  },
  {
   "cell_type": "code",
   "execution_count": null,
   "metadata": {
    "collapsed": false
   },
   "outputs": [],
   "source": [
    "for v in tf.get_collection(tf.GraphKeys.TRAINABLE_VARIABLES):\n",
    "    print(v.name)"
   ]
  },
  {
   "cell_type": "code",
   "execution_count": null,
   "metadata": {
    "collapsed": false
   },
   "outputs": [],
   "source": [
    "for v in tf.get_collection(tf.GraphKeys.TRAIN_OP):\n",
    "    print(v.name)"
   ]
  },
  {
   "cell_type": "code",
   "execution_count": null,
   "metadata": {
    "collapsed": false
   },
   "outputs": [],
   "source": [
    "graph = sess.graph\n",
    "\n",
    "\n",
    "###\n",
    "# Restablish placeholder\n",
    "###\n",
    "\n",
    "# Input data\n",
    "x_data = graph.get_tensor_by_name(\"x_data:0\")\n",
    "print(type(x_data))\n",
    "\n",
    "# output\n",
    "y_target = graph.get_tensor_by_name(\"y_target:0\")\n",
    "print(type(y_target))\n",
    "\n",
    "learning_phase = graph.get_tensor_by_name('keras_learning_phase:0')\n",
    "print(type(learning_phase))"
   ]
  },
  {
   "cell_type": "code",
   "execution_count": null,
   "metadata": {
    "collapsed": false
   },
   "outputs": [],
   "source": [
    "# optimize the loss - initial training\n",
    "loss = graph.get_tensor_by_name('loss:0')\n",
    "train_step = graph.get_operation_by_name('train_step')"
   ]
  },
  {
   "cell_type": "code",
   "execution_count": null,
   "metadata": {
    "collapsed": false
   },
   "outputs": [],
   "source": [
    "type(train_step)"
   ]
  },
  {
   "cell_type": "code",
   "execution_count": null,
   "metadata": {
    "collapsed": false
   },
   "outputs": [],
   "source": [
    "type(loss)"
   ]
  },
  {
   "cell_type": "code",
   "execution_count": null,
   "metadata": {
    "collapsed": false
   },
   "outputs": [],
   "source": [
    "x_data.graph"
   ]
  },
  {
   "cell_type": "code",
   "execution_count": null,
   "metadata": {
    "collapsed": false
   },
   "outputs": [],
   "source": [
    "graph.get_operations()"
   ]
  },
  {
   "cell_type": "markdown",
   "metadata": {},
   "source": [
    "## Freeze Feature Detection Layers"
   ]
  },
  {
   "cell_type": "markdown",
   "metadata": {},
   "source": [
    "## Train Odd Digit Model"
   ]
  },
  {
   "cell_type": "code",
   "execution_count": null,
   "metadata": {
    "collapsed": false
   },
   "outputs": [],
   "source": [
    "start_time = time.time()\n",
    "\n",
    "# Training loop\n",
    "test_loss = []\n",
    "for epoch in range(EPOCHS):\n",
    "    epoch_start_time = time.time()\n",
    "    \n",
    "    # generate indices for mini_batches\n",
    "    batch_idx = generate_mini_batch_indices(X_train_even_mdl,BATCH_SIZE)\n",
    "    \n",
    "    # process each mini-batch\n",
    "    for i in range(len(batch_idx)):\n",
    "        rand_index = batch_idx[i]\n",
    "        rand_x = X_train_odd_mdl[rand_index]\n",
    "        rand_y = y_train_odd_mdl[rand_index]\n",
    "        for j in range(1):\n",
    "            sess.run(train_step, \n",
    "                          feed_dict={x_data: rand_x, \n",
    "                                     y_target: rand_y,\n",
    "                                     learning_phase: 1})\n",
    "\n",
    "    test_loss = loss.eval(session=sess,\n",
    "                          feed_dict={x_data: X_test_odd_mdl, \n",
    "                                  y_target: y_test_odd_mdl,\n",
    "                                  learning_phase:0})\n",
    "    print('Epoch: %d, Epoch time: %.1f, Loss: %.5f' % (epoch+1, time.time() - epoch_start_time, test_loss))\n",
    "    \n",
    "print('\\n\\nTraining time: %.3f (sec)' % (time.time()-start_time))"
   ]
  },
  {
   "cell_type": "code",
   "execution_count": null,
   "metadata": {
    "collapsed": false
   },
   "outputs": [],
   "source": [
    "# function to return model performance\n",
    "def getPerformanceMetrics(sess,X,y):\n",
    "    yhat = y_prob.eval(session=sess,feed_dict={x_data:X, learning_phase:0})\n",
    "    correct_prediction = tf.equal(tf.argmax(y,1), tf.argmax(yhat,1))\n",
    "    accuracy = tf.reduce_mean(tf.cast(correct_prediction, tf.float32))\n",
    "    \n",
    "    accuracy_value = accuracy.eval(session=sess,feed_dict={x_data: X,\n",
    "                                                          learning_phase:0})\n",
    "    \n",
    "    loss_value = loss.eval(session=sess,feed_dict={x_data: X, \n",
    "                                  y_target: y,\n",
    "                                  K.learning_phase():0})\n",
    "    \n",
    "    return({'accuracy': accuracy_value, 'loss': loss_value})\n",
    "    "
   ]
  },
  {
   "cell_type": "markdown",
   "metadata": {},
   "source": [
    "## Odd Digit Model - Evaluate Model on Odd Digit Test Data Set"
   ]
  },
  {
   "cell_type": "code",
   "execution_count": null,
   "metadata": {
    "collapsed": false
   },
   "outputs": [],
   "source": [
    "score = getPerformanceMetrics(sess,X_test_odd_mdl,y_test_odd_mdl)\n",
    "print('\\nTest Loss:', score['loss'])\n",
    "print('Test accuracy:', score['accuracy'])"
   ]
  },
  {
   "cell_type": "code",
   "execution_count": null,
   "metadata": {
    "collapsed": false
   },
   "outputs": [],
   "source": [
    "y_hat = np.argmax(y_prob.eval(session=sess,feed_dict={x_data:X_test_odd_mdl, K.learning_phase():0}),1)\n",
    "\n",
    "plotDigitGrid(X_test_odd,y_test_odd,idxs_even,y_hat=2*y_hat+1)"
   ]
  },
  {
   "cell_type": "markdown",
   "metadata": {},
   "source": [
    "## Odd Digit Model - Evaluate Even Digit Test Data Set"
   ]
  },
  {
   "cell_type": "code",
   "execution_count": null,
   "metadata": {
    "collapsed": false
   },
   "outputs": [],
   "source": [
    "# report performance on even digit test data set\n",
    "score = getPerformanceMetrics(sess,X_test_even_mdl,y_test_even_mdl)\n",
    "print('\\nTest Loss:', score['loss'])\n",
    "print('Test accuracy:', score['accuracy'])"
   ]
  },
  {
   "cell_type": "code",
   "execution_count": null,
   "metadata": {
    "collapsed": false
   },
   "outputs": [],
   "source": [
    "y_hat = np.argmax(y_prob.eval(session=sess,feed_dict={x_data:X_test_even_mdl, K.learning_phase():0}),1)\n",
    "\n",
    "plotDigitGrid(X_test_even,y_test_even,idxs_even,y_hat=2*y_hat)"
   ]
  }
 ],
 "metadata": {
  "anaconda-cloud": {},
  "kernelspec": {
   "display_name": "Python [conda env:tf-gpu]",
   "language": "python",
   "name": "conda-env-tf-gpu-py"
  },
  "language_info": {
   "codemirror_mode": {
    "name": "ipython",
    "version": 3
   },
   "file_extension": ".py",
   "mimetype": "text/x-python",
   "name": "python",
   "nbconvert_exporter": "python",
   "pygments_lexer": "ipython3",
   "version": "3.5.2"
  }
 },
 "nbformat": 4,
 "nbformat_minor": 2
}
