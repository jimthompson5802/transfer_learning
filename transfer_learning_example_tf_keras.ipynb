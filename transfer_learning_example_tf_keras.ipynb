{
 "cells": [
  {
   "cell_type": "markdown",
   "metadata": {},
   "source": [
    "# Transfer Learning - MNIST Data Set"
   ]
  },
  {
   "cell_type": "markdown",
   "metadata": {},
   "source": [
    "## Overview\n",
    "\n",
    "This notebook illustrates transfer learning using TensorFlow with the Keras API for specifing the CNN architecture.\n",
    "\n",
    "Structure of the notebook:\n",
    "* Obtain the MNIST data set\n",
    "* Split the MNIST data set into even digit data set and odd digit data set\n",
    "* Prepare image data for modeling, one-hot encode the digit label\n",
    "* Define feature detection and classification layers for the CNN model\n",
    "* Train even digit CNN model to recognize even digits and save model structure to disk\n",
    "* Evaluate model performance against even and odd digit test data sets\n",
    "* Create odd digit CNN model structure from the even digit model CNN\n",
    "* Freeze feature detection layers of the odd digit CNN model\n",
    "* Train CNN model with frozen feature detection layer to recognize odd digits\n",
    "* Evaluate model performance against odd and even test data sets"
   ]
  },
  {
   "cell_type": "markdown",
   "metadata": {},
   "source": [
    "## Setup"
   ]
  },
  {
   "cell_type": "code",
   "execution_count": 49,
   "metadata": {
    "collapsed": true
   },
   "outputs": [],
   "source": [
    "# configuration and profiling\n",
    "import time\n",
    "import os\n",
    "\n",
    "# set up backend theano or tensorflow\n",
    "os.environ['KERAS_BACKEND'] = 'tensorflow'\n"
   ]
  },
  {
   "cell_type": "code",
   "execution_count": 50,
   "metadata": {
    "collapsed": false
   },
   "outputs": [],
   "source": [
    "import tensorflow as tf\n",
    "from tensorflow.python.framework import ops\n",
    "\n",
    "# TF specific Keras \n",
    "from keras import backend as K\n",
    "from keras.utils import np_utils\n",
    "from keras import backend as K\n",
    "K.set_image_dim_ordering('tf')\n",
    "\n",
    "import numpy as np"
   ]
  },
  {
   "cell_type": "markdown",
   "metadata": {},
   "source": [
    "## Obtain MNIST Data Set"
   ]
  },
  {
   "cell_type": "code",
   "execution_count": 51,
   "metadata": {
    "collapsed": false
   },
   "outputs": [
    {
     "name": "stdout",
     "output_type": "stream",
     "text": [
      "(60000, 28, 28)\n",
      "(60000,)\n",
      "(10000, 28, 28)\n",
      "(10000,)\n"
     ]
    }
   ],
   "source": [
    "from keras.datasets import mnist\n",
    "\n",
    "# load data\n",
    "(X_train, y_train), (X_test, y_test) = mnist.load_data()\n",
    "print(X_train.shape)\n",
    "print(y_train.shape)\n",
    "print(X_test.shape)\n",
    "print(y_test.shape)\n"
   ]
  },
  {
   "cell_type": "markdown",
   "metadata": {},
   "source": [
    "## Create even/odd data sets"
   ]
  },
  {
   "cell_type": "code",
   "execution_count": 52,
   "metadata": {
    "collapsed": true
   },
   "outputs": [],
   "source": [
    "# split into odd and evens\n",
    "odds = [i for i,j in enumerate(y_train) if j % 2 == 1 ]\n",
    "evens = list(set(range(len(y_train))) - set(odds))\n",
    "\n",
    "X_train_odd = X_train[odds]\n",
    "y_train_odd = y_train[odds]\n",
    "\n",
    "X_train_even = X_train[evens]\n",
    "y_train_even = y_train[evens]\n",
    "\n",
    "# split into odd and evens\n",
    "odds = [i for i,j in enumerate(y_test) if j % 2 == 1 ]\n",
    "evens = list(set(range(len(y_test))) - set(odds))\n",
    "\n",
    "X_test_odd = X_test[odds]\n",
    "y_test_odd = y_test[odds]\n",
    "\n",
    "X_test_even = X_test[evens]\n",
    "y_test_even = y_test[evens]"
   ]
  },
  {
   "cell_type": "markdown",
   "metadata": {},
   "source": [
    "## Prepare data for modeling"
   ]
  },
  {
   "cell_type": "code",
   "execution_count": 53,
   "metadata": {
    "collapsed": true
   },
   "outputs": [],
   "source": [
    "###\n",
    "# function to prepare data for modeling\n",
    "###\n",
    "def prepareFeatureSet(X_in,y_in):\n",
    "    # reshape to be [samples][channels][width][height]\n",
    "    X_out = X_in.reshape(X_in.shape[0], 28, 28, 1).astype('float32')\n",
    "\n",
    "    # normalize inputs from 0-255 to 0-1\n",
    "    X_out = X_out / 255\n",
    "    \n",
    "    #one-hot encode target variable\n",
    "    min_y = min(y_in)\n",
    "    num_classes = len(np.unique(y_in))\n",
    "    y_out = np_utils.to_categorical((y_in-min_y)/2,num_classes)\n",
    "    \n",
    "    return((X_out,y_out))\n",
    "    "
   ]
  },
  {
   "cell_type": "code",
   "execution_count": 54,
   "metadata": {
    "collapsed": false
   },
   "outputs": [],
   "source": [
    "###\n",
    "# Prepare data for modeling\n",
    "###\n",
    "X_train_even_mdl, y_train_even_mdl = prepareFeatureSet(X_train_even,y_train_even)\n",
    "X_test_even_mdl, y_test_even_mdl = prepareFeatureSet(X_test_even, y_test_even)\n",
    "\n",
    "X_train_odd_mdl, y_train_odd_mdl = prepareFeatureSet(X_train_odd,y_train_odd)\n",
    "X_test_odd_mdl, y_test_odd_mdl = prepareFeatureSet(X_test_odd, y_test_odd)"
   ]
  },
  {
   "cell_type": "markdown",
   "metadata": {},
   "source": [
    "## Plot sample images"
   ]
  },
  {
   "cell_type": "code",
   "execution_count": 55,
   "metadata": {
    "collapsed": false
   },
   "outputs": [],
   "source": [
    "%matplotlib inline\n",
    "import matplotlib.pyplot as plt\n",
    "\n",
    "def plotDigitGrid(X,y,idxs,y_hat=None):\n",
    "    plt.figure(figsize=(12,10))\n",
    "\n",
    "    for i in range(len(idxs)):\n",
    "        plt.subplot(5,6,i+1)\n",
    "        \n",
    "        if y_hat is None:\n",
    "            plt.title('Label: {label}'.format(label=y[idxs[i]]))\n",
    "        else:\n",
    "            plt.title(\"Label: {label}  Pred: {pred}\".format(label=y[idxs[i]], pred=y_hat[idxs[i]]))\n",
    "            \n",
    "        plt.imshow(X[idxs[i]], cmap='Greys')\n",
    "        plt.tick_params(\n",
    "            axis='both',          # changes apply to the x-axis and y-axis\n",
    "            which='both',      # both major and minor ticks are affected\n",
    "            bottom='off',      # tick marks on bottom side are off\n",
    "            left='off',        # tick marks on left side are off\n",
    "            labelleft='off',   # label on left side are off\n",
    "            labelbottom='off') # labels along the bottom edge are off\n",
    "\n",
    "    plt.show()\n"
   ]
  },
  {
   "cell_type": "markdown",
   "metadata": {},
   "source": [
    "## Plot Sample Even Digits"
   ]
  },
  {
   "cell_type": "code",
   "execution_count": 56,
   "metadata": {
    "collapsed": false
   },
   "outputs": [
    {
     "data": {
      "image/png": "[encoded data removed]",
      "text/plain": [
       "<matplotlib.figure.Figure at 0x1503b4e48>"
      ]
     },
     "metadata": {},
     "output_type": "display_data"
    }
   ],
   "source": [
    "np.random.seed(127)\n",
    "idxs_even = np.random.choice(y_test_even.shape[0],30)\n",
    "\n",
    "plotDigitGrid(X_test_even,y_test_even,idxs_even)"
   ]
  },
  {
   "cell_type": "markdown",
   "metadata": {},
   "source": [
    "## Plot Sample Odd Digits"
   ]
  },
  {
   "cell_type": "code",
   "execution_count": 57,
   "metadata": {
    "collapsed": false
   },
   "outputs": [
    {
     "data": {
      "image/png": "[encoded data removed]",
      "text/plain": [
       "<matplotlib.figure.Figure at 0x150066860>"
      ]
     },
     "metadata": {},
     "output_type": "display_data"
    }
   ],
   "source": [
    "np.random.seed(127)\n",
    "idxs_odd = np.random.choice(y_test_odd.shape[0],30)\n",
    "\n",
    "plotDigitGrid(X_test_odd,y_test_odd,idxs_odd)"
   ]
  },
  {
   "cell_type": "markdown",
   "metadata": {},
   "source": [
    "## Set up for model training"
   ]
  },
  {
   "cell_type": "code",
   "execution_count": 58,
   "metadata": {
    "collapsed": true
   },
   "outputs": [],
   "source": [
    "###\n",
    "# function to train model\n",
    "###\n",
    "def train_model(model, x_train, y_train, x_test, y_test):\n",
    "    model.compile(loss='categorical_crossentropy',\n",
    "                  optimizer='adadelta',\n",
    "                  metrics=['accuracy'])\n",
    "\n",
    "    t = time.time()\n",
    "    model.fit(x_train, y_train,\n",
    "              batch_size=BATCH_SIZE,\n",
    "              epochs=EPOCHS,\n",
    "              verbose=1,\n",
    "              validation_data=(x_test, y_test))\n",
    "    print('Training time: %.3f (sec)' % (time.time() - t))\n"
   ]
  },
  {
   "cell_type": "code",
   "execution_count": 59,
   "metadata": {
    "collapsed": false
   },
   "outputs": [],
   "source": [
    "# reset computational TF compuationatl graph\n",
    "ops.reset_default_graph()\n",
    "\n",
    "# setup session for the even digit model\n",
    "sess = tf.Session()\n",
    "\n",
    "# connect Keras to TF\n",
    "#K.set_session(sess)"
   ]
  },
  {
   "cell_type": "markdown",
   "metadata": {},
   "source": [
    "## Define CNN Model architecture"
   ]
  },
  {
   "cell_type": "code",
   "execution_count": 60,
   "metadata": {
    "collapsed": false
   },
   "outputs": [],
   "source": [
    "###\n",
    "# Initialize placeholders\n",
    "###\n",
    "\n",
    "# training image data\n",
    "x_data = tf.placeholder(shape=[None, X_train_even_mdl.shape[1],X_train_even_mdl.shape[2],1], \n",
    "                        dtype=tf.float32,\n",
    "                        name='x_data')\n",
    "\n",
    "# training image category \n",
    "y_target = tf.placeholder(shape=[None, y_train_even_mdl.shape[1]], \n",
    "                          dtype=tf.float32,\n",
    "                         name='y_target')"
   ]
  },
  {
   "cell_type": "code",
   "execution_count": 61,
   "metadata": {
    "collapsed": false
   },
   "outputs": [
    {
     "data": {
      "text/plain": [
       "tensorflow.python.framework.ops.Tensor"
      ]
     },
     "execution_count": 61,
     "metadata": {},
     "output_type": "execute_result"
    }
   ],
   "source": [
    "type(x_data)"
   ]
  },
  {
   "cell_type": "code",
   "execution_count": 63,
   "metadata": {
    "collapsed": false
   },
   "outputs": [
    {
     "data": {
      "text/plain": [
       "'x_data:0'"
      ]
     },
     "execution_count": 63,
     "metadata": {},
     "output_type": "execute_result"
    }
   ],
   "source": [
    "x_data.name"
   ]
  },
  {
   "cell_type": "code",
   "execution_count": 64,
   "metadata": {
    "collapsed": false
   },
   "outputs": [
    {
     "name": "stdout",
     "output_type": "stream",
     "text": [
      "<class 'tensorflow.python.framework.ops.Tensor'>(?, 5)\n"
     ]
    }
   ],
   "source": [
    "from keras.layers import Dense\n",
    "from keras.layers import Dropout\n",
    "from keras.layers import Flatten\n",
    "from keras.layers.convolutional import Convolution2D\n",
    "from keras.layers.convolutional import MaxPooling2D\n",
    "\n",
    "###\n",
    "# Declare model operations\n",
    "###\n",
    "\n",
    "x = Convolution2D(30,5,padding='valid',activation='relu',name='ConvLayer1')(x_data)\n",
    "x = Convolution2D(15,5,activation='relu', name='ConvLayer2')(x)\n",
    "x = MaxPooling2D(pool_size=(2,2), name='MaxPoolLayer1')(x)\n",
    "x = Dropout(0.25)(x)\n",
    "x = Flatten()(x)\n",
    "x = Dense(128,activation='relu',name='DenseLayer1')(x)\n",
    "x = Dropout(0.5)(x)\n",
    "y_prob = Dense(5,activation='softmax',name='DenseLayer2')(x)\n",
    "print(str(type(y_prob)) + str(y_prob.get_shape()))\n"
   ]
  },
  {
   "cell_type": "code",
   "execution_count": 65,
   "metadata": {
    "collapsed": false
   },
   "outputs": [],
   "source": [
    "###\n",
    "# Declare Loss Function (softmax cross entropy)\n",
    "###\n",
    "from keras.objectives import categorical_crossentropy\n",
    "\n",
    "loss = tf.reduce_mean(categorical_crossentropy(y_target,y_prob),name='loss')\n",
    "\n",
    "# optimize the loss - initial training\n",
    "train_step = tf.train.AdamOptimizer(name='train_step').minimize(loss)"
   ]
  },
  {
   "cell_type": "code",
   "execution_count": 66,
   "metadata": {
    "collapsed": false
   },
   "outputs": [
    {
     "data": {
      "text/plain": [
       "tensorflow.python.framework.ops.Operation"
      ]
     },
     "execution_count": 66,
     "metadata": {},
     "output_type": "execute_result"
    }
   ],
   "source": [
    "type(train_step)"
   ]
  },
  {
   "cell_type": "code",
   "execution_count": 67,
   "metadata": {
    "collapsed": false
   },
   "outputs": [
    {
     "data": {
      "text/plain": [
       "tensorflow.python.framework.ops.Tensor"
      ]
     },
     "execution_count": 67,
     "metadata": {},
     "output_type": "execute_result"
    }
   ],
   "source": [
    "type(loss)"
   ]
  },
  {
   "cell_type": "markdown",
   "metadata": {},
   "source": [
    "## Global parameters for training"
   ]
  },
  {
   "cell_type": "code",
   "execution_count": 68,
   "metadata": {
    "collapsed": true
   },
   "outputs": [],
   "source": [
    "BATCH_SIZE = 128\n",
    "\n",
    "EPOCHS = 5\n",
    "\n",
    "# ensure TF reproducibiliy\n",
    "seed = 13\n",
    "np.random.seed(seed)\n",
    "tf.set_random_seed(seed)"
   ]
  },
  {
   "cell_type": "markdown",
   "metadata": {},
   "source": [
    "## Train Even Digit Model"
   ]
  },
  {
   "cell_type": "code",
   "execution_count": 69,
   "metadata": {
    "collapsed": true
   },
   "outputs": [],
   "source": [
    "###\n",
    "# function to generate indices for mini-batches for training\n",
    "###\n",
    "\n",
    "def generate_mini_batch_indices(X,batch_size=5):\n",
    "    \n",
    "    # randomly shuffle the indicies\n",
    "    idx = np.asarray(range(X.shape[0]))\n",
    "    np.random.shuffle(idx)\n",
    "\n",
    "    # determine number of batches to generate\n",
    "    if len(idx) % batch_size == 0:\n",
    "        number_batches = len(idx) // batch_size \n",
    "    else:\n",
    "        # account for the last bit of data\n",
    "        number_batches = len(idx) // batch_size  + 1\n",
    "        \n",
    "    # extract indicies for each mini-batch\n",
    "    index_list = np.array_split(idx,number_batches)\n",
    "        \n",
    "    return(index_list)"
   ]
  },
  {
   "cell_type": "code",
   "execution_count": 70,
   "metadata": {
    "collapsed": false
   },
   "outputs": [
    {
     "name": "stdout",
     "output_type": "stream",
     "text": [
      "Epoch: 1, Epoch time: 12.8, Loss: 0.03135\n",
      "Epoch: 2, Epoch time: 12.5, Loss: 0.02139\n",
      "Epoch: 3, Epoch time: 12.5, Loss: 0.01821\n",
      "Epoch: 4, Epoch time: 12.5, Loss: 0.01410\n",
      "Epoch: 5, Epoch time: 12.6, Loss: 0.01762\n",
      "\n",
      "\n",
      "Training time: 63.123 (sec)\n"
     ]
    }
   ],
   "source": [
    "start_time = time.time()\n",
    "# Initialize variables\n",
    "init = tf.global_variables_initializer()\n",
    "sess.run(init)\n",
    "\n",
    "# Training loop\n",
    "test_loss = []\n",
    "for epoch in range(EPOCHS):\n",
    "    epoch_start_time = time.time()\n",
    "    \n",
    "    # generate indices for mini_batches\n",
    "    batch_idx = generate_mini_batch_indices(X_train_even_mdl,BATCH_SIZE)\n",
    "    \n",
    "    # process each mini-batch\n",
    "    for i in range(len(batch_idx)):\n",
    "        rand_index = batch_idx[i]\n",
    "        rand_x = X_train_even_mdl[rand_index]\n",
    "        rand_y = y_train_even_mdl[rand_index]\n",
    "        for j in range(1):\n",
    "            sess.run(train_step, feed_dict={x_data: rand_x, \n",
    "                                            y_target: rand_y,\n",
    "                                            K.learning_phase(): 1})\n",
    "\n",
    "    test_loss = loss.eval(session=sess,feed_dict={x_data: X_test_even_mdl, \n",
    "                                  y_target: y_test_even_mdl,\n",
    "                                  K.learning_phase():0})\n",
    "    print('Epoch: %d, Epoch time: %.1f, Loss: %.5f' % (epoch+1, time.time() - epoch_start_time, test_loss))\n",
    "    \n",
    "print('\\n\\nTraining time: %.3f (sec)' % (time.time()-start_time))"
   ]
  },
  {
   "cell_type": "code",
   "execution_count": 71,
   "metadata": {
    "collapsed": false
   },
   "outputs": [
    {
     "name": "stdout",
     "output_type": "stream",
     "text": [
      "ConvLayer1/kernel:0\n",
      "ConvLayer1/bias:0\n",
      "ConvLayer2/kernel:0\n",
      "ConvLayer2/bias:0\n",
      "DenseLayer1/kernel:0\n",
      "DenseLayer1/bias:0\n",
      "DenseLayer2/kernel:0\n",
      "DenseLayer2/bias:0\n"
     ]
    }
   ],
   "source": [
    "for v in tf.get_collection(tf.GraphKeys.TRAINABLE_VARIABLES):\n",
    "    print(v.name)"
   ]
  },
  {
   "cell_type": "code",
   "execution_count": 72,
   "metadata": {
    "collapsed": false
   },
   "outputs": [
    {
     "name": "stdout",
     "output_type": "stream",
     "text": [
      "ConvLayer1/kernel:0\n",
      "[[[[  5.20303333e-03  -1.60228103e-01  -5.71182035e-02   6.18787520e-02\n",
      "      4.09855396e-02   8.01590011e-02  -5.33045121e-02   8.67988318e-02\n",
      "      6.86213821e-02   4.65028919e-02   6.91235214e-02  -1.64093506e-02\n",
      "     -1.39291370e-02  -3.81125398e-02   7.73466155e-02  -2.07077377e-02\n",
      "      3.84773035e-03  -5.95881604e-02   4.29071393e-03  -4.78463806e-03\n",
      "      6.82049692e-02   7.23834382e-04  -1.87346023e-02   2.46583251e-03\n",
      "     -7.18295202e-02   1.33744434e-01  -1.24307580e-01   1.47302330e-01\n",
      "      2.95536185e-04  -3.74161713e-02]]\n",
      "\n",
      "  [[ -1.12626895e-01  -8.78385603e-02   8.78386721e-02   9.28983837e-02\n",
      "     -5.01518697e-02   4.58695628e-02  -1.31655708e-02   8.31653029e-02\n",
      "      1.43773109e-01  -7.31986240e-02   8.24495107e-02  -1.52347088e-01\n",
      "      2.50546280e-02  -1.05495773e-01   5.80405444e-02   9.54282749e-03\n",
      "     -1.67683676e-01  -7.39744529e-02   3.72538180e-03   9.61933807e-02\n",
      "      8.27022195e-02  -3.03434003e-02  -5.56275696e-02   7.65670240e-02\n",
      "     -8.36550817e-02   3.00653763e-02  -1.46894872e-01   2.54527596e-03\n",
      "      9.89353433e-02   5.92951104e-02]]\n",
      "\n",
      "  [[ -4.25558798e-02  -4.05585803e-02   1.02327675e-01   1.07670672e-01\n",
      "      3.07587199e-02   6.90998361e-02   1.18228219e-01   7.83285648e-02\n",
      "      8.30240399e-02  -5.01470752e-02   2.63919216e-02  -1.49776280e-01\n",
      "      8.37476328e-02  -5.79552576e-02   3.93192209e-02   3.99749167e-02\n",
      "     -1.61215425e-01   3.09242569e-02   5.44311814e-02   7.85192549e-02\n",
      "      5.34763597e-02   9.91605520e-02  -1.16485484e-01   5.77550866e-02\n",
      "     -6.80176392e-02   5.62110841e-02  -2.36552238e-01   8.86078253e-02\n",
      "     -6.65060207e-02  -1.94642264e-02]]\n",
      "\n",
      "  [[  6.39304444e-02   7.71907717e-02   7.60569498e-02   1.02375932e-01\n",
      "      3.57215628e-02  -6.17743470e-02   1.29921511e-01   7.36699849e-02\n",
      "      4.02509309e-02  -1.63966507e-01  -7.68019333e-02  -5.77697381e-02\n",
      "      9.91333053e-02  -1.49160875e-02   1.04756817e-01  -9.26684588e-03\n",
      "     -5.61522357e-02  -7.60058388e-02   4.76673543e-02   1.07734896e-01\n",
      "      5.73314987e-02   3.40879634e-02  -3.46670859e-02   1.50468424e-01\n",
      "      4.70319726e-02   8.56242776e-02  -1.85540915e-01  -2.08898145e-03\n",
      "      6.16776198e-02  -1.78493075e-02]]\n",
      "\n",
      "  [[  2.58868784e-02   1.16584077e-01  -4.29828577e-02   5.31500168e-02\n",
      "      1.13970093e-01   5.58303408e-02   8.39772969e-02   1.25962988e-01\n",
      "      2.61543877e-03  -1.42971888e-01  -1.38843268e-01   4.57231626e-02\n",
      "      2.01826617e-02   1.88190881e-02   1.05630055e-01  -1.03112385e-01\n",
      "     -3.59145813e-02   4.98103425e-02   1.36589184e-01   6.71297833e-02\n",
      "      1.19371980e-01  -8.97876266e-03  -2.52074171e-02   7.37300962e-02\n",
      "      7.97700584e-02   2.96625607e-02  -1.17808983e-01   1.97486877e-02\n",
      "     -1.00399241e-01   1.93227921e-02]]]\n",
      "\n",
      "\n",
      " [[[  1.09383427e-02  -1.63603172e-01  -7.47478160e-04   6.36235550e-02\n",
      "     -6.28242493e-02   1.20597243e-01  -5.77862486e-02  -3.89953628e-02\n",
      "      1.23793282e-01   5.69353439e-02   1.10410191e-01  -4.34447862e-02\n",
      "      1.75175052e-02  -2.11944096e-02   8.60299245e-02  -1.77678503e-02\n",
      "     -5.54097258e-02  -2.71548107e-02  -8.17984119e-02  -6.15322143e-02\n",
      "     -2.56650709e-02   2.45699845e-02  -8.73586982e-02   1.21181406e-01\n",
      "     -6.41738549e-02  -3.43020223e-02  -7.86689669e-02   1.80368386e-02\n",
      "      1.39498845e-01   1.82479096e-04]]\n",
      "\n",
      "  [[ -1.60481289e-01  -5.35336919e-02   8.91625956e-02  -6.02488890e-02\n",
      "      7.32404590e-02   1.17276996e-01   1.15488462e-01   3.07043772e-02\n",
      "      5.23715541e-02   8.66641775e-02   3.62286903e-02  -1.15358017e-01\n",
      "     -4.69866097e-02  -7.62445927e-02   4.68781702e-02  -4.02792171e-02\n",
      "     -2.15662032e-01  -4.86991704e-02  -1.64935924e-03  -6.12719916e-03\n",
      "     -2.03000195e-02   2.86784908e-03  -4.38236669e-02   7.69514963e-02\n",
      "     -6.02431479e-04   3.33207808e-02  -4.89043184e-02   6.62779212e-02\n",
      "      1.13847822e-01  -2.37377360e-02]]\n",
      "\n",
      "  [[ -8.19158778e-02   4.69330885e-02   2.85582691e-02   2.76027387e-03\n",
      "     -2.41330732e-02  -5.12844585e-02   1.27860485e-02   1.68166421e-02\n",
      "      3.41300108e-02  -6.03101738e-02   5.48422858e-02   4.26009372e-02\n",
      "      8.53530914e-02  -1.36959525e-02  -3.52646932e-02   6.34323852e-03\n",
      "     -1.78529724e-01   1.76813621e-02  -3.44286263e-02   2.72806548e-02\n",
      "      8.66938904e-02   5.53961657e-02  -1.03958890e-01   7.33320788e-02\n",
      "      4.18602582e-03   4.59448285e-02  -1.28327563e-01  -6.50497060e-03\n",
      "     -4.82946709e-02   2.05908027e-02]]\n",
      "\n",
      "  [[ -1.76160745e-02   6.69546500e-02  -5.76578677e-02   9.67144445e-02\n",
      "      1.12134792e-01  -7.50314891e-02   1.53140686e-02   3.28645036e-02\n",
      "      5.85649861e-03  -1.41756058e-01   5.24650253e-02  -9.05638784e-02\n",
      "      8.70466009e-02  -6.29370138e-02  -1.89060867e-02   1.75879635e-02\n",
      "     -8.42141956e-02   6.40346631e-02   9.83454436e-02   5.26076518e-02\n",
      "      9.72547531e-02   8.66894946e-02   1.98646020e-02  -6.95892423e-03\n",
      "     -1.24221609e-03   6.82801083e-02  -1.55253410e-01   9.89373997e-02\n",
      "     -5.47254160e-02   1.08457014e-01]]\n",
      "\n",
      "  [[  1.48789614e-01   5.57609983e-02   6.86539114e-02   5.17615713e-02\n",
      "      1.04841173e-01  -2.48262044e-02   7.59973982e-03   8.14231038e-02\n",
      "      5.91149405e-02  -5.49619049e-02   7.13798627e-02   1.97567530e-02\n",
      "      2.59705242e-02  -6.87141493e-02   1.69337671e-02  -5.04559055e-02\n",
      "      7.84009695e-02   2.92582177e-02  -6.37823790e-02   1.58728078e-01\n",
      "      1.27353549e-01   2.88784634e-02   9.26573128e-02  -8.43696520e-02\n",
      "     -1.52214533e-02  -6.21888926e-03  -9.51721966e-02   5.05450927e-02\n",
      "     -1.56467617e-01   6.00033775e-02]]]\n",
      "\n",
      "\n",
      " [[[ -1.13790610e-03  -1.26152575e-01  -6.77514123e-03   7.63259232e-02\n",
      "     -2.85657458e-02   6.83411732e-02   4.79268767e-02  -4.26757634e-02\n",
      "     -3.47876027e-02   1.20106496e-01   2.73944624e-03   4.95399721e-02\n",
      "     -7.70949898e-03  -3.05242203e-02  -2.05195360e-02  -5.93337230e-02\n",
      "     -1.43322155e-01   5.54017574e-02   2.16426216e-02  -2.68229116e-02\n",
      "     -3.09257284e-02   3.94387404e-03   2.05064863e-02   8.88874680e-02\n",
      "     -2.04149596e-02  -1.26761213e-01   1.48433372e-01  -5.69970794e-02\n",
      "      1.33177474e-01  -3.79867409e-03]]\n",
      "\n",
      "  [[ -7.01037124e-02  -1.75507497e-02   9.76699665e-02   1.21696983e-02\n",
      "      5.38203008e-02   1.02659874e-01   1.75454430e-02   6.20340221e-02\n",
      "     -3.15582901e-02   9.71812904e-02  -3.97003703e-02   3.13250534e-02\n",
      "     -8.54166076e-02   3.58909294e-02   7.18458071e-02  -3.73061746e-02\n",
      "     -1.42775670e-01   8.89783427e-02  -7.22400472e-03  -6.58406094e-02\n",
      "     -1.68492030e-02  -5.70236780e-02   9.56237465e-02  -1.14370517e-01\n",
      "     -3.18161696e-02  -1.08380705e-01   3.63882482e-02   6.75299158e-03\n",
      "      1.26627758e-01  -1.42886683e-01]]\n",
      "\n",
      "  [[ -8.40389431e-02   7.55068287e-03   9.27922875e-02  -3.37449983e-02\n",
      "      6.65480271e-02   2.11470369e-02  -7.74343684e-02  -1.31816254e-03\n",
      "      3.43072824e-02  -5.15971519e-02   1.04762241e-01  -1.96466856e-02\n",
      "     -2.71737874e-02   8.84126797e-02  -4.13269363e-03  -5.48438728e-02\n",
      "     -3.94857228e-02  -3.94504741e-02   8.16301629e-02  -4.15289029e-02\n",
      "     -4.19922126e-03   3.24317850e-02   5.70174120e-03  -1.51840210e-01\n",
      "     -3.99569683e-02  -1.28506586e-01   6.30525500e-02  -2.13295147e-02\n",
      "     -2.19147708e-02  -6.34658635e-02]]\n",
      "\n",
      "  [[ -6.07106164e-02   7.67500773e-02  -5.76336570e-02  -5.59409382e-03\n",
      "     -3.12114973e-02  -1.39447337e-04  -1.36416629e-01   5.43824472e-02\n",
      "      4.83833700e-02  -3.09266038e-02  -3.26885865e-03  -4.19521332e-02\n",
      "     -8.35032295e-03   9.76431277e-03   1.94922322e-03   1.21801339e-01\n",
      "      6.59742579e-02   1.24495216e-02  -8.39597955e-02   2.77064852e-02\n",
      "      3.85626294e-02  -2.35858257e-03   4.71306890e-02  -1.58286154e-01\n",
      "     -2.73795780e-02  -3.16290259e-02  -1.44311963e-02   2.98723094e-02\n",
      "     -1.59027085e-01   5.14285304e-02]]\n",
      "\n",
      "  [[  1.75639614e-01  -4.03291546e-02  -4.97820973e-02  -5.38782030e-02\n",
      "      2.41400022e-02  -4.76734191e-02  -6.43052310e-02   6.84882551e-02\n",
      "      4.80583757e-02  -4.77676988e-02   9.82890278e-02   9.77859795e-02\n",
      "      5.61281294e-02  -2.47995388e-02   2.84070931e-02   7.36520737e-02\n",
      "      4.14260402e-02   7.66876340e-02   9.91395209e-04  -1.39211239e-02\n",
      "      1.30535141e-01  -1.58937890e-02   1.06854528e-01  -2.00287014e-01\n",
      "      9.49243456e-02   1.01264648e-01   5.03430367e-02   5.08301519e-02\n",
      "     -7.38383457e-02   7.46389180e-02]]]\n",
      "\n",
      "\n",
      " [[[ -6.46521747e-02  -9.55386087e-02  -2.76405327e-02   4.45243716e-02\n",
      "     -4.20426112e-03   2.27997452e-02   3.10443565e-02  -3.11197750e-02\n",
      "     -7.08785877e-02   1.14946060e-01   2.81907134e-02   1.14498384e-01\n",
      "     -1.23493776e-01  -6.69530854e-02  -5.14116418e-03  -4.50309329e-02\n",
      "     -6.95886463e-02   6.01349585e-02   2.15981770e-02  -1.32814586e-01\n",
      "      1.06922099e-02  -6.18942501e-03   8.10202956e-02  -1.39983594e-01\n",
      "      6.38143346e-02  -1.59653381e-01   3.12618800e-02  -8.99887295e-04\n",
      "      1.13807842e-02  -4.98523936e-02]]\n",
      "\n",
      "  [[ -9.10124704e-02   8.10939297e-02   3.16000432e-02  -8.98158699e-02\n",
      "      5.94410533e-03  -7.40470216e-02  -1.13942638e-01  -6.62377253e-02\n",
      "     -8.26756507e-02   1.45062089e-01  -6.28395081e-02  -7.78065901e-03\n",
      "     -7.42828399e-02   7.74593875e-02  -4.31940220e-02   9.80881974e-02\n",
      "     -2.49027945e-02  -5.70388213e-02  -4.20754701e-02  -8.71913042e-03\n",
      "     -9.28915292e-02   4.48817536e-02  -9.99531336e-03  -4.15876955e-02\n",
      "     -8.61018077e-02  -4.77093868e-02   4.31257635e-02  -2.81695630e-02\n",
      "      6.40241727e-02  -8.52596909e-02]]\n",
      "\n",
      "  [[ -1.53622687e-01  -9.07414965e-03   1.69559214e-02  -9.93699282e-02\n",
      "      5.81690893e-02  -8.53042305e-02  -1.08015098e-01  -1.05653092e-01\n",
      "     -2.60372572e-02  -6.70279085e-04  -5.24143279e-02   5.98918907e-02\n",
      "      2.47003213e-02   1.37050688e-01  -4.37158570e-02   1.09152026e-01\n",
      "      3.27218771e-02   1.08013995e-01  -7.30674043e-02  -7.52579421e-02\n",
      "     -1.25753298e-01   7.21085593e-02  -1.82314198e-02  -1.18851081e-01\n",
      "      2.52027996e-02  -5.03079891e-02   1.49093762e-01  -1.25767604e-01\n",
      "     -7.95718879e-02  -2.10962277e-02]]\n",
      "\n",
      "  [[  3.97952609e-02   2.60149725e-02  -3.46840322e-02   3.09004951e-02\n",
      "      9.10084620e-02   1.15351267e-02  -5.25279120e-02  -1.00112483e-01\n",
      "     -9.64389667e-02   1.02971017e-01  -2.74235290e-02   6.44329861e-02\n",
      "     -3.00800949e-02   1.30483329e-01  -3.31743807e-02   5.30133806e-02\n",
      "      1.15097977e-01   1.17868558e-01  -7.20178187e-02  -5.34834713e-03\n",
      "     -4.86787111e-02  -6.14592582e-02  -1.00158630e-02  -7.44108856e-02\n",
      "     -3.62908356e-02  -7.32948035e-02   1.55488417e-01  -8.70067626e-02\n",
      "     -4.74722944e-02  -3.44031453e-02]]\n",
      "\n",
      "  [[  3.72484587e-02   6.59164833e-03  -1.33519098e-01  -4.03580815e-03\n",
      "      2.98402105e-02  -8.22218228e-03  -4.25121412e-02  -2.65309326e-02\n",
      "     -1.23747684e-01   1.86586604e-02  -4.87479977e-02   1.34459184e-02\n",
      "      1.10571638e-01  -4.35867794e-02  -1.18794404e-01   4.73474786e-02\n",
      "      6.85933754e-02   6.69322461e-02  -1.19859725e-01   7.70521685e-02\n",
      "      5.38107455e-02  -1.19051866e-01   7.33399317e-02  -1.63167494e-03\n",
      "      4.23255675e-02  -5.27400933e-02   8.27069357e-02   7.04756081e-02\n",
      "     -1.94866452e-02   3.12407073e-02]]]\n",
      "\n",
      "\n",
      " [[[  2.96296901e-03   1.25079397e-02   1.74076520e-02   3.19206598e-03\n",
      "     -8.75486284e-02  -5.45062944e-02  -2.33642608e-02   2.29480136e-02\n",
      "      4.78493161e-02   2.31435876e-02  -6.70526624e-02  -1.06314337e-02\n",
      "     -6.25697225e-02  -7.31903734e-03   1.21136848e-02   5.35810590e-02\n",
      "     -8.94301608e-02   3.41932736e-02   1.60276413e-01   3.16950120e-02\n",
      "     -1.37166873e-01  -1.16085196e-02   2.22050734e-02  -6.79864585e-02\n",
      "      1.73200890e-02   1.65769085e-02   3.65441777e-02  -2.89511718e-02\n",
      "      3.03190779e-02   6.60291240e-02]]\n",
      "\n",
      "  [[  2.41345149e-02   1.16458692e-01   4.47227471e-02  -7.10969269e-02\n",
      "      2.41922066e-02   2.39209887e-02   3.54565564e-03  -1.10105217e-01\n",
      "     -1.49384156e-01   2.04350078e-03  -5.68710193e-02   1.10103220e-01\n",
      "      2.67301649e-02   4.61968333e-02  -9.31557417e-02   9.07597318e-02\n",
      "      4.34398018e-02   4.50166576e-02   1.20084830e-01  -9.25331116e-02\n",
      "      6.62686490e-03   2.73102242e-03  -4.76269759e-02   5.81043512e-02\n",
      "     -8.28706026e-02  -6.73703663e-03   2.28743013e-02  -1.09810963e-01\n",
      "      7.78082162e-02   3.21952961e-02]]\n",
      "\n",
      "  [[ -1.30350590e-01   3.31257842e-02  -9.47280899e-02  -2.50176191e-02\n",
      "     -4.74988855e-02  -2.03761496e-02  -1.72352251e-02  -9.13292915e-02\n",
      "     -1.62978470e-01   3.55475806e-02  -2.91123278e-02   5.65655306e-02\n",
      "     -7.34688044e-02   6.80827796e-02  -1.63962156e-01   9.26285535e-02\n",
      "      3.82953994e-02  -2.15382576e-02  -1.02792889e-01  -1.03239557e-02\n",
      "     -1.07405350e-01   1.66794211e-02   2.46339384e-02   4.67540883e-02\n",
      "      6.86764196e-02  -3.07393316e-02  -3.34556848e-02   2.26082075e-02\n",
      "     -1.04177529e-02  -7.10197538e-02]]\n",
      "\n",
      "  [[ -3.26674879e-02   8.75508711e-02  -9.85034034e-02  -7.33554587e-02\n",
      "     -2.64365226e-02  -2.79885391e-03   2.51096748e-02  -1.04940340e-01\n",
      "     -9.16801766e-02   8.55588466e-02  -3.24659124e-02   1.28760748e-03\n",
      "     -1.45050744e-02   1.07988998e-01  -9.77570117e-02   8.68731812e-02\n",
      "      8.92968923e-02   8.67365524e-02  -4.97685885e-03  -3.19209360e-02\n",
      "     -6.21392950e-02  -6.41476288e-02   2.42128950e-02   7.98115879e-02\n",
      "      5.86316809e-02  -6.15762547e-02   1.43344849e-01  -8.10700506e-02\n",
      "     -5.55465557e-02   6.35240451e-02]]\n",
      "\n",
      "  [[  1.41407505e-01  -1.10987714e-02  -2.52836831e-02   5.36938347e-02\n",
      "     -9.30024683e-02   2.12701559e-02  -3.00650019e-03  -2.29748664e-03\n",
      "     -6.71929494e-02   7.47968927e-02   3.17002237e-02   8.49374309e-02\n",
      "      1.02330223e-01   6.86273873e-02  -1.02240041e-01   6.06423914e-02\n",
      "      9.24212411e-02   2.96269413e-02  -3.44232954e-02   1.53918015e-02\n",
      "     -6.22390062e-02  -1.41985342e-01   8.37045088e-02   1.09076336e-01\n",
      "      8.19627345e-02  -9.31461081e-02   3.43898684e-03  -5.95302694e-02\n",
      "      7.71315023e-02   7.76717290e-02]]]]\n",
      "ConvLayer1/bias:0\n",
      "[  8.51640943e-03  -1.05406065e-02  -2.78708283e-02  -8.29106569e-03\n",
      "   1.22619653e-02   4.46984265e-03   1.80179573e-04   6.25610398e-03\n",
      "   3.68491635e-02   1.29763698e-02   3.07626469e-05   2.25570109e-02\n",
      "  -1.66170523e-02   2.31952760e-02   7.33008748e-03   1.41977752e-02\n",
      "   2.33853702e-02   8.51075165e-03   2.58873729e-03   1.32058803e-02\n",
      "   2.57304702e-02  -5.14937611e-03   6.75914064e-03   4.55625579e-02\n",
      "  -2.43105441e-02   7.31858239e-02   3.28453630e-02   2.15002447e-02\n",
      "   1.18755745e-02  -7.71489274e-03]\n"
     ]
    }
   ],
   "source": [
    "weight_var = tf.get_collection(tf.GraphKeys.TRAINABLE_VARIABLES,'ConvLayer1')\n",
    "for v in weight_var:\n",
    "    print(v.name)\n",
    "    print(sess.run(v))"
   ]
  },
  {
   "cell_type": "markdown",
   "metadata": {},
   "source": [
    "## Save Even Digit Model"
   ]
  },
  {
   "cell_type": "code",
   "execution_count": 73,
   "metadata": {
    "collapsed": false
   },
   "outputs": [
    {
     "data": {
      "text/plain": [
       "'./even_digit_model_tf_keras-1000'"
      ]
     },
     "execution_count": 73,
     "metadata": {},
     "output_type": "execute_result"
    }
   ],
   "source": [
    "###\n",
    "# save model to disk\n",
    "###\n",
    "#Create a saver object which will save all the variables\n",
    "saver = tf.train.Saver()\n",
    "\n",
    "saver.save(sess, './even_digit_model_tf_keras',global_step=1000)"
   ]
  },
  {
   "cell_type": "markdown",
   "metadata": {},
   "source": [
    "## Even Digit Model - Evaluate Model on Even Digit Test Data Set"
   ]
  },
  {
   "cell_type": "code",
   "execution_count": 74,
   "metadata": {
    "collapsed": false
   },
   "outputs": [],
   "source": [
    "# function to return model performance\n",
    "def getPerformanceMetrics(sess,X,y):\n",
    "    yhat = y_prob.eval(session=sess,feed_dict={x_data:X, K.learning_phase():0})\n",
    "    correct_prediction = tf.equal(tf.argmax(y,1), tf.argmax(yhat,1))\n",
    "    accuracy = tf.reduce_mean(tf.cast(correct_prediction, tf.float32))\n",
    "    \n",
    "    accuracy_value = accuracy.eval(session=sess,feed_dict={x_data: X,\n",
    "                                                          K.learning_phase():0})\n",
    "    \n",
    "    loss_value = loss.eval(session=sess,feed_dict={x_data: X, \n",
    "                                  y_target: y,\n",
    "                                  K.learning_phase():0})\n",
    "    \n",
    "    return({'accuracy': accuracy_value, 'loss': loss_value})\n",
    "    "
   ]
  },
  {
   "cell_type": "code",
   "execution_count": 75,
   "metadata": {
    "collapsed": false
   },
   "outputs": [
    {
     "name": "stdout",
     "output_type": "stream",
     "text": [
      "\n",
      "Test Loss: 0.0176207\n",
      "Test accuracy: 0.99391\n"
     ]
    }
   ],
   "source": [
    "score = getPerformanceMetrics(sess,X_test_even_mdl,y_test_even_mdl)\n",
    "print('\\nTest Loss:', score['loss'])\n",
    "print('Test accuracy:', score['accuracy'])"
   ]
  },
  {
   "cell_type": "code",
   "execution_count": 76,
   "metadata": {
    "collapsed": false
   },
   "outputs": [
    {
     "data": {
      "image/png": "[encoded data removed]",
      "text/plain": [
       "<matplotlib.figure.Figure at 0x13ab9e898>"
      ]
     },
     "metadata": {},
     "output_type": "display_data"
    }
   ],
   "source": [
    "y_hat = np.argmax(y_prob.eval(session=sess,feed_dict={x_data:X_test_even_mdl, K.learning_phase():0}),1)\n",
    "\n",
    "plotDigitGrid(X_test_even,y_test_even,idxs_even,y_hat=2*y_hat)"
   ]
  },
  {
   "cell_type": "markdown",
   "metadata": {},
   "source": [
    "## Even Digit Model - Evaluate Model on Odd Digit Test Data Set"
   ]
  },
  {
   "cell_type": "code",
   "execution_count": 77,
   "metadata": {
    "collapsed": false
   },
   "outputs": [
    {
     "name": "stdout",
     "output_type": "stream",
     "text": [
      "\n",
      "Test Loss: 7.85864\n",
      "Test accuracy: 0.106228\n"
     ]
    }
   ],
   "source": [
    "score = getPerformanceMetrics(sess,X_test_odd_mdl,y_test_odd_mdl)\n",
    "print('\\nTest Loss:', score['loss'])\n",
    "print('Test accuracy:', score['accuracy'])"
   ]
  },
  {
   "cell_type": "code",
   "execution_count": 78,
   "metadata": {
    "collapsed": false
   },
   "outputs": [
    {
     "data": {
      "image/png": "[encoded data removed]",
      "text/plain": [
       "<matplotlib.figure.Figure at 0x151a0a0b8>"
      ]
     },
     "metadata": {},
     "output_type": "display_data"
    }
   ],
   "source": [
    "y_hat = np.argmax(y_prob.eval(session=sess,feed_dict={x_data:X_test_odd_mdl, K.learning_phase():0}),1)\n",
    "\n",
    "plotDigitGrid(X_test_odd,y_test_odd,idxs_even,y_hat=2*y_hat+1)"
   ]
  },
  {
   "cell_type": "markdown",
   "metadata": {},
   "source": [
    "## Transfer Learning\n",
    "## Initialize Odd Digit Model from Even Digit Model"
   ]
  },
  {
   "cell_type": "code",
   "execution_count": 83,
   "metadata": {
    "collapsed": true
   },
   "outputs": [],
   "source": [
    "###\n",
    "# recerate model structure\n",
    "###\n",
    "\n",
    "# reset computational TF compuationatl graph\n",
    "ops.reset_default_graph()"
   ]
  },
  {
   "cell_type": "code",
   "execution_count": 84,
   "metadata": {
    "collapsed": false
   },
   "outputs": [],
   "source": [
    "#First let's load meta graph and restore weights\n",
    "saver = tf.train.import_meta_graph('even_digit_model_tf_keras-1000.meta')\n",
    "saver.restore(sess,tf.train.latest_checkpoint('./'))"
   ]
  },
  {
   "cell_type": "markdown",
   "metadata": {},
   "source": [
    "## Report Structure on Odd Digit Model Structure"
   ]
  },
  {
   "cell_type": "code",
   "execution_count": 85,
   "metadata": {
    "collapsed": false
   },
   "outputs": [
    {
     "name": "stdout",
     "output_type": "stream",
     "text": [
      "ConvLayer1/kernel:0\n",
      "ConvLayer1/bias:0\n",
      "ConvLayer2/kernel:0\n",
      "ConvLayer2/bias:0\n",
      "DenseLayer1/kernel:0\n",
      "DenseLayer1/bias:0\n",
      "DenseLayer2/kernel:0\n",
      "DenseLayer2/bias:0\n"
     ]
    }
   ],
   "source": [
    "for v in tf.get_collection(tf.GraphKeys.TRAINABLE_VARIABLES):\n",
    "    print(v.name)"
   ]
  },
  {
   "cell_type": "code",
   "execution_count": 86,
   "metadata": {
    "collapsed": false
   },
   "outputs": [
    {
     "name": "stdout",
     "output_type": "stream",
     "text": [
      "train_step\n"
     ]
    }
   ],
   "source": [
    "for v in tf.get_collection(tf.GraphKeys.TRAIN_OP):\n",
    "    print(v.name)"
   ]
  },
  {
   "cell_type": "code",
   "execution_count": 87,
   "metadata": {
    "collapsed": false
   },
   "outputs": [],
   "source": [
    "graph = tf.get_default_graph()\n",
    "\n",
    "\n",
    "###\n",
    "# Restablish placeholder\n",
    "###\n",
    "\n",
    "# Input data\n",
    "x_data = graph.get_tensor_by_name(\"x_data:0\")\n",
    "\n",
    "# output\n",
    "y_target = graph.get_tensor_by_name(\"y_target:0\")\n"
   ]
  },
  {
   "cell_type": "code",
   "execution_count": 88,
   "metadata": {
    "collapsed": false
   },
   "outputs": [
    {
     "data": {
      "text/plain": [
       "'x_data:0'"
      ]
     },
     "execution_count": 88,
     "metadata": {},
     "output_type": "execute_result"
    }
   ],
   "source": [
    "x_data.name"
   ]
  },
  {
   "cell_type": "code",
   "execution_count": 89,
   "metadata": {
    "collapsed": false
   },
   "outputs": [],
   "source": [
    "# optimize the loss - initial training\n",
    "loss = graph.get_tensor_by_name('loss:0')\n",
    "train_step = graph.get_operation_by_name('train_step')"
   ]
  },
  {
   "cell_type": "code",
   "execution_count": 90,
   "metadata": {
    "collapsed": false
   },
   "outputs": [
    {
     "data": {
      "text/plain": [
       "tensorflow.python.framework.ops.Operation"
      ]
     },
     "execution_count": 90,
     "metadata": {},
     "output_type": "execute_result"
    }
   ],
   "source": [
    "type(train_step)"
   ]
  },
  {
   "cell_type": "code",
   "execution_count": 91,
   "metadata": {
    "collapsed": false
   },
   "outputs": [
    {
     "data": {
      "text/plain": [
       "tensorflow.python.framework.ops.Tensor"
      ]
     },
     "execution_count": 91,
     "metadata": {},
     "output_type": "execute_result"
    }
   ],
   "source": [
    "type(loss)"
   ]
  },
  {
   "cell_type": "markdown",
   "metadata": {},
   "source": [
    "## Freeze Feature Detection Layers"
   ]
  },
  {
   "cell_type": "markdown",
   "metadata": {},
   "source": [
    "## Train Odd Digit Model"
   ]
  },
  {
   "cell_type": "code",
   "execution_count": null,
   "metadata": {
    "collapsed": false
   },
   "outputs": [
    {
     "ename": "TypeError",
     "evalue": "Cannot interpret feed_dict key as Tensor: Tensor Tensor(\"x_data:0\", shape=(?, 28, 28, 1), dtype=float32) is not an element of this graph.",
     "output_type": "error",
     "traceback": [
      "\u001b[0;31m---------------------------------------------------------------------------\u001b[0m",
      "\u001b[0;31mValueError\u001b[0m                                Traceback (most recent call last)",
      "\u001b[0;32m/Users/jim/anaconda3/envs/tf-gpu/lib/python3.5/site-packages/tensorflow/python/client/session.py\u001b[0m in \u001b[0;36m_run\u001b[0;34m(self, handle, fetches, feed_dict, options, run_metadata)\u001b[0m\n\u001b[1;32m    918\u001b[0m             subfeed_t = self.graph.as_graph_element(subfeed, allow_tensor=True,\n\u001b[0;32m--> 919\u001b[0;31m                                                     allow_operation=False)\n\u001b[0m\u001b[1;32m    920\u001b[0m           \u001b[0;32mexcept\u001b[0m \u001b[0mException\u001b[0m \u001b[0;32mas\u001b[0m \u001b[0me\u001b[0m\u001b[0;34m:\u001b[0m\u001b[0;34m\u001b[0m\u001b[0m\n",
      "\u001b[0;32m/Users/jim/anaconda3/envs/tf-gpu/lib/python3.5/site-packages/tensorflow/python/framework/ops.py\u001b[0m in \u001b[0;36mas_graph_element\u001b[0;34m(self, obj, allow_tensor, allow_operation)\u001b[0m\n\u001b[1;32m   2404\u001b[0m     \u001b[0;32mwith\u001b[0m \u001b[0mself\u001b[0m\u001b[0;34m.\u001b[0m\u001b[0m_lock\u001b[0m\u001b[0;34m:\u001b[0m\u001b[0;34m\u001b[0m\u001b[0m\n\u001b[0;32m-> 2405\u001b[0;31m       \u001b[0;32mreturn\u001b[0m \u001b[0mself\u001b[0m\u001b[0;34m.\u001b[0m\u001b[0m_as_graph_element_locked\u001b[0m\u001b[0;34m(\u001b[0m\u001b[0mobj\u001b[0m\u001b[0;34m,\u001b[0m \u001b[0mallow_tensor\u001b[0m\u001b[0;34m,\u001b[0m \u001b[0mallow_operation\u001b[0m\u001b[0;34m)\u001b[0m\u001b[0;34m\u001b[0m\u001b[0m\n\u001b[0m\u001b[1;32m   2406\u001b[0m \u001b[0;34m\u001b[0m\u001b[0m\n",
      "\u001b[0;32m/Users/jim/anaconda3/envs/tf-gpu/lib/python3.5/site-packages/tensorflow/python/framework/ops.py\u001b[0m in \u001b[0;36m_as_graph_element_locked\u001b[0;34m(self, obj, allow_tensor, allow_operation)\u001b[0m\n\u001b[1;32m   2483\u001b[0m       \u001b[0;32mif\u001b[0m \u001b[0mobj\u001b[0m\u001b[0;34m.\u001b[0m\u001b[0mgraph\u001b[0m \u001b[0;32mis\u001b[0m \u001b[0;32mnot\u001b[0m \u001b[0mself\u001b[0m\u001b[0;34m:\u001b[0m\u001b[0;34m\u001b[0m\u001b[0m\n\u001b[0;32m-> 2484\u001b[0;31m         \u001b[0;32mraise\u001b[0m \u001b[0mValueError\u001b[0m\u001b[0;34m(\u001b[0m\u001b[0;34m\"Tensor %s is not an element of this graph.\"\u001b[0m \u001b[0;34m%\u001b[0m \u001b[0mobj\u001b[0m\u001b[0;34m)\u001b[0m\u001b[0;34m\u001b[0m\u001b[0m\n\u001b[0m\u001b[1;32m   2485\u001b[0m       \u001b[0;32mreturn\u001b[0m \u001b[0mobj\u001b[0m\u001b[0;34m\u001b[0m\u001b[0m\n",
      "\u001b[0;31mValueError\u001b[0m: Tensor Tensor(\"x_data:0\", shape=(?, 28, 28, 1), dtype=float32) is not an element of this graph.",
      "\nDuring handling of the above exception, another exception occurred:\n",
      "\u001b[0;31mTypeError\u001b[0m                                 Traceback (most recent call last)",
      "\u001b[0;32m<ipython-input-92-61a3e85f6d43>\u001b[0m in \u001b[0;36m<module>\u001b[0;34m()\u001b[0m\n\u001b[1;32m     18\u001b[0m                           feed_dict={x_data: rand_x, \n\u001b[1;32m     19\u001b[0m                                      \u001b[0my_target\u001b[0m\u001b[0;34m:\u001b[0m \u001b[0mrand_y\u001b[0m\u001b[0;34m,\u001b[0m\u001b[0;34m\u001b[0m\u001b[0m\n\u001b[0;32m---> 20\u001b[0;31m                                      K.learning_phase(): 1})\n\u001b[0m\u001b[1;32m     21\u001b[0m \u001b[0;34m\u001b[0m\u001b[0m\n\u001b[1;32m     22\u001b[0m     \u001b[0;31m#test_loss = loss.eval(session=sess,\u001b[0m\u001b[0;34m\u001b[0m\u001b[0;34m\u001b[0m\u001b[0m\n",
      "\u001b[0;32m/Users/jim/anaconda3/envs/tf-gpu/lib/python3.5/site-packages/tensorflow/python/client/session.py\u001b[0m in \u001b[0;36mrun\u001b[0;34m(self, fetches, feed_dict, options, run_metadata)\u001b[0m\n\u001b[1;32m    765\u001b[0m     \u001b[0;32mtry\u001b[0m\u001b[0;34m:\u001b[0m\u001b[0;34m\u001b[0m\u001b[0m\n\u001b[1;32m    766\u001b[0m       result = self._run(None, fetches, feed_dict, options_ptr,\n\u001b[0;32m--> 767\u001b[0;31m                          run_metadata_ptr)\n\u001b[0m\u001b[1;32m    768\u001b[0m       \u001b[0;32mif\u001b[0m \u001b[0mrun_metadata\u001b[0m\u001b[0;34m:\u001b[0m\u001b[0;34m\u001b[0m\u001b[0m\n\u001b[1;32m    769\u001b[0m         \u001b[0mproto_data\u001b[0m \u001b[0;34m=\u001b[0m \u001b[0mtf_session\u001b[0m\u001b[0;34m.\u001b[0m\u001b[0mTF_GetBuffer\u001b[0m\u001b[0;34m(\u001b[0m\u001b[0mrun_metadata_ptr\u001b[0m\u001b[0;34m)\u001b[0m\u001b[0;34m\u001b[0m\u001b[0m\n",
      "\u001b[0;32m/Users/jim/anaconda3/envs/tf-gpu/lib/python3.5/site-packages/tensorflow/python/client/session.py\u001b[0m in \u001b[0;36m_run\u001b[0;34m(self, handle, fetches, feed_dict, options, run_metadata)\u001b[0m\n\u001b[1;32m    920\u001b[0m           \u001b[0;32mexcept\u001b[0m \u001b[0mException\u001b[0m \u001b[0;32mas\u001b[0m \u001b[0me\u001b[0m\u001b[0;34m:\u001b[0m\u001b[0;34m\u001b[0m\u001b[0m\n\u001b[1;32m    921\u001b[0m             raise TypeError('Cannot interpret feed_dict key as Tensor: '\n\u001b[0;32m--> 922\u001b[0;31m                             + e.args[0])\n\u001b[0m\u001b[1;32m    923\u001b[0m \u001b[0;34m\u001b[0m\u001b[0m\n\u001b[1;32m    924\u001b[0m           \u001b[0;32mif\u001b[0m \u001b[0misinstance\u001b[0m\u001b[0;34m(\u001b[0m\u001b[0msubfeed_val\u001b[0m\u001b[0;34m,\u001b[0m \u001b[0mops\u001b[0m\u001b[0;34m.\u001b[0m\u001b[0mTensor\u001b[0m\u001b[0;34m)\u001b[0m\u001b[0;34m:\u001b[0m\u001b[0;34m\u001b[0m\u001b[0m\n",
      "\u001b[0;31mTypeError\u001b[0m: Cannot interpret feed_dict key as Tensor: Tensor Tensor(\"x_data:0\", shape=(?, 28, 28, 1), dtype=float32) is not an element of this graph."
     ]
    }
   ],
   "source": [
    "start_time = time.time()\n",
    "\n",
    "# Training loop\n",
    "test_loss = []\n",
    "for epoch in range(EPOCHS):\n",
    "    epoch_start_time = time.time()\n",
    "    \n",
    "    # generate indices for mini_batches\n",
    "    batch_idx = generate_mini_batch_indices(X_train_even_mdl,BATCH_SIZE)\n",
    "    \n",
    "    # process each mini-batch\n",
    "    for i in range(len(batch_idx)):\n",
    "        rand_index = batch_idx[i]\n",
    "        rand_x = X_train_odd_mdl[rand_index]\n",
    "        rand_y = y_train_odd_mdl[rand_index]\n",
    "        for j in range(1):\n",
    "            sess.run(train_step, \n",
    "                          feed_dict={x_data: rand_x, \n",
    "                                     y_target: rand_y,\n",
    "                                     K.learning_phase(): 1})\n",
    "\n",
    "    #test_loss = loss.eval(session=sess,\n",
    "    #                      feed_dict={x_data: X_test_odd_mdl, \n",
    "    #                              y_target: y_test_odd_mdl,\n",
    "    #                              K.learning_phase():0})\n",
    "    #print('Epoch: %d, Epoch time: %.1f, Loss: %.5f' % (epoch+1, time.time() - epoch_start_time, test_loss))\n",
    "    \n",
    "print('\\n\\nTraining time: %.3f (sec)' % (time.time()-start_time))"
   ]
  },
  {
   "cell_type": "code",
   "execution_count": null,
   "metadata": {
    "collapsed": false
   },
   "outputs": [],
   "source": [
    "sess"
   ]
  },
  {
   "cell_type": "markdown",
   "metadata": {},
   "source": [
    "## Odd Digit Model - Evaluate Model on Odd Digit Test Data Set"
   ]
  },
  {
   "cell_type": "code",
   "execution_count": null,
   "metadata": {
    "collapsed": false
   },
   "outputs": [],
   "source": [
    "score = getPerformanceMetrics(sess,X_test_odd_mdl,y_test_odd_mdl)\n",
    "print('\\nTest Loss:', score['loss'])\n",
    "print('Test accuracy:', score['accuracy'])"
   ]
  },
  {
   "cell_type": "code",
   "execution_count": null,
   "metadata": {
    "collapsed": false
   },
   "outputs": [],
   "source": [
    "y_hat = np.argmax(y_prob.eval(session=sess,feed_dict={x_data:X_test_odd_mdl, K.learning_phase():0}),1)\n",
    "\n",
    "plotDigitGrid(X_test_odd,y_test_odd,idxs_even,y_hat=2*y_hat+1)"
   ]
  },
  {
   "cell_type": "markdown",
   "metadata": {},
   "source": [
    "## Odd Digit Model - Evaluate Even Digit Test Data Set"
   ]
  },
  {
   "cell_type": "code",
   "execution_count": null,
   "metadata": {
    "collapsed": false
   },
   "outputs": [],
   "source": [
    "# report performance on even digit test data set\n",
    "score = getPerformanceMetrics(sess,X_test_even_mdl,y_test_even_mdl)\n",
    "print('\\nTest Loss:', score['loss'])\n",
    "print('Test accuracy:', score['accuracy'])"
   ]
  },
  {
   "cell_type": "code",
   "execution_count": null,
   "metadata": {
    "collapsed": false
   },
   "outputs": [],
   "source": [
    "y_hat = np.argmax(y_prob.eval(session=sess,feed_dict={x_data:X_test_even_mdl, K.learning_phase():0}),1)\n",
    "\n",
    "plotDigitGrid(X_test_even,y_test_even,idxs_even,y_hat=2*y_hat)"
   ]
  }
 ],
 "metadata": {
  "anaconda-cloud": {},
  "kernelspec": {
   "display_name": "Python [conda env:tf-gpu]",
   "language": "python",
   "name": "conda-env-tf-gpu-py"
  },
  "language_info": {
   "codemirror_mode": {
    "name": "ipython",
    "version": 3
   },
   "file_extension": ".py",
   "mimetype": "text/x-python",
   "name": "python",
   "nbconvert_exporter": "python",
   "pygments_lexer": "ipython3",
   "version": "3.5.2"
  }
 },
 "nbformat": 4,
 "nbformat_minor": 2
}
