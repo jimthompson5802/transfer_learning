{
 "cells": [
  {
   "cell_type": "markdown",
   "metadata": {},
   "source": [
    "# Transfer Learning - MNIST Data Set"
   ]
  },
  {
   "cell_type": "markdown",
   "metadata": {},
   "source": [
    "## Overview\n",
    "\n",
    "This notebook illustrates transfer learning using TensorFlow with the Keras API for specifing the CNN architecture.\n",
    "\n",
    "Structure of the notebook:\n",
    "* Obtain the MNIST data set\n",
    "* Split the MNIST data set into even digit data set and odd digit data set\n",
    "* Prepare image data for modeling, one-hot encode the digit label\n",
    "* Define feature detection and classification layers for the CNN model\n",
    "* Train even digit CNN model to recognize even digits and save model structure to disk\n",
    "* Evaluate model performance against even and odd digit test data sets\n",
    "* Create odd digit CNN model structure from the even digit model CNN\n",
    "* Freeze feature detection layers of the odd digit CNN model\n",
    "* Train CNN model with frozen feature detection layer to recognize odd digits\n",
    "* Evaluate model performance against odd and even test data sets"
   ]
  },
  {
   "cell_type": "markdown",
   "metadata": {},
   "source": [
    "## Setup"
   ]
  },
  {
   "cell_type": "code",
   "execution_count": 1,
   "metadata": {
    "collapsed": true
   },
   "outputs": [],
   "source": [
    "# configuration and profiling\n",
    "import time\n",
    "import os\n",
    "\n",
    "# set up backend theano or tensorflow\n",
    "os.environ['KERAS_BACKEND'] = 'tensorflow'\n"
   ]
  },
  {
   "cell_type": "code",
   "execution_count": 2,
   "metadata": {
    "collapsed": false
   },
   "outputs": [
    {
     "name": "stderr",
     "output_type": "stream",
     "text": [
      "Using TensorFlow backend.\n"
     ]
    }
   ],
   "source": [
    "import tensorflow as tf\n",
    "from tensorflow.python.framework import ops\n",
    "\n",
    "# TF specific Keras \n",
    "from keras import backend as K\n",
    "from keras.utils import np_utils\n",
    "from keras import backend as K\n",
    "K.set_image_dim_ordering('tf')\n",
    "\n",
    "import numpy as np"
   ]
  },
  {
   "cell_type": "code",
   "execution_count": 3,
   "metadata": {
    "collapsed": false
   },
   "outputs": [],
   "source": [
    "# reset computational TF compuationatl graph\n",
    "ops.reset_default_graph()\n",
    "sess = tf.Session()\n",
    "\n",
    "# connect Keras to TF\n",
    "K.set_session(sess)\n"
   ]
  },
  {
   "cell_type": "markdown",
   "metadata": {},
   "source": [
    "## Obtain MNIST Data Set"
   ]
  },
  {
   "cell_type": "code",
   "execution_count": 4,
   "metadata": {
    "collapsed": false
   },
   "outputs": [
    {
     "name": "stdout",
     "output_type": "stream",
     "text": [
      "(60000, 28, 28)\n",
      "(60000,)\n",
      "(10000, 28, 28)\n",
      "(10000,)\n"
     ]
    }
   ],
   "source": [
    "from keras.datasets import mnist\n",
    "\n",
    "# load data\n",
    "(X_train, y_train), (X_test, y_test) = mnist.load_data()\n",
    "print(X_train.shape)\n",
    "print(y_train.shape)\n",
    "print(X_test.shape)\n",
    "print(y_test.shape)\n"
   ]
  },
  {
   "cell_type": "markdown",
   "metadata": {},
   "source": [
    "## Create even/odd data sets"
   ]
  },
  {
   "cell_type": "code",
   "execution_count": 5,
   "metadata": {
    "collapsed": true
   },
   "outputs": [],
   "source": [
    "# split into odd and evens\n",
    "odds = [i for i,j in enumerate(y_train) if j % 2 == 1 ]\n",
    "evens = list(set(range(len(y_train))) - set(odds))\n",
    "\n",
    "X_train_odd = X_train[odds]\n",
    "y_train_odd = y_train[odds]\n",
    "\n",
    "X_train_even = X_train[evens]\n",
    "y_train_even = y_train[evens]\n",
    "\n",
    "# split into odd and evens\n",
    "odds = [i for i,j in enumerate(y_test) if j % 2 == 1 ]\n",
    "evens = list(set(range(len(y_test))) - set(odds))\n",
    "\n",
    "X_test_odd = X_test[odds]\n",
    "y_test_odd = y_test[odds]\n",
    "\n",
    "X_test_even = X_test[evens]\n",
    "y_test_even = y_test[evens]"
   ]
  },
  {
   "cell_type": "markdown",
   "metadata": {},
   "source": [
    "## Prepare data for modeling"
   ]
  },
  {
   "cell_type": "code",
   "execution_count": 6,
   "metadata": {
    "collapsed": true
   },
   "outputs": [],
   "source": [
    "###\n",
    "# function to prepare data for modeling\n",
    "###\n",
    "def prepareFeatureSet(X_in,y_in):\n",
    "    # reshape to be [samples][channels][width][height]\n",
    "    X_out = X_in.reshape(X_in.shape[0], 28, 28, 1).astype('float32')\n",
    "\n",
    "    # normalize inputs from 0-255 to 0-1\n",
    "    X_out = X_out / 255\n",
    "    \n",
    "    #one-hot encode target variable\n",
    "    min_y = min(y_in)\n",
    "    num_classes = len(np.unique(y_in))\n",
    "    y_out = np_utils.to_categorical((y_in-min_y)/2,num_classes)\n",
    "    \n",
    "    return((X_out,y_out))\n",
    "    "
   ]
  },
  {
   "cell_type": "code",
   "execution_count": 7,
   "metadata": {
    "collapsed": false
   },
   "outputs": [],
   "source": [
    "###\n",
    "# Prepare data for modeling\n",
    "###\n",
    "X_train_even_mdl, y_train_even_mdl = prepareFeatureSet(X_train_even,y_train_even)\n",
    "X_test_even_mdl, y_test_even_mdl = prepareFeatureSet(X_test_even, y_test_even)\n",
    "\n",
    "X_train_odd_mdl, y_train_odd_mdl = prepareFeatureSet(X_train_odd,y_train_odd)\n",
    "X_test_odd_mdl, y_test_odd_mdl = prepareFeatureSet(X_test_odd, y_test_odd)"
   ]
  },
  {
   "cell_type": "markdown",
   "metadata": {},
   "source": [
    "## Plot sample images"
   ]
  },
  {
   "cell_type": "code",
   "execution_count": 8,
   "metadata": {
    "collapsed": false
   },
   "outputs": [],
   "source": [
    "%matplotlib inline\n",
    "import matplotlib.pyplot as plt\n",
    "\n",
    "def plotDigitGrid(X,y,idxs,y_hat=None):\n",
    "    plt.figure(figsize=(9,9))\n",
    "\n",
    "    for i in range(len(idxs)):\n",
    "        plt.subplot(4,4,i+1)\n",
    "        \n",
    "        if y_hat is None:\n",
    "            plt.title('Label: {label}'.format(label=y[idxs[i]]))\n",
    "        else:\n",
    "            plt.title(\"Label: {label}  Pred: {pred}\".format(label=y[idxs[i]], pred=y_hat[idxs[i]]))\n",
    "            \n",
    "        plt.imshow(X[idxs[i]], cmap='Greys')\n",
    "        plt.tick_params(\n",
    "            axis='both',          # changes apply to the x-axis and y-axis\n",
    "            which='both',      # both major and minor ticks are affected\n",
    "            bottom='off',      # tick marks on bottom side are off\n",
    "            left='off',        # tick marks on left side are off\n",
    "            labelleft='off',   # label on left side are off\n",
    "            labelbottom='off') # labels along the bottom edge are off\n",
    "\n",
    "    plt.show()\n"
   ]
  },
  {
   "cell_type": "markdown",
   "metadata": {},
   "source": [
    "## Plot Sample Even Digits"
   ]
  },
  {
   "cell_type": "code",
   "execution_count": 9,
   "metadata": {
    "collapsed": false
   },
   "outputs": [
    {
     "data": {
      "image/png": "[encoded data removed]",
      "text/plain": [
       "<matplotlib.figure.Figure at 0x12de8e898>"
      ]
     },
     "metadata": {},
     "output_type": "display_data"
    }
   ],
   "source": [
    "np.random.seed(127)\n",
    "idxs_even = np.random.choice(y_test_even.shape[0],16)\n",
    "\n",
    "plotDigitGrid(X_test_even,y_test_even,idxs_even)"
   ]
  },
  {
   "cell_type": "markdown",
   "metadata": {},
   "source": [
    "## Plot Sample Odd Digits"
   ]
  },
  {
   "cell_type": "code",
   "execution_count": 10,
   "metadata": {
    "collapsed": false
   },
   "outputs": [
    {
     "data": {
      "image/png": "[encoded data removed]",
      "text/plain": [
       "<matplotlib.figure.Figure at 0x152ef0ef0>"
      ]
     },
     "metadata": {},
     "output_type": "display_data"
    }
   ],
   "source": [
    "np.random.seed(127)\n",
    "idxs_odd = np.random.choice(y_test_odd.shape[0],16)\n",
    "\n",
    "plotDigitGrid(X_test_odd,y_test_odd,idxs_odd)"
   ]
  },
  {
   "cell_type": "markdown",
   "metadata": {},
   "source": [
    "## Set up for model training"
   ]
  },
  {
   "cell_type": "code",
   "execution_count": 11,
   "metadata": {
    "collapsed": true
   },
   "outputs": [],
   "source": [
    "###\n",
    "# function to train model\n",
    "###\n",
    "def train_model(model, x_train, y_train, x_test, y_test):\n",
    "    model.compile(loss='categorical_crossentropy',\n",
    "                  optimizer='adadelta',\n",
    "                  metrics=['accuracy'])\n",
    "\n",
    "    t = time.time()\n",
    "    model.fit(x_train, y_train,\n",
    "              batch_size=BATCH_SIZE,\n",
    "              epochs=EPOCHS,\n",
    "              verbose=1,\n",
    "              validation_data=(x_test, y_test))\n",
    "    print('Training time: %.3f (sec)' % (time.time() - t))\n"
   ]
  },
  {
   "cell_type": "code",
   "execution_count": 12,
   "metadata": {
    "collapsed": false
   },
   "outputs": [],
   "source": [
    "# reset computational TF compuationatl graph\n",
    "ops.reset_default_graph()\n",
    "sess = tf.Session()\n",
    "\n",
    "# connect Keras to TF\n",
    "K.set_session(sess)\n",
    "\n"
   ]
  },
  {
   "cell_type": "markdown",
   "metadata": {},
   "source": [
    "## Define CNN Model architecture"
   ]
  },
  {
   "cell_type": "code",
   "execution_count": 13,
   "metadata": {
    "collapsed": false
   },
   "outputs": [],
   "source": [
    "###\n",
    "# Initialize placeholders\n",
    "###\n",
    "\n",
    "# training image data\n",
    "x_data = tf.placeholder(shape=[None, X_train_even_mdl.shape[1],X_train_even_mdl.shape[2],1], \n",
    "                        dtype=tf.float32,\n",
    "                        name='x_data')\n",
    "\n",
    "# training image category \n",
    "y_target = tf.placeholder(shape=[None, y_train_even_mdl.shape[1]], \n",
    "                          dtype=tf.float32,\n",
    "                         name='y_target')"
   ]
  },
  {
   "cell_type": "code",
   "execution_count": 14,
   "metadata": {
    "collapsed": false
   },
   "outputs": [
    {
     "name": "stdout",
     "output_type": "stream",
     "text": [
      "<class 'tensorflow.python.framework.ops.Tensor'>(?, 5)\n"
     ]
    }
   ],
   "source": [
    "from keras.layers import Dense\n",
    "from keras.layers import Dropout\n",
    "from keras.layers import Flatten\n",
    "from keras.layers.convolutional import Convolution2D\n",
    "from keras.layers.convolutional import MaxPooling2D\n",
    "\n",
    "###\n",
    "# Declare model operations\n",
    "###\n",
    "\n",
    "x = Convolution2D(30,5,padding='valid',activation='relu',name='ConvLayer1')(x_data)\n",
    "x = Convolution2D(15,5,activation='relu', name='ConvLayer2')(x)\n",
    "x = MaxPooling2D(pool_size=(2,2), name='MaxPoolLayer1')(x)\n",
    "x = Dropout(0.25)(x)\n",
    "x = Flatten()(x)\n",
    "x = Dense(128,activation='relu',name='DenseLayer1')(x)\n",
    "x = Dropout(0.5)(x)\n",
    "y_prob = Dense(5,activation='softmax',name='DenseLayer2')(x)\n",
    "print(str(type(y_prob)) + str(y_prob.get_shape()))\n"
   ]
  },
  {
   "cell_type": "code",
   "execution_count": 15,
   "metadata": {
    "collapsed": false
   },
   "outputs": [],
   "source": [
    "###\n",
    "# Declare Loss Function (softmax cross entropy)\n",
    "###\n",
    "from keras.objectives import categorical_crossentropy\n",
    "\n",
    "loss = tf.reduce_mean(categorical_crossentropy(y_target,y_prob))\n",
    "\n",
    "# optimize the loss\n",
    "train_step = tf.train.AdamOptimizer().minimize(loss)"
   ]
  },
  {
   "cell_type": "markdown",
   "metadata": {},
   "source": [
    "## Global parameters for training"
   ]
  },
  {
   "cell_type": "code",
   "execution_count": 16,
   "metadata": {
    "collapsed": true
   },
   "outputs": [],
   "source": [
    "BATCH_SIZE = 128\n",
    "\n",
    "EPOCHS = 5\n",
    "\n",
    "# ensure TF reproducibiliy\n",
    "seed = 13\n",
    "np.random.seed(13)\n",
    "tf.set_random_seed(seed)"
   ]
  },
  {
   "cell_type": "markdown",
   "metadata": {},
   "source": [
    "## Train Even Digit Model"
   ]
  },
  {
   "cell_type": "code",
   "execution_count": 17,
   "metadata": {
    "collapsed": true
   },
   "outputs": [],
   "source": [
    "###\n",
    "# function to generate indices for mini-batches for training\n",
    "###\n",
    "\n",
    "def generate_mini_batch_indices(X,batch_size=5):\n",
    "    \n",
    "    # randomly shuffle the indicies\n",
    "    idx = np.asarray(range(X.shape[0]))\n",
    "    np.random.shuffle(idx)\n",
    "\n",
    "    # determine number of batches to generate\n",
    "    if len(idx) % batch_size == 0:\n",
    "        number_batches = len(idx) // batch_size \n",
    "    else:\n",
    "        # account for the last bit of data\n",
    "        number_batches = len(idx) // batch_size  + 1\n",
    "        \n",
    "    # extract indicies for each mini-batch\n",
    "    index_list = np.array_split(idx,number_batches)\n",
    "        \n",
    "    return(index_list)"
   ]
  },
  {
   "cell_type": "code",
   "execution_count": 18,
   "metadata": {
    "collapsed": false
   },
   "outputs": [
    {
     "name": "stdout",
     "output_type": "stream",
     "text": [
      "Epoch: 1, Epoch time: 14.7, Loss: 0.04113\n",
      "Epoch: 2, Epoch time: 12.0, Loss: 0.02297\n",
      "Epoch: 3, Epoch time: 12.0, Loss: 0.02619\n",
      "Epoch: 4, Epoch time: 12.0, Loss: 0.01820\n",
      "Epoch: 5, Epoch time: 12.0, Loss: 0.02042\n",
      "\n",
      "\n",
      "Training time: 63.021 (sec)\n"
     ]
    }
   ],
   "source": [
    "start_time = time.time()\n",
    "# Initialize variables\n",
    "init = tf.global_variables_initializer()\n",
    "sess.run(init)\n",
    "\n",
    "# Training loop\n",
    "test_loss = []\n",
    "for epoch in range(EPOCHS):\n",
    "    epoch_start_time = time.time()\n",
    "    \n",
    "    # generate indices for mini_batches\n",
    "    batch_idx = generate_mini_batch_indices(X_train_even_mdl,BATCH_SIZE)\n",
    "    \n",
    "    # process each mini-batch\n",
    "    for i in range(len(batch_idx)):\n",
    "        rand_index = batch_idx[i]\n",
    "        rand_x = X_train_even_mdl[rand_index]\n",
    "        rand_y = y_train_even_mdl[rand_index]\n",
    "        for j in range(1):\n",
    "            sess.run(train_step, feed_dict={x_data: rand_x, \n",
    "                                            y_target: rand_y,\n",
    "                                            K.learning_phase(): 1})\n",
    "\n",
    "    test_loss = loss.eval(session=sess,feed_dict={x_data: X_test_even_mdl, \n",
    "                                  y_target: y_test_even_mdl,\n",
    "                                  K.learning_phase():0})\n",
    "    print('Epoch: %d, Epoch time: %.1f, Loss: %.5f' % (epoch+1, time.time() - epoch_start_time, test_loss))\n",
    "    \n",
    "print('\\n\\nTraining time: %.3f (sec)' % (time.time()-start_time))"
   ]
  },
  {
   "cell_type": "markdown",
   "metadata": {},
   "source": [
    "## Save Even Digit Model"
   ]
  },
  {
   "cell_type": "code",
   "execution_count": 19,
   "metadata": {
    "collapsed": false
   },
   "outputs": [
    {
     "data": {
      "text/plain": [
       "'./even_digit_model_tf_keras'"
      ]
     },
     "execution_count": 19,
     "metadata": {},
     "output_type": "execute_result"
    }
   ],
   "source": [
    "###\n",
    "# save model to disk\n",
    "###\n",
    "#Create a saver object which will save all the variables\n",
    "saver = tf.train.Saver()\n",
    "\n",
    "saver.save(sess, './even_digit_model_tf_keras')"
   ]
  },
  {
   "cell_type": "markdown",
   "metadata": {},
   "source": [
    "## Even Digit Model - Evaluate Model on Even Digit Test Data Set"
   ]
  },
  {
   "cell_type": "code",
   "execution_count": 20,
   "metadata": {
    "collapsed": false
   },
   "outputs": [],
   "source": [
    "# function to return model performance\n",
    "def getPerformanceMetrics(sess,X,y):\n",
    "    yhat = y_prob.eval(session=sess,feed_dict={x_data:X, K.learning_phase():0})\n",
    "    correct_prediction = tf.equal(tf.argmax(y,1), tf.argmax(yhat,1))\n",
    "    accuracy = tf.reduce_mean(tf.cast(correct_prediction, tf.float32))\n",
    "    \n",
    "    accuracy_value = accuracy.eval(session=sess,feed_dict={x_data: X,\n",
    "                                                          K.learning_phase():0})\n",
    "    \n",
    "    loss_value = loss.eval(session=sess,feed_dict={x_data: X, \n",
    "                                  y_target: y,\n",
    "                                  K.learning_phase():0})\n",
    "    \n",
    "    return({'accuracy': accuracy_value, 'loss': loss_value})\n",
    "    "
   ]
  },
  {
   "cell_type": "code",
   "execution_count": 21,
   "metadata": {
    "collapsed": false
   },
   "outputs": [
    {
     "name": "stdout",
     "output_type": "stream",
     "text": [
      "\n",
      "Test Loss: 0.0204161\n",
      "Test accuracy: 0.992895\n"
     ]
    }
   ],
   "source": [
    "score = getPerformanceMetrics(sess,X_test_even_mdl,y_test_even_mdl)\n",
    "print('\\nTest Loss:', score['loss'])\n",
    "print('Test accuracy:', score['accuracy'])"
   ]
  },
  {
   "cell_type": "code",
   "execution_count": 22,
   "metadata": {
    "collapsed": false
   },
   "outputs": [
    {
     "data": {
      "image/png": "[encoded data removed]",
      "text/plain": [
       "<matplotlib.figure.Figure at 0x15320b2b0>"
      ]
     },
     "metadata": {},
     "output_type": "display_data"
    }
   ],
   "source": [
    "y_hat = np.argmax(y_prob.eval(session=sess,feed_dict={x_data:X_test_even_mdl, K.learning_phase():0}),1)\n",
    "\n",
    "plotDigitGrid(X_test_even,y_test_even,idxs_even,y_hat=2*y_hat)"
   ]
  },
  {
   "cell_type": "markdown",
   "metadata": {},
   "source": [
    "## Even Digit Model - Evaluate Model on Odd Digit Test Data Set"
   ]
  },
  {
   "cell_type": "code",
   "execution_count": 23,
   "metadata": {
    "collapsed": false
   },
   "outputs": [
    {
     "name": "stdout",
     "output_type": "stream",
     "text": [
      "\n",
      "Test Loss: 7.45563\n",
      "Test accuracy: 0.0886874\n"
     ]
    }
   ],
   "source": [
    "score = getPerformanceMetrics(sess,X_test_odd_mdl,y_test_odd_mdl)\n",
    "print('\\nTest Loss:', score['loss'])\n",
    "print('Test accuracy:', score['accuracy'])"
   ]
  },
  {
   "cell_type": "code",
   "execution_count": 24,
   "metadata": {
    "collapsed": false
   },
   "outputs": [
    {
     "data": {
      "image/png": "[encoded data removed]",
      "text/plain": [
       "<matplotlib.figure.Figure at 0x15370e748>"
      ]
     },
     "metadata": {},
     "output_type": "display_data"
    }
   ],
   "source": [
    "y_hat = np.argmax(y_prob.eval(session=sess,feed_dict={x_data:X_test_odd_mdl, K.learning_phase():0}),1)\n",
    "\n",
    "plotDigitGrid(X_test_odd,y_test_odd,idxs_even,y_hat=2*y_hat+1)"
   ]
  },
  {
   "cell_type": "markdown",
   "metadata": {},
   "source": [
    "## Transfer Learning\n",
    "## Initialize Odd Digit Model from Even Digit Model"
   ]
  },
  {
   "cell_type": "code",
   "execution_count": null,
   "metadata": {
    "collapsed": true
   },
   "outputs": [],
   "source": [
    "###\n",
    "# recerate model structure\n",
    "###\n",
    "from keras.models import model_from_json\n",
    "\n",
    "# load json and create model\n",
    "json_file = open('./even_digit_model.json', 'r')\n",
    "loaded_model_json = json_file.read()\n",
    "json_file.close()\n",
    "\n",
    "# define cnn structure from the even_digit_model\n",
    "odd_digit_model = model_from_json(loaded_model_json)\n",
    "\n",
    "# load weights into new model\n",
    "odd_digit_model.load_weights('./even_digit_model.h5')"
   ]
  },
  {
   "cell_type": "markdown",
   "metadata": {},
   "source": [
    "## Report Structure on Odd Digit Model Structure"
   ]
  },
  {
   "cell_type": "code",
   "execution_count": null,
   "metadata": {
    "collapsed": false
   },
   "outputs": [],
   "source": [
    "for layer in odd_digit_model.layers:\n",
    "    layer_name = layer.name\n",
    "    layer_type = layer.__class__.__name__\n",
    "    layer_trainable_flag = layer.trainable\n",
    "    print (layer.name, layer_type, layer_trainable_flag)"
   ]
  },
  {
   "cell_type": "markdown",
   "metadata": {},
   "source": [
    "## Freeze Feature Detection Layers"
   ]
  },
  {
   "cell_type": "code",
   "execution_count": null,
   "metadata": {
    "collapsed": true
   },
   "outputs": [],
   "source": [
    "###\n",
    "# Convoluation and MaxPooling Layers\n",
    "###\n",
    "for layer in odd_digit_model.layers:\n",
    "    if layer.__class__.__name__ != 'Dense':\n",
    "        layer.trainable = False"
   ]
  },
  {
   "cell_type": "code",
   "execution_count": null,
   "metadata": {
    "collapsed": false
   },
   "outputs": [],
   "source": [
    "for layer in odd_digit_model.layers:\n",
    "    layer_name = layer.name\n",
    "    layer_type = layer.__class__.__name__\n",
    "    layer_trainable_flag = layer.trainable\n",
    "    print (layer.name, layer_type, layer_trainable_flag)"
   ]
  },
  {
   "cell_type": "code",
   "execution_count": null,
   "metadata": {
    "collapsed": true
   },
   "outputs": [],
   "source": [
    "# Compile model\n",
    "odd_digit_model.compile(loss='categorical_crossentropy', optimizer='adam', metrics=['accuracy'])"
   ]
  },
  {
   "cell_type": "markdown",
   "metadata": {},
   "source": [
    "## Train Odd Digit Model"
   ]
  },
  {
   "cell_type": "code",
   "execution_count": null,
   "metadata": {
    "collapsed": false
   },
   "outputs": [],
   "source": [
    "train_model(odd_digit_model,X_train_odd_mdl, y_train_odd_mdl, X_test_odd_mdl, y_test_odd_mdl)"
   ]
  },
  {
   "cell_type": "code",
   "execution_count": null,
   "metadata": {
    "collapsed": false
   },
   "outputs": [],
   "source": [
    "odd_digit_model.summary()"
   ]
  },
  {
   "cell_type": "markdown",
   "metadata": {},
   "source": [
    "## Odd Digit Model - Evaluate Model on Odd Digit Test Data Set"
   ]
  },
  {
   "cell_type": "code",
   "execution_count": null,
   "metadata": {
    "collapsed": false
   },
   "outputs": [],
   "source": [
    "score = odd_digit_model.evaluate(X_test_odd_mdl, y_test_odd_mdl, verbose=0)\n",
    "print('\\nTest Loss:', score[0])\n",
    "print('Test accuracy:', score[1])"
   ]
  },
  {
   "cell_type": "code",
   "execution_count": null,
   "metadata": {
    "collapsed": false,
    "scrolled": true
   },
   "outputs": [],
   "source": [
    "y_hat = odd_digit_model.predict_classes(X_test_odd_mdl)\n",
    "\n",
    "plotDigitGrid(X_test_odd,y_test_odd,idxs_even,y_hat=2*y_hat+1)"
   ]
  },
  {
   "cell_type": "markdown",
   "metadata": {},
   "source": [
    "## Odd Digit Model - Evaluate Even Digit Test Data Set"
   ]
  },
  {
   "cell_type": "code",
   "execution_count": null,
   "metadata": {
    "collapsed": false
   },
   "outputs": [],
   "source": [
    "# report performance on even digit test data set\n",
    "score = odd_digit_model.evaluate(X_test_even_mdl, y_test_even_mdl, verbose=0)\n",
    "print('\\nTest Loss:', score[0])\n",
    "print('Test accuracy:', score[1])"
   ]
  },
  {
   "cell_type": "code",
   "execution_count": null,
   "metadata": {
    "collapsed": false
   },
   "outputs": [],
   "source": [
    "y_hat = odd_digit_model.predict_classes(X_test_even_mdl)\n",
    "\n",
    "plotDigitGrid(X_test_even,y_test_even,idxs_even,y_hat=2*y_hat)"
   ]
  }
 ],
 "metadata": {
  "anaconda-cloud": {},
  "kernelspec": {
   "display_name": "Python [conda env:tf-gpu]",
   "language": "python",
   "name": "conda-env-tf-gpu-py"
  },
  "language_info": {
   "codemirror_mode": {
    "name": "ipython",
    "version": 3
   },
   "file_extension": ".py",
   "mimetype": "text/x-python",
   "name": "python",
   "nbconvert_exporter": "python",
   "pygments_lexer": "ipython3",
   "version": "3.5.2"
  }
 },
 "nbformat": 4,
 "nbformat_minor": 2
}
