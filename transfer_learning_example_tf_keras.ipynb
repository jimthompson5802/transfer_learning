{
 "cells": [
  {
   "cell_type": "markdown",
   "metadata": {},
   "source": [
    "# Transfer Learning - MNIST Data Set"
   ]
  },
  {
   "cell_type": "markdown",
   "metadata": {},
   "source": [
    "## Overview\n",
    "\n",
    "This notebook illustrates transfer learning using TensorFlow with the Keras API for specifing the CNN architecture.\n",
    "\n",
    "Structure of the notebook:\n",
    "* Obtain the MNIST data set\n",
    "* Split the MNIST data set into even digit data set and odd digit data set\n",
    "* Prepare image data for modeling, one-hot encode the digit label\n",
    "* Define feature detection and classification layers for the CNN model\n",
    "* Train even digit CNN model to recognize even digits and save model structure to disk\n",
    "* Evaluate model performance against even and odd digit test data sets\n",
    "* Create odd digit CNN model structure from the even digit model CNN\n",
    "* Freeze feature detection layers of the odd digit CNN model\n",
    "* Train CNN model with frozen feature detection layer to recognize odd digits\n",
    "* Evaluate model performance against odd and even test data sets"
   ]
  },
  {
   "cell_type": "markdown",
   "metadata": {},
   "source": [
    "## Setup"
   ]
  },
  {
   "cell_type": "code",
   "execution_count": 1,
   "metadata": {
    "collapsed": true
   },
   "outputs": [],
   "source": [
    "# configuration and profiling\n",
    "import time\n",
    "import os\n",
    "\n",
    "# set up backend theano or tensorflow\n",
    "os.environ['KERAS_BACKEND'] = 'tensorflow'\n"
   ]
  },
  {
   "cell_type": "code",
   "execution_count": 2,
   "metadata": {
    "collapsed": false
   },
   "outputs": [
    {
     "name": "stderr",
     "output_type": "stream",
     "text": [
      "Using TensorFlow backend.\n"
     ]
    }
   ],
   "source": [
    "import tensorflow as tf\n",
    "from tensorflow.python.framework import ops\n",
    "\n",
    "# TF specific Keras \n",
    "from keras import backend as K\n",
    "from keras.utils import np_utils\n",
    "from keras import backend as K\n",
    "K.set_image_dim_ordering('tf')\n",
    "\n",
    "import numpy as np"
   ]
  },
  {
   "cell_type": "markdown",
   "metadata": {},
   "source": [
    "## Obtain MNIST Data Set"
   ]
  },
  {
   "cell_type": "code",
   "execution_count": 3,
   "metadata": {
    "collapsed": false
   },
   "outputs": [
    {
     "name": "stdout",
     "output_type": "stream",
     "text": [
      "(60000, 28, 28)\n",
      "(60000,)\n",
      "(10000, 28, 28)\n",
      "(10000,)\n"
     ]
    }
   ],
   "source": [
    "from keras.datasets import mnist\n",
    "\n",
    "# load data\n",
    "(X_train, y_train), (X_test, y_test) = mnist.load_data()\n",
    "print(X_train.shape)\n",
    "print(y_train.shape)\n",
    "print(X_test.shape)\n",
    "print(y_test.shape)\n"
   ]
  },
  {
   "cell_type": "markdown",
   "metadata": {},
   "source": [
    "## Create even/odd data sets"
   ]
  },
  {
   "cell_type": "code",
   "execution_count": 4,
   "metadata": {
    "collapsed": true
   },
   "outputs": [],
   "source": [
    "# split into odd and evens\n",
    "odds = [i for i,j in enumerate(y_train) if j % 2 == 1 ]\n",
    "evens = list(set(range(len(y_train))) - set(odds))\n",
    "\n",
    "X_train_odd = X_train[odds]\n",
    "y_train_odd = y_train[odds]\n",
    "\n",
    "X_train_even = X_train[evens]\n",
    "y_train_even = y_train[evens]\n",
    "\n",
    "# split into odd and evens\n",
    "odds = [i for i,j in enumerate(y_test) if j % 2 == 1 ]\n",
    "evens = list(set(range(len(y_test))) - set(odds))\n",
    "\n",
    "X_test_odd = X_test[odds]\n",
    "y_test_odd = y_test[odds]\n",
    "\n",
    "X_test_even = X_test[evens]\n",
    "y_test_even = y_test[evens]"
   ]
  },
  {
   "cell_type": "markdown",
   "metadata": {},
   "source": [
    "## Prepare data for modeling"
   ]
  },
  {
   "cell_type": "code",
   "execution_count": 5,
   "metadata": {
    "collapsed": true
   },
   "outputs": [],
   "source": [
    "###\n",
    "# function to prepare data for modeling\n",
    "###\n",
    "def prepareFeatureSet(X_in,y_in):\n",
    "    # reshape to be [samples][channels][width][height]\n",
    "    X_out = X_in.reshape(X_in.shape[0], 28, 28, 1).astype('float32')\n",
    "\n",
    "    # normalize inputs from 0-255 to 0-1\n",
    "    X_out = X_out / 255\n",
    "    \n",
    "    #one-hot encode target variable\n",
    "    min_y = min(y_in)\n",
    "    num_classes = len(np.unique(y_in))\n",
    "    y_out = np_utils.to_categorical((y_in-min_y)/2,num_classes)\n",
    "    \n",
    "    return((X_out,y_out))\n",
    "    "
   ]
  },
  {
   "cell_type": "code",
   "execution_count": 6,
   "metadata": {
    "collapsed": false
   },
   "outputs": [],
   "source": [
    "###\n",
    "# Prepare data for modeling\n",
    "###\n",
    "X_train_even_mdl, y_train_even_mdl = prepareFeatureSet(X_train_even,y_train_even)\n",
    "X_test_even_mdl, y_test_even_mdl = prepareFeatureSet(X_test_even, y_test_even)\n",
    "\n",
    "X_train_odd_mdl, y_train_odd_mdl = prepareFeatureSet(X_train_odd,y_train_odd)\n",
    "X_test_odd_mdl, y_test_odd_mdl = prepareFeatureSet(X_test_odd, y_test_odd)"
   ]
  },
  {
   "cell_type": "markdown",
   "metadata": {},
   "source": [
    "## Plot sample images"
   ]
  },
  {
   "cell_type": "code",
   "execution_count": 7,
   "metadata": {
    "collapsed": false
   },
   "outputs": [],
   "source": [
    "%matplotlib inline\n",
    "import matplotlib.pyplot as plt\n",
    "\n",
    "def plotDigitGrid(X,y,idxs,y_hat=None):\n",
    "    plt.figure(figsize=(12,10))\n",
    "\n",
    "    for i in range(len(idxs)):\n",
    "        plt.subplot(5,6,i+1)\n",
    "        \n",
    "        if y_hat is None:\n",
    "            plt.title('Label: {label}'.format(label=y[idxs[i]]))\n",
    "        else:\n",
    "            plt.title(\"Label: {label}  Pred: {pred}\".format(label=y[idxs[i]], pred=y_hat[idxs[i]]))\n",
    "            \n",
    "        plt.imshow(X[idxs[i]], cmap='Greys')\n",
    "        plt.tick_params(\n",
    "            axis='both',          # changes apply to the x-axis and y-axis\n",
    "            which='both',      # both major and minor ticks are affected\n",
    "            bottom='off',      # tick marks on bottom side are off\n",
    "            left='off',        # tick marks on left side are off\n",
    "            labelleft='off',   # label on left side are off\n",
    "            labelbottom='off') # labels along the bottom edge are off\n",
    "\n",
    "    plt.show()\n"
   ]
  },
  {
   "cell_type": "markdown",
   "metadata": {},
   "source": [
    "## Plot Sample Even Digits"
   ]
  },
  {
   "cell_type": "code",
   "execution_count": 8,
   "metadata": {
    "collapsed": false
   },
   "outputs": [
    {
     "data": {
      "image/png": "[encoded data removed]",
      "text/plain": [
       "<matplotlib.figure.Figure at 0x12de69240>"
      ]
     },
     "metadata": {},
     "output_type": "display_data"
    }
   ],
   "source": [
    "np.random.seed(127)\n",
    "idxs_even = np.random.choice(y_test_even.shape[0],30)\n",
    "\n",
    "plotDigitGrid(X_test_even,y_test_even,idxs_even)"
   ]
  },
  {
   "cell_type": "markdown",
   "metadata": {},
   "source": [
    "## Plot Sample Odd Digits"
   ]
  },
  {
   "cell_type": "code",
   "execution_count": 9,
   "metadata": {
    "collapsed": false
   },
   "outputs": [
    {
     "data": {
      "image/png": "[encoded data removed]",
      "text/plain": [
       "<matplotlib.figure.Figure at 0x1502efe48>"
      ]
     },
     "metadata": {},
     "output_type": "display_data"
    }
   ],
   "source": [
    "np.random.seed(127)\n",
    "idxs_odd = np.random.choice(y_test_odd.shape[0],30)\n",
    "\n",
    "plotDigitGrid(X_test_odd,y_test_odd,idxs_odd)"
   ]
  },
  {
   "cell_type": "markdown",
   "metadata": {},
   "source": [
    "## Set up for model training"
   ]
  },
  {
   "cell_type": "code",
   "execution_count": 10,
   "metadata": {
    "collapsed": true
   },
   "outputs": [],
   "source": [
    "###\n",
    "# function to train model\n",
    "###\n",
    "def train_model(model, x_train, y_train, x_test, y_test):\n",
    "    model.compile(loss='categorical_crossentropy',\n",
    "                  optimizer='adadelta',\n",
    "                  metrics=['accuracy'])\n",
    "\n",
    "    t = time.time()\n",
    "    model.fit(x_train, y_train,\n",
    "              batch_size=BATCH_SIZE,\n",
    "              epochs=EPOCHS,\n",
    "              verbose=1,\n",
    "              validation_data=(x_test, y_test))\n",
    "    print('Training time: %.3f (sec)' % (time.time() - t))\n"
   ]
  },
  {
   "cell_type": "code",
   "execution_count": 11,
   "metadata": {
    "collapsed": false
   },
   "outputs": [],
   "source": [
    "# reset computational TF compuationatl graph\n",
    "ops.reset_default_graph()\n",
    "\n",
    "# setup session for the even digit model\n",
    "sess_even = tf.Session()\n",
    "\n",
    "# connect Keras to TF\n",
    "K.set_session(sess_even)\n",
    "\n"
   ]
  },
  {
   "cell_type": "markdown",
   "metadata": {},
   "source": [
    "## Define CNN Model architecture"
   ]
  },
  {
   "cell_type": "code",
   "execution_count": 12,
   "metadata": {
    "collapsed": false
   },
   "outputs": [],
   "source": [
    "###\n",
    "# Initialize placeholders\n",
    "###\n",
    "\n",
    "# training image data\n",
    "x_data = tf.placeholder(shape=[None, X_train_even_mdl.shape[1],X_train_even_mdl.shape[2],1], \n",
    "                        dtype=tf.float32,\n",
    "                        name='x_data')\n",
    "\n",
    "# training image category \n",
    "y_target = tf.placeholder(shape=[None, y_train_even_mdl.shape[1]], \n",
    "                          dtype=tf.float32,\n",
    "                         name='y_target')"
   ]
  },
  {
   "cell_type": "code",
   "execution_count": 13,
   "metadata": {
    "collapsed": false
   },
   "outputs": [
    {
     "name": "stdout",
     "output_type": "stream",
     "text": [
      "<class 'tensorflow.python.framework.ops.Tensor'>(?, 5)\n"
     ]
    }
   ],
   "source": [
    "from keras.layers import Dense\n",
    "from keras.layers import Dropout\n",
    "from keras.layers import Flatten\n",
    "from keras.layers.convolutional import Convolution2D\n",
    "from keras.layers.convolutional import MaxPooling2D\n",
    "\n",
    "###\n",
    "# Declare model operations\n",
    "###\n",
    "\n",
    "x = Convolution2D(30,5,padding='valid',activation='relu',name='ConvLayer1')(x_data)\n",
    "x = Convolution2D(15,5,activation='relu', name='ConvLayer2')(x)\n",
    "x = MaxPooling2D(pool_size=(2,2), name='MaxPoolLayer1')(x)\n",
    "x = Dropout(0.25)(x)\n",
    "x = Flatten()(x)\n",
    "x = Dense(128,activation='relu',name='DenseLayer1')(x)\n",
    "x = Dropout(0.5)(x)\n",
    "y_prob = Dense(5,activation='softmax',name='DenseLayer2')(x)\n",
    "print(str(type(y_prob)) + str(y_prob.get_shape()))\n"
   ]
  },
  {
   "cell_type": "code",
   "execution_count": 14,
   "metadata": {
    "collapsed": false
   },
   "outputs": [],
   "source": [
    "###\n",
    "# Declare Loss Function (softmax cross entropy)\n",
    "###\n",
    "from keras.objectives import categorical_crossentropy\n",
    "\n",
    "loss = tf.reduce_mean(categorical_crossentropy(y_target,y_prob))\n",
    "\n",
    "# optimize the loss - initial training\n",
    "train_step = tf.train.AdamOptimizer(name='train_step').minimize(loss)\n",
    "\n",
    "# optimizae the loss - transfer learning - classification layers only\n",
    "trainable_layers = tf.get_collection(tf.GraphKeys.TRAINABLE_VARIABLES,scope='DenseLayer')\n",
    "train_step_transfer = tf.train.AdamOptimizer(name='train_step_transfer').minimize(loss,var_list=trainable_layers)\n",
    "    "
   ]
  },
  {
   "cell_type": "markdown",
   "metadata": {},
   "source": [
    "## Global parameters for training"
   ]
  },
  {
   "cell_type": "code",
   "execution_count": 15,
   "metadata": {
    "collapsed": true
   },
   "outputs": [],
   "source": [
    "BATCH_SIZE = 128\n",
    "\n",
    "EPOCHS = 5\n",
    "\n",
    "# ensure TF reproducibiliy\n",
    "seed = 13\n",
    "np.random.seed(13)\n",
    "tf.set_random_seed(seed)"
   ]
  },
  {
   "cell_type": "markdown",
   "metadata": {},
   "source": [
    "## Train Even Digit Model"
   ]
  },
  {
   "cell_type": "code",
   "execution_count": 16,
   "metadata": {
    "collapsed": true
   },
   "outputs": [],
   "source": [
    "###\n",
    "# function to generate indices for mini-batches for training\n",
    "###\n",
    "\n",
    "def generate_mini_batch_indices(X,batch_size=5):\n",
    "    \n",
    "    # randomly shuffle the indicies\n",
    "    idx = np.asarray(range(X.shape[0]))\n",
    "    np.random.shuffle(idx)\n",
    "\n",
    "    # determine number of batches to generate\n",
    "    if len(idx) % batch_size == 0:\n",
    "        number_batches = len(idx) // batch_size \n",
    "    else:\n",
    "        # account for the last bit of data\n",
    "        number_batches = len(idx) // batch_size  + 1\n",
    "        \n",
    "    # extract indicies for each mini-batch\n",
    "    index_list = np.array_split(idx,number_batches)\n",
    "        \n",
    "    return(index_list)"
   ]
  },
  {
   "cell_type": "code",
   "execution_count": 17,
   "metadata": {
    "collapsed": false
   },
   "outputs": [
    {
     "name": "stdout",
     "output_type": "stream",
     "text": [
      "Epoch: 1, Epoch time: 14.4, Loss: 0.03005\n",
      "Epoch: 2, Epoch time: 11.9, Loss: 0.02315\n",
      "Epoch: 3, Epoch time: 11.8, Loss: 0.01869\n",
      "Epoch: 4, Epoch time: 11.8, Loss: 0.01454\n",
      "Epoch: 5, Epoch time: 11.8, Loss: 0.01487\n",
      "\n",
      "\n",
      "Training time: 62.162 (sec)\n"
     ]
    }
   ],
   "source": [
    "start_time = time.time()\n",
    "# Initialize variables\n",
    "init = tf.global_variables_initializer()\n",
    "sess_even.run(init)\n",
    "\n",
    "# Training loop\n",
    "test_loss = []\n",
    "for epoch in range(EPOCHS):\n",
    "    epoch_start_time = time.time()\n",
    "    \n",
    "    # generate indices for mini_batches\n",
    "    batch_idx = generate_mini_batch_indices(X_train_even_mdl,BATCH_SIZE)\n",
    "    \n",
    "    # process each mini-batch\n",
    "    for i in range(len(batch_idx)):\n",
    "        rand_index = batch_idx[i]\n",
    "        rand_x = X_train_even_mdl[rand_index]\n",
    "        rand_y = y_train_even_mdl[rand_index]\n",
    "        for j in range(1):\n",
    "            sess_even.run(train_step, feed_dict={x_data: rand_x, \n",
    "                                            y_target: rand_y,\n",
    "                                            K.learning_phase(): 1})\n",
    "\n",
    "    test_loss = loss.eval(session=sess_even,feed_dict={x_data: X_test_even_mdl, \n",
    "                                  y_target: y_test_even_mdl,\n",
    "                                  K.learning_phase():0})\n",
    "    print('Epoch: %d, Epoch time: %.1f, Loss: %.5f' % (epoch+1, time.time() - epoch_start_time, test_loss))\n",
    "    \n",
    "print('\\n\\nTraining time: %.3f (sec)' % (time.time()-start_time))"
   ]
  },
  {
   "cell_type": "markdown",
   "metadata": {},
   "source": [
    "## Save Even Digit Model"
   ]
  },
  {
   "cell_type": "code",
   "execution_count": 18,
   "metadata": {
    "collapsed": false
   },
   "outputs": [
    {
     "data": {
      "text/plain": [
       "'./even_digit_model_tf_keras'"
      ]
     },
     "execution_count": 18,
     "metadata": {},
     "output_type": "execute_result"
    }
   ],
   "source": [
    "###\n",
    "# save model to disk\n",
    "###\n",
    "#Create a saver object which will save all the variables\n",
    "saver = tf.train.Saver()\n",
    "\n",
    "saver.save(sess_even, './even_digit_model_tf_keras')"
   ]
  },
  {
   "cell_type": "markdown",
   "metadata": {},
   "source": [
    "## Even Digit Model - Evaluate Model on Even Digit Test Data Set"
   ]
  },
  {
   "cell_type": "code",
   "execution_count": 19,
   "metadata": {
    "collapsed": false
   },
   "outputs": [],
   "source": [
    "# function to return model performance\n",
    "def getPerformanceMetrics(sess,X,y):\n",
    "    yhat = y_prob.eval(session=sess,feed_dict={x_data:X, K.learning_phase():0})\n",
    "    correct_prediction = tf.equal(tf.argmax(y,1), tf.argmax(yhat,1))\n",
    "    accuracy = tf.reduce_mean(tf.cast(correct_prediction, tf.float32))\n",
    "    \n",
    "    accuracy_value = accuracy.eval(session=sess,feed_dict={x_data: X,\n",
    "                                                          K.learning_phase():0})\n",
    "    \n",
    "    loss_value = loss.eval(session=sess,feed_dict={x_data: X, \n",
    "                                  y_target: y,\n",
    "                                  K.learning_phase():0})\n",
    "    \n",
    "    return({'accuracy': accuracy_value, 'loss': loss_value})\n",
    "    "
   ]
  },
  {
   "cell_type": "code",
   "execution_count": 20,
   "metadata": {
    "collapsed": false
   },
   "outputs": [
    {
     "name": "stdout",
     "output_type": "stream",
     "text": [
      "\n",
      "Test Loss: 0.0148693\n",
      "Test accuracy: 0.994925\n"
     ]
    }
   ],
   "source": [
    "score = getPerformanceMetrics(sess_even,X_test_even_mdl,y_test_even_mdl)\n",
    "print('\\nTest Loss:', score['loss'])\n",
    "print('Test accuracy:', score['accuracy'])"
   ]
  },
  {
   "cell_type": "code",
   "execution_count": 21,
   "metadata": {
    "collapsed": false
   },
   "outputs": [
    {
     "data": {
      "image/png": "[encoded data removed]",
      "text/plain": [
       "<matplotlib.figure.Figure at 0x151b0d5c0>"
      ]
     },
     "metadata": {},
     "output_type": "display_data"
    }
   ],
   "source": [
    "y_hat = np.argmax(y_prob.eval(session=sess_even,feed_dict={x_data:X_test_even_mdl, K.learning_phase():0}),1)\n",
    "\n",
    "plotDigitGrid(X_test_even,y_test_even,idxs_even,y_hat=2*y_hat)"
   ]
  },
  {
   "cell_type": "markdown",
   "metadata": {},
   "source": [
    "## Even Digit Model - Evaluate Model on Odd Digit Test Data Set"
   ]
  },
  {
   "cell_type": "code",
   "execution_count": 22,
   "metadata": {
    "collapsed": false
   },
   "outputs": [
    {
     "name": "stdout",
     "output_type": "stream",
     "text": [
      "\n",
      "Test Loss: 8.06109\n",
      "Test accuracy: 0.0884903\n"
     ]
    }
   ],
   "source": [
    "score = getPerformanceMetrics(sess_even,X_test_odd_mdl,y_test_odd_mdl)\n",
    "print('\\nTest Loss:', score['loss'])\n",
    "print('Test accuracy:', score['accuracy'])"
   ]
  },
  {
   "cell_type": "code",
   "execution_count": 23,
   "metadata": {
    "collapsed": false
   },
   "outputs": [
    {
     "data": {
      "image/png": "[encoded data removed]",
      "text/plain": [
       "<matplotlib.figure.Figure at 0x151b6f2b0>"
      ]
     },
     "metadata": {},
     "output_type": "display_data"
    }
   ],
   "source": [
    "y_hat = np.argmax(y_prob.eval(session=sess_even,feed_dict={x_data:X_test_odd_mdl, K.learning_phase():0}),1)\n",
    "\n",
    "plotDigitGrid(X_test_odd,y_test_odd,idxs_even,y_hat=2*y_hat+1)"
   ]
  },
  {
   "cell_type": "markdown",
   "metadata": {},
   "source": [
    "## Transfer Learning\n",
    "## Initialize Odd Digit Model from Even Digit Model"
   ]
  },
  {
   "cell_type": "code",
   "execution_count": 33,
   "metadata": {
    "collapsed": true
   },
   "outputs": [],
   "source": [
    "###\n",
    "# recerate model structure\n",
    "###\n",
    "\n",
    "# reset computational TF compuationatl graph\n",
    "ops.reset_default_graph()\n",
    "\n",
    "# set up session for odd digit model\n",
    "sess_odd=tf.Session()    \n",
    "\n",
    "# connect Keras to TF\n",
    "K.set_session(sess_odd)"
   ]
  },
  {
   "cell_type": "code",
   "execution_count": 34,
   "metadata": {
    "collapsed": false
   },
   "outputs": [],
   "source": [
    "#First let's load meta graph and restore weights\n",
    "saver = tf.train.import_meta_graph('even_digit_model_tf_keras.meta')\n",
    "saver.restore(sess_odd,tf.train.latest_checkpoint('./'))\n",
    "sess_odd.run(tf.global_variables_initializer())"
   ]
  },
  {
   "cell_type": "markdown",
   "metadata": {},
   "source": [
    "## Report Structure on Odd Digit Model Structure"
   ]
  },
  {
   "cell_type": "code",
   "execution_count": 56,
   "metadata": {
    "collapsed": false
   },
   "outputs": [
    {
     "name": "stdout",
     "output_type": "stream",
     "text": [
      "ConvLayer1/kernel:0\n",
      "ConvLayer1/bias:0\n",
      "ConvLayer2/kernel:0\n",
      "ConvLayer2/bias:0\n",
      "DenseLayer1/kernel:0\n",
      "DenseLayer1/bias:0\n",
      "DenseLayer2/kernel:0\n",
      "DenseLayer2/bias:0\n"
     ]
    }
   ],
   "source": [
    "for v in tf.get_collection(tf.GraphKeys.TRAINABLE_VARIABLES):\n",
    "    print(v.name)"
   ]
  },
  {
   "cell_type": "code",
   "execution_count": 54,
   "metadata": {
    "collapsed": false
   },
   "outputs": [
    {
     "name": "stdout",
     "output_type": "stream",
     "text": [
      "train_step\n",
      "train_step_transfer\n"
     ]
    }
   ],
   "source": [
    "for v in tf.get_collection(tf.GraphKeys.TRAIN_OP):\n",
    "    print(v.name)"
   ]
  },
  {
   "cell_type": "code",
   "execution_count": 55,
   "metadata": {
    "collapsed": false
   },
   "outputs": [
    {
     "name": "stdout",
     "output_type": "stream",
     "text": [
      "DenseLayer1/kernel:0\n",
      "DenseLayer1/bias:0\n",
      "DenseLayer2/kernel:0\n",
      "DenseLayer2/bias:0\n"
     ]
    }
   ],
   "source": [
    "trainable_layers = tf.get_collection(tf.GraphKeys.TRAINABLE_VARIABLES,scope='DenseLayer')\n",
    "for v in trainable_layers:\n",
    "    print(v.name)"
   ]
  },
  {
   "cell_type": "code",
   "execution_count": 51,
   "metadata": {
    "collapsed": false
   },
   "outputs": [
    {
     "name": "stdout",
     "output_type": "stream",
     "text": [
      "train_step\n",
      "train_step_transfer\n"
     ]
    }
   ],
   "source": [
    "for v in tf.get_collection(tf.GraphKeys.TRAIN_OP):\n",
    "    print(v.name)"
   ]
  },
  {
   "cell_type": "code",
   "execution_count": 39,
   "metadata": {
    "collapsed": false
   },
   "outputs": [
    {
     "data": {
      "text/plain": [
       "<tf.Tensor 'x_data:0' shape=(?, 28, 28, 1) dtype=float32>"
      ]
     },
     "execution_count": 39,
     "metadata": {},
     "output_type": "execute_result"
    }
   ],
   "source": [
    "tf.get_default_graph().get_tensor_by_name(\"x_data:0\")"
   ]
  },
  {
   "cell_type": "code",
   "execution_count": 52,
   "metadata": {
    "collapsed": false
   },
   "outputs": [],
   "source": [
    "#x_data = tf.get_default_graph().get_tensor_by_name(\"x_data:0\")\n",
    "#y_target = tf.get_default_graph().get_tensor_by_name(\"y_target:0\")\n",
    "\n",
    "# training image data\n",
    "x_data1 = tf.placeholder(shape=[None, X_train_even_mdl.shape[1],X_train_even_mdl.shape[2],1], \n",
    "                        dtype=tf.float32,\n",
    "                        name='x_data')\n",
    "\n",
    "# training image category \n",
    "y_target1 = tf.placeholder(shape=[None, y_train_even_mdl.shape[1]], \n",
    "                          dtype=tf.float32,\n",
    "                         name='y_target')"
   ]
  },
  {
   "cell_type": "markdown",
   "metadata": {},
   "source": [
    "## Freeze Feature Detection Layers"
   ]
  },
  {
   "cell_type": "markdown",
   "metadata": {},
   "source": [
    "## Train Odd Digit Model"
   ]
  },
  {
   "cell_type": "code",
   "execution_count": 53,
   "metadata": {
    "collapsed": false
   },
   "outputs": [
    {
     "ename": "ValueError",
     "evalue": "Fetch argument <tf.Operation 'train_step_transfer' type=NoOp> cannot be interpreted as a Tensor. (Operation name: \"train_step_transfer\"\nop: \"NoOp\"\ninput: \"^train_step_transfer/update_DenseLayer1/kernel/ApplyAdam\"\ninput: \"^train_step_transfer/update_DenseLayer1/bias/ApplyAdam\"\ninput: \"^train_step_transfer/update_DenseLayer2/kernel/ApplyAdam\"\ninput: \"^train_step_transfer/update_DenseLayer2/bias/ApplyAdam\"\ninput: \"^train_step_transfer/Assign\"\ninput: \"^train_step_transfer/Assign_1\"\n is not an element of this graph.)",
     "output_type": "error",
     "traceback": [
      "\u001b[0;31m---------------------------------------------------------------------------\u001b[0m",
      "\u001b[0;31mValueError\u001b[0m                                Traceback (most recent call last)",
      "\u001b[0;32m/Users/jim/anaconda3/envs/tf-gpu/lib/python3.5/site-packages/tensorflow/python/client/session.py\u001b[0m in \u001b[0;36m__init__\u001b[0;34m(self, fetches, contraction_fn)\u001b[0m\n\u001b[1;32m    266\u001b[0m         self._unique_fetches.append(ops.get_default_graph().as_graph_element(\n\u001b[0;32m--> 267\u001b[0;31m             fetch, allow_tensor=True, allow_operation=True))\n\u001b[0m\u001b[1;32m    268\u001b[0m       \u001b[0;32mexcept\u001b[0m \u001b[0mTypeError\u001b[0m \u001b[0;32mas\u001b[0m \u001b[0me\u001b[0m\u001b[0;34m:\u001b[0m\u001b[0;34m\u001b[0m\u001b[0m\n",
      "\u001b[0;32m/Users/jim/anaconda3/envs/tf-gpu/lib/python3.5/site-packages/tensorflow/python/framework/ops.py\u001b[0m in \u001b[0;36mas_graph_element\u001b[0;34m(self, obj, allow_tensor, allow_operation)\u001b[0m\n\u001b[1;32m   2404\u001b[0m     \u001b[0;32mwith\u001b[0m \u001b[0mself\u001b[0m\u001b[0;34m.\u001b[0m\u001b[0m_lock\u001b[0m\u001b[0;34m:\u001b[0m\u001b[0;34m\u001b[0m\u001b[0m\n\u001b[0;32m-> 2405\u001b[0;31m       \u001b[0;32mreturn\u001b[0m \u001b[0mself\u001b[0m\u001b[0;34m.\u001b[0m\u001b[0m_as_graph_element_locked\u001b[0m\u001b[0;34m(\u001b[0m\u001b[0mobj\u001b[0m\u001b[0;34m,\u001b[0m \u001b[0mallow_tensor\u001b[0m\u001b[0;34m,\u001b[0m \u001b[0mallow_operation\u001b[0m\u001b[0;34m)\u001b[0m\u001b[0;34m\u001b[0m\u001b[0m\n\u001b[0m\u001b[1;32m   2406\u001b[0m \u001b[0;34m\u001b[0m\u001b[0m\n",
      "\u001b[0;32m/Users/jim/anaconda3/envs/tf-gpu/lib/python3.5/site-packages/tensorflow/python/framework/ops.py\u001b[0m in \u001b[0;36m_as_graph_element_locked\u001b[0;34m(self, obj, allow_tensor, allow_operation)\u001b[0m\n\u001b[1;32m   2488\u001b[0m       \u001b[0;32mif\u001b[0m \u001b[0mobj\u001b[0m\u001b[0;34m.\u001b[0m\u001b[0mgraph\u001b[0m \u001b[0;32mis\u001b[0m \u001b[0;32mnot\u001b[0m \u001b[0mself\u001b[0m\u001b[0;34m:\u001b[0m\u001b[0;34m\u001b[0m\u001b[0m\n\u001b[0;32m-> 2489\u001b[0;31m         \u001b[0;32mraise\u001b[0m \u001b[0mValueError\u001b[0m\u001b[0;34m(\u001b[0m\u001b[0;34m\"Operation %s is not an element of this graph.\"\u001b[0m \u001b[0;34m%\u001b[0m \u001b[0mobj\u001b[0m\u001b[0;34m)\u001b[0m\u001b[0;34m\u001b[0m\u001b[0m\n\u001b[0m\u001b[1;32m   2490\u001b[0m       \u001b[0;32mreturn\u001b[0m \u001b[0mobj\u001b[0m\u001b[0;34m\u001b[0m\u001b[0m\n",
      "\u001b[0;31mValueError\u001b[0m: Operation name: \"train_step_transfer\"\nop: \"NoOp\"\ninput: \"^train_step_transfer/update_DenseLayer1/kernel/ApplyAdam\"\ninput: \"^train_step_transfer/update_DenseLayer1/bias/ApplyAdam\"\ninput: \"^train_step_transfer/update_DenseLayer2/kernel/ApplyAdam\"\ninput: \"^train_step_transfer/update_DenseLayer2/bias/ApplyAdam\"\ninput: \"^train_step_transfer/Assign\"\ninput: \"^train_step_transfer/Assign_1\"\n is not an element of this graph.",
      "\nDuring handling of the above exception, another exception occurred:\n",
      "\u001b[0;31mValueError\u001b[0m                                Traceback (most recent call last)",
      "\u001b[0;32m<ipython-input-53-b7bd05769ac8>\u001b[0m in \u001b[0;36m<module>\u001b[0;34m()\u001b[0m\n\u001b[1;32m     18\u001b[0m                           feed_dict={x_data1: rand_x, \n\u001b[1;32m     19\u001b[0m                                      \u001b[0my_target1\u001b[0m\u001b[0;34m:\u001b[0m \u001b[0mrand_y\u001b[0m\u001b[0;34m,\u001b[0m\u001b[0;34m\u001b[0m\u001b[0m\n\u001b[0;32m---> 20\u001b[0;31m                                      K.learning_phase(): 1})\n\u001b[0m\u001b[1;32m     21\u001b[0m \u001b[0;34m\u001b[0m\u001b[0m\n\u001b[1;32m     22\u001b[0m     test_loss = loss.eval(session=sess_odd,feed_dict={x_data1: X_test_odd_mdl, \n",
      "\u001b[0;32m/Users/jim/anaconda3/envs/tf-gpu/lib/python3.5/site-packages/tensorflow/python/client/session.py\u001b[0m in \u001b[0;36mrun\u001b[0;34m(self, fetches, feed_dict, options, run_metadata)\u001b[0m\n\u001b[1;32m    765\u001b[0m     \u001b[0;32mtry\u001b[0m\u001b[0;34m:\u001b[0m\u001b[0;34m\u001b[0m\u001b[0m\n\u001b[1;32m    766\u001b[0m       result = self._run(None, fetches, feed_dict, options_ptr,\n\u001b[0;32m--> 767\u001b[0;31m                          run_metadata_ptr)\n\u001b[0m\u001b[1;32m    768\u001b[0m       \u001b[0;32mif\u001b[0m \u001b[0mrun_metadata\u001b[0m\u001b[0;34m:\u001b[0m\u001b[0;34m\u001b[0m\u001b[0m\n\u001b[1;32m    769\u001b[0m         \u001b[0mproto_data\u001b[0m \u001b[0;34m=\u001b[0m \u001b[0mtf_session\u001b[0m\u001b[0;34m.\u001b[0m\u001b[0mTF_GetBuffer\u001b[0m\u001b[0;34m(\u001b[0m\u001b[0mrun_metadata_ptr\u001b[0m\u001b[0;34m)\u001b[0m\u001b[0;34m\u001b[0m\u001b[0m\n",
      "\u001b[0;32m/Users/jim/anaconda3/envs/tf-gpu/lib/python3.5/site-packages/tensorflow/python/client/session.py\u001b[0m in \u001b[0;36m_run\u001b[0;34m(self, handle, fetches, feed_dict, options, run_metadata)\u001b[0m\n\u001b[1;32m    950\u001b[0m \u001b[0;34m\u001b[0m\u001b[0m\n\u001b[1;32m    951\u001b[0m     \u001b[0;31m# Create a fetch handler to take care of the structure of fetches.\u001b[0m\u001b[0;34m\u001b[0m\u001b[0;34m\u001b[0m\u001b[0m\n\u001b[0;32m--> 952\u001b[0;31m     \u001b[0mfetch_handler\u001b[0m \u001b[0;34m=\u001b[0m \u001b[0m_FetchHandler\u001b[0m\u001b[0;34m(\u001b[0m\u001b[0mself\u001b[0m\u001b[0;34m.\u001b[0m\u001b[0m_graph\u001b[0m\u001b[0;34m,\u001b[0m \u001b[0mfetches\u001b[0m\u001b[0;34m,\u001b[0m \u001b[0mfeed_dict_string\u001b[0m\u001b[0;34m)\u001b[0m\u001b[0;34m\u001b[0m\u001b[0m\n\u001b[0m\u001b[1;32m    953\u001b[0m \u001b[0;34m\u001b[0m\u001b[0m\n\u001b[1;32m    954\u001b[0m     \u001b[0;31m# Run request and get response.\u001b[0m\u001b[0;34m\u001b[0m\u001b[0;34m\u001b[0m\u001b[0m\n",
      "\u001b[0;32m/Users/jim/anaconda3/envs/tf-gpu/lib/python3.5/site-packages/tensorflow/python/client/session.py\u001b[0m in \u001b[0;36m__init__\u001b[0;34m(self, graph, fetches, feeds)\u001b[0m\n\u001b[1;32m    406\u001b[0m     \"\"\"\n\u001b[1;32m    407\u001b[0m     \u001b[0;32mwith\u001b[0m \u001b[0mgraph\u001b[0m\u001b[0;34m.\u001b[0m\u001b[0mas_default\u001b[0m\u001b[0;34m(\u001b[0m\u001b[0;34m)\u001b[0m\u001b[0;34m:\u001b[0m\u001b[0;34m\u001b[0m\u001b[0m\n\u001b[0;32m--> 408\u001b[0;31m       \u001b[0mself\u001b[0m\u001b[0;34m.\u001b[0m\u001b[0m_fetch_mapper\u001b[0m \u001b[0;34m=\u001b[0m \u001b[0m_FetchMapper\u001b[0m\u001b[0;34m.\u001b[0m\u001b[0mfor_fetch\u001b[0m\u001b[0;34m(\u001b[0m\u001b[0mfetches\u001b[0m\u001b[0;34m)\u001b[0m\u001b[0;34m\u001b[0m\u001b[0m\n\u001b[0m\u001b[1;32m    409\u001b[0m     \u001b[0mself\u001b[0m\u001b[0;34m.\u001b[0m\u001b[0m_fetches\u001b[0m \u001b[0;34m=\u001b[0m \u001b[0;34m[\u001b[0m\u001b[0;34m]\u001b[0m\u001b[0;34m\u001b[0m\u001b[0m\n\u001b[1;32m    410\u001b[0m     \u001b[0mself\u001b[0m\u001b[0;34m.\u001b[0m\u001b[0m_targets\u001b[0m \u001b[0;34m=\u001b[0m \u001b[0;34m[\u001b[0m\u001b[0;34m]\u001b[0m\u001b[0;34m\u001b[0m\u001b[0m\n",
      "\u001b[0;32m/Users/jim/anaconda3/envs/tf-gpu/lib/python3.5/site-packages/tensorflow/python/client/session.py\u001b[0m in \u001b[0;36mfor_fetch\u001b[0;34m(fetch)\u001b[0m\n\u001b[1;32m    236\u001b[0m         \u001b[0;32mif\u001b[0m \u001b[0misinstance\u001b[0m\u001b[0;34m(\u001b[0m\u001b[0mfetch\u001b[0m\u001b[0;34m,\u001b[0m \u001b[0mtensor_type\u001b[0m\u001b[0;34m)\u001b[0m\u001b[0;34m:\u001b[0m\u001b[0;34m\u001b[0m\u001b[0m\n\u001b[1;32m    237\u001b[0m           \u001b[0mfetches\u001b[0m\u001b[0;34m,\u001b[0m \u001b[0mcontraction_fn\u001b[0m \u001b[0;34m=\u001b[0m \u001b[0mfetch_fn\u001b[0m\u001b[0;34m(\u001b[0m\u001b[0mfetch\u001b[0m\u001b[0;34m)\u001b[0m\u001b[0;34m\u001b[0m\u001b[0m\n\u001b[0;32m--> 238\u001b[0;31m           \u001b[0;32mreturn\u001b[0m \u001b[0m_ElementFetchMapper\u001b[0m\u001b[0;34m(\u001b[0m\u001b[0mfetches\u001b[0m\u001b[0;34m,\u001b[0m \u001b[0mcontraction_fn\u001b[0m\u001b[0;34m)\u001b[0m\u001b[0;34m\u001b[0m\u001b[0m\n\u001b[0m\u001b[1;32m    239\u001b[0m     \u001b[0;31m# Did not find anything.\u001b[0m\u001b[0;34m\u001b[0m\u001b[0;34m\u001b[0m\u001b[0m\n\u001b[1;32m    240\u001b[0m     raise TypeError('Fetch argument %r has invalid type %r' %\n",
      "\u001b[0;32m/Users/jim/anaconda3/envs/tf-gpu/lib/python3.5/site-packages/tensorflow/python/client/session.py\u001b[0m in \u001b[0;36m__init__\u001b[0;34m(self, fetches, contraction_fn)\u001b[0m\n\u001b[1;32m    272\u001b[0m       \u001b[0;32mexcept\u001b[0m \u001b[0mValueError\u001b[0m \u001b[0;32mas\u001b[0m \u001b[0me\u001b[0m\u001b[0;34m:\u001b[0m\u001b[0;34m\u001b[0m\u001b[0m\n\u001b[1;32m    273\u001b[0m         raise ValueError('Fetch argument %r cannot be interpreted as a '\n\u001b[0;32m--> 274\u001b[0;31m                          'Tensor. (%s)' % (fetch, str(e)))\n\u001b[0m\u001b[1;32m    275\u001b[0m       \u001b[0;32mexcept\u001b[0m \u001b[0mKeyError\u001b[0m \u001b[0;32mas\u001b[0m \u001b[0me\u001b[0m\u001b[0;34m:\u001b[0m\u001b[0;34m\u001b[0m\u001b[0m\n\u001b[1;32m    276\u001b[0m         raise ValueError('Fetch argument %r cannot be interpreted as a '\n",
      "\u001b[0;31mValueError\u001b[0m: Fetch argument <tf.Operation 'train_step_transfer' type=NoOp> cannot be interpreted as a Tensor. (Operation name: \"train_step_transfer\"\nop: \"NoOp\"\ninput: \"^train_step_transfer/update_DenseLayer1/kernel/ApplyAdam\"\ninput: \"^train_step_transfer/update_DenseLayer1/bias/ApplyAdam\"\ninput: \"^train_step_transfer/update_DenseLayer2/kernel/ApplyAdam\"\ninput: \"^train_step_transfer/update_DenseLayer2/bias/ApplyAdam\"\ninput: \"^train_step_transfer/Assign\"\ninput: \"^train_step_transfer/Assign_1\"\n is not an element of this graph.)"
     ]
    }
   ],
   "source": [
    "start_time = time.time()\n",
    "\n",
    "# Training loop\n",
    "test_loss = []\n",
    "for epoch in range(EPOCHS):\n",
    "    epoch_start_time = time.time()\n",
    "    \n",
    "    # generate indices for mini_batches\n",
    "    batch_idx = generate_mini_batch_indices(X_train_even_mdl,BATCH_SIZE)\n",
    "    \n",
    "    # process each mini-batch\n",
    "    for i in range(len(batch_idx)):\n",
    "        rand_index = batch_idx[i]\n",
    "        rand_x = X_train_odd_mdl[rand_index]\n",
    "        rand_y = y_train_odd_mdl[rand_index]\n",
    "        for j in range(1):\n",
    "            sess_odd.run(train_step_transfer, \n",
    "                          feed_dict={x_data1: rand_x, \n",
    "                                     y_target1: rand_y,\n",
    "                                     K.learning_phase(): 1})\n",
    "\n",
    "    test_loss = loss.eval(session=sess_odd,feed_dict={x_data1: X_test_odd_mdl, \n",
    "                                  y_target1: y_test_odd_mdl,\n",
    "                                  K.learning_phase():0})\n",
    "    print('Epoch: %d, Epoch time: %.1f, Loss: %.5f' % (epoch+1, time.time() - epoch_start_time, test_loss))\n",
    "    \n",
    "print('\\n\\nTraining time: %.3f (sec)' % (time.time()-start_time))"
   ]
  },
  {
   "cell_type": "code",
   "execution_count": null,
   "metadata": {
    "collapsed": false
   },
   "outputs": [],
   "source": [
    "sess_even"
   ]
  },
  {
   "cell_type": "markdown",
   "metadata": {},
   "source": [
    "## Odd Digit Model - Evaluate Model on Odd Digit Test Data Set"
   ]
  },
  {
   "cell_type": "code",
   "execution_count": null,
   "metadata": {
    "collapsed": false
   },
   "outputs": [],
   "source": [
    "score = getPerformanceMetrics(sess_even,X_test_odd_mdl,y_test_odd_mdl)\n",
    "print('\\nTest Loss:', score['loss'])\n",
    "print('Test accuracy:', score['accuracy'])"
   ]
  },
  {
   "cell_type": "code",
   "execution_count": null,
   "metadata": {
    "collapsed": false,
    "scrolled": true
   },
   "outputs": [],
   "source": [
    "y_hat = np.argmax(y_prob.eval(session=sess_even,feed_dict={x_data:X_test_odd_mdl, K.learning_phase():0}),1)\n",
    "\n",
    "plotDigitGrid(X_test_odd,y_test_odd,idxs_even,y_hat=2*y_hat+1)"
   ]
  },
  {
   "cell_type": "markdown",
   "metadata": {},
   "source": [
    "## Odd Digit Model - Evaluate Even Digit Test Data Set"
   ]
  },
  {
   "cell_type": "code",
   "execution_count": null,
   "metadata": {
    "collapsed": false
   },
   "outputs": [],
   "source": [
    "# report performance on even digit test data set\n",
    "score = getPerformanceMetrics(sess_even,X_test_even_mdl,y_test_even_mdl)\n",
    "print('\\nTest Loss:', score['loss'])\n",
    "print('Test accuracy:', score['accuracy'])"
   ]
  },
  {
   "cell_type": "code",
   "execution_count": null,
   "metadata": {
    "collapsed": false
   },
   "outputs": [],
   "source": [
    "y_hat = np.argmax(y_prob.eval(session=sess_even,feed_dict={x_data:X_test_even_mdl, K.learning_phase():0}),1)\n",
    "\n",
    "plotDigitGrid(X_test_even,y_test_even,idxs_even,y_hat=2*y_hat)"
   ]
  },
  {
   "cell_type": "code",
   "execution_count": null,
   "metadata": {
    "collapsed": false
   },
   "outputs": [],
   "source": [
    "tf.get_collection(tf.GraphKeys.LOSSES)"
   ]
  },
  {
   "cell_type": "code",
   "execution_count": null,
   "metadata": {
    "collapsed": false
   },
   "outputs": [],
   "source": [
    "for v in trainable_layers:\n",
    "    print(v.name)"
   ]
  },
  {
   "cell_type": "code",
   "execution_count": null,
   "metadata": {
    "collapsed": true
   },
   "outputs": [],
   "source": []
  }
 ],
 "metadata": {
  "anaconda-cloud": {},
  "kernelspec": {
   "display_name": "Python [conda env:tf-gpu]",
   "language": "python",
   "name": "conda-env-tf-gpu-py"
  },
  "language_info": {
   "codemirror_mode": {
    "name": "ipython",
    "version": 3
   },
   "file_extension": ".py",
   "mimetype": "text/x-python",
   "name": "python",
   "nbconvert_exporter": "python",
   "pygments_lexer": "ipython3",
   "version": "3.5.2"
  }
 },
 "nbformat": 4,
 "nbformat_minor": 2
}
