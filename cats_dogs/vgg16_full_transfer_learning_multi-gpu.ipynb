{
 "cells": [
  {
   "cell_type": "markdown",
   "metadata": {},
   "source": [
    "# MULTI-GPU TRAINING (WORK-IN-PROGRESS)\n",
    "\n",
    "\n",
    "**Notes as of 2018-03-11** Attempted multi-gpu training using [Keras multi_gpu_model()](https://keras.io/utils/) capability. Tested on AWS p2.8xlarge instance with 8 Nvidia K80 gpus. Encountered one problem:\n",
    "\n",
    "ModelChekcpoint call-back to save best weights did not work in muti-gpu mode. Disabled that call-back. More research needed to see how this could work with multiple gpus.  See issues [#9548](https://github.com/keras-team/keras/issues/9548) and [#8764](https://github.com/keras-team/keras/issues/8764)."
   ]
  },
  {
   "cell_type": "code",
   "execution_count": 1,
   "metadata": {},
   "outputs": [
    {
     "name": "stderr",
     "output_type": "stream",
     "text": [
      "/home/ubuntu/anaconda3/envs/tensorflow_p36/lib/python3.6/site-packages/h5py/__init__.py:36: FutureWarning: Conversion of the second argument of issubdtype from `float` to `np.floating` is deprecated. In future, it will be treated as `np.float64 == np.dtype(float).type`.\n",
      "  from ._conv import register_converters as _register_converters\n",
      "/home/ubuntu/anaconda3/envs/tensorflow_p36/lib/python3.6/site-packages/matplotlib/__init__.py:962: UserWarning: Duplicate key in file \"/home/ubuntu/.config/matplotlib/matplotlibrc\", line #2\n",
      "  (fname, cnt))\n",
      "/home/ubuntu/anaconda3/envs/tensorflow_p36/lib/python3.6/site-packages/matplotlib/__init__.py:962: UserWarning: Duplicate key in file \"/home/ubuntu/.config/matplotlib/matplotlibrc\", line #3\n",
      "  (fname, cnt))\n",
      "Using TensorFlow backend.\n"
     ]
    },
    {
     "data": {
      "text/plain": [
       "'2.1.4'"
      ]
     },
     "execution_count": 1,
     "metadata": {},
     "output_type": "execute_result"
    }
   ],
   "source": [
    "import tensorflow as tf\n",
    "import keras\n",
    "keras.__version__"
   ]
  },
  {
   "cell_type": "code",
   "execution_count": 2,
   "metadata": {},
   "outputs": [],
   "source": [
    "import os\n",
    "import numpy as np\n",
    "from keras.preprocessing.image import ImageDataGenerator"
   ]
  },
  {
   "cell_type": "code",
   "execution_count": 3,
   "metadata": {},
   "outputs": [],
   "source": [
    "from keras import models\n",
    "from keras import layers\n",
    "from keras import optimizers\n",
    "from keras.preprocessing.image import ImageDataGenerator\n",
    "\n",
    "from keras.utils import multi_gpu_model"
   ]
  },
  {
   "cell_type": "code",
   "execution_count": 4,
   "metadata": {},
   "outputs": [],
   "source": [
    "from keras import backend as K"
   ]
  },
  {
   "cell_type": "markdown",
   "metadata": {},
   "source": [
    "## Setup run-time configuration"
   ]
  },
  {
   "cell_type": "code",
   "execution_count": 5,
   "metadata": {},
   "outputs": [
    {
     "name": "stdout",
     "output_type": "stream",
     "text": [
      "Number of samples: training 21000, validation 2000 and test 2000\n"
     ]
    }
   ],
   "source": [
    "# training data specific names\n",
    "base_model_name = './models/vgg16_full_multi_gpu_base_model.h5'\n",
    "finetuned_model_name = './models/vgg16_full_multi_gpu_finetuned_model.h5'\n",
    "\n",
    "train_dir = '/mystuff/cats_dogs_data/train_full'\n",
    "\n",
    "# location for validation and test data\n",
    "validation_dir = '/mystuff/cats_dogs_data/validation'\n",
    "test_dir = '/mystuff/cats_dogs_data/test'\n",
    "\n",
    "\n",
    "# training run specific parameters\n",
    "NUMBER_GPUS = 8\n",
    "BASE_MODEL_EPOCHS=30\n",
    "FINETUNED_MODEL_EPOCHS=50\n",
    "BATCH_SIZE = 1024\n",
    "\n",
    "TRAIN_SAMPLES = len(os.listdir(os.path.join(train_dir,'cats'))) + len(os.listdir(os.path.join(train_dir,'dogs')))\n",
    "VALIDATION_SAMPLES = len(os.listdir(os.path.join(validation_dir,'cats'))) + \\\n",
    "    len(os.listdir(os.path.join(validation_dir,'dogs')))\n",
    "    \n",
    "TEST_SAMPLES = len(os.listdir(os.path.join(test_dir,'cats'))) + len(os.listdir(os.path.join(test_dir,'dogs')))\n",
    "\n",
    "print('Number of samples: training {:d}, validation {:d} and test {:d}'.format(TRAIN_SAMPLES, \n",
    "                                                                               VALIDATION_SAMPLES,TEST_SAMPLES))"
   ]
  },
  {
   "cell_type": "markdown",
   "metadata": {},
   "source": [
    "# Using a pre-trained convnet\n",
    "\n"
   ]
  },
  {
   "cell_type": "markdown",
   "metadata": {},
   "source": [
    "## Feature extraction for VGG16 model\n",
    "\n"
   ]
  },
  {
   "cell_type": "code",
   "execution_count": 6,
   "metadata": {},
   "outputs": [],
   "source": [
    "from keras.applications import VGG16"
   ]
  },
  {
   "cell_type": "code",
   "execution_count": 7,
   "metadata": {},
   "outputs": [
    {
     "name": "stdout",
     "output_type": "stream",
     "text": [
      "Downloading data from https://github.com/fchollet/deep-learning-models/releases/download/v0.1/vgg16_weights_tf_dim_ordering_tf_kernels_notop.h5\n",
      "58892288/58889256 [==============================] - 1s 0us/step\n"
     ]
    }
   ],
   "source": [
    "with tf.device('/cpu:0'):\n",
    "    conv_base = VGG16(weights='imagenet',\n",
    "                      include_top=False,\n",
    "                      input_shape=(150, 150, 3))\n",
    "\n",
    "    model = models.Sequential()\n",
    "    model.add(conv_base)\n",
    "    model.add(layers.Flatten())\n",
    "    model.add(layers.Dense(256, activation='relu'))\n",
    "    model.add(layers.Dense(1, activation='sigmoid'))\n"
   ]
  },
  {
   "cell_type": "markdown",
   "metadata": {},
   "source": [
    "This is what our model looks like now:"
   ]
  },
  {
   "cell_type": "code",
   "execution_count": 8,
   "metadata": {},
   "outputs": [
    {
     "name": "stdout",
     "output_type": "stream",
     "text": [
      "_________________________________________________________________\n",
      "Layer (type)                 Output Shape              Param #   \n",
      "=================================================================\n",
      "vgg16 (Model)                (None, 4, 4, 512)         14714688  \n",
      "_________________________________________________________________\n",
      "flatten_1 (Flatten)          (None, 8192)              0         \n",
      "_________________________________________________________________\n",
      "dense_1 (Dense)              (None, 256)               2097408   \n",
      "_________________________________________________________________\n",
      "dense_2 (Dense)              (None, 1)                 257       \n",
      "=================================================================\n",
      "Total params: 16,812,353\n",
      "Trainable params: 16,812,353\n",
      "Non-trainable params: 0\n",
      "_________________________________________________________________\n"
     ]
    }
   ],
   "source": [
    "model.summary()"
   ]
  },
  {
   "cell_type": "markdown",
   "metadata": {},
   "source": [
    "### Freeze base model layers"
   ]
  },
  {
   "cell_type": "code",
   "execution_count": 9,
   "metadata": {},
   "outputs": [
    {
     "name": "stdout",
     "output_type": "stream",
     "text": [
      "This is the number of trainable weights before freezing the conv base: 30\n"
     ]
    }
   ],
   "source": [
    "print('This is the number of trainable weights '\n",
    "      'before freezing the conv base:', len(model.trainable_weights))"
   ]
  },
  {
   "cell_type": "code",
   "execution_count": 10,
   "metadata": {},
   "outputs": [],
   "source": [
    "conv_base.trainable = False"
   ]
  },
  {
   "cell_type": "code",
   "execution_count": 11,
   "metadata": {},
   "outputs": [
    {
     "name": "stdout",
     "output_type": "stream",
     "text": [
      "This is the number of trainable weights after freezing the conv base: 4\n"
     ]
    }
   ],
   "source": [
    "print('This is the number of trainable weights '\n",
    "      'after freezing the conv base:', len(model.trainable_weights))"
   ]
  },
  {
   "cell_type": "code",
   "execution_count": 12,
   "metadata": {},
   "outputs": [
    {
     "name": "stdout",
     "output_type": "stream",
     "text": [
      "_________________________________________________________________\n",
      "Layer (type)                 Output Shape              Param #   \n",
      "=================================================================\n",
      "vgg16 (Model)                (None, 4, 4, 512)         14714688  \n",
      "_________________________________________________________________\n",
      "flatten_1 (Flatten)          (None, 8192)              0         \n",
      "_________________________________________________________________\n",
      "dense_1 (Dense)              (None, 256)               2097408   \n",
      "_________________________________________________________________\n",
      "dense_2 (Dense)              (None, 1)                 257       \n",
      "=================================================================\n",
      "Total params: 16,812,353\n",
      "Trainable params: 2,097,665\n",
      "Non-trainable params: 14,714,688\n",
      "_________________________________________________________________\n"
     ]
    }
   ],
   "source": [
    "model.summary()"
   ]
  },
  {
   "cell_type": "markdown",
   "metadata": {},
   "source": [
    "### Setup training data pipeline using data augmenation"
   ]
  },
  {
   "cell_type": "code",
   "execution_count": 13,
   "metadata": {},
   "outputs": [
    {
     "name": "stdout",
     "output_type": "stream",
     "text": [
      "Found 21000 images belonging to 2 classes.\n",
      "Found 2000 images belonging to 2 classes.\n"
     ]
    }
   ],
   "source": [
    "\n",
    "\n",
    "train_datagen = ImageDataGenerator(\n",
    "      rescale=1./255,\n",
    "      rotation_range=40,\n",
    "      width_shift_range=0.2,\n",
    "      height_shift_range=0.2,\n",
    "      shear_range=0.2,\n",
    "      zoom_range=0.2,\n",
    "      horizontal_flip=True,\n",
    "      fill_mode='nearest')\n",
    "\n",
    "# Note that the validation data should not be augmented!\n",
    "test_datagen = ImageDataGenerator(rescale=1./255)\n",
    "\n",
    "train_generator = train_datagen.flow_from_directory(\n",
    "        # This is the target directory\n",
    "        train_dir,\n",
    "        # All images will be resized to 150x150\n",
    "        target_size=(150, 150),\n",
    "        batch_size=BATCH_SIZE,  # original\n",
    "        #batch_size=50,\n",
    "        # Since we use binary_crossentropy loss, we need binary labels\n",
    "        class_mode='binary')\n",
    "\n",
    "validation_generator = test_datagen.flow_from_directory(\n",
    "        validation_dir,\n",
    "        target_size=(150, 150),\n",
    "        batch_size=BATCH_SIZE,\n",
    "        class_mode='binary')"
   ]
  },
  {
   "cell_type": "markdown",
   "metadata": {},
   "source": [
    "### Train new classifer specific to cat vs dog using features created by baseline model"
   ]
  },
  {
   "cell_type": "code",
   "execution_count": 14,
   "metadata": {},
   "outputs": [],
   "source": [
    "parallel_model = multi_gpu_model(model, gpus=NUMBER_GPUS)\n",
    "\n",
    "parallel_model.compile(loss='binary_crossentropy',\n",
    "              optimizer=optimizers.Adam(),\n",
    "              metrics=['acc'])"
   ]
  },
  {
   "cell_type": "code",
   "execution_count": 15,
   "metadata": {},
   "outputs": [
    {
     "name": "stdout",
     "output_type": "stream",
     "text": [
      "Epoch 1/30\n",
      " - 110s - loss: 0.9432 - acc: 0.5918 - val_loss: 0.4342 - val_acc: 0.8270\n",
      "Epoch 2/30\n",
      " - 26s - loss: 0.4419 - acc: 0.7984 - val_loss: 0.2972 - val_acc: 0.8765\n",
      "Epoch 3/30\n",
      " - 31s - loss: 0.3651 - acc: 0.8417 - val_loss: 0.2544 - val_acc: 0.8990\n",
      "Epoch 4/30\n",
      " - 28s - loss: 0.3381 - acc: 0.8529 - val_loss: 0.2323 - val_acc: 0.9105\n",
      "Epoch 5/30\n",
      " - 32s - loss: 0.3275 - acc: 0.8558 - val_loss: 0.2361 - val_acc: 0.9070\n",
      "Epoch 6/30\n",
      " - 32s - loss: 0.3163 - acc: 0.8593 - val_loss: 0.2203 - val_acc: 0.9105\n",
      "Epoch 7/30\n",
      " - 32s - loss: 0.3077 - acc: 0.8626 - val_loss: 0.2192 - val_acc: 0.9155\n",
      "Epoch 8/30\n",
      " - 31s - loss: 0.3052 - acc: 0.8656 - val_loss: 0.2094 - val_acc: 0.9190\n",
      "Epoch 9/30\n",
      " - 31s - loss: 0.3025 - acc: 0.8670 - val_loss: 0.2248 - val_acc: 0.9100\n",
      "Epoch 10/30\n",
      " - 32s - loss: 0.2947 - acc: 0.8715 - val_loss: 0.2079 - val_acc: 0.9180\n",
      "Epoch 11/30\n",
      " - 31s - loss: 0.2945 - acc: 0.8718 - val_loss: 0.2034 - val_acc: 0.9205\n",
      "Epoch 12/30\n",
      " - 30s - loss: 0.2945 - acc: 0.8711 - val_loss: 0.2039 - val_acc: 0.9215\n",
      "Epoch 13/30\n",
      " - 29s - loss: 0.2931 - acc: 0.8717 - val_loss: 0.2002 - val_acc: 0.9190\n",
      "Epoch 14/30\n",
      " - 32s - loss: 0.2853 - acc: 0.8771 - val_loss: 0.1955 - val_acc: 0.9185\n",
      "Epoch 15/30\n",
      " - 32s - loss: 0.2884 - acc: 0.8752 - val_loss: 0.2086 - val_acc: 0.9195\n",
      "Epoch 16/30\n",
      " - 31s - loss: 0.2862 - acc: 0.8771 - val_loss: 0.1956 - val_acc: 0.9245\n",
      "Epoch 17/30\n",
      " - 33s - loss: 0.2878 - acc: 0.8768 - val_loss: 0.1945 - val_acc: 0.9255\n",
      "Epoch 18/30\n",
      " - 31s - loss: 0.2943 - acc: 0.8732 - val_loss: 0.1938 - val_acc: 0.9175\n",
      "Epoch 19/30\n",
      " - 30s - loss: 0.2836 - acc: 0.8743 - val_loss: 0.1922 - val_acc: 0.9245\n",
      "Epoch 20/30\n",
      " - 32s - loss: 0.2917 - acc: 0.8743 - val_loss: 0.2233 - val_acc: 0.9045\n",
      "Epoch 21/30\n",
      " - 32s - loss: 0.2933 - acc: 0.8709 - val_loss: 0.1931 - val_acc: 0.9180\n",
      "Epoch 22/30\n",
      " - 32s - loss: 0.2952 - acc: 0.8687 - val_loss: 0.2195 - val_acc: 0.9055\n",
      "Epoch 23/30\n",
      " - 29s - loss: 0.2886 - acc: 0.8738 - val_loss: 0.1913 - val_acc: 0.9205\n",
      "Epoch 24/30\n",
      " - 32s - loss: 0.2871 - acc: 0.8750 - val_loss: 0.2197 - val_acc: 0.9065\n",
      "Epoch 25/30\n",
      " - 29s - loss: 0.2845 - acc: 0.8750 - val_loss: 0.1872 - val_acc: 0.9190\n",
      "Epoch 26/30\n",
      " - 29s - loss: 0.2767 - acc: 0.8791 - val_loss: 0.1932 - val_acc: 0.9225\n",
      "Epoch 27/30\n",
      " - 30s - loss: 0.2736 - acc: 0.8833 - val_loss: 0.1945 - val_acc: 0.9165\n",
      "Epoch 28/30\n",
      " - 30s - loss: 0.2787 - acc: 0.8785 - val_loss: 0.1890 - val_acc: 0.9210\n",
      "Epoch 29/30\n",
      " - 32s - loss: 0.2818 - acc: 0.8793 - val_loss: 0.1877 - val_acc: 0.9255\n",
      "Epoch 30/30\n",
      " - 31s - loss: 0.2736 - acc: 0.8819 - val_loss: 0.1950 - val_acc: 0.9215\n"
     ]
    }
   ],
   "source": [
    "# set up to capture best performance weights ecountered during training\n",
    "from keras.callbacks import ModelCheckpoint\n",
    "checkpoint = ModelCheckpoint('./models/weights_best.hdf5', monitor='val_acc', verbose=1, save_best_only=True,\n",
    "mode='max')\n",
    "callbacks_list = [checkpoint]\n",
    "\n",
    "\n",
    "history = parallel_model.fit_generator(\n",
    "      train_generator,\n",
    "      steps_per_epoch=TRAIN_SAMPLES/BATCH_SIZE,\n",
    "      epochs=BASE_MODEL_EPOCHS,  \n",
    "      validation_data=validation_generator,\n",
    "      validation_steps=VALIDATION_SAMPLES/BATCH_SIZE,\n",
    "      #callbacks=callbacks_list,\n",
    "      workers=16,   #nproc//2\n",
    "      use_multiprocessing=True,\n",
    "      verbose=2)"
   ]
  },
  {
   "cell_type": "code",
   "execution_count": 16,
   "metadata": {},
   "outputs": [],
   "source": [
    "# load best performance weights\n",
    "#model.load_weights('./models/weights_best.hdf5')\n",
    "\n",
    "# save trained model\n",
    "model.save(base_model_name)"
   ]
  },
  {
   "cell_type": "markdown",
   "metadata": {},
   "source": [
    "Examine learning rates:"
   ]
  },
  {
   "cell_type": "code",
   "execution_count": 17,
   "metadata": {},
   "outputs": [
    {
     "name": "stderr",
     "output_type": "stream",
     "text": [
      "/home/ubuntu/anaconda3/envs/tensorflow_p36/lib/python3.6/site-packages/matplotlib/font_manager.py:281: UserWarning: Matplotlib is building the font cache using fc-list. This may take a moment.\n",
      "  'Matplotlib is building the font cache using fc-list. '\n"
     ]
    },
    {
     "data": {
      "image/png": "[encoded data removed]",
      "text/plain": [
       "<matplotlib.figure.Figure at 0x7f089a7db0f0>"
      ]
     },
     "metadata": {},
     "output_type": "display_data"
    },
    {
     "data": {
      "image/png": "[encoded data removed]",
      "text/plain": [
       "<matplotlib.figure.Figure at 0x7f089c688438>"
      ]
     },
     "metadata": {},
     "output_type": "display_data"
    }
   ],
   "source": [
    "%matplotlib inline\n",
    "import matplotlib.pyplot as plt\n",
    "\n",
    "acc = history.history['acc']\n",
    "val_acc = history.history['val_acc']\n",
    "loss = history.history['loss']\n",
    "val_loss = history.history['val_loss']\n",
    "\n",
    "epochs = range(len(acc))\n",
    "\n",
    "plt.plot(epochs, acc, 'bo', label='Training acc')\n",
    "plt.plot(epochs, val_acc, 'b', label='Validation acc')\n",
    "plt.title('Training and validation accuracy')\n",
    "plt.legend()\n",
    "\n",
    "plt.figure()\n",
    "\n",
    "plt.plot(epochs, loss, 'bo', label='Training loss')\n",
    "plt.plot(epochs, val_loss, 'b', label='Validation loss')\n",
    "plt.title('Training and validation loss')\n",
    "plt.legend()\n",
    "\n",
    "plt.show()"
   ]
  },
  {
   "cell_type": "code",
   "execution_count": 19,
   "metadata": {},
   "outputs": [
    {
     "name": "stdout",
     "output_type": "stream",
     "text": [
      "Found 2000 images belonging to 2 classes.\n",
      "base model test acc: 0.9054999923706055\n"
     ]
    }
   ],
   "source": [
    "\n",
    "test_generator = test_datagen.flow_from_directory(\n",
    "        test_dir,\n",
    "        target_size=(150, 150),\n",
    "        batch_size=BATCH_SIZE,\n",
    "        class_mode='binary')\n",
    "\n",
    "test_loss, test_acc = parallel_model.evaluate_generator(test_generator, steps=TEST_SAMPLES/BATCH_SIZE)\n",
    "print('base model test acc:', test_acc)"
   ]
  },
  {
   "cell_type": "markdown",
   "metadata": {},
   "source": [
    "## Fine-tuning\n",
    "\n"
   ]
  },
  {
   "cell_type": "markdown",
   "metadata": {},
   "source": [
    "Model before setup for fine tuning"
   ]
  },
  {
   "cell_type": "code",
   "execution_count": 20,
   "metadata": {},
   "outputs": [
    {
     "name": "stdout",
     "output_type": "stream",
     "text": [
      "_________________________________________________________________\n",
      "Layer (type)                 Output Shape              Param #   \n",
      "=================================================================\n",
      "vgg16 (Model)                (None, 4, 4, 512)         14714688  \n",
      "_________________________________________________________________\n",
      "flatten_1 (Flatten)          (None, 8192)              0         \n",
      "_________________________________________________________________\n",
      "dense_1 (Dense)              (None, 256)               2097408   \n",
      "_________________________________________________________________\n",
      "dense_2 (Dense)              (None, 1)                 257       \n",
      "=================================================================\n",
      "Total params: 16,812,353\n",
      "Trainable params: 2,097,665\n",
      "Non-trainable params: 14,714,688\n",
      "_________________________________________________________________\n"
     ]
    }
   ],
   "source": [
    "model.summary()"
   ]
  },
  {
   "cell_type": "code",
   "execution_count": 21,
   "metadata": {},
   "outputs": [
    {
     "name": "stdout",
     "output_type": "stream",
     "text": [
      "_________________________________________________________________\n",
      "Layer (type)                 Output Shape              Param #   \n",
      "=================================================================\n",
      "input_1 (InputLayer)         (None, 150, 150, 3)       0         \n",
      "_________________________________________________________________\n",
      "block1_conv1 (Conv2D)        (None, 150, 150, 64)      1792      \n",
      "_________________________________________________________________\n",
      "block1_conv2 (Conv2D)        (None, 150, 150, 64)      36928     \n",
      "_________________________________________________________________\n",
      "block1_pool (MaxPooling2D)   (None, 75, 75, 64)        0         \n",
      "_________________________________________________________________\n",
      "block2_conv1 (Conv2D)        (None, 75, 75, 128)       73856     \n",
      "_________________________________________________________________\n",
      "block2_conv2 (Conv2D)        (None, 75, 75, 128)       147584    \n",
      "_________________________________________________________________\n",
      "block2_pool (MaxPooling2D)   (None, 37, 37, 128)       0         \n",
      "_________________________________________________________________\n",
      "block3_conv1 (Conv2D)        (None, 37, 37, 256)       295168    \n",
      "_________________________________________________________________\n",
      "block3_conv2 (Conv2D)        (None, 37, 37, 256)       590080    \n",
      "_________________________________________________________________\n",
      "block3_conv3 (Conv2D)        (None, 37, 37, 256)       590080    \n",
      "_________________________________________________________________\n",
      "block3_pool (MaxPooling2D)   (None, 18, 18, 256)       0         \n",
      "_________________________________________________________________\n",
      "block4_conv1 (Conv2D)        (None, 18, 18, 512)       1180160   \n",
      "_________________________________________________________________\n",
      "block4_conv2 (Conv2D)        (None, 18, 18, 512)       2359808   \n",
      "_________________________________________________________________\n",
      "block4_conv3 (Conv2D)        (None, 18, 18, 512)       2359808   \n",
      "_________________________________________________________________\n",
      "block4_pool (MaxPooling2D)   (None, 9, 9, 512)         0         \n",
      "_________________________________________________________________\n",
      "block5_conv1 (Conv2D)        (None, 9, 9, 512)         2359808   \n",
      "_________________________________________________________________\n",
      "block5_conv2 (Conv2D)        (None, 9, 9, 512)         2359808   \n",
      "_________________________________________________________________\n",
      "block5_conv3 (Conv2D)        (None, 9, 9, 512)         2359808   \n",
      "_________________________________________________________________\n",
      "block5_pool (MaxPooling2D)   (None, 4, 4, 512)         0         \n",
      "=================================================================\n",
      "Total params: 14,714,688\n",
      "Trainable params: 0\n",
      "Non-trainable params: 14,714,688\n",
      "_________________________________________________________________\n"
     ]
    }
   ],
   "source": [
    "conv_base.summary()"
   ]
  },
  {
   "cell_type": "code",
   "execution_count": 22,
   "metadata": {},
   "outputs": [],
   "source": [
    "conv_base.trainable = True\n",
    "\n",
    "set_trainable = False\n",
    "for layer in conv_base.layers:\n",
    "    if layer.name == 'block4_conv1':\n",
    "        set_trainable = True\n",
    "    if set_trainable:\n",
    "        layer.trainable = True\n",
    "    else:\n",
    "        layer.trainable = False"
   ]
  },
  {
   "cell_type": "code",
   "execution_count": 23,
   "metadata": {},
   "outputs": [
    {
     "name": "stdout",
     "output_type": "stream",
     "text": [
      "_________________________________________________________________\n",
      "Layer (type)                 Output Shape              Param #   \n",
      "=================================================================\n",
      "input_1 (InputLayer)         (None, 150, 150, 3)       0         \n",
      "_________________________________________________________________\n",
      "block1_conv1 (Conv2D)        (None, 150, 150, 64)      1792      \n",
      "_________________________________________________________________\n",
      "block1_conv2 (Conv2D)        (None, 150, 150, 64)      36928     \n",
      "_________________________________________________________________\n",
      "block1_pool (MaxPooling2D)   (None, 75, 75, 64)        0         \n",
      "_________________________________________________________________\n",
      "block2_conv1 (Conv2D)        (None, 75, 75, 128)       73856     \n",
      "_________________________________________________________________\n",
      "block2_conv2 (Conv2D)        (None, 75, 75, 128)       147584    \n",
      "_________________________________________________________________\n",
      "block2_pool (MaxPooling2D)   (None, 37, 37, 128)       0         \n",
      "_________________________________________________________________\n",
      "block3_conv1 (Conv2D)        (None, 37, 37, 256)       295168    \n",
      "_________________________________________________________________\n",
      "block3_conv2 (Conv2D)        (None, 37, 37, 256)       590080    \n",
      "_________________________________________________________________\n",
      "block3_conv3 (Conv2D)        (None, 37, 37, 256)       590080    \n",
      "_________________________________________________________________\n",
      "block3_pool (MaxPooling2D)   (None, 18, 18, 256)       0         \n",
      "_________________________________________________________________\n",
      "block4_conv1 (Conv2D)        (None, 18, 18, 512)       1180160   \n",
      "_________________________________________________________________\n",
      "block4_conv2 (Conv2D)        (None, 18, 18, 512)       2359808   \n",
      "_________________________________________________________________\n",
      "block4_conv3 (Conv2D)        (None, 18, 18, 512)       2359808   \n",
      "_________________________________________________________________\n",
      "block4_pool (MaxPooling2D)   (None, 9, 9, 512)         0         \n",
      "_________________________________________________________________\n",
      "block5_conv1 (Conv2D)        (None, 9, 9, 512)         2359808   \n",
      "_________________________________________________________________\n",
      "block5_conv2 (Conv2D)        (None, 9, 9, 512)         2359808   \n",
      "_________________________________________________________________\n",
      "block5_conv3 (Conv2D)        (None, 9, 9, 512)         2359808   \n",
      "_________________________________________________________________\n",
      "block5_pool (MaxPooling2D)   (None, 4, 4, 512)         0         \n",
      "=================================================================\n",
      "Total params: 14,714,688\n",
      "Trainable params: 12,979,200\n",
      "Non-trainable params: 1,735,488\n",
      "_________________________________________________________________\n"
     ]
    }
   ],
   "source": [
    "conv_base.summary()"
   ]
  },
  {
   "cell_type": "code",
   "execution_count": 24,
   "metadata": {},
   "outputs": [
    {
     "name": "stdout",
     "output_type": "stream",
     "text": [
      "_________________________________________________________________\n",
      "Layer (type)                 Output Shape              Param #   \n",
      "=================================================================\n",
      "vgg16 (Model)                (None, 4, 4, 512)         14714688  \n",
      "_________________________________________________________________\n",
      "flatten_1 (Flatten)          (None, 8192)              0         \n",
      "_________________________________________________________________\n",
      "dense_1 (Dense)              (None, 256)               2097408   \n",
      "_________________________________________________________________\n",
      "dense_2 (Dense)              (None, 1)                 257       \n",
      "=================================================================\n",
      "Total params: 16,812,353\n",
      "Trainable params: 15,076,865\n",
      "Non-trainable params: 1,735,488\n",
      "_________________________________________________________________\n"
     ]
    }
   ],
   "source": [
    "model.summary()"
   ]
  },
  {
   "cell_type": "markdown",
   "metadata": {},
   "source": [
    "\n",
    "Now let's proceed with fine-tuning:"
   ]
  },
  {
   "cell_type": "code",
   "execution_count": 28,
   "metadata": {},
   "outputs": [
    {
     "name": "stdout",
     "output_type": "stream",
     "text": [
      "Epoch 1/50\n",
      " - 45s - loss: 0.3435 - acc: 0.8662 - val_loss: 0.1728 - val_acc: 0.9320\n",
      "Epoch 2/50\n",
      " - 38s - loss: 0.2557 - acc: 0.8902 - val_loss: 0.1632 - val_acc: 0.9350\n",
      "Epoch 3/50\n",
      " - 38s - loss: 0.2324 - acc: 0.8986 - val_loss: 0.1504 - val_acc: 0.9435\n",
      "Epoch 4/50\n",
      " - 35s - loss: 0.2222 - acc: 0.9032 - val_loss: 0.1245 - val_acc: 0.9510\n",
      "Epoch 5/50\n",
      " - 38s - loss: 0.2077 - acc: 0.9123 - val_loss: 0.1734 - val_acc: 0.9305\n",
      "Epoch 6/50\n",
      " - 37s - loss: 0.1885 - acc: 0.9193 - val_loss: 0.1159 - val_acc: 0.9585\n",
      "Epoch 7/50\n",
      " - 37s - loss: 0.1884 - acc: 0.9199 - val_loss: 0.1615 - val_acc: 0.9385\n",
      "Epoch 8/50\n",
      " - 35s - loss: 0.1800 - acc: 0.9244 - val_loss: 0.1059 - val_acc: 0.9600\n",
      "Epoch 9/50\n",
      "Epoch 9/50\n",
      " - 36s - loss: 0.1695 - acc: 0.9316 - val_loss: 0.0959 - val_acc: 0.9645\n",
      "Epoch 10/50\n",
      " - 36s - loss: 0.1695 - acc: 0.9316 - val_loss: 0.0959 - val_acc: 0.9645\n",
      " - 36s - loss: 0.1623 - acc: 0.9311 - val_loss: 0.0908 - val_acc: 0.9655\n",
      "Epoch 11/50\n",
      "Epoch 11/50\n",
      " - 37s - loss: 0.1537 - acc: 0.9349 - val_loss: 0.1062 - val_acc: 0.9615\n",
      "Epoch 12/50\n",
      " - 36s - loss: 0.1536 - acc: 0.9371 - val_loss: 0.0914 - val_acc: 0.9655\n",
      "Epoch 13/50\n",
      " - 37s - loss: 0.1512 - acc: 0.9363 - val_loss: 0.0891 - val_acc: 0.9670\n",
      "Epoch 14/50\n",
      " - 36s - loss: 0.1353 - acc: 0.9444 - val_loss: 0.0756 - val_acc: 0.9695\n",
      "Epoch 15/50\n",
      " - 37s - loss: 0.1353 - acc: 0.9448 - val_loss: 0.0921 - val_acc: 0.9635\n",
      "Epoch 16/50\n",
      " - 35s - loss: 0.1391 - acc: 0.9424 - val_loss: 0.0725 - val_acc: 0.9725\n",
      "Epoch 17/50\n",
      " - 34s - loss: 0.1252 - acc: 0.9477 - val_loss: 0.0932 - val_acc: 0.9620\n",
      "Epoch 18/50\n",
      " - 35s - loss: 0.1229 - acc: 0.9504 - val_loss: 0.1190 - val_acc: 0.9495\n",
      "Epoch 19/50\n",
      " - 36s - loss: 0.1232 - acc: 0.9509 - val_loss: 0.1207 - val_acc: 0.9490\n",
      "Epoch 20/50\n",
      " - 37s - loss: 0.1157 - acc: 0.9529 - val_loss: 0.0760 - val_acc: 0.9685\n",
      "Epoch 21/50\n",
      " - 36s - loss: 0.1158 - acc: 0.9517 - val_loss: 0.0651 - val_acc: 0.9735\n",
      "Epoch 22/50\n",
      " - 36s - loss: 0.1150 - acc: 0.9520 - val_loss: 0.0931 - val_acc: 0.9610\n",
      "Epoch 23/50\n",
      " - 37s - loss: 0.1086 - acc: 0.9559 - val_loss: 0.0739 - val_acc: 0.9705\n",
      "Epoch 24/50\n",
      " - 34s - loss: 0.1092 - acc: 0.9555 - val_loss: 0.0621 - val_acc: 0.9730\n",
      "Epoch 25/50\n",
      " - 35s - loss: 0.1035 - acc: 0.9585 - val_loss: 0.0712 - val_acc: 0.9705\n",
      "Epoch 26/50\n",
      " - 35s - loss: 0.1035 - acc: 0.9585 - val_loss: 0.0712 - val_acc: 0.9705\n",
      " - 36s - loss: 0.1038 - acc: 0.9577 - val_loss: 0.0610 - val_acc: 0.9755\n",
      "Epoch 27/50\n",
      " - 36s - loss: 0.1076 - acc: 0.9558 - val_loss: 0.0626 - val_acc: 0.9745\n",
      "Epoch 28/50\n",
      " - 37s - loss: 0.0979 - acc: 0.9598 - val_loss: 0.0614 - val_acc: 0.9740\n",
      "Epoch 29/50\n",
      " - 35s - loss: 0.0953 - acc: 0.9626 - val_loss: 0.0586 - val_acc: 0.9755\n",
      "Epoch 30/50\n",
      " - 36s - loss: 0.0922 - acc: 0.9630 - val_loss: 0.0578 - val_acc: 0.9730\n",
      "Epoch 31/50\n",
      " - 38s - loss: 0.0933 - acc: 0.9616 - val_loss: 0.0586 - val_acc: 0.9750\n",
      "Epoch 32/50\n",
      " - 35s - loss: 0.0921 - acc: 0.9638 - val_loss: 0.0545 - val_acc: 0.9790\n",
      "Epoch 33/50\n",
      " - 35s - loss: 0.0941 - acc: 0.9628 - val_loss: 0.0553 - val_acc: 0.9770\n",
      "Epoch 34/50\n",
      " - 38s - loss: 0.0796 - acc: 0.9690 - val_loss: 0.0643 - val_acc: 0.9730\n",
      "Epoch 35/50\n",
      " - 37s - loss: 0.0880 - acc: 0.9649 - val_loss: 0.0670 - val_acc: 0.9730\n",
      "Epoch 36/50\n",
      " - 38s - loss: 0.0857 - acc: 0.9656 - val_loss: 0.0538 - val_acc: 0.9775\n",
      "Epoch 37/50\n",
      " - 37s - loss: 0.0797 - acc: 0.9695 - val_loss: 0.0639 - val_acc: 0.9745\n",
      "Epoch 38/50\n",
      " - 36s - loss: 0.0813 - acc: 0.9684 - val_loss: 0.0525 - val_acc: 0.9785\n",
      "Epoch 39/50\n",
      " - 38s - loss: 0.0818 - acc: 0.9665 - val_loss: 0.0526 - val_acc: 0.9790\n",
      "Epoch 40/50\n",
      "Epoch 40/50\n",
      " - 34s - loss: 0.0772 - acc: 0.9696 - val_loss: 0.0551 - val_acc: 0.9780\n",
      "Epoch 41/50\n",
      " - 33s - loss: 0.0712 - acc: 0.9714 - val_loss: 0.1195 - val_acc: 0.9545\n",
      "Epoch 42/50\n",
      " - 37s - loss: 0.0755 - acc: 0.9688 - val_loss: 0.0552 - val_acc: 0.9775\n",
      "Epoch 43/50\n",
      " - 37s - loss: 0.0755 - acc: 0.9688 - val_loss: 0.0552 - val_acc: 0.9775\n",
      " - 34s - loss: 0.0722 - acc: 0.9720 - val_loss: 0.0668 - val_acc: 0.9720\n",
      "Epoch 44/50\n",
      " - 36s - loss: 0.0697 - acc: 0.9721 - val_loss: 0.0572 - val_acc: 0.9775\n",
      "Epoch 45/50\n",
      " - 35s - loss: 0.0683 - acc: 0.9734 - val_loss: 0.0531 - val_acc: 0.9765\n",
      "Epoch 46/50\n",
      " - 36s - loss: 0.0711 - acc: 0.9723 - val_loss: 0.0485 - val_acc: 0.9785\n",
      "Epoch 47/50\n",
      " - 35s - loss: 0.0646 - acc: 0.9748 - val_loss: 0.1098 - val_acc: 0.9640\n",
      "Epoch 48/50\n",
      " - 34s - loss: 0.0700 - acc: 0.9720 - val_loss: 0.0539 - val_acc: 0.9770\n",
      "Epoch 49/50\n",
      " - 37s - loss: 0.0638 - acc: 0.9749 - val_loss: 0.0499 - val_acc: 0.9785\n",
      "Epoch 50/50\n",
      " - 34s - loss: 0.0608 - acc: 0.9759 - val_loss: 0.0576 - val_acc: 0.9780\n"
     ]
    }
   ],
   "source": [
    "checkpoint = ModelCheckpoint('./models/weights_best.hdf5', monitor='val_acc', verbose=1, save_best_only=True,\n",
    "mode='max')\n",
    "callbacks_list = [checkpoint]\n",
    "\n",
    "\n",
    "parallel_model.compile(loss='binary_crossentropy',\n",
    "              optimizer=optimizers.RMSprop(lr=1e-5),  # use low rate to avoid large changes in cnn layer\n",
    "              metrics=['acc'])\n",
    "\n",
    "history = parallel_model.fit_generator(\n",
    "      train_generator,\n",
    "      steps_per_epoch=TRAIN_SAMPLES/BATCH_SIZE,\n",
    "      epochs=FINETUNED_MODEL_EPOCHS,\n",
    "      validation_data=validation_generator,\n",
    "      validation_steps=VALIDATION_SAMPLES/BATCH_SIZE,\n",
    "      #callbacks=callbacks_list,\n",
    "      workers=16,   #nproc//2\n",
    "      use_multiprocessing=True,\n",
    "      verbose=2)"
   ]
  },
  {
   "cell_type": "code",
   "execution_count": 29,
   "metadata": {},
   "outputs": [],
   "source": [
    "#model.load_weights('./models/weights_best.hdf5')\n",
    "model.save(finetuned_model_name)"
   ]
  },
  {
   "cell_type": "code",
   "execution_count": 30,
   "metadata": {},
   "outputs": [
    {
     "data": {
      "image/png": "[encoded data removed]",
      "text/plain": [
       "<matplotlib.figure.Figure at 0x7f089c890160>"
      ]
     },
     "metadata": {},
     "output_type": "display_data"
    },
    {
     "data": {
      "image/png": "[encoded data removed]",
      "text/plain": [
       "<matplotlib.figure.Figure at 0x7f070477e278>"
      ]
     },
     "metadata": {},
     "output_type": "display_data"
    }
   ],
   "source": [
    "%matplotlib inline\n",
    "import matplotlib.pyplot as plt\n",
    "\n",
    "acc = history.history['acc']\n",
    "val_acc = history.history['val_acc']\n",
    "loss = history.history['loss']\n",
    "val_loss = history.history['val_loss']\n",
    "\n",
    "epochs = range(len(acc))\n",
    "\n",
    "plt.plot(epochs, acc, 'bo', label='Training acc')\n",
    "plt.plot(epochs, val_acc, 'b', label='Validation acc')\n",
    "plt.title('Training and validation accuracy')\n",
    "plt.legend()\n",
    "\n",
    "plt.figure()\n",
    "\n",
    "plt.plot(epochs, loss, 'bo', label='Training loss')\n",
    "plt.plot(epochs, val_loss, 'b', label='Validation loss')\n",
    "plt.title('Training and validation loss')\n",
    "plt.legend()\n",
    "\n",
    "plt.show()"
   ]
  },
  {
   "cell_type": "code",
   "execution_count": 31,
   "metadata": {},
   "outputs": [
    {
     "name": "stdout",
     "output_type": "stream",
     "text": [
      "Found 2000 images belonging to 2 classes.\n",
      "fine tuned test acc: 0.9724999942779541\n"
     ]
    }
   ],
   "source": [
    "test_generator = test_datagen.flow_from_directory(\n",
    "        test_dir,\n",
    "        target_size=(150, 150),\n",
    "        batch_size=BATCH_SIZE,\n",
    "        class_mode='binary')\n",
    "\n",
    "test_loss, test_acc = parallel_model.evaluate_generator(test_generator, steps=TEST_SAMPLES/BATCH_SIZE)\n",
    "print('fine tuned test acc:', test_acc)"
   ]
  },
  {
   "cell_type": "code",
   "execution_count": 32,
   "metadata": {},
   "outputs": [
    {
     "data": {
      "text/plain": [
       "2000"
      ]
     },
     "execution_count": 32,
     "metadata": {},
     "output_type": "execute_result"
    }
   ],
   "source": [
    "preds = parallel_model.predict_generator(test_generator, steps=TEST_SAMPLES/BATCH_SIZE)\n",
    "len(preds)"
   ]
  },
  {
   "cell_type": "code",
   "execution_count": null,
   "metadata": {},
   "outputs": [],
   "source": []
  }
 ],
 "metadata": {
  "kernelspec": {
   "display_name": "Environment (conda_tensorflow_p36)",
   "language": "python",
   "name": "conda_tensorflow_p36"
  },
  "language_info": {
   "codemirror_mode": {
    "name": "ipython",
    "version": 3
   },
   "file_extension": ".py",
   "mimetype": "text/x-python",
   "name": "python",
   "nbconvert_exporter": "python",
   "pygments_lexer": "ipython3",
   "version": "3.6.4"
  }
 },
 "nbformat": 4,
 "nbformat_minor": 2
}
