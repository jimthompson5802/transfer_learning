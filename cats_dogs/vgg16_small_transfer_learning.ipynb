{
 "cells": [
  {
   "cell_type": "code",
   "execution_count": 1,
   "metadata": {},
   "outputs": [
    {
     "name": "stderr",
     "output_type": "stream",
     "text": [
      "/home/ubuntu/anaconda3/envs/tensorflow_p36/lib/python3.6/site-packages/h5py/__init__.py:36: FutureWarning: Conversion of the second argument of issubdtype from `float` to `np.floating` is deprecated. In future, it will be treated as `np.float64 == np.dtype(float).type`.\n",
      "  from ._conv import register_converters as _register_converters\n",
      "Using TensorFlow backend.\n",
      "/home/ubuntu/anaconda3/envs/tensorflow_p36/lib/python3.6/site-packages/matplotlib/__init__.py:962: UserWarning: Duplicate key in file \"/home/ubuntu/.config/matplotlib/matplotlibrc\", line #2\n",
      "  (fname, cnt))\n",
      "/home/ubuntu/anaconda3/envs/tensorflow_p36/lib/python3.6/site-packages/matplotlib/__init__.py:962: UserWarning: Duplicate key in file \"/home/ubuntu/.config/matplotlib/matplotlibrc\", line #3\n",
      "  (fname, cnt))\n"
     ]
    },
    {
     "data": {
      "text/plain": [
       "'2.1.4'"
      ]
     },
     "execution_count": 1,
     "metadata": {},
     "output_type": "execute_result"
    }
   ],
   "source": [
    "#import tensorflow as tf\n",
    "import keras\n",
    "keras.__version__"
   ]
  },
  {
   "cell_type": "code",
   "execution_count": 2,
   "metadata": {},
   "outputs": [],
   "source": [
    "import os\n",
    "import numpy as np\n",
    "from keras.preprocessing.image import ImageDataGenerator"
   ]
  },
  {
   "cell_type": "code",
   "execution_count": 3,
   "metadata": {},
   "outputs": [],
   "source": [
    "from keras import models\n",
    "from keras import layers\n",
    "from keras import optimizers\n",
    "from keras.preprocessing.image import ImageDataGenerator"
   ]
  },
  {
   "cell_type": "code",
   "execution_count": 4,
   "metadata": {},
   "outputs": [],
   "source": [
    "from keras import backend as K"
   ]
  },
  {
   "cell_type": "markdown",
   "metadata": {},
   "source": [
    "## Setup run-time configuration"
   ]
  },
  {
   "cell_type": "code",
   "execution_count": 5,
   "metadata": {},
   "outputs": [
    {
     "name": "stdout",
     "output_type": "stream",
     "text": [
      "Number of samples: training 4000, validation 2000 and test 2000\n"
     ]
    }
   ],
   "source": [
    "# training data specific names\n",
    "base_model_name = './models/vgg16_small_base_model.h5'\n",
    "finetuned_model_name = './models/vgg16_small_finetuned_model.h5'\n",
    "\n",
    "train_dir = '/mystuff/cats_dogs_data/train_small'\n",
    "\n",
    "# location for validation and test data\n",
    "validation_dir = '/mystuff/cats_dogs_data/validation'\n",
    "test_dir = '/mystuff/cats_dogs_data/test'\n",
    "\n",
    "\n",
    "# training run specific parameters\n",
    "BASE_MODEL_EPOCHS=30\n",
    "FINETUNED_MODEL_EPOCHS=50\n",
    "BATCH_SIZE = 64\n",
    "\n",
    "TRAIN_SAMPLES = len(os.listdir(os.path.join(train_dir,'cats'))) + len(os.listdir(os.path.join(train_dir,'dogs')))\n",
    "VALIDATION_SAMPLES = len(os.listdir(os.path.join(validation_dir,'cats'))) + \\\n",
    "    len(os.listdir(os.path.join(validation_dir,'dogs')))\n",
    "    \n",
    "TEST_SAMPLES = len(os.listdir(os.path.join(test_dir,'cats'))) + len(os.listdir(os.path.join(test_dir,'dogs')))\n",
    "\n",
    "print('Number of samples: training {:d}, validation {:d} and test {:d}'.format(TRAIN_SAMPLES, \n",
    "                                                                               VALIDATION_SAMPLES,TEST_SAMPLES))"
   ]
  },
  {
   "cell_type": "markdown",
   "metadata": {},
   "source": [
    "# Using a pre-trained convnet\n",
    "\n"
   ]
  },
  {
   "cell_type": "markdown",
   "metadata": {},
   "source": [
    "## Feature extraction for VGG16 model\n",
    "\n"
   ]
  },
  {
   "cell_type": "code",
   "execution_count": 6,
   "metadata": {},
   "outputs": [],
   "source": [
    "from keras.applications import VGG16"
   ]
  },
  {
   "cell_type": "code",
   "execution_count": 7,
   "metadata": {},
   "outputs": [],
   "source": [
    "conv_base = VGG16(weights='imagenet',\n",
    "                  include_top=False,\n",
    "                  input_shape=(150, 150, 3))"
   ]
  },
  {
   "cell_type": "code",
   "execution_count": 8,
   "metadata": {},
   "outputs": [
    {
     "name": "stdout",
     "output_type": "stream",
     "text": [
      "_________________________________________________________________\n",
      "Layer (type)                 Output Shape              Param #   \n",
      "=================================================================\n",
      "input_1 (InputLayer)         (None, 150, 150, 3)       0         \n",
      "_________________________________________________________________\n",
      "block1_conv1 (Conv2D)        (None, 150, 150, 64)      1792      \n",
      "_________________________________________________________________\n",
      "block1_conv2 (Conv2D)        (None, 150, 150, 64)      36928     \n",
      "_________________________________________________________________\n",
      "block1_pool (MaxPooling2D)   (None, 75, 75, 64)        0         \n",
      "_________________________________________________________________\n",
      "block2_conv1 (Conv2D)        (None, 75, 75, 128)       73856     \n",
      "_________________________________________________________________\n",
      "block2_conv2 (Conv2D)        (None, 75, 75, 128)       147584    \n",
      "_________________________________________________________________\n",
      "block2_pool (MaxPooling2D)   (None, 37, 37, 128)       0         \n",
      "_________________________________________________________________\n",
      "block3_conv1 (Conv2D)        (None, 37, 37, 256)       295168    \n",
      "_________________________________________________________________\n",
      "block3_conv2 (Conv2D)        (None, 37, 37, 256)       590080    \n",
      "_________________________________________________________________\n",
      "block3_conv3 (Conv2D)        (None, 37, 37, 256)       590080    \n",
      "_________________________________________________________________\n",
      "block3_pool (MaxPooling2D)   (None, 18, 18, 256)       0         \n",
      "_________________________________________________________________\n",
      "block4_conv1 (Conv2D)        (None, 18, 18, 512)       1180160   \n",
      "_________________________________________________________________\n",
      "block4_conv2 (Conv2D)        (None, 18, 18, 512)       2359808   \n",
      "_________________________________________________________________\n",
      "block4_conv3 (Conv2D)        (None, 18, 18, 512)       2359808   \n",
      "_________________________________________________________________\n",
      "block4_pool (MaxPooling2D)   (None, 9, 9, 512)         0         \n",
      "_________________________________________________________________\n",
      "block5_conv1 (Conv2D)        (None, 9, 9, 512)         2359808   \n",
      "_________________________________________________________________\n",
      "block5_conv2 (Conv2D)        (None, 9, 9, 512)         2359808   \n",
      "_________________________________________________________________\n",
      "block5_conv3 (Conv2D)        (None, 9, 9, 512)         2359808   \n",
      "_________________________________________________________________\n",
      "block5_pool (MaxPooling2D)   (None, 4, 4, 512)         0         \n",
      "=================================================================\n",
      "Total params: 14,714,688\n",
      "Trainable params: 14,714,688\n",
      "Non-trainable params: 0\n",
      "_________________________________________________________________\n"
     ]
    }
   ],
   "source": [
    "conv_base.summary()"
   ]
  },
  {
   "cell_type": "code",
   "execution_count": 9,
   "metadata": {},
   "outputs": [],
   "source": [
    "\n",
    "model = models.Sequential()\n",
    "model.add(conv_base)\n",
    "model.add(layers.Flatten())\n",
    "model.add(layers.Dense(256, activation='relu'))\n",
    "model.add(layers.Dense(1, activation='sigmoid'))\n"
   ]
  },
  {
   "cell_type": "markdown",
   "metadata": {},
   "source": [
    "This is what our model looks like now:"
   ]
  },
  {
   "cell_type": "code",
   "execution_count": 10,
   "metadata": {},
   "outputs": [
    {
     "name": "stdout",
     "output_type": "stream",
     "text": [
      "_________________________________________________________________\n",
      "Layer (type)                 Output Shape              Param #   \n",
      "=================================================================\n",
      "vgg16 (Model)                (None, 4, 4, 512)         14714688  \n",
      "_________________________________________________________________\n",
      "flatten_1 (Flatten)          (None, 8192)              0         \n",
      "_________________________________________________________________\n",
      "dense_1 (Dense)              (None, 256)               2097408   \n",
      "_________________________________________________________________\n",
      "dense_2 (Dense)              (None, 1)                 257       \n",
      "=================================================================\n",
      "Total params: 16,812,353\n",
      "Trainable params: 16,812,353\n",
      "Non-trainable params: 0\n",
      "_________________________________________________________________\n"
     ]
    }
   ],
   "source": [
    "model.summary()"
   ]
  },
  {
   "cell_type": "markdown",
   "metadata": {},
   "source": [
    "### Freeze base model layers"
   ]
  },
  {
   "cell_type": "code",
   "execution_count": 11,
   "metadata": {},
   "outputs": [
    {
     "name": "stdout",
     "output_type": "stream",
     "text": [
      "This is the number of trainable weights before freezing the conv base: 30\n"
     ]
    }
   ],
   "source": [
    "print('This is the number of trainable weights '\n",
    "      'before freezing the conv base:', len(model.trainable_weights))"
   ]
  },
  {
   "cell_type": "code",
   "execution_count": 12,
   "metadata": {},
   "outputs": [],
   "source": [
    "conv_base.trainable = False"
   ]
  },
  {
   "cell_type": "code",
   "execution_count": 13,
   "metadata": {},
   "outputs": [
    {
     "name": "stdout",
     "output_type": "stream",
     "text": [
      "This is the number of trainable weights after freezing the conv base: 4\n"
     ]
    }
   ],
   "source": [
    "print('This is the number of trainable weights '\n",
    "      'after freezing the conv base:', len(model.trainable_weights))"
   ]
  },
  {
   "cell_type": "code",
   "execution_count": 14,
   "metadata": {},
   "outputs": [
    {
     "name": "stdout",
     "output_type": "stream",
     "text": [
      "_________________________________________________________________\n",
      "Layer (type)                 Output Shape              Param #   \n",
      "=================================================================\n",
      "vgg16 (Model)                (None, 4, 4, 512)         14714688  \n",
      "_________________________________________________________________\n",
      "flatten_1 (Flatten)          (None, 8192)              0         \n",
      "_________________________________________________________________\n",
      "dense_1 (Dense)              (None, 256)               2097408   \n",
      "_________________________________________________________________\n",
      "dense_2 (Dense)              (None, 1)                 257       \n",
      "=================================================================\n",
      "Total params: 16,812,353\n",
      "Trainable params: 2,097,665\n",
      "Non-trainable params: 14,714,688\n",
      "_________________________________________________________________\n"
     ]
    }
   ],
   "source": [
    "model.summary()"
   ]
  },
  {
   "cell_type": "markdown",
   "metadata": {},
   "source": [
    "### Setup training data pipeline using data augmenation"
   ]
  },
  {
   "cell_type": "code",
   "execution_count": 15,
   "metadata": {},
   "outputs": [
    {
     "name": "stdout",
     "output_type": "stream",
     "text": [
      "Found 4000 images belonging to 2 classes.\n",
      "Found 2000 images belonging to 2 classes.\n"
     ]
    }
   ],
   "source": [
    "\n",
    "\n",
    "train_datagen = ImageDataGenerator(\n",
    "      rescale=1./255,\n",
    "      rotation_range=40,\n",
    "      width_shift_range=0.2,\n",
    "      height_shift_range=0.2,\n",
    "      shear_range=0.2,\n",
    "      zoom_range=0.2,\n",
    "      horizontal_flip=True,\n",
    "      fill_mode='nearest')\n",
    "\n",
    "# Note that the validation data should not be augmented!\n",
    "test_datagen = ImageDataGenerator(rescale=1./255)\n",
    "\n",
    "train_generator = train_datagen.flow_from_directory(\n",
    "        # This is the target directory\n",
    "        train_dir,\n",
    "        # All images will be resized to 150x150\n",
    "        target_size=(150, 150),\n",
    "        batch_size=BATCH_SIZE,  # original\n",
    "        #batch_size=50,\n",
    "        # Since we use binary_crossentropy loss, we need binary labels\n",
    "        class_mode='binary')\n",
    "\n",
    "validation_generator = test_datagen.flow_from_directory(\n",
    "        validation_dir,\n",
    "        target_size=(150, 150),\n",
    "        batch_size=BATCH_SIZE,\n",
    "        class_mode='binary')"
   ]
  },
  {
   "cell_type": "markdown",
   "metadata": {},
   "source": [
    "### Train new classifer specific to cat vs dog using features created by baseline model"
   ]
  },
  {
   "cell_type": "code",
   "execution_count": 16,
   "metadata": {},
   "outputs": [],
   "source": [
    "model.compile(loss='binary_crossentropy',\n",
    "              optimizer=optimizers.Adam(),\n",
    "              metrics=['acc'])"
   ]
  },
  {
   "cell_type": "code",
   "execution_count": 17,
   "metadata": {},
   "outputs": [
    {
     "name": "stdout",
     "output_type": "stream",
     "text": [
      "Epoch 1/30\n",
      " - 44s - loss: 0.6381 - acc: 0.7096 - val_loss: 0.3046 - val_acc: 0.8775\n",
      "\n",
      "Epoch 00001: val_acc improved from -inf to 0.87750, saving model to ./models/weights_best.hdf5\n",
      "Epoch 2/30\n",
      " - 37s - loss: 0.3634 - acc: 0.8435 - val_loss: 0.2721 - val_acc: 0.8880\n",
      "\n",
      "Epoch 00002: val_acc improved from 0.87750 to 0.88800, saving model to ./models/weights_best.hdf5\n",
      "Epoch 3/30\n",
      " - 37s - loss: 0.3408 - acc: 0.8427 - val_loss: 0.2531 - val_acc: 0.8990\n",
      "\n",
      "Epoch 00003: val_acc improved from 0.88800 to 0.89900, saving model to ./models/weights_best.hdf5\n",
      "Epoch 4/30\n",
      " - 36s - loss: 0.3309 - acc: 0.8532 - val_loss: 0.2559 - val_acc: 0.8940\n",
      "\n",
      "Epoch 00004: val_acc did not improve\n",
      "Epoch 5/30\n",
      " - 37s - loss: 0.3250 - acc: 0.8497 - val_loss: 0.2492 - val_acc: 0.8970\n",
      "\n",
      "Epoch 00005: val_acc did not improve\n",
      "Epoch 6/30\n",
      " - 37s - loss: 0.3065 - acc: 0.8623 - val_loss: 0.2332 - val_acc: 0.9080\n",
      "\n",
      "Epoch 00006: val_acc improved from 0.89900 to 0.90800, saving model to ./models/weights_best.hdf5\n",
      "Epoch 7/30\n",
      " - 37s - loss: 0.3177 - acc: 0.8604 - val_loss: 0.2614 - val_acc: 0.8950\n",
      "\n",
      "Epoch 00007: val_acc did not improve\n",
      "Epoch 8/30\n",
      " - 36s - loss: 0.3261 - acc: 0.8495 - val_loss: 0.2305 - val_acc: 0.9020\n",
      "\n",
      "Epoch 00008: val_acc did not improve\n",
      "Epoch 9/30\n",
      " - 37s - loss: 0.2911 - acc: 0.8686 - val_loss: 0.2957 - val_acc: 0.8700\n",
      "\n",
      "Epoch 00009: val_acc did not improve\n",
      "Epoch 10/30\n",
      " - 37s - loss: 0.2881 - acc: 0.8730 - val_loss: 0.2866 - val_acc: 0.8775\n",
      "\n",
      "Epoch 00010: val_acc did not improve\n",
      "Epoch 11/30\n",
      " - 37s - loss: 0.2990 - acc: 0.8663 - val_loss: 0.2252 - val_acc: 0.9055\n",
      "\n",
      "Epoch 00011: val_acc did not improve\n",
      "Epoch 12/30\n",
      " - 36s - loss: 0.2862 - acc: 0.8733 - val_loss: 0.2221 - val_acc: 0.9075\n",
      "\n",
      "Epoch 00012: val_acc did not improve\n",
      "Epoch 13/30\n",
      " - 37s - loss: 0.2847 - acc: 0.8738 - val_loss: 0.2529 - val_acc: 0.8985\n",
      "\n",
      "Epoch 00013: val_acc did not improve\n",
      "Epoch 14/30\n",
      " - 36s - loss: 0.2735 - acc: 0.8814 - val_loss: 0.2605 - val_acc: 0.8900\n",
      "\n",
      "Epoch 00014: val_acc did not improve\n",
      "Epoch 15/30\n",
      " - 37s - loss: 0.2711 - acc: 0.8844 - val_loss: 0.2169 - val_acc: 0.9080\n",
      "\n",
      "Epoch 00015: val_acc did not improve\n",
      "Epoch 16/30\n",
      " - 36s - loss: 0.2762 - acc: 0.8792 - val_loss: 0.2216 - val_acc: 0.9045\n",
      "\n",
      "Epoch 00016: val_acc did not improve\n",
      "Epoch 17/30\n",
      " - 36s - loss: 0.2909 - acc: 0.8755 - val_loss: 0.2267 - val_acc: 0.9045\n",
      "\n",
      "Epoch 00017: val_acc did not improve\n",
      "Epoch 18/30\n",
      " - 37s - loss: 0.2819 - acc: 0.8775 - val_loss: 0.2150 - val_acc: 0.9115\n",
      "\n",
      "Epoch 00018: val_acc improved from 0.90800 to 0.91150, saving model to ./models/weights_best.hdf5\n",
      "Epoch 19/30\n",
      " - 37s - loss: 0.2898 - acc: 0.8688 - val_loss: 0.2290 - val_acc: 0.9055\n",
      "\n",
      "Epoch 00019: val_acc did not improve\n",
      "Epoch 20/30\n",
      " - 37s - loss: 0.2751 - acc: 0.8735 - val_loss: 0.2144 - val_acc: 0.9070\n",
      "\n",
      "Epoch 00020: val_acc did not improve\n",
      "Epoch 21/30\n",
      " - 37s - loss: 0.2572 - acc: 0.8859 - val_loss: 0.2511 - val_acc: 0.8915\n",
      "\n",
      "Epoch 00021: val_acc did not improve\n",
      "Epoch 22/30\n",
      " - 37s - loss: 0.2522 - acc: 0.8894 - val_loss: 0.2177 - val_acc: 0.9075\n",
      "\n",
      "Epoch 00022: val_acc did not improve\n",
      "Epoch 23/30\n",
      " - 37s - loss: 0.2639 - acc: 0.8832 - val_loss: 0.2362 - val_acc: 0.8985\n",
      "\n",
      "Epoch 00023: val_acc did not improve\n",
      "Epoch 24/30\n",
      " - 37s - loss: 0.2661 - acc: 0.8777 - val_loss: 0.2472 - val_acc: 0.8965\n",
      "\n",
      "Epoch 00024: val_acc did not improve\n",
      "Epoch 25/30\n",
      " - 37s - loss: 0.2665 - acc: 0.8837 - val_loss: 0.2357 - val_acc: 0.9040\n",
      "\n",
      "Epoch 00025: val_acc did not improve\n",
      "Epoch 26/30\n",
      " - 37s - loss: 0.2588 - acc: 0.8906 - val_loss: 0.2460 - val_acc: 0.8920\n",
      "\n",
      "Epoch 00026: val_acc did not improve\n",
      "Epoch 27/30\n",
      " - 37s - loss: 0.2516 - acc: 0.8889 - val_loss: 0.2177 - val_acc: 0.9050\n",
      "\n",
      "Epoch 00027: val_acc did not improve\n",
      "Epoch 28/30\n",
      " - 37s - loss: 0.2557 - acc: 0.8827 - val_loss: 0.2196 - val_acc: 0.9085\n",
      "\n",
      "Epoch 00028: val_acc did not improve\n",
      "Epoch 29/30\n",
      " - 37s - loss: 0.2542 - acc: 0.8904 - val_loss: 0.2213 - val_acc: 0.9075\n",
      "\n",
      "Epoch 00029: val_acc did not improve\n",
      "Epoch 30/30\n",
      " - 36s - loss: 0.2589 - acc: 0.8834 - val_loss: 0.2151 - val_acc: 0.9055\n",
      "\n",
      "Epoch 00030: val_acc did not improve\n"
     ]
    }
   ],
   "source": [
    "# set up to capture best performance weights ecountered during training\n",
    "from keras.callbacks import ModelCheckpoint\n",
    "checkpoint = ModelCheckpoint('./models/weights_best.hdf5', monitor='val_acc', verbose=1, save_best_only=True,\n",
    "mode='max')\n",
    "callbacks_list = [checkpoint]\n",
    "\n",
    "\n",
    "history = model.fit_generator(\n",
    "      train_generator,\n",
    "      steps_per_epoch=TRAIN_SAMPLES/BATCH_SIZE,\n",
    "      epochs=BASE_MODEL_EPOCHS,  \n",
    "      validation_data=validation_generator,\n",
    "      validation_steps=VALIDATION_SAMPLES/BATCH_SIZE,\n",
    "      callbacks=callbacks_list,\n",
    "      verbose=2)"
   ]
  },
  {
   "cell_type": "code",
   "execution_count": 18,
   "metadata": {},
   "outputs": [],
   "source": [
    "# load best performance weights\n",
    "model.load_weights('./models/weights_best.hdf5')\n",
    "\n",
    "# save trained model\n",
    "model.save(base_model_name)"
   ]
  },
  {
   "cell_type": "markdown",
   "metadata": {},
   "source": [
    "Examine learning rates:"
   ]
  },
  {
   "cell_type": "code",
   "execution_count": 19,
   "metadata": {},
   "outputs": [
    {
     "data": {
      "image/png": "[encoded data removed]",
      "text/plain": [
       "<matplotlib.figure.Figure at 0x7f0072841048>"
      ]
     },
     "metadata": {},
     "output_type": "display_data"
    },
    {
     "data": {
      "image/png": "[encoded data removed]",
      "text/plain": [
       "<matplotlib.figure.Figure at 0x7f006fa7c3c8>"
      ]
     },
     "metadata": {},
     "output_type": "display_data"
    }
   ],
   "source": [
    "%matplotlib inline\n",
    "import matplotlib.pyplot as plt\n",
    "\n",
    "acc = history.history['acc']\n",
    "val_acc = history.history['val_acc']\n",
    "loss = history.history['loss']\n",
    "val_loss = history.history['val_loss']\n",
    "\n",
    "epochs = range(len(acc))\n",
    "\n",
    "plt.plot(epochs, acc, 'bo', label='Training acc')\n",
    "plt.plot(epochs, val_acc, 'b', label='Validation acc')\n",
    "plt.title('Training and validation accuracy')\n",
    "plt.legend()\n",
    "\n",
    "plt.figure()\n",
    "\n",
    "plt.plot(epochs, loss, 'bo', label='Training loss')\n",
    "plt.plot(epochs, val_loss, 'b', label='Validation loss')\n",
    "plt.title('Training and validation loss')\n",
    "plt.legend()\n",
    "\n",
    "plt.show()"
   ]
  },
  {
   "cell_type": "code",
   "execution_count": 20,
   "metadata": {},
   "outputs": [
    {
     "name": "stdout",
     "output_type": "stream",
     "text": [
      "Found 2000 images belonging to 2 classes.\n",
      "base model test acc: 0.898\n"
     ]
    }
   ],
   "source": [
    "\n",
    "test_generator = test_datagen.flow_from_directory(\n",
    "        test_dir,\n",
    "        target_size=(150, 150),\n",
    "        batch_size=BATCH_SIZE,\n",
    "        class_mode='binary')\n",
    "\n",
    "test_loss, test_acc = model.evaluate_generator(test_generator, steps=TEST_SAMPLES/BATCH_SIZE)\n",
    "print('base model test acc:', test_acc)"
   ]
  },
  {
   "cell_type": "markdown",
   "metadata": {},
   "source": [
    "## Fine-tuning\n",
    "\n"
   ]
  },
  {
   "cell_type": "markdown",
   "metadata": {},
   "source": [
    "Model before setup for fine tuning"
   ]
  },
  {
   "cell_type": "code",
   "execution_count": 21,
   "metadata": {},
   "outputs": [
    {
     "name": "stdout",
     "output_type": "stream",
     "text": [
      "_________________________________________________________________\n",
      "Layer (type)                 Output Shape              Param #   \n",
      "=================================================================\n",
      "vgg16 (Model)                (None, 4, 4, 512)         14714688  \n",
      "_________________________________________________________________\n",
      "flatten_1 (Flatten)          (None, 8192)              0         \n",
      "_________________________________________________________________\n",
      "dense_1 (Dense)              (None, 256)               2097408   \n",
      "_________________________________________________________________\n",
      "dense_2 (Dense)              (None, 1)                 257       \n",
      "=================================================================\n",
      "Total params: 16,812,353\n",
      "Trainable params: 2,097,665\n",
      "Non-trainable params: 14,714,688\n",
      "_________________________________________________________________\n"
     ]
    }
   ],
   "source": [
    "model.summary()"
   ]
  },
  {
   "cell_type": "code",
   "execution_count": 22,
   "metadata": {},
   "outputs": [
    {
     "name": "stdout",
     "output_type": "stream",
     "text": [
      "_________________________________________________________________\n",
      "Layer (type)                 Output Shape              Param #   \n",
      "=================================================================\n",
      "input_1 (InputLayer)         (None, 150, 150, 3)       0         \n",
      "_________________________________________________________________\n",
      "block1_conv1 (Conv2D)        (None, 150, 150, 64)      1792      \n",
      "_________________________________________________________________\n",
      "block1_conv2 (Conv2D)        (None, 150, 150, 64)      36928     \n",
      "_________________________________________________________________\n",
      "block1_pool (MaxPooling2D)   (None, 75, 75, 64)        0         \n",
      "_________________________________________________________________\n",
      "block2_conv1 (Conv2D)        (None, 75, 75, 128)       73856     \n",
      "_________________________________________________________________\n",
      "block2_conv2 (Conv2D)        (None, 75, 75, 128)       147584    \n",
      "_________________________________________________________________\n",
      "block2_pool (MaxPooling2D)   (None, 37, 37, 128)       0         \n",
      "_________________________________________________________________\n",
      "block3_conv1 (Conv2D)        (None, 37, 37, 256)       295168    \n",
      "_________________________________________________________________\n",
      "block3_conv2 (Conv2D)        (None, 37, 37, 256)       590080    \n",
      "_________________________________________________________________\n",
      "block3_conv3 (Conv2D)        (None, 37, 37, 256)       590080    \n",
      "_________________________________________________________________\n",
      "block3_pool (MaxPooling2D)   (None, 18, 18, 256)       0         \n",
      "_________________________________________________________________\n",
      "block4_conv1 (Conv2D)        (None, 18, 18, 512)       1180160   \n",
      "_________________________________________________________________\n",
      "block4_conv2 (Conv2D)        (None, 18, 18, 512)       2359808   \n",
      "_________________________________________________________________\n",
      "block4_conv3 (Conv2D)        (None, 18, 18, 512)       2359808   \n",
      "_________________________________________________________________\n",
      "block4_pool (MaxPooling2D)   (None, 9, 9, 512)         0         \n",
      "_________________________________________________________________\n",
      "block5_conv1 (Conv2D)        (None, 9, 9, 512)         2359808   \n",
      "_________________________________________________________________\n",
      "block5_conv2 (Conv2D)        (None, 9, 9, 512)         2359808   \n",
      "_________________________________________________________________\n",
      "block5_conv3 (Conv2D)        (None, 9, 9, 512)         2359808   \n",
      "_________________________________________________________________\n",
      "block5_pool (MaxPooling2D)   (None, 4, 4, 512)         0         \n",
      "=================================================================\n",
      "Total params: 14,714,688\n",
      "Trainable params: 0\n",
      "Non-trainable params: 14,714,688\n",
      "_________________________________________________________________\n"
     ]
    }
   ],
   "source": [
    "conv_base.summary()"
   ]
  },
  {
   "cell_type": "code",
   "execution_count": 23,
   "metadata": {},
   "outputs": [],
   "source": [
    "conv_base.trainable = True\n",
    "\n",
    "set_trainable = False\n",
    "for layer in conv_base.layers:\n",
    "    if layer.name == 'block4_conv1':\n",
    "        set_trainable = True\n",
    "    if set_trainable:\n",
    "        layer.trainable = True\n",
    "    else:\n",
    "        layer.trainable = False"
   ]
  },
  {
   "cell_type": "code",
   "execution_count": 24,
   "metadata": {},
   "outputs": [
    {
     "name": "stdout",
     "output_type": "stream",
     "text": [
      "_________________________________________________________________\n",
      "Layer (type)                 Output Shape              Param #   \n",
      "=================================================================\n",
      "input_1 (InputLayer)         (None, 150, 150, 3)       0         \n",
      "_________________________________________________________________\n",
      "block1_conv1 (Conv2D)        (None, 150, 150, 64)      1792      \n",
      "_________________________________________________________________\n",
      "block1_conv2 (Conv2D)        (None, 150, 150, 64)      36928     \n",
      "_________________________________________________________________\n",
      "block1_pool (MaxPooling2D)   (None, 75, 75, 64)        0         \n",
      "_________________________________________________________________\n",
      "block2_conv1 (Conv2D)        (None, 75, 75, 128)       73856     \n",
      "_________________________________________________________________\n",
      "block2_conv2 (Conv2D)        (None, 75, 75, 128)       147584    \n",
      "_________________________________________________________________\n",
      "block2_pool (MaxPooling2D)   (None, 37, 37, 128)       0         \n",
      "_________________________________________________________________\n",
      "block3_conv1 (Conv2D)        (None, 37, 37, 256)       295168    \n",
      "_________________________________________________________________\n",
      "block3_conv2 (Conv2D)        (None, 37, 37, 256)       590080    \n",
      "_________________________________________________________________\n",
      "block3_conv3 (Conv2D)        (None, 37, 37, 256)       590080    \n",
      "_________________________________________________________________\n",
      "block3_pool (MaxPooling2D)   (None, 18, 18, 256)       0         \n",
      "_________________________________________________________________\n",
      "block4_conv1 (Conv2D)        (None, 18, 18, 512)       1180160   \n",
      "_________________________________________________________________\n",
      "block4_conv2 (Conv2D)        (None, 18, 18, 512)       2359808   \n",
      "_________________________________________________________________\n",
      "block4_conv3 (Conv2D)        (None, 18, 18, 512)       2359808   \n",
      "_________________________________________________________________\n",
      "block4_pool (MaxPooling2D)   (None, 9, 9, 512)         0         \n",
      "_________________________________________________________________\n",
      "block5_conv1 (Conv2D)        (None, 9, 9, 512)         2359808   \n",
      "_________________________________________________________________\n",
      "block5_conv2 (Conv2D)        (None, 9, 9, 512)         2359808   \n",
      "_________________________________________________________________\n",
      "block5_conv3 (Conv2D)        (None, 9, 9, 512)         2359808   \n",
      "_________________________________________________________________\n",
      "block5_pool (MaxPooling2D)   (None, 4, 4, 512)         0         \n",
      "=================================================================\n",
      "Total params: 14,714,688\n",
      "Trainable params: 12,979,200\n",
      "Non-trainable params: 1,735,488\n",
      "_________________________________________________________________\n"
     ]
    }
   ],
   "source": [
    "conv_base.summary()"
   ]
  },
  {
   "cell_type": "code",
   "execution_count": 25,
   "metadata": {},
   "outputs": [
    {
     "name": "stdout",
     "output_type": "stream",
     "text": [
      "_________________________________________________________________\n",
      "Layer (type)                 Output Shape              Param #   \n",
      "=================================================================\n",
      "vgg16 (Model)                (None, 4, 4, 512)         14714688  \n",
      "_________________________________________________________________\n",
      "flatten_1 (Flatten)          (None, 8192)              0         \n",
      "_________________________________________________________________\n",
      "dense_1 (Dense)              (None, 256)               2097408   \n",
      "_________________________________________________________________\n",
      "dense_2 (Dense)              (None, 1)                 257       \n",
      "=================================================================\n",
      "Total params: 16,812,353\n",
      "Trainable params: 15,076,865\n",
      "Non-trainable params: 1,735,488\n",
      "_________________________________________________________________\n"
     ]
    }
   ],
   "source": [
    "model.summary()"
   ]
  },
  {
   "cell_type": "markdown",
   "metadata": {},
   "source": [
    "\n",
    "Now let's proceed with fine-tuning:"
   ]
  },
  {
   "cell_type": "code",
   "execution_count": 26,
   "metadata": {},
   "outputs": [
    {
     "name": "stdout",
     "output_type": "stream",
     "text": [
      "Epoch 1/50\n",
      "63/62 [==============================] - 44s 694ms/step - loss: 0.2902 - acc: 0.8725 - val_loss: 0.2057 - val_acc: 0.9165\n",
      "\n",
      "Epoch 00001: val_acc improved from -inf to 0.91650, saving model to ./models/weights_best.hdf5\n",
      "Epoch 2/50\n",
      "63/62 [==============================] - 42s 659ms/step - loss: 0.2267 - acc: 0.9010 - val_loss: 0.1520 - val_acc: 0.9410\n",
      "\n",
      "Epoch 00002: val_acc improved from 0.91650 to 0.94100, saving model to ./models/weights_best.hdf5\n",
      "Epoch 3/50\n",
      "63/62 [==============================] - 42s 659ms/step - loss: 0.1991 - acc: 0.9179 - val_loss: 0.1774 - val_acc: 0.9275\n",
      "\n",
      "Epoch 00003: val_acc did not improve\n",
      "Epoch 4/50\n",
      "63/62 [==============================] - 42s 661ms/step - loss: 0.1776 - acc: 0.9241 - val_loss: 0.1447 - val_acc: 0.9425\n",
      "\n",
      "Epoch 00004: val_acc improved from 0.94100 to 0.94250, saving model to ./models/weights_best.hdf5\n",
      "Epoch 5/50\n",
      "63/62 [==============================] - 42s 661ms/step - loss: 0.1583 - acc: 0.9338 - val_loss: 0.1328 - val_acc: 0.9470\n",
      "\n",
      "Epoch 00005: val_acc improved from 0.94250 to 0.94700, saving model to ./models/weights_best.hdf5\n",
      "Epoch 6/50\n",
      "63/62 [==============================] - 42s 660ms/step - loss: 0.1390 - acc: 0.9425 - val_loss: 0.1331 - val_acc: 0.9465\n",
      "\n",
      "Epoch 00006: val_acc did not improve\n",
      "Epoch 7/50\n",
      "63/62 [==============================] - 42s 660ms/step - loss: 0.1364 - acc: 0.9469 - val_loss: 0.1666 - val_acc: 0.9325\n",
      "\n",
      "Epoch 00007: val_acc did not improve\n",
      "Epoch 8/50\n",
      "63/62 [==============================] - 42s 660ms/step - loss: 0.1319 - acc: 0.9487 - val_loss: 0.1119 - val_acc: 0.9580\n",
      "\n",
      "Epoch 00008: val_acc improved from 0.94700 to 0.95800, saving model to ./models/weights_best.hdf5\n",
      "Epoch 9/50\n",
      "63/62 [==============================] - 42s 661ms/step - loss: 0.1087 - acc: 0.9581 - val_loss: 0.1123 - val_acc: 0.9620\n",
      "\n",
      "Epoch 00009: val_acc improved from 0.95800 to 0.96200, saving model to ./models/weights_best.hdf5\n",
      "Epoch 10/50\n",
      "63/62 [==============================] - 42s 660ms/step - loss: 0.1047 - acc: 0.9566 - val_loss: 0.1177 - val_acc: 0.9595\n",
      "\n",
      "Epoch 00010: val_acc did not improve\n",
      "Epoch 11/50\n",
      "63/62 [==============================] - 42s 659ms/step - loss: 0.1002 - acc: 0.9628 - val_loss: 0.1358 - val_acc: 0.9475\n",
      "\n",
      "Epoch 00011: val_acc did not improve\n",
      "Epoch 12/50\n",
      "63/62 [==============================] - 42s 660ms/step - loss: 0.0889 - acc: 0.9665 - val_loss: 0.1143 - val_acc: 0.9570\n",
      "\n",
      "Epoch 00012: val_acc did not improve\n",
      "Epoch 13/50\n",
      "63/62 [==============================] - 42s 661ms/step - loss: 0.0956 - acc: 0.9635 - val_loss: 0.1302 - val_acc: 0.9500\n",
      "\n",
      "Epoch 00013: val_acc did not improve\n",
      "Epoch 14/50\n",
      "63/62 [==============================] - 42s 660ms/step - loss: 0.0859 - acc: 0.9665 - val_loss: 0.1190 - val_acc: 0.9565\n",
      "\n",
      "Epoch 00014: val_acc did not improve\n",
      "Epoch 15/50\n",
      "63/62 [==============================] - 42s 659ms/step - loss: 0.0822 - acc: 0.9692 - val_loss: 0.1131 - val_acc: 0.9590\n",
      "\n",
      "Epoch 00015: val_acc did not improve\n",
      "Epoch 16/50\n",
      "63/62 [==============================] - 42s 659ms/step - loss: 0.0756 - acc: 0.9707 - val_loss: 0.2714 - val_acc: 0.9075\n",
      "\n",
      "Epoch 00016: val_acc did not improve\n",
      "Epoch 17/50\n",
      "63/62 [==============================] - 42s 661ms/step - loss: 0.0724 - acc: 0.9702 - val_loss: 0.1092 - val_acc: 0.9600\n",
      "\n",
      "Epoch 00017: val_acc did not improve\n",
      "Epoch 18/50\n",
      "63/62 [==============================] - 42s 661ms/step - loss: 0.0592 - acc: 0.9789 - val_loss: 0.1192 - val_acc: 0.9610\n",
      "\n",
      "Epoch 00018: val_acc did not improve\n",
      "Epoch 19/50\n",
      "63/62 [==============================] - 42s 660ms/step - loss: 0.0659 - acc: 0.9759 - val_loss: 0.1389 - val_acc: 0.9505\n",
      "\n",
      "Epoch 00019: val_acc did not improve\n",
      "Epoch 20/50\n",
      "63/62 [==============================] - 42s 661ms/step - loss: 0.0540 - acc: 0.9834 - val_loss: 0.1326 - val_acc: 0.9615\n",
      "\n",
      "Epoch 00020: val_acc did not improve\n",
      "Epoch 21/50\n",
      "63/62 [==============================] - 42s 660ms/step - loss: 0.0609 - acc: 0.9772 - val_loss: 0.2094 - val_acc: 0.9260\n",
      "\n",
      "Epoch 00021: val_acc did not improve\n",
      "Epoch 22/50\n",
      "63/62 [==============================] - 42s 659ms/step - loss: 0.0549 - acc: 0.9811 - val_loss: 0.1335 - val_acc: 0.9630\n",
      "\n",
      "Epoch 00022: val_acc improved from 0.96200 to 0.96300, saving model to ./models/weights_best.hdf5\n",
      "Epoch 23/50\n",
      "63/62 [==============================] - 42s 659ms/step - loss: 0.0481 - acc: 0.9826 - val_loss: 0.1333 - val_acc: 0.9575\n",
      "\n",
      "Epoch 00023: val_acc did not improve\n",
      "Epoch 24/50\n",
      "63/62 [==============================] - 42s 659ms/step - loss: 0.0558 - acc: 0.9779 - val_loss: 0.1417 - val_acc: 0.9510\n",
      "\n",
      "Epoch 00024: val_acc did not improve\n",
      "Epoch 25/50\n",
      "63/62 [==============================] - 42s 660ms/step - loss: 0.0456 - acc: 0.9856 - val_loss: 0.1179 - val_acc: 0.9635\n",
      "\n",
      "Epoch 00025: val_acc improved from 0.96300 to 0.96350, saving model to ./models/weights_best.hdf5\n",
      "Epoch 26/50\n",
      "63/62 [==============================] - 42s 660ms/step - loss: 0.0404 - acc: 0.9846 - val_loss: 0.1569 - val_acc: 0.9495\n",
      "\n",
      "Epoch 00026: val_acc did not improve\n",
      "Epoch 27/50\n",
      "63/62 [==============================] - 42s 660ms/step - loss: 0.0403 - acc: 0.9841 - val_loss: 0.1229 - val_acc: 0.9605\n",
      "\n",
      "Epoch 00027: val_acc did not improve\n",
      "Epoch 28/50\n",
      "63/62 [==============================] - 42s 659ms/step - loss: 0.0445 - acc: 0.9849 - val_loss: 0.1152 - val_acc: 0.9680\n",
      "\n",
      "Epoch 00028: val_acc improved from 0.96350 to 0.96800, saving model to ./models/weights_best.hdf5\n",
      "Epoch 29/50\n",
      "63/62 [==============================] - 42s 660ms/step - loss: 0.0404 - acc: 0.9886 - val_loss: 0.1185 - val_acc: 0.9670\n",
      "\n",
      "Epoch 00029: val_acc did not improve\n",
      "Epoch 30/50\n",
      "63/62 [==============================] - 42s 661ms/step - loss: 0.0366 - acc: 0.9864 - val_loss: 0.1244 - val_acc: 0.9635\n",
      "\n",
      "Epoch 00030: val_acc did not improve\n",
      "Epoch 31/50\n",
      "63/62 [==============================] - 41s 657ms/step - loss: 0.0321 - acc: 0.9878 - val_loss: 0.2270 - val_acc: 0.9350\n",
      "\n",
      "Epoch 00031: val_acc did not improve\n",
      "Epoch 32/50\n",
      "63/62 [==============================] - 41s 656ms/step - loss: 0.0393 - acc: 0.9861 - val_loss: 0.1134 - val_acc: 0.9695\n",
      "\n",
      "Epoch 00032: val_acc improved from 0.96800 to 0.96950, saving model to ./models/weights_best.hdf5\n",
      "Epoch 33/50\n",
      "63/62 [==============================] - 41s 657ms/step - loss: 0.0336 - acc: 0.9878 - val_loss: 0.2370 - val_acc: 0.9355\n",
      "\n",
      "Epoch 00033: val_acc did not improve\n",
      "Epoch 34/50\n",
      "63/62 [==============================] - 42s 660ms/step - loss: 0.0386 - acc: 0.9854 - val_loss: 0.1293 - val_acc: 0.9610\n",
      "\n",
      "Epoch 00034: val_acc did not improve\n",
      "Epoch 35/50\n",
      "63/62 [==============================] - 42s 660ms/step - loss: 0.0306 - acc: 0.9891 - val_loss: 0.1388 - val_acc: 0.9610\n",
      "\n",
      "Epoch 00035: val_acc did not improve\n",
      "Epoch 36/50\n",
      "63/62 [==============================] - 42s 659ms/step - loss: 0.0337 - acc: 0.9873 - val_loss: 0.1205 - val_acc: 0.9630\n",
      "\n",
      "Epoch 00036: val_acc did not improve\n",
      "Epoch 37/50\n",
      "63/62 [==============================] - 41s 658ms/step - loss: 0.0247 - acc: 0.9926 - val_loss: 0.1278 - val_acc: 0.9670\n",
      "\n",
      "Epoch 00037: val_acc did not improve\n",
      "Epoch 38/50\n",
      "63/62 [==============================] - 41s 659ms/step - loss: 0.0244 - acc: 0.9921 - val_loss: 0.1381 - val_acc: 0.9635\n",
      "\n",
      "Epoch 00038: val_acc did not improve\n",
      "Epoch 39/50\n",
      "63/62 [==============================] - 42s 660ms/step - loss: 0.0249 - acc: 0.9916 - val_loss: 0.1409 - val_acc: 0.9655\n",
      "\n",
      "Epoch 00039: val_acc did not improve\n",
      "Epoch 40/50\n",
      "63/62 [==============================] - 42s 660ms/step - loss: 0.0303 - acc: 0.9896 - val_loss: 0.1556 - val_acc: 0.9580\n",
      "\n",
      "Epoch 00040: val_acc did not improve\n",
      "Epoch 41/50\n",
      "63/62 [==============================] - 42s 659ms/step - loss: 0.0281 - acc: 0.9898 - val_loss: 0.1497 - val_acc: 0.9620\n",
      "\n",
      "Epoch 00041: val_acc did not improve\n",
      "Epoch 42/50\n",
      "63/62 [==============================] - 41s 659ms/step - loss: 0.0262 - acc: 0.9906 - val_loss: 0.1218 - val_acc: 0.9695\n",
      "\n",
      "Epoch 00042: val_acc did not improve\n",
      "Epoch 43/50\n",
      "63/62 [==============================] - 42s 659ms/step - loss: 0.0262 - acc: 0.9908 - val_loss: 0.1235 - val_acc: 0.9625\n",
      "\n",
      "Epoch 00043: val_acc did not improve\n",
      "Epoch 44/50\n",
      "63/62 [==============================] - 42s 660ms/step - loss: 0.0262 - acc: 0.9911 - val_loss: 0.1482 - val_acc: 0.9600\n",
      "\n",
      "Epoch 00044: val_acc did not improve\n",
      "Epoch 45/50\n"
     ]
    },
    {
     "name": "stdout",
     "output_type": "stream",
     "text": [
      "63/62 [==============================] - 42s 659ms/step - loss: 0.0160 - acc: 0.9943 - val_loss: 0.1327 - val_acc: 0.9660\n",
      "\n",
      "Epoch 00045: val_acc did not improve\n",
      "Epoch 46/50\n",
      "63/62 [==============================] - 42s 659ms/step - loss: 0.0228 - acc: 0.9923 - val_loss: 0.1407 - val_acc: 0.9615\n",
      "\n",
      "Epoch 00046: val_acc did not improve\n",
      "Epoch 47/50\n",
      "63/62 [==============================] - 41s 659ms/step - loss: 0.0260 - acc: 0.9901 - val_loss: 0.1877 - val_acc: 0.9490\n",
      "\n",
      "Epoch 00047: val_acc did not improve\n",
      "Epoch 48/50\n",
      "63/62 [==============================] - 41s 656ms/step - loss: 0.0224 - acc: 0.9916 - val_loss: 0.1744 - val_acc: 0.9520\n",
      "\n",
      "Epoch 00048: val_acc did not improve\n",
      "Epoch 49/50\n",
      "63/62 [==============================] - 41s 655ms/step - loss: 0.0276 - acc: 0.9911 - val_loss: 0.1878 - val_acc: 0.9530\n",
      "\n",
      "Epoch 00049: val_acc did not improve\n",
      "Epoch 50/50\n",
      "63/62 [==============================] - 41s 658ms/step - loss: 0.0212 - acc: 0.9911 - val_loss: 0.2154 - val_acc: 0.9475\n",
      "\n",
      "Epoch 00050: val_acc did not improve\n"
     ]
    }
   ],
   "source": [
    "checkpoint = ModelCheckpoint('./models/weights_best.hdf5', monitor='val_acc', verbose=1, save_best_only=True,\n",
    "mode='max')\n",
    "callbacks_list = [checkpoint]\n",
    "\n",
    "\n",
    "model.compile(loss='binary_crossentropy',\n",
    "              optimizer=optimizers.RMSprop(lr=1e-5),  # use low rate to avoid large changes in cnn layer\n",
    "              metrics=['acc'])\n",
    "\n",
    "history = model.fit_generator(\n",
    "      train_generator,\n",
    "      steps_per_epoch=TRAIN_SAMPLES/BATCH_SIZE,\n",
    "      epochs=FINETUNED_MODEL_EPOCHS,\n",
    "      validation_data=validation_generator,\n",
    "      validation_steps=VALIDATION_SAMPLES/BATCH_SIZE,\n",
    "      callbacks=callbacks_list)"
   ]
  },
  {
   "cell_type": "code",
   "execution_count": 27,
   "metadata": {},
   "outputs": [],
   "source": [
    "model.load_weights('./models/weights_best.hdf5')\n",
    "model.save(finetuned_model_name)"
   ]
  },
  {
   "cell_type": "code",
   "execution_count": 28,
   "metadata": {},
   "outputs": [
    {
     "data": {
      "image/png": "[encoded data removed]",
      "text/plain": [
       "<matplotlib.figure.Figure at 0x7f0071256d68>"
      ]
     },
     "metadata": {},
     "output_type": "display_data"
    },
    {
     "data": {
      "image/png": "[encoded data removed]",
      "text/plain": [
       "<matplotlib.figure.Figure at 0x7f0071830128>"
      ]
     },
     "metadata": {},
     "output_type": "display_data"
    }
   ],
   "source": [
    "%matplotlib inline\n",
    "import matplotlib.pyplot as plt\n",
    "\n",
    "acc = history.history['acc']\n",
    "val_acc = history.history['val_acc']\n",
    "loss = history.history['loss']\n",
    "val_loss = history.history['val_loss']\n",
    "\n",
    "epochs = range(len(acc))\n",
    "\n",
    "plt.plot(epochs, acc, 'bo', label='Training acc')\n",
    "plt.plot(epochs, val_acc, 'b', label='Validation acc')\n",
    "plt.title('Training and validation accuracy')\n",
    "plt.legend()\n",
    "\n",
    "plt.figure()\n",
    "\n",
    "plt.plot(epochs, loss, 'bo', label='Training loss')\n",
    "plt.plot(epochs, val_loss, 'b', label='Validation loss')\n",
    "plt.title('Training and validation loss')\n",
    "plt.legend()\n",
    "\n",
    "plt.show()"
   ]
  },
  {
   "cell_type": "code",
   "execution_count": 29,
   "metadata": {},
   "outputs": [
    {
     "name": "stdout",
     "output_type": "stream",
     "text": [
      "Found 2000 images belonging to 2 classes.\n",
      "fine tuned test acc: 0.9665\n"
     ]
    }
   ],
   "source": [
    "test_generator = test_datagen.flow_from_directory(\n",
    "        test_dir,\n",
    "        target_size=(150, 150),\n",
    "        batch_size=BATCH_SIZE,\n",
    "        class_mode='binary')\n",
    "\n",
    "test_loss, test_acc = model.evaluate_generator(test_generator, steps=TEST_SAMPLES/BATCH_SIZE)\n",
    "print('fine tuned test acc:', test_acc)"
   ]
  }
 ],
 "metadata": {
  "kernelspec": {
   "display_name": "Environment (conda_tensorflow_p36)",
   "language": "python",
   "name": "conda_tensorflow_p36"
  },
  "language_info": {
   "codemirror_mode": {
    "name": "ipython",
    "version": 3
   },
   "file_extension": ".py",
   "mimetype": "text/x-python",
   "name": "python",
   "nbconvert_exporter": "python",
   "pygments_lexer": "ipython3",
   "version": "3.6.4"
  }
 },
 "nbformat": 4,
 "nbformat_minor": 2
}
