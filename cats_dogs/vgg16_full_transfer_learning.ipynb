{
 "cells": [
  {
   "cell_type": "code",
   "execution_count": 1,
   "metadata": {},
   "outputs": [
    {
     "name": "stderr",
     "output_type": "stream",
     "text": [
      "/home/ubuntu/anaconda3/envs/tensorflow_p36/lib/python3.6/site-packages/h5py/__init__.py:36: FutureWarning: Conversion of the second argument of issubdtype from `float` to `np.floating` is deprecated. In future, it will be treated as `np.float64 == np.dtype(float).type`.\n",
      "  from ._conv import register_converters as _register_converters\n",
      "Using TensorFlow backend.\n",
      "/home/ubuntu/anaconda3/envs/tensorflow_p36/lib/python3.6/site-packages/matplotlib/__init__.py:962: UserWarning: Duplicate key in file \"/home/ubuntu/.config/matplotlib/matplotlibrc\", line #2\n",
      "  (fname, cnt))\n",
      "/home/ubuntu/anaconda3/envs/tensorflow_p36/lib/python3.6/site-packages/matplotlib/__init__.py:962: UserWarning: Duplicate key in file \"/home/ubuntu/.config/matplotlib/matplotlibrc\", line #3\n",
      "  (fname, cnt))\n"
     ]
    },
    {
     "data": {
      "text/plain": [
       "'2.1.4'"
      ]
     },
     "execution_count": 1,
     "metadata": {},
     "output_type": "execute_result"
    }
   ],
   "source": [
    "#import tensorflow as tf\n",
    "import keras\n",
    "keras.__version__"
   ]
  },
  {
   "cell_type": "code",
   "execution_count": 2,
   "metadata": {},
   "outputs": [],
   "source": [
    "import os\n",
    "import numpy as np\n",
    "from keras.preprocessing.image import ImageDataGenerator"
   ]
  },
  {
   "cell_type": "code",
   "execution_count": 3,
   "metadata": {},
   "outputs": [],
   "source": [
    "from keras import models\n",
    "from keras import layers\n",
    "from keras import optimizers\n",
    "from keras.preprocessing.image import ImageDataGenerator"
   ]
  },
  {
   "cell_type": "code",
   "execution_count": 4,
   "metadata": {},
   "outputs": [],
   "source": [
    "from keras import backend as K"
   ]
  },
  {
   "cell_type": "markdown",
   "metadata": {},
   "source": [
    "## Setup run-time configuration"
   ]
  },
  {
   "cell_type": "code",
   "execution_count": 5,
   "metadata": {},
   "outputs": [
    {
     "name": "stdout",
     "output_type": "stream",
     "text": [
      "Number of samples: training 21000, validation 2000 and test 2000\n"
     ]
    }
   ],
   "source": [
    "# training data specific names\n",
    "base_model_name = './models/vgg16_full_base_model.h5'\n",
    "finetuned_model_name = './models/vgg16_full_finetuned_model.h5'\n",
    "\n",
    "train_dir = '/mystuff/cats_dogs_data/train_full'\n",
    "\n",
    "# location for validation and test data\n",
    "validation_dir = '/mystuff/cats_dogs_data/validation'\n",
    "test_dir = '/mystuff/cats_dogs_data/test'\n",
    "\n",
    "\n",
    "# training run specific parameters\n",
    "BASE_MODEL_EPOCHS=30\n",
    "FINETUNED_MODEL_EPOCHS=50\n",
    "BATCH_SIZE = 64\n",
    "\n",
    "TRAIN_SAMPLES = len(os.listdir(os.path.join(train_dir,'cats'))) + len(os.listdir(os.path.join(train_dir,'dogs')))\n",
    "VALIDATION_SAMPLES = len(os.listdir(os.path.join(validation_dir,'cats'))) + \\\n",
    "    len(os.listdir(os.path.join(validation_dir,'dogs')))\n",
    "    \n",
    "TEST_SAMPLES = len(os.listdir(os.path.join(test_dir,'cats'))) + len(os.listdir(os.path.join(test_dir,'dogs')))\n",
    "\n",
    "print('Number of samples: training {:d}, validation {:d} and test {:d}'.format(TRAIN_SAMPLES, \n",
    "                                                                               VALIDATION_SAMPLES,TEST_SAMPLES))"
   ]
  },
  {
   "cell_type": "markdown",
   "metadata": {},
   "source": [
    "# Using a pre-trained convnet\n",
    "\n"
   ]
  },
  {
   "cell_type": "markdown",
   "metadata": {},
   "source": [
    "## Feature extraction for VGG16 model\n",
    "\n"
   ]
  },
  {
   "cell_type": "code",
   "execution_count": 6,
   "metadata": {},
   "outputs": [],
   "source": [
    "from keras.applications import VGG16"
   ]
  },
  {
   "cell_type": "code",
   "execution_count": 7,
   "metadata": {},
   "outputs": [
    {
     "name": "stdout",
     "output_type": "stream",
     "text": [
      "Downloading data from https://github.com/fchollet/deep-learning-models/releases/download/v0.1/vgg16_weights_tf_dim_ordering_tf_kernels_notop.h5\n",
      "58892288/58889256 [==============================] - 1s 0us/step: \n"
     ]
    }
   ],
   "source": [
    "conv_base = VGG16(weights='imagenet',\n",
    "                  include_top=False,\n",
    "                  input_shape=(150, 150, 3))"
   ]
  },
  {
   "cell_type": "code",
   "execution_count": 8,
   "metadata": {},
   "outputs": [
    {
     "name": "stdout",
     "output_type": "stream",
     "text": [
      "_________________________________________________________________\n",
      "Layer (type)                 Output Shape              Param #   \n",
      "=================================================================\n",
      "input_1 (InputLayer)         (None, 150, 150, 3)       0         \n",
      "_________________________________________________________________\n",
      "block1_conv1 (Conv2D)        (None, 150, 150, 64)      1792      \n",
      "_________________________________________________________________\n",
      "block1_conv2 (Conv2D)        (None, 150, 150, 64)      36928     \n",
      "_________________________________________________________________\n",
      "block1_pool (MaxPooling2D)   (None, 75, 75, 64)        0         \n",
      "_________________________________________________________________\n",
      "block2_conv1 (Conv2D)        (None, 75, 75, 128)       73856     \n",
      "_________________________________________________________________\n",
      "block2_conv2 (Conv2D)        (None, 75, 75, 128)       147584    \n",
      "_________________________________________________________________\n",
      "block2_pool (MaxPooling2D)   (None, 37, 37, 128)       0         \n",
      "_________________________________________________________________\n",
      "block3_conv1 (Conv2D)        (None, 37, 37, 256)       295168    \n",
      "_________________________________________________________________\n",
      "block3_conv2 (Conv2D)        (None, 37, 37, 256)       590080    \n",
      "_________________________________________________________________\n",
      "block3_conv3 (Conv2D)        (None, 37, 37, 256)       590080    \n",
      "_________________________________________________________________\n",
      "block3_pool (MaxPooling2D)   (None, 18, 18, 256)       0         \n",
      "_________________________________________________________________\n",
      "block4_conv1 (Conv2D)        (None, 18, 18, 512)       1180160   \n",
      "_________________________________________________________________\n",
      "block4_conv2 (Conv2D)        (None, 18, 18, 512)       2359808   \n",
      "_________________________________________________________________\n",
      "block4_conv3 (Conv2D)        (None, 18, 18, 512)       2359808   \n",
      "_________________________________________________________________\n",
      "block4_pool (MaxPooling2D)   (None, 9, 9, 512)         0         \n",
      "_________________________________________________________________\n",
      "block5_conv1 (Conv2D)        (None, 9, 9, 512)         2359808   \n",
      "_________________________________________________________________\n",
      "block5_conv2 (Conv2D)        (None, 9, 9, 512)         2359808   \n",
      "_________________________________________________________________\n",
      "block5_conv3 (Conv2D)        (None, 9, 9, 512)         2359808   \n",
      "_________________________________________________________________\n",
      "block5_pool (MaxPooling2D)   (None, 4, 4, 512)         0         \n",
      "=================================================================\n",
      "Total params: 14,714,688\n",
      "Trainable params: 14,714,688\n",
      "Non-trainable params: 0\n",
      "_________________________________________________________________\n"
     ]
    }
   ],
   "source": [
    "conv_base.summary()"
   ]
  },
  {
   "cell_type": "code",
   "execution_count": 9,
   "metadata": {},
   "outputs": [],
   "source": [
    "\n",
    "model = models.Sequential()\n",
    "model.add(conv_base)\n",
    "model.add(layers.Flatten())\n",
    "model.add(layers.Dense(256, activation='relu'))\n",
    "model.add(layers.Dense(1, activation='sigmoid'))\n"
   ]
  },
  {
   "cell_type": "markdown",
   "metadata": {},
   "source": [
    "This is what our model looks like now:"
   ]
  },
  {
   "cell_type": "code",
   "execution_count": 10,
   "metadata": {},
   "outputs": [
    {
     "name": "stdout",
     "output_type": "stream",
     "text": [
      "_________________________________________________________________\n",
      "Layer (type)                 Output Shape              Param #   \n",
      "=================================================================\n",
      "vgg16 (Model)                (None, 4, 4, 512)         14714688  \n",
      "_________________________________________________________________\n",
      "flatten_1 (Flatten)          (None, 8192)              0         \n",
      "_________________________________________________________________\n",
      "dense_1 (Dense)              (None, 256)               2097408   \n",
      "_________________________________________________________________\n",
      "dense_2 (Dense)              (None, 1)                 257       \n",
      "=================================================================\n",
      "Total params: 16,812,353\n",
      "Trainable params: 16,812,353\n",
      "Non-trainable params: 0\n",
      "_________________________________________________________________\n"
     ]
    }
   ],
   "source": [
    "model.summary()"
   ]
  },
  {
   "cell_type": "markdown",
   "metadata": {},
   "source": [
    "### Freeze base model layers"
   ]
  },
  {
   "cell_type": "code",
   "execution_count": 11,
   "metadata": {},
   "outputs": [
    {
     "name": "stdout",
     "output_type": "stream",
     "text": [
      "This is the number of trainable weights before freezing the conv base: 30\n"
     ]
    }
   ],
   "source": [
    "print('This is the number of trainable weights '\n",
    "      'before freezing the conv base:', len(model.trainable_weights))"
   ]
  },
  {
   "cell_type": "code",
   "execution_count": 12,
   "metadata": {},
   "outputs": [],
   "source": [
    "conv_base.trainable = False"
   ]
  },
  {
   "cell_type": "code",
   "execution_count": 13,
   "metadata": {},
   "outputs": [
    {
     "name": "stdout",
     "output_type": "stream",
     "text": [
      "This is the number of trainable weights after freezing the conv base: 4\n"
     ]
    }
   ],
   "source": [
    "print('This is the number of trainable weights '\n",
    "      'after freezing the conv base:', len(model.trainable_weights))"
   ]
  },
  {
   "cell_type": "code",
   "execution_count": 14,
   "metadata": {},
   "outputs": [
    {
     "name": "stdout",
     "output_type": "stream",
     "text": [
      "_________________________________________________________________\n",
      "Layer (type)                 Output Shape              Param #   \n",
      "=================================================================\n",
      "vgg16 (Model)                (None, 4, 4, 512)         14714688  \n",
      "_________________________________________________________________\n",
      "flatten_1 (Flatten)          (None, 8192)              0         \n",
      "_________________________________________________________________\n",
      "dense_1 (Dense)              (None, 256)               2097408   \n",
      "_________________________________________________________________\n",
      "dense_2 (Dense)              (None, 1)                 257       \n",
      "=================================================================\n",
      "Total params: 16,812,353\n",
      "Trainable params: 2,097,665\n",
      "Non-trainable params: 14,714,688\n",
      "_________________________________________________________________\n"
     ]
    }
   ],
   "source": [
    "model.summary()"
   ]
  },
  {
   "cell_type": "markdown",
   "metadata": {},
   "source": [
    "### Setup training data pipeline using data augmenation"
   ]
  },
  {
   "cell_type": "code",
   "execution_count": 15,
   "metadata": {},
   "outputs": [
    {
     "name": "stdout",
     "output_type": "stream",
     "text": [
      "Found 21000 images belonging to 2 classes.\n",
      "Found 2000 images belonging to 2 classes.\n"
     ]
    }
   ],
   "source": [
    "\n",
    "\n",
    "train_datagen = ImageDataGenerator(\n",
    "      rescale=1./255,\n",
    "      rotation_range=40,\n",
    "      width_shift_range=0.2,\n",
    "      height_shift_range=0.2,\n",
    "      shear_range=0.2,\n",
    "      zoom_range=0.2,\n",
    "      horizontal_flip=True,\n",
    "      fill_mode='nearest')\n",
    "\n",
    "# Note that the validation data should not be augmented!\n",
    "test_datagen = ImageDataGenerator(rescale=1./255)\n",
    "\n",
    "train_generator = train_datagen.flow_from_directory(\n",
    "        # This is the target directory\n",
    "        train_dir,\n",
    "        # All images will be resized to 150x150\n",
    "        target_size=(150, 150),\n",
    "        batch_size=BATCH_SIZE,  # original\n",
    "        #batch_size=50,\n",
    "        # Since we use binary_crossentropy loss, we need binary labels\n",
    "        class_mode='binary')\n",
    "\n",
    "validation_generator = test_datagen.flow_from_directory(\n",
    "        validation_dir,\n",
    "        target_size=(150, 150),\n",
    "        batch_size=BATCH_SIZE,\n",
    "        class_mode='binary')"
   ]
  },
  {
   "cell_type": "markdown",
   "metadata": {},
   "source": [
    "### Train new classifer specific to cat vs dog using features created by baseline model"
   ]
  },
  {
   "cell_type": "code",
   "execution_count": 16,
   "metadata": {},
   "outputs": [],
   "source": [
    "model.compile(loss='binary_crossentropy',\n",
    "              optimizer=optimizers.Adam(),\n",
    "              metrics=['acc'])"
   ]
  },
  {
   "cell_type": "code",
   "execution_count": 17,
   "metadata": {},
   "outputs": [
    {
     "name": "stdout",
     "output_type": "stream",
     "text": [
      "Epoch 1/30\n",
      " - 287s - loss: 0.4027 - acc: 0.8198 - val_loss: 0.2257 - val_acc: 0.9055\n",
      "\n",
      "Epoch 00001: val_acc improved from -inf to 0.90550, saving model to ./models/weights_best.hdf5\n",
      "Epoch 2/30\n",
      " - 164s - loss: 0.3347 - acc: 0.8509 - val_loss: 0.2185 - val_acc: 0.9125\n",
      "\n",
      "Epoch 00002: val_acc improved from 0.90550 to 0.91250, saving model to ./models/weights_best.hdf5\n",
      "Epoch 3/30\n",
      " - 164s - loss: 0.3208 - acc: 0.8580 - val_loss: 0.2546 - val_acc: 0.8860\n",
      "\n",
      "Epoch 00003: val_acc did not improve\n",
      "Epoch 4/30\n",
      " - 165s - loss: 0.3077 - acc: 0.8639 - val_loss: 0.2054 - val_acc: 0.9150\n",
      "\n",
      "Epoch 00004: val_acc improved from 0.91250 to 0.91500, saving model to ./models/weights_best.hdf5\n",
      "Epoch 5/30\n",
      " - 164s - loss: 0.2993 - acc: 0.8667 - val_loss: 0.1984 - val_acc: 0.9155\n",
      "\n",
      "Epoch 00005: val_acc improved from 0.91500 to 0.91550, saving model to ./models/weights_best.hdf5\n",
      "Epoch 6/30\n",
      " - 165s - loss: 0.2916 - acc: 0.8719 - val_loss: 0.1974 - val_acc: 0.9190\n",
      "\n",
      "Epoch 00006: val_acc improved from 0.91550 to 0.91900, saving model to ./models/weights_best.hdf5\n",
      "Epoch 7/30\n",
      " - 164s - loss: 0.2868 - acc: 0.8716 - val_loss: 0.1802 - val_acc: 0.9265\n",
      "\n",
      "Epoch 00007: val_acc improved from 0.91900 to 0.92650, saving model to ./models/weights_best.hdf5\n",
      "Epoch 8/30\n",
      " - 164s - loss: 0.2792 - acc: 0.8785 - val_loss: 0.2012 - val_acc: 0.9155\n",
      "\n",
      "Epoch 00008: val_acc did not improve\n",
      "Epoch 9/30\n",
      " - 164s - loss: 0.2778 - acc: 0.8772 - val_loss: 0.1915 - val_acc: 0.9220\n",
      "\n",
      "Epoch 00009: val_acc did not improve\n",
      "Epoch 10/30\n",
      " - 163s - loss: 0.2713 - acc: 0.8814 - val_loss: 0.1868 - val_acc: 0.9230\n",
      "\n",
      "Epoch 00010: val_acc did not improve\n",
      "Epoch 11/30\n",
      " - 163s - loss: 0.2667 - acc: 0.8811 - val_loss: 0.1950 - val_acc: 0.9190\n",
      "\n",
      "Epoch 00011: val_acc did not improve\n",
      "Epoch 12/30\n",
      " - 163s - loss: 0.2667 - acc: 0.8804 - val_loss: 0.1873 - val_acc: 0.9220\n",
      "\n",
      "Epoch 00012: val_acc did not improve\n",
      "Epoch 13/30\n",
      " - 164s - loss: 0.2739 - acc: 0.8795 - val_loss: 0.1838 - val_acc: 0.9260\n",
      "\n",
      "Epoch 00013: val_acc did not improve\n",
      "Epoch 14/30\n",
      " - 164s - loss: 0.2587 - acc: 0.8861 - val_loss: 0.1740 - val_acc: 0.9245\n",
      "\n",
      "Epoch 00014: val_acc did not improve\n",
      "Epoch 15/30\n",
      " - 163s - loss: 0.2593 - acc: 0.8876 - val_loss: 0.1816 - val_acc: 0.9235\n",
      "\n",
      "Epoch 00015: val_acc did not improve\n",
      "Epoch 16/30\n",
      " - 164s - loss: 0.2526 - acc: 0.8882 - val_loss: 0.1732 - val_acc: 0.9260\n",
      "\n",
      "Epoch 00016: val_acc did not improve\n",
      "Epoch 17/30\n",
      " - 164s - loss: 0.2584 - acc: 0.8859 - val_loss: 0.2143 - val_acc: 0.9010\n",
      "\n",
      "Epoch 00017: val_acc did not improve\n",
      "Epoch 18/30\n",
      " - 164s - loss: 0.2509 - acc: 0.8911 - val_loss: 0.1640 - val_acc: 0.9345\n",
      "\n",
      "Epoch 00018: val_acc improved from 0.92650 to 0.93450, saving model to ./models/weights_best.hdf5\n",
      "Epoch 19/30\n",
      " - 164s - loss: 0.2474 - acc: 0.8922 - val_loss: 0.1768 - val_acc: 0.9285\n",
      "\n",
      "Epoch 00019: val_acc did not improve\n",
      "Epoch 20/30\n",
      " - 164s - loss: 0.2472 - acc: 0.8930 - val_loss: 0.1687 - val_acc: 0.9340\n",
      "\n",
      "Epoch 00020: val_acc did not improve\n",
      "Epoch 21/30\n",
      " - 163s - loss: 0.2465 - acc: 0.8935 - val_loss: 0.1706 - val_acc: 0.9295\n",
      "\n",
      "Epoch 00021: val_acc did not improve\n",
      "Epoch 22/30\n",
      " - 164s - loss: 0.2396 - acc: 0.8969 - val_loss: 0.1645 - val_acc: 0.9325\n",
      "\n",
      "Epoch 00022: val_acc did not improve\n",
      "Epoch 23/30\n",
      " - 165s - loss: 0.2404 - acc: 0.8939 - val_loss: 0.1746 - val_acc: 0.9270\n",
      "\n",
      "Epoch 00023: val_acc did not improve\n",
      "Epoch 24/30\n",
      " - 163s - loss: 0.2409 - acc: 0.8964 - val_loss: 0.1846 - val_acc: 0.9230\n",
      "\n",
      "Epoch 00024: val_acc did not improve\n",
      "Epoch 25/30\n",
      " - 164s - loss: 0.2417 - acc: 0.8948 - val_loss: 0.1720 - val_acc: 0.9270\n",
      "\n",
      "Epoch 00025: val_acc did not improve\n",
      "Epoch 26/30\n",
      " - 164s - loss: 0.2378 - acc: 0.8958 - val_loss: 0.1635 - val_acc: 0.9315\n",
      "\n",
      "Epoch 00026: val_acc did not improve\n",
      "Epoch 27/30\n",
      " - 164s - loss: 0.2363 - acc: 0.8968 - val_loss: 0.1637 - val_acc: 0.9345\n",
      "\n",
      "Epoch 00027: val_acc did not improve\n",
      "Epoch 28/30\n",
      " - 163s - loss: 0.2336 - acc: 0.9008 - val_loss: 0.1753 - val_acc: 0.9260\n",
      "\n",
      "Epoch 00028: val_acc did not improve\n",
      "Epoch 29/30\n",
      " - 164s - loss: 0.2379 - acc: 0.8974 - val_loss: 0.1798 - val_acc: 0.9245\n",
      "\n",
      "Epoch 00029: val_acc did not improve\n",
      "Epoch 30/30\n",
      " - 164s - loss: 0.2272 - acc: 0.9025 - val_loss: 0.1848 - val_acc: 0.9210\n",
      "\n",
      "Epoch 00030: val_acc did not improve\n"
     ]
    }
   ],
   "source": [
    "# set up to capture best performance weights ecountered during training\n",
    "from keras.callbacks import ModelCheckpoint\n",
    "checkpoint = ModelCheckpoint('./models/weights_best.hdf5', monitor='val_acc', verbose=1, save_best_only=True,\n",
    "mode='max')\n",
    "callbacks_list = [checkpoint]\n",
    "\n",
    "\n",
    "history = model.fit_generator(\n",
    "      train_generator,\n",
    "      steps_per_epoch=TRAIN_SAMPLES/BATCH_SIZE,\n",
    "      epochs=BASE_MODEL_EPOCHS,  \n",
    "      validation_data=validation_generator,\n",
    "      validation_steps=VALIDATION_SAMPLES/BATCH_SIZE,\n",
    "      callbacks=callbacks_list,\n",
    "      verbose=2)"
   ]
  },
  {
   "cell_type": "code",
   "execution_count": 18,
   "metadata": {},
   "outputs": [],
   "source": [
    "# load best performance weights\n",
    "model.load_weights('./models/weights_best.hdf5')\n",
    "\n",
    "# save trained model\n",
    "model.save(base_model_name)"
   ]
  },
  {
   "cell_type": "markdown",
   "metadata": {},
   "source": [
    "Examine learning rates:"
   ]
  },
  {
   "cell_type": "code",
   "execution_count": 19,
   "metadata": {},
   "outputs": [
    {
     "name": "stderr",
     "output_type": "stream",
     "text": [
      "/home/ubuntu/anaconda3/envs/tensorflow_p36/lib/python3.6/site-packages/matplotlib/font_manager.py:281: UserWarning: Matplotlib is building the font cache using fc-list. This may take a moment.\n",
      "  'Matplotlib is building the font cache using fc-list. '\n"
     ]
    },
    {
     "data": {
      "image/png": "[encoded data removed]",
      "text/plain": [
       "<matplotlib.figure.Figure at 0x7f0d702b0828>"
      ]
     },
     "metadata": {},
     "output_type": "display_data"
    },
    {
     "data": {
      "image/png": "[encoded data removed]",
      "text/plain": [
       "<matplotlib.figure.Figure at 0x7f0d6dbe44e0>"
      ]
     },
     "metadata": {},
     "output_type": "display_data"
    }
   ],
   "source": [
    "%matplotlib inline\n",
    "import matplotlib.pyplot as plt\n",
    "\n",
    "acc = history.history['acc']\n",
    "val_acc = history.history['val_acc']\n",
    "loss = history.history['loss']\n",
    "val_loss = history.history['val_loss']\n",
    "\n",
    "epochs = range(len(acc))\n",
    "\n",
    "plt.plot(epochs, acc, 'bo', label='Training acc')\n",
    "plt.plot(epochs, val_acc, 'b', label='Validation acc')\n",
    "plt.title('Training and validation accuracy')\n",
    "plt.legend()\n",
    "\n",
    "plt.figure()\n",
    "\n",
    "plt.plot(epochs, loss, 'bo', label='Training loss')\n",
    "plt.plot(epochs, val_loss, 'b', label='Validation loss')\n",
    "plt.title('Training and validation loss')\n",
    "plt.legend()\n",
    "\n",
    "plt.show()"
   ]
  },
  {
   "cell_type": "code",
   "execution_count": 20,
   "metadata": {},
   "outputs": [
    {
     "name": "stdout",
     "output_type": "stream",
     "text": [
      "Found 2000 images belonging to 2 classes.\n",
      "base model test acc: 0.921\n"
     ]
    }
   ],
   "source": [
    "\n",
    "test_generator = test_datagen.flow_from_directory(\n",
    "        test_dir,\n",
    "        target_size=(150, 150),\n",
    "        batch_size=BATCH_SIZE,\n",
    "        class_mode='binary')\n",
    "\n",
    "test_loss, test_acc = model.evaluate_generator(test_generator, steps=TEST_SAMPLES/BATCH_SIZE)\n",
    "print('base model test acc:', test_acc)"
   ]
  },
  {
   "cell_type": "markdown",
   "metadata": {},
   "source": [
    "## Fine-tuning\n",
    "\n"
   ]
  },
  {
   "cell_type": "markdown",
   "metadata": {},
   "source": [
    "Model before setup for fine tuning"
   ]
  },
  {
   "cell_type": "code",
   "execution_count": 21,
   "metadata": {},
   "outputs": [
    {
     "name": "stdout",
     "output_type": "stream",
     "text": [
      "_________________________________________________________________\n",
      "Layer (type)                 Output Shape              Param #   \n",
      "=================================================================\n",
      "vgg16 (Model)                (None, 4, 4, 512)         14714688  \n",
      "_________________________________________________________________\n",
      "flatten_1 (Flatten)          (None, 8192)              0         \n",
      "_________________________________________________________________\n",
      "dense_1 (Dense)              (None, 256)               2097408   \n",
      "_________________________________________________________________\n",
      "dense_2 (Dense)              (None, 1)                 257       \n",
      "=================================================================\n",
      "Total params: 16,812,353\n",
      "Trainable params: 2,097,665\n",
      "Non-trainable params: 14,714,688\n",
      "_________________________________________________________________\n"
     ]
    }
   ],
   "source": [
    "model.summary()"
   ]
  },
  {
   "cell_type": "code",
   "execution_count": 22,
   "metadata": {},
   "outputs": [
    {
     "name": "stdout",
     "output_type": "stream",
     "text": [
      "_________________________________________________________________\n",
      "Layer (type)                 Output Shape              Param #   \n",
      "=================================================================\n",
      "input_1 (InputLayer)         (None, 150, 150, 3)       0         \n",
      "_________________________________________________________________\n",
      "block1_conv1 (Conv2D)        (None, 150, 150, 64)      1792      \n",
      "_________________________________________________________________\n",
      "block1_conv2 (Conv2D)        (None, 150, 150, 64)      36928     \n",
      "_________________________________________________________________\n",
      "block1_pool (MaxPooling2D)   (None, 75, 75, 64)        0         \n",
      "_________________________________________________________________\n",
      "block2_conv1 (Conv2D)        (None, 75, 75, 128)       73856     \n",
      "_________________________________________________________________\n",
      "block2_conv2 (Conv2D)        (None, 75, 75, 128)       147584    \n",
      "_________________________________________________________________\n",
      "block2_pool (MaxPooling2D)   (None, 37, 37, 128)       0         \n",
      "_________________________________________________________________\n",
      "block3_conv1 (Conv2D)        (None, 37, 37, 256)       295168    \n",
      "_________________________________________________________________\n",
      "block3_conv2 (Conv2D)        (None, 37, 37, 256)       590080    \n",
      "_________________________________________________________________\n",
      "block3_conv3 (Conv2D)        (None, 37, 37, 256)       590080    \n",
      "_________________________________________________________________\n",
      "block3_pool (MaxPooling2D)   (None, 18, 18, 256)       0         \n",
      "_________________________________________________________________\n",
      "block4_conv1 (Conv2D)        (None, 18, 18, 512)       1180160   \n",
      "_________________________________________________________________\n",
      "block4_conv2 (Conv2D)        (None, 18, 18, 512)       2359808   \n",
      "_________________________________________________________________\n",
      "block4_conv3 (Conv2D)        (None, 18, 18, 512)       2359808   \n",
      "_________________________________________________________________\n",
      "block4_pool (MaxPooling2D)   (None, 9, 9, 512)         0         \n",
      "_________________________________________________________________\n",
      "block5_conv1 (Conv2D)        (None, 9, 9, 512)         2359808   \n",
      "_________________________________________________________________\n",
      "block5_conv2 (Conv2D)        (None, 9, 9, 512)         2359808   \n",
      "_________________________________________________________________\n",
      "block5_conv3 (Conv2D)        (None, 9, 9, 512)         2359808   \n",
      "_________________________________________________________________\n",
      "block5_pool (MaxPooling2D)   (None, 4, 4, 512)         0         \n",
      "=================================================================\n",
      "Total params: 14,714,688\n",
      "Trainable params: 0\n",
      "Non-trainable params: 14,714,688\n",
      "_________________________________________________________________\n"
     ]
    }
   ],
   "source": [
    "conv_base.summary()"
   ]
  },
  {
   "cell_type": "code",
   "execution_count": 23,
   "metadata": {},
   "outputs": [],
   "source": [
    "conv_base.trainable = True\n",
    "\n",
    "set_trainable = False\n",
    "for layer in conv_base.layers:\n",
    "    if layer.name == 'block4_conv1':\n",
    "        set_trainable = True\n",
    "    if set_trainable:\n",
    "        layer.trainable = True\n",
    "    else:\n",
    "        layer.trainable = False"
   ]
  },
  {
   "cell_type": "code",
   "execution_count": 24,
   "metadata": {},
   "outputs": [
    {
     "name": "stdout",
     "output_type": "stream",
     "text": [
      "_________________________________________________________________\n",
      "Layer (type)                 Output Shape              Param #   \n",
      "=================================================================\n",
      "input_1 (InputLayer)         (None, 150, 150, 3)       0         \n",
      "_________________________________________________________________\n",
      "block1_conv1 (Conv2D)        (None, 150, 150, 64)      1792      \n",
      "_________________________________________________________________\n",
      "block1_conv2 (Conv2D)        (None, 150, 150, 64)      36928     \n",
      "_________________________________________________________________\n",
      "block1_pool (MaxPooling2D)   (None, 75, 75, 64)        0         \n",
      "_________________________________________________________________\n",
      "block2_conv1 (Conv2D)        (None, 75, 75, 128)       73856     \n",
      "_________________________________________________________________\n",
      "block2_conv2 (Conv2D)        (None, 75, 75, 128)       147584    \n",
      "_________________________________________________________________\n",
      "block2_pool (MaxPooling2D)   (None, 37, 37, 128)       0         \n",
      "_________________________________________________________________\n",
      "block3_conv1 (Conv2D)        (None, 37, 37, 256)       295168    \n",
      "_________________________________________________________________\n",
      "block3_conv2 (Conv2D)        (None, 37, 37, 256)       590080    \n",
      "_________________________________________________________________\n",
      "block3_conv3 (Conv2D)        (None, 37, 37, 256)       590080    \n",
      "_________________________________________________________________\n",
      "block3_pool (MaxPooling2D)   (None, 18, 18, 256)       0         \n",
      "_________________________________________________________________\n",
      "block4_conv1 (Conv2D)        (None, 18, 18, 512)       1180160   \n",
      "_________________________________________________________________\n",
      "block4_conv2 (Conv2D)        (None, 18, 18, 512)       2359808   \n",
      "_________________________________________________________________\n",
      "block4_conv3 (Conv2D)        (None, 18, 18, 512)       2359808   \n",
      "_________________________________________________________________\n",
      "block4_pool (MaxPooling2D)   (None, 9, 9, 512)         0         \n",
      "_________________________________________________________________\n",
      "block5_conv1 (Conv2D)        (None, 9, 9, 512)         2359808   \n",
      "_________________________________________________________________\n",
      "block5_conv2 (Conv2D)        (None, 9, 9, 512)         2359808   \n",
      "_________________________________________________________________\n",
      "block5_conv3 (Conv2D)        (None, 9, 9, 512)         2359808   \n",
      "_________________________________________________________________\n",
      "block5_pool (MaxPooling2D)   (None, 4, 4, 512)         0         \n",
      "=================================================================\n",
      "Total params: 14,714,688\n",
      "Trainable params: 12,979,200\n",
      "Non-trainable params: 1,735,488\n",
      "_________________________________________________________________\n"
     ]
    }
   ],
   "source": [
    "conv_base.summary()"
   ]
  },
  {
   "cell_type": "code",
   "execution_count": 25,
   "metadata": {},
   "outputs": [
    {
     "name": "stdout",
     "output_type": "stream",
     "text": [
      "_________________________________________________________________\n",
      "Layer (type)                 Output Shape              Param #   \n",
      "=================================================================\n",
      "vgg16 (Model)                (None, 4, 4, 512)         14714688  \n",
      "_________________________________________________________________\n",
      "flatten_1 (Flatten)          (None, 8192)              0         \n",
      "_________________________________________________________________\n",
      "dense_1 (Dense)              (None, 256)               2097408   \n",
      "_________________________________________________________________\n",
      "dense_2 (Dense)              (None, 1)                 257       \n",
      "=================================================================\n",
      "Total params: 16,812,353\n",
      "Trainable params: 15,076,865\n",
      "Non-trainable params: 1,735,488\n",
      "_________________________________________________________________\n"
     ]
    }
   ],
   "source": [
    "model.summary()"
   ]
  },
  {
   "cell_type": "markdown",
   "metadata": {},
   "source": [
    "\n",
    "Now let's proceed with fine-tuning:"
   ]
  },
  {
   "cell_type": "code",
   "execution_count": 26,
   "metadata": {},
   "outputs": [
    {
     "name": "stdout",
     "output_type": "stream",
     "text": [
      "Epoch 1/50\n",
      "329/328 [==============================] - 174s 528ms/step - loss: 0.2151 - acc: 0.9091 - val_loss: 0.1153 - val_acc: 0.9540\n",
      "\n",
      "Epoch 00001: val_acc improved from -inf to 0.95400, saving model to ./models/weights_best.hdf5\n",
      "Epoch 2/50\n",
      "329/328 [==============================] - 170s 517ms/step - loss: 0.1595 - acc: 0.9335 - val_loss: 0.0818 - val_acc: 0.9680\n",
      "\n",
      "Epoch 00002: val_acc improved from 0.95400 to 0.96800, saving model to ./models/weights_best.hdf5\n",
      "Epoch 3/50\n",
      "329/328 [==============================] - 169s 514ms/step - loss: 0.1329 - acc: 0.9460 - val_loss: 0.0765 - val_acc: 0.9690\n",
      "\n",
      "Epoch 00003: val_acc improved from 0.96800 to 0.96900, saving model to ./models/weights_best.hdf5\n",
      "Epoch 4/50\n",
      "329/328 [==============================] - 170s 516ms/step - loss: 0.1219 - acc: 0.9524 - val_loss: 0.0845 - val_acc: 0.9660\n",
      "\n",
      "Epoch 00004: val_acc did not improve\n",
      "Epoch 5/50\n",
      "329/328 [==============================] - 169s 515ms/step - loss: 0.1095 - acc: 0.9563 - val_loss: 0.0611 - val_acc: 0.9765\n",
      "\n",
      "Epoch 00005: val_acc improved from 0.96900 to 0.97650, saving model to ./models/weights_best.hdf5\n",
      "Epoch 6/50\n",
      "329/328 [==============================] - 170s 516ms/step - loss: 0.0999 - acc: 0.9604 - val_loss: 0.0574 - val_acc: 0.9750\n",
      "\n",
      "Epoch 00006: val_acc did not improve\n",
      "Epoch 7/50\n",
      "329/328 [==============================] - 169s 515ms/step - loss: 0.0959 - acc: 0.9625 - val_loss: 0.0949 - val_acc: 0.9595\n",
      "\n",
      "Epoch 00007: val_acc did not improve\n",
      "Epoch 8/50\n",
      "329/328 [==============================] - 170s 516ms/step - loss: 0.0843 - acc: 0.9677 - val_loss: 0.0617 - val_acc: 0.9770\n",
      "\n",
      "Epoch 00008: val_acc improved from 0.97650 to 0.97700, saving model to ./models/weights_best.hdf5\n",
      "Epoch 9/50\n",
      "329/328 [==============================] - 169s 514ms/step - loss: 0.0812 - acc: 0.9681 - val_loss: 0.0818 - val_acc: 0.9675\n",
      "\n",
      "Epoch 00009: val_acc did not improve\n",
      "Epoch 10/50\n",
      "329/328 [==============================] - 169s 515ms/step - loss: 0.0728 - acc: 0.9717 - val_loss: 0.0628 - val_acc: 0.9760\n",
      "\n",
      "Epoch 00010: val_acc did not improve\n",
      "Epoch 11/50\n",
      "329/328 [==============================] - 169s 515ms/step - loss: 0.0727 - acc: 0.9715 - val_loss: 0.0552 - val_acc: 0.9770\n",
      "\n",
      "Epoch 00011: val_acc did not improve\n",
      "Epoch 12/50\n",
      "329/328 [==============================] - 170s 516ms/step - loss: 0.0627 - acc: 0.9754 - val_loss: 0.0661 - val_acc: 0.9765\n",
      "\n",
      "Epoch 00012: val_acc did not improve\n",
      "Epoch 13/50\n",
      "329/328 [==============================] - 170s 515ms/step - loss: 0.0631 - acc: 0.9756 - val_loss: 0.0729 - val_acc: 0.9730\n",
      "\n",
      "Epoch 00013: val_acc did not improve\n",
      "Epoch 14/50\n",
      "329/328 [==============================] - 169s 515ms/step - loss: 0.0613 - acc: 0.9769 - val_loss: 0.0553 - val_acc: 0.9750\n",
      "\n",
      "Epoch 00014: val_acc did not improve\n",
      "Epoch 15/50\n",
      "329/328 [==============================] - 170s 516ms/step - loss: 0.0591 - acc: 0.9773 - val_loss: 0.0709 - val_acc: 0.9730\n",
      "\n",
      "Epoch 00015: val_acc did not improve\n",
      "Epoch 16/50\n",
      "329/328 [==============================] - 169s 513ms/step - loss: 0.0558 - acc: 0.9792 - val_loss: 0.0567 - val_acc: 0.9810\n",
      "\n",
      "Epoch 00016: val_acc improved from 0.97700 to 0.98100, saving model to ./models/weights_best.hdf5\n",
      "Epoch 17/50\n",
      "329/328 [==============================] - 170s 516ms/step - loss: 0.0528 - acc: 0.9805 - val_loss: 0.0635 - val_acc: 0.9780\n",
      "\n",
      "Epoch 00017: val_acc did not improve\n",
      "Epoch 18/50\n",
      "329/328 [==============================] - 169s 514ms/step - loss: 0.0473 - acc: 0.9815 - val_loss: 0.0542 - val_acc: 0.9785\n",
      "\n",
      "Epoch 00018: val_acc did not improve\n",
      "Epoch 19/50\n",
      "329/328 [==============================] - 170s 516ms/step - loss: 0.0461 - acc: 0.9820 - val_loss: 0.0576 - val_acc: 0.9785\n",
      "\n",
      "Epoch 00019: val_acc did not improve\n",
      "Epoch 20/50\n",
      "329/328 [==============================] - 169s 514ms/step - loss: 0.0443 - acc: 0.9832 - val_loss: 0.0828 - val_acc: 0.9720\n",
      "\n",
      "Epoch 00020: val_acc did not improve\n",
      "Epoch 21/50\n",
      "329/328 [==============================] - 170s 515ms/step - loss: 0.0433 - acc: 0.9841 - val_loss: 0.0751 - val_acc: 0.9745\n",
      "\n",
      "Epoch 00021: val_acc did not improve\n",
      "Epoch 22/50\n",
      "329/328 [==============================] - 169s 514ms/step - loss: 0.0418 - acc: 0.9841 - val_loss: 0.0648 - val_acc: 0.9820\n",
      "\n",
      "Epoch 00022: val_acc improved from 0.98100 to 0.98200, saving model to ./models/weights_best.hdf5\n",
      "Epoch 23/50\n",
      "329/328 [==============================] - 170s 516ms/step - loss: 0.0388 - acc: 0.9858 - val_loss: 0.0778 - val_acc: 0.9770\n",
      "\n",
      "Epoch 00023: val_acc did not improve\n",
      "Epoch 24/50\n",
      "329/328 [==============================] - 170s 516ms/step - loss: 0.0434 - acc: 0.9837 - val_loss: 0.0583 - val_acc: 0.9805\n",
      "\n",
      "Epoch 00024: val_acc did not improve\n",
      "Epoch 25/50\n",
      "329/328 [==============================] - 170s 518ms/step - loss: 0.0367 - acc: 0.9867 - val_loss: 0.0807 - val_acc: 0.9795\n",
      "\n",
      "Epoch 00025: val_acc did not improve\n",
      "Epoch 26/50\n",
      "329/328 [==============================] - 170s 518ms/step - loss: 0.0365 - acc: 0.9870 - val_loss: 0.0736 - val_acc: 0.9775\n",
      "\n",
      "Epoch 00026: val_acc did not improve\n",
      "Epoch 27/50\n",
      "329/328 [==============================] - 170s 516ms/step - loss: 0.0357 - acc: 0.9874 - val_loss: 0.0602 - val_acc: 0.9835\n",
      "\n",
      "Epoch 00027: val_acc improved from 0.98200 to 0.98350, saving model to ./models/weights_best.hdf5\n",
      "Epoch 28/50\n",
      "329/328 [==============================] - 170s 515ms/step - loss: 0.0334 - acc: 0.9883 - val_loss: 0.0904 - val_acc: 0.9780\n",
      "\n",
      "Epoch 00028: val_acc did not improve\n",
      "Epoch 29/50\n",
      "329/328 [==============================] - 168s 512ms/step - loss: 0.0328 - acc: 0.9890 - val_loss: 0.0691 - val_acc: 0.9815\n",
      "\n",
      "Epoch 00029: val_acc did not improve\n",
      "Epoch 30/50\n",
      "329/328 [==============================] - 168s 511ms/step - loss: 0.0314 - acc: 0.9891 - val_loss: 0.0733 - val_acc: 0.9795\n",
      "\n",
      "Epoch 00030: val_acc did not improve\n",
      "Epoch 31/50\n",
      "329/328 [==============================] - 169s 514ms/step - loss: 0.0315 - acc: 0.9891 - val_loss: 0.0583 - val_acc: 0.9830\n",
      "\n",
      "Epoch 00031: val_acc did not improve\n",
      "Epoch 32/50\n",
      "329/328 [==============================] - 168s 511ms/step - loss: 0.0325 - acc: 0.9882 - val_loss: 0.0654 - val_acc: 0.9765\n",
      "\n",
      "Epoch 00032: val_acc did not improve\n",
      "Epoch 33/50\n",
      "329/328 [==============================] - 169s 515ms/step - loss: 0.0325 - acc: 0.9877 - val_loss: 0.1105 - val_acc: 0.9685\n",
      "\n",
      "Epoch 00033: val_acc did not improve\n",
      "Epoch 34/50\n",
      "329/328 [==============================] - 169s 512ms/step - loss: 0.0321 - acc: 0.9881 - val_loss: 0.0567 - val_acc: 0.9845\n",
      "\n",
      "Epoch 00034: val_acc improved from 0.98350 to 0.98450, saving model to ./models/weights_best.hdf5\n",
      "Epoch 35/50\n",
      "329/328 [==============================] - 169s 513ms/step - loss: 0.0281 - acc: 0.9899 - val_loss: 0.0670 - val_acc: 0.9825\n",
      "\n",
      "Epoch 00035: val_acc did not improve\n",
      "Epoch 36/50\n",
      "329/328 [==============================] - 169s 513ms/step - loss: 0.0262 - acc: 0.9905 - val_loss: 0.0707 - val_acc: 0.9860\n",
      "\n",
      "Epoch 00036: val_acc improved from 0.98450 to 0.98600, saving model to ./models/weights_best.hdf5\n",
      "Epoch 37/50\n",
      "329/328 [==============================] - 169s 514ms/step - loss: 0.0276 - acc: 0.9911 - val_loss: 0.0744 - val_acc: 0.9815\n",
      "\n",
      "Epoch 00037: val_acc did not improve\n",
      "Epoch 38/50\n",
      "329/328 [==============================] - 170s 515ms/step - loss: 0.0251 - acc: 0.9913 - val_loss: 0.1218 - val_acc: 0.9715\n",
      "\n",
      "Epoch 00038: val_acc did not improve\n",
      "Epoch 39/50\n",
      "329/328 [==============================] - 169s 514ms/step - loss: 0.0250 - acc: 0.9908 - val_loss: 0.0728 - val_acc: 0.9840\n",
      "\n",
      "Epoch 00039: val_acc did not improve\n",
      "Epoch 40/50\n",
      "329/328 [==============================] - 169s 513ms/step - loss: 0.0244 - acc: 0.9908 - val_loss: 0.1294 - val_acc: 0.9745\n",
      "\n",
      "Epoch 00040: val_acc did not improve\n",
      "Epoch 41/50\n",
      "329/328 [==============================] - 169s 512ms/step - loss: 0.0285 - acc: 0.9903 - val_loss: 0.1069 - val_acc: 0.9780\n",
      "\n",
      "Epoch 00041: val_acc did not improve\n",
      "Epoch 42/50\n",
      "329/328 [==============================] - 170s 515ms/step - loss: 0.0247 - acc: 0.9913 - val_loss: 0.0805 - val_acc: 0.9815\n",
      "\n",
      "Epoch 00042: val_acc did not improve\n",
      "Epoch 43/50\n",
      "329/328 [==============================] - 169s 514ms/step - loss: 0.0262 - acc: 0.9912 - val_loss: 0.0983 - val_acc: 0.9775\n",
      "\n",
      "Epoch 00043: val_acc did not improve\n",
      "Epoch 44/50\n"
     ]
    },
    {
     "name": "stdout",
     "output_type": "stream",
     "text": [
      "329/328 [==============================] - 169s 512ms/step - loss: 0.0254 - acc: 0.9913 - val_loss: 0.0684 - val_acc: 0.9805\n",
      "\n",
      "Epoch 00044: val_acc did not improve\n",
      "Epoch 45/50\n",
      "329/328 [==============================] - 169s 513ms/step - loss: 0.0251 - acc: 0.9915 - val_loss: 0.0686 - val_acc: 0.9835\n",
      "\n",
      "Epoch 00045: val_acc did not improve\n",
      "Epoch 46/50\n",
      "329/328 [==============================] - 170s 516ms/step - loss: 0.0249 - acc: 0.9918 - val_loss: 0.1048 - val_acc: 0.9785\n",
      "\n",
      "Epoch 00046: val_acc did not improve\n",
      "Epoch 00046: early stopping\n"
     ]
    }
   ],
   "source": [
    "from keras.callbacks import EarlyStopping\n",
    "\n",
    "checkpoint = ModelCheckpoint('./models/weights_best.hdf5', monitor='val_acc', verbose=1, save_best_only=True,\n",
    "mode='max')\n",
    "\n",
    "earlystop = EarlyStopping(monitor='val_acc', min_delta=0, patience=10, verbose=1, mode='max')\n",
    "\n",
    "callbacks_list = [checkpoint,earlystop]\n",
    "\n",
    "\n",
    "model.compile(loss='binary_crossentropy',\n",
    "              optimizer=optimizers.RMSprop(lr=1e-5),  # use low rate to avoid large changes in cnn layer\n",
    "              metrics=['acc'])\n",
    "\n",
    "history = model.fit_generator(\n",
    "      train_generator,\n",
    "      steps_per_epoch=TRAIN_SAMPLES/BATCH_SIZE,\n",
    "      epochs=FINETUNED_MODEL_EPOCHS,\n",
    "      validation_data=validation_generator,\n",
    "      validation_steps=VALIDATION_SAMPLES/BATCH_SIZE,\n",
    "      callbacks=callbacks_list)"
   ]
  },
  {
   "cell_type": "code",
   "execution_count": 27,
   "metadata": {},
   "outputs": [],
   "source": [
    "model.load_weights('./models/weights_best.hdf5')\n",
    "model.save(finetuned_model_name)"
   ]
  },
  {
   "cell_type": "code",
   "execution_count": 28,
   "metadata": {},
   "outputs": [
    {
     "data": {
      "image/png": "[encoded data removed]",
      "text/plain": [
       "<matplotlib.figure.Figure at 0x7f0d702c1240>"
      ]
     },
     "metadata": {},
     "output_type": "display_data"
    },
    {
     "data": {
      "image/png": "[encoded data removed]",
      "text/plain": [
       "<matplotlib.figure.Figure at 0x7f0d5ee898d0>"
      ]
     },
     "metadata": {},
     "output_type": "display_data"
    }
   ],
   "source": [
    "%matplotlib inline\n",
    "import matplotlib.pyplot as plt\n",
    "\n",
    "acc = history.history['acc']\n",
    "val_acc = history.history['val_acc']\n",
    "loss = history.history['loss']\n",
    "val_loss = history.history['val_loss']\n",
    "\n",
    "epochs = range(len(acc))\n",
    "\n",
    "plt.plot(epochs, acc, 'bo', label='Training acc')\n",
    "plt.plot(epochs, val_acc, 'b', label='Validation acc')\n",
    "plt.title('Training and validation accuracy')\n",
    "plt.legend()\n",
    "\n",
    "plt.figure()\n",
    "\n",
    "plt.plot(epochs, loss, 'bo', label='Training loss')\n",
    "plt.plot(epochs, val_loss, 'b', label='Validation loss')\n",
    "plt.title('Training and validation loss')\n",
    "plt.legend()\n",
    "\n",
    "plt.show()"
   ]
  },
  {
   "cell_type": "code",
   "execution_count": 29,
   "metadata": {},
   "outputs": [
    {
     "name": "stdout",
     "output_type": "stream",
     "text": [
      "Found 2000 images belonging to 2 classes.\n",
      "fine tuned test acc: 0.9765\n"
     ]
    }
   ],
   "source": [
    "test_generator = test_datagen.flow_from_directory(\n",
    "        test_dir,\n",
    "        target_size=(150, 150),\n",
    "        batch_size=BATCH_SIZE,\n",
    "        class_mode='binary')\n",
    "\n",
    "test_loss, test_acc = model.evaluate_generator(test_generator, steps=TEST_SAMPLES/BATCH_SIZE)\n",
    "print('fine tuned test acc:', test_acc)"
   ]
  },
  {
   "cell_type": "code",
   "execution_count": null,
   "metadata": {},
   "outputs": [],
   "source": []
  }
 ],
 "metadata": {
  "kernelspec": {
   "display_name": "Environment (conda_tensorflow_p36)",
   "language": "python",
   "name": "conda_tensorflow_p36"
  },
  "language_info": {
   "codemirror_mode": {
    "name": "ipython",
    "version": 3
   },
   "file_extension": ".py",
   "mimetype": "text/x-python",
   "name": "python",
   "nbconvert_exporter": "python",
   "pygments_lexer": "ipython3",
   "version": "3.6.4"
  }
 },
 "nbformat": 4,
 "nbformat_minor": 2
}
