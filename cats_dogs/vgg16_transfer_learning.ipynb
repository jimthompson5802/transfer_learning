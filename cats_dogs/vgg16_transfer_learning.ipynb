{
 "cells": [
  {
   "cell_type": "code",
   "execution_count": 1,
   "metadata": {},
   "outputs": [
    {
     "name": "stderr",
     "output_type": "stream",
     "text": [
      "/home/ubuntu/anaconda3/envs/tensorflow_p36/lib/python3.6/site-packages/h5py/__init__.py:36: FutureWarning: Conversion of the second argument of issubdtype from `float` to `np.floating` is deprecated. In future, it will be treated as `np.float64 == np.dtype(float).type`.\n",
      "  from ._conv import register_converters as _register_converters\n",
      "Using TensorFlow backend.\n",
      "/home/ubuntu/anaconda3/envs/tensorflow_p36/lib/python3.6/site-packages/matplotlib/__init__.py:962: UserWarning: Duplicate key in file \"/home/ubuntu/.config/matplotlib/matplotlibrc\", line #2\n",
      "  (fname, cnt))\n",
      "/home/ubuntu/anaconda3/envs/tensorflow_p36/lib/python3.6/site-packages/matplotlib/__init__.py:962: UserWarning: Duplicate key in file \"/home/ubuntu/.config/matplotlib/matplotlibrc\", line #3\n",
      "  (fname, cnt))\n"
     ]
    },
    {
     "data": {
      "text/plain": [
       "'2.1.4'"
      ]
     },
     "execution_count": 1,
     "metadata": {},
     "output_type": "execute_result"
    }
   ],
   "source": [
    "#import tensorflow as tf\n",
    "import keras\n",
    "keras.__version__"
   ]
  },
  {
   "cell_type": "code",
   "execution_count": 2,
   "metadata": {},
   "outputs": [],
   "source": [
    "from keras import backend as K"
   ]
  },
  {
   "cell_type": "markdown",
   "metadata": {},
   "source": [
    "# Using a pre-trained convnet\n",
    "\n"
   ]
  },
  {
   "cell_type": "markdown",
   "metadata": {},
   "source": [
    "## Feature extraction for VGG16 model\n",
    "\n"
   ]
  },
  {
   "cell_type": "code",
   "execution_count": 25,
   "metadata": {},
   "outputs": [],
   "source": [
    "from keras.applications import VGG16"
   ]
  },
  {
   "cell_type": "code",
   "execution_count": 26,
   "metadata": {},
   "outputs": [],
   "source": [
    "conv_base = VGG16(weights='imagenet',\n",
    "                  include_top=False,\n",
    "                  input_shape=(150, 150, 3))"
   ]
  },
  {
   "cell_type": "code",
   "execution_count": 27,
   "metadata": {},
   "outputs": [
    {
     "name": "stdout",
     "output_type": "stream",
     "text": [
      "_________________________________________________________________\n",
      "Layer (type)                 Output Shape              Param #   \n",
      "=================================================================\n",
      "input_2 (InputLayer)         (None, 150, 150, 3)       0         \n",
      "_________________________________________________________________\n",
      "block1_conv1 (Conv2D)        (None, 150, 150, 64)      1792      \n",
      "_________________________________________________________________\n",
      "block1_conv2 (Conv2D)        (None, 150, 150, 64)      36928     \n",
      "_________________________________________________________________\n",
      "block1_pool (MaxPooling2D)   (None, 75, 75, 64)        0         \n",
      "_________________________________________________________________\n",
      "block2_conv1 (Conv2D)        (None, 75, 75, 128)       73856     \n",
      "_________________________________________________________________\n",
      "block2_conv2 (Conv2D)        (None, 75, 75, 128)       147584    \n",
      "_________________________________________________________________\n",
      "block2_pool (MaxPooling2D)   (None, 37, 37, 128)       0         \n",
      "_________________________________________________________________\n",
      "block3_conv1 (Conv2D)        (None, 37, 37, 256)       295168    \n",
      "_________________________________________________________________\n",
      "block3_conv2 (Conv2D)        (None, 37, 37, 256)       590080    \n",
      "_________________________________________________________________\n",
      "block3_conv3 (Conv2D)        (None, 37, 37, 256)       590080    \n",
      "_________________________________________________________________\n",
      "block3_pool (MaxPooling2D)   (None, 18, 18, 256)       0         \n",
      "_________________________________________________________________\n",
      "block4_conv1 (Conv2D)        (None, 18, 18, 512)       1180160   \n",
      "_________________________________________________________________\n",
      "block4_conv2 (Conv2D)        (None, 18, 18, 512)       2359808   \n",
      "_________________________________________________________________\n",
      "block4_conv3 (Conv2D)        (None, 18, 18, 512)       2359808   \n",
      "_________________________________________________________________\n",
      "block4_pool (MaxPooling2D)   (None, 9, 9, 512)         0         \n",
      "_________________________________________________________________\n",
      "block5_conv1 (Conv2D)        (None, 9, 9, 512)         2359808   \n",
      "_________________________________________________________________\n",
      "block5_conv2 (Conv2D)        (None, 9, 9, 512)         2359808   \n",
      "_________________________________________________________________\n",
      "block5_conv3 (Conv2D)        (None, 9, 9, 512)         2359808   \n",
      "_________________________________________________________________\n",
      "block5_pool (MaxPooling2D)   (None, 4, 4, 512)         0         \n",
      "=================================================================\n",
      "Total params: 14,714,688\n",
      "Trainable params: 14,714,688\n",
      "Non-trainable params: 0\n",
      "_________________________________________________________________\n"
     ]
    }
   ],
   "source": [
    "conv_base.summary()"
   ]
  },
  {
   "cell_type": "code",
   "execution_count": 25,
   "metadata": {},
   "outputs": [],
   "source": [
    "import os\n",
    "import numpy as np\n",
    "from keras.preprocessing.image import ImageDataGenerator"
   ]
  },
  {
   "cell_type": "code",
   "execution_count": 26,
   "metadata": {},
   "outputs": [
    {
     "name": "stdout",
     "output_type": "stream",
     "text": [
      "Number of samples: training 4000, validation 2000 and test 2000\n"
     ]
    }
   ],
   "source": [
    "\n",
    "train_dir = '/mystuff/cats_dogs_data/train_small'\n",
    "validation_dir = '/mystuff/cats_dogs_data/validation'\n",
    "test_dir = '/mystuff/cats_dogs_data/test'\n",
    "\n",
    "BATCH_SIZE = 20\n",
    "TRAIN_SAMPLES = len(os.listdir(os.path.join(train_dir,'cats'))) + len(os.listdir(os.path.join(train_dir,'dogs')))\n",
    "VALIDATION_SAMPLES = len(os.listdir(os.path.join(validation_dir,'cats'))) + \\\n",
    "    len(os.listdir(os.path.join(validation_dir,'dogs')))\n",
    "    \n",
    "TEST_SAMPLES = len(os.listdir(os.path.join(test_dir,'cats'))) + len(os.listdir(os.path.join(test_dir,'dogs')))\n",
    "\n",
    "print('Number of samples: training {:d}, validation {:d} and test {:d}'.format(TRAIN_SAMPLES, \n",
    "                                                                               VALIDATION_SAMPLES,TEST_SAMPLES))"
   ]
  },
  {
   "cell_type": "code",
   "execution_count": 27,
   "metadata": {},
   "outputs": [],
   "source": [
    "from keras import models\n",
    "from keras import layers\n",
    "from keras import optimizers"
   ]
  },
  {
   "cell_type": "code",
   "execution_count": 31,
   "metadata": {},
   "outputs": [],
   "source": [
    "from keras import backend as K"
   ]
  },
  {
   "cell_type": "code",
   "execution_count": 32,
   "metadata": {},
   "outputs": [],
   "source": [
    "from keras import models\n",
    "from keras import layers"
   ]
  },
  {
   "cell_type": "code",
   "execution_count": 33,
   "metadata": {},
   "outputs": [],
   "source": [
    "\n",
    "model = models.Sequential()\n",
    "model.add(conv_base)\n",
    "model.add(layers.Flatten())\n",
    "model.add(layers.Dense(256, activation='relu'))\n",
    "model.add(layers.Dense(1, activation='sigmoid'))\n"
   ]
  },
  {
   "cell_type": "markdown",
   "metadata": {},
   "source": [
    "This is what our model looks like now:"
   ]
  },
  {
   "cell_type": "code",
   "execution_count": 34,
   "metadata": {},
   "outputs": [
    {
     "name": "stdout",
     "output_type": "stream",
     "text": [
      "_________________________________________________________________\n",
      "Layer (type)                 Output Shape              Param #   \n",
      "=================================================================\n",
      "vgg16 (Model)                (None, 4, 4, 512)         14714688  \n",
      "_________________________________________________________________\n",
      "flatten_2 (Flatten)          (None, 8192)              0         \n",
      "_________________________________________________________________\n",
      "dense_3 (Dense)              (None, 256)               2097408   \n",
      "_________________________________________________________________\n",
      "dense_4 (Dense)              (None, 1)                 257       \n",
      "=================================================================\n",
      "Total params: 16,812,353\n",
      "Trainable params: 16,812,353\n",
      "Non-trainable params: 0\n",
      "_________________________________________________________________\n"
     ]
    }
   ],
   "source": [
    "model.summary()"
   ]
  },
  {
   "cell_type": "markdown",
   "metadata": {},
   "source": [
    "### Freeze base model layers"
   ]
  },
  {
   "cell_type": "code",
   "execution_count": 35,
   "metadata": {},
   "outputs": [
    {
     "name": "stdout",
     "output_type": "stream",
     "text": [
      "This is the number of trainable weights before freezing the conv base: 30\n"
     ]
    }
   ],
   "source": [
    "print('This is the number of trainable weights '\n",
    "      'before freezing the conv base:', len(model.trainable_weights))"
   ]
  },
  {
   "cell_type": "code",
   "execution_count": 36,
   "metadata": {},
   "outputs": [],
   "source": [
    "conv_base.trainable = False"
   ]
  },
  {
   "cell_type": "code",
   "execution_count": 37,
   "metadata": {},
   "outputs": [
    {
     "name": "stdout",
     "output_type": "stream",
     "text": [
      "This is the number of trainable weights after freezing the conv base: 4\n"
     ]
    }
   ],
   "source": [
    "print('This is the number of trainable weights '\n",
    "      'after freezing the conv base:', len(model.trainable_weights))"
   ]
  },
  {
   "cell_type": "code",
   "execution_count": 38,
   "metadata": {},
   "outputs": [
    {
     "name": "stdout",
     "output_type": "stream",
     "text": [
      "_________________________________________________________________\n",
      "Layer (type)                 Output Shape              Param #   \n",
      "=================================================================\n",
      "vgg16 (Model)                (None, 4, 4, 512)         14714688  \n",
      "_________________________________________________________________\n",
      "flatten_2 (Flatten)          (None, 8192)              0         \n",
      "_________________________________________________________________\n",
      "dense_3 (Dense)              (None, 256)               2097408   \n",
      "_________________________________________________________________\n",
      "dense_4 (Dense)              (None, 1)                 257       \n",
      "=================================================================\n",
      "Total params: 16,812,353\n",
      "Trainable params: 2,097,665\n",
      "Non-trainable params: 14,714,688\n",
      "_________________________________________________________________\n"
     ]
    }
   ],
   "source": [
    "model.summary()"
   ]
  },
  {
   "cell_type": "markdown",
   "metadata": {},
   "source": [
    "### Setup training data pipeline using data augmenation"
   ]
  },
  {
   "cell_type": "code",
   "execution_count": 33,
   "metadata": {},
   "outputs": [
    {
     "name": "stdout",
     "output_type": "stream",
     "text": [
      "Found 4000 images belonging to 2 classes.\n",
      "Found 2000 images belonging to 2 classes.\n"
     ]
    }
   ],
   "source": [
    "from keras.preprocessing.image import ImageDataGenerator\n",
    "\n",
    "train_datagen = ImageDataGenerator(\n",
    "      rescale=1./255,\n",
    "      rotation_range=40,\n",
    "      width_shift_range=0.2,\n",
    "      height_shift_range=0.2,\n",
    "      shear_range=0.2,\n",
    "      zoom_range=0.2,\n",
    "      horizontal_flip=True,\n",
    "      fill_mode='nearest')\n",
    "\n",
    "# Note that the validation data should not be augmented!\n",
    "test_datagen = ImageDataGenerator(rescale=1./255)\n",
    "\n",
    "train_generator = train_datagen.flow_from_directory(\n",
    "        # This is the target directory\n",
    "        train_dir,\n",
    "        # All images will be resized to 150x150\n",
    "        target_size=(150, 150),\n",
    "        batch_size=BATCH_SIZE,  # original\n",
    "        #batch_size=50,\n",
    "        # Since we use binary_crossentropy loss, we need binary labels\n",
    "        class_mode='binary')\n",
    "\n",
    "validation_generator = test_datagen.flow_from_directory(\n",
    "        validation_dir,\n",
    "        target_size=(150, 150),\n",
    "        batch_size=BATCH_SIZE,\n",
    "        class_mode='binary')"
   ]
  },
  {
   "cell_type": "markdown",
   "metadata": {},
   "source": [
    "### Train new classifer specific to cat vs dog using features created by baseline model"
   ]
  },
  {
   "cell_type": "code",
   "execution_count": 40,
   "metadata": {},
   "outputs": [],
   "source": [
    "model.compile(loss='binary_crossentropy',\n",
    "              optimizer=optimizers.Adam(),\n",
    "              metrics=['acc'])"
   ]
  },
  {
   "cell_type": "code",
   "execution_count": 41,
   "metadata": {},
   "outputs": [
    {
     "name": "stdout",
     "output_type": "stream",
     "text": [
      "Epoch 1/30\n",
      " - 45s - loss: 0.4708 - acc: 0.7780 - val_loss: 0.2710 - val_acc: 0.8865\n",
      "\n",
      "Epoch 00001: val_acc improved from -inf to 0.88650, saving model to ./models/weights_best.hdf5\n",
      "Epoch 2/30\n",
      " - 44s - loss: 0.3646 - acc: 0.8353 - val_loss: 0.2531 - val_acc: 0.8970\n",
      "\n",
      "Epoch 00002: val_acc improved from 0.88650 to 0.89700, saving model to ./models/weights_best.hdf5\n",
      "Epoch 3/30\n",
      " - 43s - loss: 0.3439 - acc: 0.8438 - val_loss: 0.3516 - val_acc: 0.8485\n",
      "\n",
      "Epoch 00003: val_acc did not improve\n",
      "Epoch 4/30\n",
      " - 43s - loss: 0.3380 - acc: 0.8523 - val_loss: 0.2308 - val_acc: 0.9040\n",
      "\n",
      "Epoch 00004: val_acc improved from 0.89700 to 0.90400, saving model to ./models/weights_best.hdf5\n",
      "Epoch 5/30\n",
      " - 43s - loss: 0.3257 - acc: 0.8483 - val_loss: 0.2335 - val_acc: 0.9045\n",
      "\n",
      "Epoch 00005: val_acc improved from 0.90400 to 0.90450, saving model to ./models/weights_best.hdf5\n",
      "Epoch 6/30\n",
      " - 44s - loss: 0.3219 - acc: 0.8540 - val_loss: 0.3155 - val_acc: 0.8650\n",
      "\n",
      "Epoch 00006: val_acc did not improve\n",
      "Epoch 7/30\n",
      " - 43s - loss: 0.3119 - acc: 0.8630 - val_loss: 0.2252 - val_acc: 0.9085\n",
      "\n",
      "Epoch 00007: val_acc improved from 0.90450 to 0.90850, saving model to ./models/weights_best.hdf5\n",
      "Epoch 8/30\n",
      " - 44s - loss: 0.2996 - acc: 0.8660 - val_loss: 0.2208 - val_acc: 0.9120\n",
      "\n",
      "Epoch 00008: val_acc improved from 0.90850 to 0.91200, saving model to ./models/weights_best.hdf5\n",
      "Epoch 9/30\n",
      " - 44s - loss: 0.2914 - acc: 0.8702 - val_loss: 0.2309 - val_acc: 0.9050\n",
      "\n",
      "Epoch 00009: val_acc did not improve\n",
      "Epoch 10/30\n",
      " - 43s - loss: 0.2909 - acc: 0.8730 - val_loss: 0.2670 - val_acc: 0.8910\n",
      "\n",
      "Epoch 00010: val_acc did not improve\n",
      "Epoch 11/30\n",
      " - 43s - loss: 0.2938 - acc: 0.8707 - val_loss: 0.2381 - val_acc: 0.9000\n",
      "\n",
      "Epoch 00011: val_acc did not improve\n",
      "Epoch 12/30\n",
      " - 43s - loss: 0.2951 - acc: 0.8662 - val_loss: 0.2227 - val_acc: 0.9050\n",
      "\n",
      "Epoch 00012: val_acc did not improve\n",
      "Epoch 13/30\n",
      " - 43s - loss: 0.2813 - acc: 0.8752 - val_loss: 0.2167 - val_acc: 0.9140\n",
      "\n",
      "Epoch 00013: val_acc improved from 0.91200 to 0.91400, saving model to ./models/weights_best.hdf5\n",
      "Epoch 14/30\n",
      " - 43s - loss: 0.2819 - acc: 0.8830 - val_loss: 0.2372 - val_acc: 0.8910\n",
      "\n",
      "Epoch 00014: val_acc did not improve\n",
      "Epoch 15/30\n",
      " - 43s - loss: 0.2739 - acc: 0.8785 - val_loss: 0.2231 - val_acc: 0.9095\n",
      "\n",
      "Epoch 00015: val_acc did not improve\n",
      "Epoch 16/30\n",
      " - 43s - loss: 0.2704 - acc: 0.8785 - val_loss: 0.2177 - val_acc: 0.9080\n",
      "\n",
      "Epoch 00016: val_acc did not improve\n",
      "Epoch 17/30\n",
      " - 43s - loss: 0.2811 - acc: 0.8767 - val_loss: 0.2126 - val_acc: 0.9110\n",
      "\n",
      "Epoch 00017: val_acc did not improve\n",
      "Epoch 18/30\n",
      " - 43s - loss: 0.2732 - acc: 0.8777 - val_loss: 0.2178 - val_acc: 0.9090\n",
      "\n",
      "Epoch 00018: val_acc did not improve\n",
      "Epoch 19/30\n",
      " - 43s - loss: 0.2714 - acc: 0.8795 - val_loss: 0.2356 - val_acc: 0.8950\n",
      "\n",
      "Epoch 00019: val_acc did not improve\n",
      "Epoch 20/30\n",
      " - 43s - loss: 0.2727 - acc: 0.8815 - val_loss: 0.2377 - val_acc: 0.8990\n",
      "\n",
      "Epoch 00020: val_acc did not improve\n",
      "Epoch 21/30\n",
      " - 43s - loss: 0.2743 - acc: 0.8815 - val_loss: 0.2057 - val_acc: 0.9155\n",
      "\n",
      "Epoch 00021: val_acc improved from 0.91400 to 0.91550, saving model to ./models/weights_best.hdf5\n",
      "Epoch 22/30\n",
      " - 43s - loss: 0.2527 - acc: 0.8882 - val_loss: 0.2095 - val_acc: 0.9150\n",
      "\n",
      "Epoch 00022: val_acc did not improve\n",
      "Epoch 23/30\n",
      " - 43s - loss: 0.2632 - acc: 0.8845 - val_loss: 0.2224 - val_acc: 0.9085\n",
      "\n",
      "Epoch 00023: val_acc did not improve\n",
      "Epoch 24/30\n",
      " - 43s - loss: 0.2430 - acc: 0.8917 - val_loss: 0.2376 - val_acc: 0.8955\n",
      "\n",
      "Epoch 00024: val_acc did not improve\n",
      "Epoch 25/30\n",
      " - 43s - loss: 0.2596 - acc: 0.8820 - val_loss: 0.2141 - val_acc: 0.9090\n",
      "\n",
      "Epoch 00025: val_acc did not improve\n",
      "Epoch 26/30\n",
      " - 43s - loss: 0.2437 - acc: 0.8942 - val_loss: 0.2589 - val_acc: 0.8960\n",
      "\n",
      "Epoch 00026: val_acc did not improve\n",
      "Epoch 27/30\n",
      " - 43s - loss: 0.2486 - acc: 0.8927 - val_loss: 0.2160 - val_acc: 0.9075\n",
      "\n",
      "Epoch 00027: val_acc did not improve\n",
      "Epoch 28/30\n",
      " - 44s - loss: 0.2429 - acc: 0.8992 - val_loss: 0.2298 - val_acc: 0.9115\n",
      "\n",
      "Epoch 00028: val_acc did not improve\n",
      "Epoch 29/30\n",
      " - 43s - loss: 0.2344 - acc: 0.8982 - val_loss: 0.2045 - val_acc: 0.9205\n",
      "\n",
      "Epoch 00029: val_acc improved from 0.91550 to 0.92050, saving model to ./models/weights_best.hdf5\n",
      "Epoch 30/30\n",
      " - 43s - loss: 0.2466 - acc: 0.8950 - val_loss: 0.2215 - val_acc: 0.9080\n",
      "\n",
      "Epoch 00030: val_acc did not improve\n"
     ]
    }
   ],
   "source": [
    "# set up to capture best performance weights ecountered during training\n",
    "from keras.callbacks import ModelCheckpoint\n",
    "checkpoint = ModelCheckpoint('./models/weights_best.hdf5', monitor='val_acc', verbose=1, save_best_only=True,\n",
    "mode='max')\n",
    "callbacks_list = [checkpoint]\n",
    "\n",
    "\n",
    "history = model.fit_generator(\n",
    "      train_generator,\n",
    "      steps_per_epoch=TRAIN_SAMPLES//BATCH_SIZE,  #original\n",
    "      epochs=30,  #original\n",
    "      validation_data=validation_generator,\n",
    "      validation_steps=VALIDATION_SAMPLES//BATCH_SIZE,\n",
    "      callbacks=callbacks_list,\n",
    "      verbose=2)"
   ]
  },
  {
   "cell_type": "code",
   "execution_count": 43,
   "metadata": {},
   "outputs": [],
   "source": [
    "# load best performance weights\n",
    "model.load_weights('./models/weights_best.hdf5')\n",
    "\n",
    "# save trained model\n",
    "model.save('./models/cats_and_dogs_small_1.h5')"
   ]
  },
  {
   "cell_type": "markdown",
   "metadata": {},
   "source": [
    "Examine learning rates:"
   ]
  },
  {
   "cell_type": "code",
   "execution_count": 44,
   "metadata": {},
   "outputs": [
    {
     "data": {
      "image/png": "[encoded data removed]",
      "text/plain": [
       "<matplotlib.figure.Figure at 0x7f243be46940>"
      ]
     },
     "metadata": {},
     "output_type": "display_data"
    },
    {
     "data": {
      "image/png": "[encoded data removed]",
      "text/plain": [
       "<matplotlib.figure.Figure at 0x7f243b74e6d8>"
      ]
     },
     "metadata": {},
     "output_type": "display_data"
    }
   ],
   "source": [
    "%matplotlib inline\n",
    "import matplotlib.pyplot as plt\n",
    "\n",
    "acc = history.history['acc']\n",
    "val_acc = history.history['val_acc']\n",
    "loss = history.history['loss']\n",
    "val_loss = history.history['val_loss']\n",
    "\n",
    "epochs = range(len(acc))\n",
    "\n",
    "plt.plot(epochs, acc, 'bo', label='Training acc')\n",
    "plt.plot(epochs, val_acc, 'b', label='Validation acc')\n",
    "plt.title('Training and validation accuracy')\n",
    "plt.legend()\n",
    "\n",
    "plt.figure()\n",
    "\n",
    "plt.plot(epochs, loss, 'bo', label='Training loss')\n",
    "plt.plot(epochs, val_loss, 'b', label='Validation loss')\n",
    "plt.title('Training and validation loss')\n",
    "plt.legend()\n",
    "\n",
    "plt.show()"
   ]
  },
  {
   "cell_type": "code",
   "execution_count": 44,
   "metadata": {},
   "outputs": [
    {
     "name": "stdout",
     "output_type": "stream",
     "text": [
      "Found 2000 images belonging to 2 classes.\n",
      "test acc: 0.8984999966621399\n"
     ]
    }
   ],
   "source": [
    "test_generator = test_datagen.flow_from_directory(\n",
    "        test_dir,\n",
    "        target_size=(150, 150),\n",
    "        batch_size=BATCH_SIZE,\n",
    "        class_mode='binary')\n",
    "\n",
    "test_loss, test_acc = model.evaluate_generator(test_generator, steps=TEST_SAMPLES//BATCH_SIZE)\n",
    "print('test acc:', test_acc)"
   ]
  },
  {
   "cell_type": "markdown",
   "metadata": {},
   "source": [
    "## Fine-tuning\n",
    "\n",
    "Another widely used technique for model reuse, complementary to feature extraction, is _fine-tuning_. \n",
    "Fine-tuning consists in unfreezing a few of the top layers \n",
    "of a frozen model base used for feature extraction, and jointly training both the newly added part of the model (in our case, the \n",
    "fully-connected classifier) and these top layers. This is called \"fine-tuning\" because it slightly adjusts the more abstract \n",
    "representations of the model being reused, in order to make them more relevant for the problem at hand.\n",
    "\n",
    "![fine-tuning VGG16](https://s3.amazonaws.com/book.keras.io/img/ch5/vgg16_fine_tuning.png)"
   ]
  },
  {
   "cell_type": "markdown",
   "metadata": {},
   "source": [
    "We have stated before that it was necessary to freeze the convolution base of VGG16 in order to be able to train a randomly initialized \n",
    "classifier on top. For the same reason, it is only possible to fine-tune the top layers of the convolutional base once the classifier on \n",
    "top has already been trained. If the classified wasn't already trained, then the error signal propagating through the network during \n",
    "training would be too large, and the representations previously learned by the layers being fine-tuned would be destroyed. Thus the steps \n",
    "for fine-tuning a network are as follow:\n",
    "\n",
    "* 1) Add your custom network on top of an already trained base network.\n",
    "* 2) Freeze the base network.\n",
    "* 3) Train the part you added.\n",
    "* 4) Unfreeze some layers in the base network.\n",
    "* 5) Jointly train both these layers and the part you added.\n",
    "\n",
    "We have already completed the first 3 steps when doing feature extraction. Let's proceed with the 4th step: we will unfreeze our `conv_base`, \n",
    "and then freeze individual layers inside of it.\n",
    "\n",
    "As a reminder, this is what our convolutional base looks like:"
   ]
  },
  {
   "cell_type": "code",
   "execution_count": 7,
   "metadata": {},
   "outputs": [
    {
     "name": "stdout",
     "output_type": "stream",
     "text": [
      "_________________________________________________________________\n",
      "Layer (type)                 Output Shape              Param #   \n",
      "=================================================================\n",
      "vgg16 (Model)                (None, 4, 4, 512)         14714688  \n",
      "_________________________________________________________________\n",
      "flatten_2 (Flatten)          (None, 8192)              0         \n",
      "_________________________________________________________________\n",
      "dense_3 (Dense)              (None, 256)               2097408   \n",
      "_________________________________________________________________\n",
      "dense_4 (Dense)              (None, 1)                 257       \n",
      "=================================================================\n",
      "Total params: 16,812,353\n",
      "Trainable params: 16,812,353\n",
      "Non-trainable params: 0\n",
      "_________________________________________________________________\n"
     ]
    }
   ],
   "source": [
    "model.summary()"
   ]
  },
  {
   "cell_type": "code",
   "execution_count": 34,
   "metadata": {},
   "outputs": [
    {
     "name": "stderr",
     "output_type": "stream",
     "text": [
      "/home/ubuntu/anaconda3/envs/tensorflow_p36/lib/python3.6/site-packages/keras/models.py:291: UserWarning: Error in loading the saved optimizer state. As a result, your model is starting with a freshly initialized optimizer.\n",
      "  warnings.warn('Error in loading the saved optimizer '\n"
     ]
    }
   ],
   "source": [
    "# pick up training at fine-tuning\n",
    "from keras.models import load_model\n",
    "from keras.callbacks import ModelCheckpoint\n",
    "from keras import optimizers\n",
    "\n",
    "model = load_model('./models/cats_and_dogs_small_1.h5')\n",
    "conv_base = model.get_layer('vgg16')"
   ]
  },
  {
   "cell_type": "code",
   "execution_count": 35,
   "metadata": {},
   "outputs": [
    {
     "name": "stdout",
     "output_type": "stream",
     "text": [
      "_________________________________________________________________\n",
      "Layer (type)                 Output Shape              Param #   \n",
      "=================================================================\n",
      "input_2 (InputLayer)         (None, 150, 150, 3)       0         \n",
      "_________________________________________________________________\n",
      "block1_conv1 (Conv2D)        (None, 150, 150, 64)      1792      \n",
      "_________________________________________________________________\n",
      "block1_conv2 (Conv2D)        (None, 150, 150, 64)      36928     \n",
      "_________________________________________________________________\n",
      "block1_pool (MaxPooling2D)   (None, 75, 75, 64)        0         \n",
      "_________________________________________________________________\n",
      "block2_conv1 (Conv2D)        (None, 75, 75, 128)       73856     \n",
      "_________________________________________________________________\n",
      "block2_conv2 (Conv2D)        (None, 75, 75, 128)       147584    \n",
      "_________________________________________________________________\n",
      "block2_pool (MaxPooling2D)   (None, 37, 37, 128)       0         \n",
      "_________________________________________________________________\n",
      "block3_conv1 (Conv2D)        (None, 37, 37, 256)       295168    \n",
      "_________________________________________________________________\n",
      "block3_conv2 (Conv2D)        (None, 37, 37, 256)       590080    \n",
      "_________________________________________________________________\n",
      "block3_conv3 (Conv2D)        (None, 37, 37, 256)       590080    \n",
      "_________________________________________________________________\n",
      "block3_pool (MaxPooling2D)   (None, 18, 18, 256)       0         \n",
      "_________________________________________________________________\n",
      "block4_conv1 (Conv2D)        (None, 18, 18, 512)       1180160   \n",
      "_________________________________________________________________\n",
      "block4_conv2 (Conv2D)        (None, 18, 18, 512)       2359808   \n",
      "_________________________________________________________________\n",
      "block4_conv3 (Conv2D)        (None, 18, 18, 512)       2359808   \n",
      "_________________________________________________________________\n",
      "block4_pool (MaxPooling2D)   (None, 9, 9, 512)         0         \n",
      "_________________________________________________________________\n",
      "block5_conv1 (Conv2D)        (None, 9, 9, 512)         2359808   \n",
      "_________________________________________________________________\n",
      "block5_conv2 (Conv2D)        (None, 9, 9, 512)         2359808   \n",
      "_________________________________________________________________\n",
      "block5_conv3 (Conv2D)        (None, 9, 9, 512)         2359808   \n",
      "_________________________________________________________________\n",
      "block5_pool (MaxPooling2D)   (None, 4, 4, 512)         0         \n",
      "=================================================================\n",
      "Total params: 14,714,688\n",
      "Trainable params: 14,714,688\n",
      "Non-trainable params: 0\n",
      "_________________________________________________________________\n"
     ]
    }
   ],
   "source": [
    "conv_base.summary()"
   ]
  },
  {
   "cell_type": "markdown",
   "metadata": {},
   "source": [
    "\n",
    "We will fine-tune the last 3 convolutional layers, which means that all layers up until `block4_pool` should be frozen, and the layers \n",
    "`block5_conv1`, `block5_conv2` and `block5_conv3` should be trainable.\n",
    "\n",
    "Why not fine-tune more layers? Why not fine-tune the entire convolutional base? We could. However, we need to consider that:\n",
    "\n",
    "* Earlier layers in the convolutional base encode more generic, reusable features, while layers higher up encode more specialized features. It is \n",
    "more useful to fine-tune the more specialized features, as these are the ones that need to be repurposed on our new problem. There would \n",
    "be fast-decreasing returns in fine-tuning lower layers.\n",
    "* The more parameters we are training, the more we are at risk of overfitting. The convolutional base has 15M parameters, so it would be \n",
    "risky to attempt to train it on our small dataset.\n",
    "\n",
    "Thus, in our situation, it is a good strategy to only fine-tune the top 2 to 3 layers in the convolutional base.\n",
    "\n",
    "Let's set this up, starting from where we left off in the previous example:"
   ]
  },
  {
   "cell_type": "code",
   "execution_count": 36,
   "metadata": {},
   "outputs": [],
   "source": [
    "conv_base.trainable = True\n",
    "\n",
    "set_trainable = False\n",
    "for layer in conv_base.layers:\n",
    "    if layer.name == 'block4_conv1':\n",
    "        set_trainable = True\n",
    "    if set_trainable:\n",
    "        layer.trainable = True\n",
    "    else:\n",
    "        layer.trainable = False"
   ]
  },
  {
   "cell_type": "code",
   "execution_count": 37,
   "metadata": {},
   "outputs": [
    {
     "name": "stdout",
     "output_type": "stream",
     "text": [
      "_________________________________________________________________\n",
      "Layer (type)                 Output Shape              Param #   \n",
      "=================================================================\n",
      "vgg16 (Model)                (None, 4, 4, 512)         14714688  \n",
      "_________________________________________________________________\n",
      "flatten_2 (Flatten)          (None, 8192)              0         \n",
      "_________________________________________________________________\n",
      "dense_3 (Dense)              (None, 256)               2097408   \n",
      "_________________________________________________________________\n",
      "dense_4 (Dense)              (None, 1)                 257       \n",
      "=================================================================\n",
      "Total params: 16,812,353\n",
      "Trainable params: 15,076,865\n",
      "Non-trainable params: 1,735,488\n",
      "_________________________________________________________________\n"
     ]
    }
   ],
   "source": [
    "model.summary()"
   ]
  },
  {
   "cell_type": "markdown",
   "metadata": {},
   "source": [
    "Now we can start fine-tuning our network. We will do this with the RMSprop optimizer, using a very low learning rate. The reason for using \n",
    "a low learning rate is that we want to limit the magnitude of the modifications we make to the representations of the 3 layers that we are \n",
    "fine-tuning. Updates that are too large may harm these representations.\n",
    "\n",
    "Now let's proceed with fine-tuning:"
   ]
  },
  {
   "cell_type": "code",
   "execution_count": 38,
   "metadata": {},
   "outputs": [
    {
     "name": "stdout",
     "output_type": "stream",
     "text": [
      "Epoch 1/50\n",
      "200/200 [==============================] - 119s 594ms/step - loss: 0.2463 - acc: 0.8962 - val_loss: 0.1713 - val_acc: 0.9350\n",
      "\n",
      "Epoch 00001: val_acc improved from -inf to 0.93500, saving model to ./models/weights_best.hdf5\n",
      "Epoch 2/50\n",
      "200/200 [==============================] - 60s 298ms/step - loss: 0.1941 - acc: 0.9195 - val_loss: 0.1665 - val_acc: 0.9420\n",
      "\n",
      "Epoch 00002: val_acc improved from 0.93500 to 0.94200, saving model to ./models/weights_best.hdf5\n",
      "Epoch 3/50\n",
      "200/200 [==============================] - 60s 299ms/step - loss: 0.1726 - acc: 0.9310 - val_loss: 0.1413 - val_acc: 0.9505\n",
      "\n",
      "Epoch 00003: val_acc improved from 0.94200 to 0.95050, saving model to ./models/weights_best.hdf5\n",
      "Epoch 4/50\n",
      "200/200 [==============================] - 60s 299ms/step - loss: 0.1420 - acc: 0.9405 - val_loss: 0.1250 - val_acc: 0.9555\n",
      "\n",
      "Epoch 00004: val_acc improved from 0.95050 to 0.95550, saving model to ./models/weights_best.hdf5\n",
      "Epoch 5/50\n",
      "200/200 [==============================] - 60s 299ms/step - loss: 0.1256 - acc: 0.9497 - val_loss: 0.1783 - val_acc: 0.9405\n",
      "\n",
      "Epoch 00005: val_acc did not improve\n",
      "Epoch 6/50\n",
      "200/200 [==============================] - 60s 298ms/step - loss: 0.1293 - acc: 0.9460 - val_loss: 0.1237 - val_acc: 0.9585\n",
      "\n",
      "Epoch 00006: val_acc improved from 0.95550 to 0.95850, saving model to ./models/weights_best.hdf5\n",
      "Epoch 7/50\n",
      "200/200 [==============================] - 60s 299ms/step - loss: 0.1148 - acc: 0.9572 - val_loss: 0.1266 - val_acc: 0.9595\n",
      "\n",
      "Epoch 00007: val_acc improved from 0.95850 to 0.95950, saving model to ./models/weights_best.hdf5\n",
      "Epoch 8/50\n",
      "200/200 [==============================] - 60s 298ms/step - loss: 0.1145 - acc: 0.9565 - val_loss: 0.1291 - val_acc: 0.9530\n",
      "\n",
      "Epoch 00008: val_acc did not improve\n",
      "Epoch 9/50\n",
      "200/200 [==============================] - 60s 298ms/step - loss: 0.0962 - acc: 0.9650 - val_loss: 0.1695 - val_acc: 0.9540\n",
      "\n",
      "Epoch 00009: val_acc did not improve\n",
      "Epoch 10/50\n",
      "200/200 [==============================] - 60s 298ms/step - loss: 0.0731 - acc: 0.9720 - val_loss: 0.1521 - val_acc: 0.9535\n",
      "\n",
      "Epoch 00010: val_acc did not improve\n",
      "Epoch 11/50\n",
      "200/200 [==============================] - 60s 298ms/step - loss: 0.0817 - acc: 0.9695 - val_loss: 0.1420 - val_acc: 0.9615\n",
      "\n",
      "Epoch 00011: val_acc improved from 0.95950 to 0.96150, saving model to ./models/weights_best.hdf5\n",
      "Epoch 12/50\n",
      "200/200 [==============================] - 60s 298ms/step - loss: 0.0742 - acc: 0.9727 - val_loss: 0.1988 - val_acc: 0.9435\n",
      "\n",
      "Epoch 00012: val_acc did not improve\n",
      "Epoch 13/50\n",
      "200/200 [==============================] - 60s 299ms/step - loss: 0.0719 - acc: 0.9742 - val_loss: 0.1454 - val_acc: 0.9590\n",
      "\n",
      "Epoch 00013: val_acc did not improve\n",
      "Epoch 14/50\n",
      "200/200 [==============================] - 60s 298ms/step - loss: 0.0669 - acc: 0.9760 - val_loss: 0.1368 - val_acc: 0.9615\n",
      "\n",
      "Epoch 00014: val_acc improved from 0.96150 to 0.96150, saving model to ./models/weights_best.hdf5\n",
      "Epoch 15/50\n",
      "200/200 [==============================] - 60s 298ms/step - loss: 0.0647 - acc: 0.9752 - val_loss: 0.1504 - val_acc: 0.9600\n",
      "\n",
      "Epoch 00015: val_acc did not improve\n",
      "Epoch 16/50\n",
      "200/200 [==============================] - 60s 298ms/step - loss: 0.0579 - acc: 0.9797 - val_loss: 0.1143 - val_acc: 0.9645\n",
      "\n",
      "Epoch 00016: val_acc improved from 0.96150 to 0.96450, saving model to ./models/weights_best.hdf5\n",
      "Epoch 17/50\n",
      "200/200 [==============================] - 60s 298ms/step - loss: 0.0598 - acc: 0.9795 - val_loss: 0.1464 - val_acc: 0.9625\n",
      "\n",
      "Epoch 00017: val_acc did not improve\n",
      "Epoch 18/50\n",
      "200/200 [==============================] - 60s 298ms/step - loss: 0.0592 - acc: 0.9772 - val_loss: 0.1267 - val_acc: 0.9660\n",
      "\n",
      "Epoch 00018: val_acc improved from 0.96450 to 0.96600, saving model to ./models/weights_best.hdf5\n",
      "Epoch 19/50\n",
      "200/200 [==============================] - 60s 298ms/step - loss: 0.0585 - acc: 0.9810 - val_loss: 0.1148 - val_acc: 0.9605\n",
      "\n",
      "Epoch 00019: val_acc did not improve\n",
      "Epoch 20/50\n",
      "200/200 [==============================] - 60s 298ms/step - loss: 0.0472 - acc: 0.9820 - val_loss: 0.2534 - val_acc: 0.9445\n",
      "\n",
      "Epoch 00020: val_acc did not improve\n",
      "Epoch 21/50\n",
      "200/200 [==============================] - 60s 298ms/step - loss: 0.0448 - acc: 0.9847 - val_loss: 0.1455 - val_acc: 0.9670\n",
      "\n",
      "Epoch 00021: val_acc improved from 0.96600 to 0.96700, saving model to ./models/weights_best.hdf5\n",
      "Epoch 22/50\n",
      "200/200 [==============================] - 59s 297ms/step - loss: 0.0509 - acc: 0.9830 - val_loss: 0.1498 - val_acc: 0.9600\n",
      "\n",
      "Epoch 00022: val_acc did not improve\n",
      "Epoch 23/50\n",
      "200/200 [==============================] - 59s 297ms/step - loss: 0.0452 - acc: 0.9852 - val_loss: 0.1529 - val_acc: 0.9630\n",
      "\n",
      "Epoch 00023: val_acc did not improve\n",
      "Epoch 24/50\n",
      "200/200 [==============================] - 59s 297ms/step - loss: 0.0454 - acc: 0.9832 - val_loss: 0.1571 - val_acc: 0.9625\n",
      "\n",
      "Epoch 00024: val_acc did not improve\n",
      "Epoch 25/50\n",
      "200/200 [==============================] - 60s 298ms/step - loss: 0.0390 - acc: 0.9850 - val_loss: 0.1827 - val_acc: 0.9565\n",
      "\n",
      "Epoch 00025: val_acc did not improve\n",
      "Epoch 26/50\n",
      "200/200 [==============================] - 59s 297ms/step - loss: 0.0466 - acc: 0.9827 - val_loss: 0.1980 - val_acc: 0.9530\n",
      "\n",
      "Epoch 00026: val_acc did not improve\n",
      "Epoch 27/50\n",
      "200/200 [==============================] - 59s 297ms/step - loss: 0.0364 - acc: 0.9892 - val_loss: 0.1773 - val_acc: 0.9630\n",
      "\n",
      "Epoch 00027: val_acc did not improve\n",
      "Epoch 28/50\n",
      "200/200 [==============================] - 59s 297ms/step - loss: 0.0459 - acc: 0.9830 - val_loss: 0.1746 - val_acc: 0.9645\n",
      "\n",
      "Epoch 00028: val_acc did not improve\n",
      "Epoch 29/50\n",
      "200/200 [==============================] - 59s 297ms/step - loss: 0.0366 - acc: 0.9890 - val_loss: 0.1823 - val_acc: 0.9650\n",
      "\n",
      "Epoch 00029: val_acc did not improve\n",
      "Epoch 30/50\n",
      "200/200 [==============================] - 59s 297ms/step - loss: 0.0338 - acc: 0.9885 - val_loss: 0.1902 - val_acc: 0.9665\n",
      "\n",
      "Epoch 00030: val_acc did not improve\n",
      "Epoch 31/50\n",
      "200/200 [==============================] - 59s 297ms/step - loss: 0.0426 - acc: 0.9870 - val_loss: 0.1807 - val_acc: 0.9580\n",
      "\n",
      "Epoch 00031: val_acc did not improve\n",
      "Epoch 32/50\n",
      "200/200 [==============================] - 59s 297ms/step - loss: 0.0308 - acc: 0.9890 - val_loss: 0.2358 - val_acc: 0.9575\n",
      "\n",
      "Epoch 00032: val_acc did not improve\n",
      "Epoch 33/50\n",
      "200/200 [==============================] - 59s 297ms/step - loss: 0.0312 - acc: 0.9885 - val_loss: 0.2369 - val_acc: 0.9615\n",
      "\n",
      "Epoch 00033: val_acc did not improve\n",
      "Epoch 34/50\n",
      "200/200 [==============================] - 60s 298ms/step - loss: 0.0372 - acc: 0.9897 - val_loss: 0.1979 - val_acc: 0.9645\n",
      "\n",
      "Epoch 00034: val_acc did not improve\n",
      "Epoch 35/50\n",
      "200/200 [==============================] - 59s 297ms/step - loss: 0.0237 - acc: 0.9890 - val_loss: 0.2269 - val_acc: 0.9605\n",
      "\n",
      "Epoch 00035: val_acc did not improve\n",
      "Epoch 36/50\n",
      "200/200 [==============================] - 59s 297ms/step - loss: 0.0318 - acc: 0.9895 - val_loss: 0.2295 - val_acc: 0.9590\n",
      "\n",
      "Epoch 00036: val_acc did not improve\n",
      "Epoch 37/50\n",
      "200/200 [==============================] - 59s 297ms/step - loss: 0.0359 - acc: 0.9890 - val_loss: 0.2539 - val_acc: 0.9570\n",
      "\n",
      "Epoch 00037: val_acc did not improve\n",
      "Epoch 38/50\n",
      "200/200 [==============================] - 59s 297ms/step - loss: 0.0252 - acc: 0.9905 - val_loss: 0.1782 - val_acc: 0.9630\n",
      "\n",
      "Epoch 00038: val_acc did not improve\n",
      "Epoch 39/50\n",
      "200/200 [==============================] - 59s 297ms/step - loss: 0.0285 - acc: 0.9897 - val_loss: 0.1975 - val_acc: 0.9640\n",
      "\n",
      "Epoch 00039: val_acc did not improve\n",
      "Epoch 40/50\n",
      "200/200 [==============================] - 59s 297ms/step - loss: 0.0304 - acc: 0.9900 - val_loss: 0.2001 - val_acc: 0.9640\n",
      "\n",
      "Epoch 00040: val_acc did not improve\n",
      "Epoch 41/50\n",
      "200/200 [==============================] - 59s 297ms/step - loss: 0.0302 - acc: 0.9907 - val_loss: 0.1619 - val_acc: 0.9705\n",
      "\n",
      "Epoch 00041: val_acc improved from 0.96700 to 0.97050, saving model to ./models/weights_best.hdf5\n",
      "Epoch 42/50\n",
      "200/200 [==============================] - 59s 297ms/step - loss: 0.0243 - acc: 0.9900 - val_loss: 0.2341 - val_acc: 0.9555\n",
      "\n",
      "Epoch 00042: val_acc did not improve\n",
      "Epoch 43/50\n",
      "200/200 [==============================] - 59s 297ms/step - loss: 0.0240 - acc: 0.9915 - val_loss: 0.2008 - val_acc: 0.9665\n",
      "\n",
      "Epoch 00043: val_acc did not improve\n",
      "Epoch 44/50\n"
     ]
    },
    {
     "name": "stdout",
     "output_type": "stream",
     "text": [
      "200/200 [==============================] - 59s 297ms/step - loss: 0.0275 - acc: 0.9910 - val_loss: 0.2701 - val_acc: 0.9570\n",
      "\n",
      "Epoch 00044: val_acc did not improve\n",
      "Epoch 45/50\n",
      "200/200 [==============================] - 59s 297ms/step - loss: 0.0266 - acc: 0.9930 - val_loss: 0.3054 - val_acc: 0.9555\n",
      "\n",
      "Epoch 00045: val_acc did not improve\n",
      "Epoch 46/50\n",
      "200/200 [==============================] - 59s 297ms/step - loss: 0.0260 - acc: 0.9920 - val_loss: 0.3111 - val_acc: 0.9580\n",
      "\n",
      "Epoch 00046: val_acc did not improve\n",
      "Epoch 47/50\n",
      "200/200 [==============================] - 59s 297ms/step - loss: 0.0307 - acc: 0.9882 - val_loss: 0.1622 - val_acc: 0.9635\n",
      "\n",
      "Epoch 00047: val_acc did not improve\n",
      "Epoch 48/50\n",
      "200/200 [==============================] - 59s 297ms/step - loss: 0.0302 - acc: 0.9915 - val_loss: 0.2556 - val_acc: 0.9620\n",
      "\n",
      "Epoch 00048: val_acc did not improve\n",
      "Epoch 49/50\n",
      "200/200 [==============================] - 59s 297ms/step - loss: 0.0248 - acc: 0.9932 - val_loss: 0.3611 - val_acc: 0.9490\n",
      "\n",
      "Epoch 00049: val_acc did not improve\n",
      "Epoch 50/50\n",
      "200/200 [==============================] - 59s 297ms/step - loss: 0.0358 - acc: 0.9900 - val_loss: 0.3334 - val_acc: 0.9550\n",
      "\n",
      "Epoch 00050: val_acc did not improve\n"
     ]
    }
   ],
   "source": [
    "checkpoint = ModelCheckpoint('./models/weights_best.hdf5', monitor='val_acc', verbose=1, save_best_only=True,\n",
    "mode='max')\n",
    "callbacks_list = [checkpoint]\n",
    "\n",
    "\n",
    "model.compile(loss='binary_crossentropy',\n",
    "              optimizer=optimizers.RMSprop(lr=1e-5),\n",
    "              metrics=['acc'])\n",
    "\n",
    "history = model.fit_generator(\n",
    "      train_generator,\n",
    "      steps_per_epoch=TRAIN_SAMPLES//BATCH_SIZE,\n",
    "      epochs=50,\n",
    "      validation_data=validation_generator,\n",
    "      validation_steps=VALIDATION_SAMPLES//BATCH_SIZE,\n",
    "      callbacks=callbacks_list)"
   ]
  },
  {
   "cell_type": "code",
   "execution_count": 39,
   "metadata": {},
   "outputs": [],
   "source": [
    "model.load_weights('./models/weights_best.hdf5')\n",
    "model.save('./models/cats_and_dogs_small_2.h5')"
   ]
  },
  {
   "cell_type": "markdown",
   "metadata": {},
   "source": [
    "Let's plot our results using the same plotting code as before:"
   ]
  },
  {
   "cell_type": "code",
   "execution_count": 41,
   "metadata": {},
   "outputs": [
    {
     "name": "stderr",
     "output_type": "stream",
     "text": [
      "/home/ubuntu/anaconda3/envs/tensorflow_p36/lib/python3.6/site-packages/matplotlib/font_manager.py:281: UserWarning: Matplotlib is building the font cache using fc-list. This may take a moment.\n",
      "  'Matplotlib is building the font cache using fc-list. '\n"
     ]
    },
    {
     "data": {
      "image/png": "[encoded data removed]",
      "text/plain": [
       "<matplotlib.figure.Figure at 0x7f2438af7780>"
      ]
     },
     "metadata": {},
     "output_type": "display_data"
    },
    {
     "data": {
      "image/png": "[encoded data removed]",
      "text/plain": [
       "<matplotlib.figure.Figure at 0x7f243a981320>"
      ]
     },
     "metadata": {},
     "output_type": "display_data"
    }
   ],
   "source": [
    "%matplotlib inline\n",
    "import matplotlib.pyplot as plt\n",
    "\n",
    "acc = history.history['acc']\n",
    "val_acc = history.history['val_acc']\n",
    "loss = history.history['loss']\n",
    "val_loss = history.history['val_loss']\n",
    "\n",
    "epochs = range(len(acc))\n",
    "\n",
    "plt.plot(epochs, acc, 'bo', label='Training acc')\n",
    "plt.plot(epochs, val_acc, 'b', label='Validation acc')\n",
    "plt.title('Training and validation accuracy')\n",
    "plt.legend()\n",
    "\n",
    "plt.figure()\n",
    "\n",
    "plt.plot(epochs, loss, 'bo', label='Training loss')\n",
    "plt.plot(epochs, val_loss, 'b', label='Validation loss')\n",
    "plt.title('Training and validation loss')\n",
    "plt.legend()\n",
    "\n",
    "plt.show()"
   ]
  },
  {
   "cell_type": "markdown",
   "metadata": {},
   "source": [
    "\n",
    "These curves look very noisy. To make them more readable, we can smooth them by replacing every loss and accuracy with exponential moving \n",
    "averages of these quantities. Here's a trivial utility function to do this:"
   ]
  },
  {
   "cell_type": "code",
   "execution_count": 42,
   "metadata": {},
   "outputs": [
    {
     "data": {
      "image/png": "[encoded data removed]",
      "text/plain": [
       "<matplotlib.figure.Figure at 0x7f243b85c9b0>"
      ]
     },
     "metadata": {},
     "output_type": "display_data"
    },
    {
     "data": {
      "image/png": "[encoded data removed]",
      "text/plain": [
       "<matplotlib.figure.Figure at 0x7f243a069400>"
      ]
     },
     "metadata": {},
     "output_type": "display_data"
    }
   ],
   "source": [
    "def smooth_curve(points, factor=0.8):\n",
    "  smoothed_points = []\n",
    "  for point in points:\n",
    "    if smoothed_points:\n",
    "      previous = smoothed_points[-1]\n",
    "      smoothed_points.append(previous * factor + point * (1 - factor))\n",
    "    else:\n",
    "      smoothed_points.append(point)\n",
    "  return smoothed_points\n",
    "\n",
    "plt.plot(epochs,\n",
    "         smooth_curve(acc), 'bo', label='Smoothed training acc')\n",
    "plt.plot(epochs,\n",
    "         smooth_curve(val_acc), 'b', label='Smoothed validation acc')\n",
    "plt.title('Training and validation accuracy')\n",
    "plt.legend()\n",
    "\n",
    "plt.figure()\n",
    "\n",
    "plt.plot(epochs,\n",
    "         smooth_curve(loss), 'bo', label='Smoothed training loss')\n",
    "plt.plot(epochs,\n",
    "         smooth_curve(val_loss), 'b', label='Smoothed validation loss')\n",
    "plt.title('Training and validation loss')\n",
    "plt.legend()\n",
    "\n",
    "plt.show()"
   ]
  },
  {
   "cell_type": "markdown",
   "metadata": {},
   "source": [
    "\n",
    "These curves look much cleaner and more stable. We are seeing a nice 1% absolute improvement.\n",
    "\n",
    "Note that the loss curve does not show any real improvement (in fact, it is deteriorating). You may wonder, how could accuracy improve if the \n",
    "loss isn't decreasing? The answer is simple: what we display is an average of pointwise loss values, but what actually matters for accuracy \n",
    "is the distribution of the loss values, not their average, since accuracy is the result of a binary thresholding of the class probability \n",
    "predicted by the model. The model may still be improving even if this isn't reflected in the average loss.\n",
    "\n",
    "We can now finally evaluate this model on the test data:"
   ]
  },
  {
   "cell_type": "code",
   "execution_count": 43,
   "metadata": {},
   "outputs": [
    {
     "name": "stdout",
     "output_type": "stream",
     "text": [
      "Found 2000 images belonging to 2 classes.\n",
      "test acc: 0.9634999936819076\n"
     ]
    }
   ],
   "source": [
    "test_generator = test_datagen.flow_from_directory(\n",
    "        test_dir,\n",
    "        target_size=(150, 150),\n",
    "        batch_size=BATCH_SIZE,\n",
    "        class_mode='binary')\n",
    "\n",
    "test_loss, test_acc = model.evaluate_generator(test_generator, steps=TEST_SAMPLES//BATCH_SIZE)\n",
    "print('test acc:', test_acc)"
   ]
  },
  {
   "cell_type": "markdown",
   "metadata": {},
   "source": [
    "\n",
    "Here we get a test accuracy of 97%. In the original Kaggle competition around this dataset, this would have been one of the top results. \n",
    "However, using modern deep learning techniques, we managed to reach this result using only a very small fraction of the training data \n",
    "available (about 10%). There is a huge difference between being able to train on 20,000 samples compared to 2,000 samples!"
   ]
  },
  {
   "cell_type": "markdown",
   "metadata": {},
   "source": [
    "## Take-aways: using convnets with small datasets\n",
    "\n",
    "Here's what you should take away from the exercises of these past two sections:\n",
    "\n",
    "* Convnets are the best type of machine learning models for computer vision tasks. It is possible to train one from scratch even on a very \n",
    "small dataset, with decent results.\n",
    "* On a small dataset, overfitting will be the main issue. Data augmentation is a powerful way to fight overfitting when working with image \n",
    "data.\n",
    "* It is easy to reuse an existing convnet on a new dataset, via feature extraction. This is a very valuable technique for working with \n",
    "small image datasets.\n",
    "* As a complement to feature extraction, one may use fine-tuning, which adapts to a new problem some of the representations previously \n",
    "learned by an existing model. This pushes performance a bit further.\n",
    "\n",
    "Now you have a solid set of tools for dealing with image classification problems, in particular with small datasets."
   ]
  },
  {
   "cell_type": "code",
   "execution_count": null,
   "metadata": {},
   "outputs": [],
   "source": []
  }
 ],
 "metadata": {
  "kernelspec": {
   "display_name": "Environment (conda_tensorflow_p36)",
   "language": "python",
   "name": "conda_tensorflow_p36"
  },
  "language_info": {
   "codemirror_mode": {
    "name": "ipython",
    "version": 3
   },
   "file_extension": ".py",
   "mimetype": "text/x-python",
   "name": "python",
   "nbconvert_exporter": "python",
   "pygments_lexer": "ipython3",
   "version": "3.6.4"
  }
 },
 "nbformat": 4,
 "nbformat_minor": 2
}
